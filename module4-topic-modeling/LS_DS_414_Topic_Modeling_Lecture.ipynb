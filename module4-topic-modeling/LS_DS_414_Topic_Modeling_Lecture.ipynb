{
 "cells": [
  {
   "cell_type": "markdown",
   "metadata": {},
   "source": [
    "Lambda School Data Science\n",
    "\n",
    "*Unit 4, Sprint 1, Module 4*\n",
    "\n",
    "---"
   ]
  },
  {
   "cell_type": "markdown",
   "metadata": {},
   "source": [
    "# Topic Modeling (Prepare)\n",
    "\n",
    "On Monday we talked about summarizing your documents using just token counts. Today, we're going to learn about a much more sophisticated approach - learning 'topics' from documents. Topics are a latent structure. They are not directly observable in the data, but we know they're there by reading them.\n",
    "\n",
    "> **latent**: existing but not yet developed or manifest; hidden or concealed.\n",
    "\n",
    "## Use Cases\n",
    "Primary use case: what the hell are your documents about? Who might want to know that in industry - \n",
    "* Identifying common themes in customer reviews\n",
    "* Discovering the needle in a haystack \n",
    "* Monitoring communications (Email - State Department) \n",
    "\n",
    "## Learning Objectives\n",
    "*At the end of the lesson you should be able to:*\n",
    "* <a href=\"#p1\">Part 1</a>: Describe how an LDA Model works\n",
    "* <a href=\"#p2\">Part 2</a>: Estimate a LDA Model with Gensim\n",
    "* <a href=\"#p3\">Part 3</a>: Interpret LDA results\n",
    "* <a href=\"#p4\">Part 4</a>: Select the appropriate number of topics\n"
   ]
  },
  {
   "cell_type": "markdown",
   "metadata": {},
   "source": [
    "# Latent Dirchilet Allocation Models (Learn)\n",
    "<a id=\"#p1\"></a>"
   ]
  },
  {
   "cell_type": "markdown",
   "metadata": {},
   "source": [
    "## Overview\n",
    "LDA is a \"generative probabilistic model\". \n",
    "\n",
    "Let's play with a model available [here](https://lettier.com/projects/lda-topic-modeling/)"
   ]
  },
  {
   "cell_type": "markdown",
   "metadata": {},
   "source": [
    "## Follow Along"
   ]
  },
  {
   "cell_type": "markdown",
   "metadata": {},
   "source": [
    "## Challenge "
   ]
  },
  {
   "cell_type": "markdown",
   "metadata": {},
   "source": [
    "# Estimating LDA Models with Gensim (Learn)\n",
    "<a id=\"#p1\"></a>"
   ]
  },
  {
   "cell_type": "markdown",
   "metadata": {
    "toc-hr-collapsed": true
   },
   "source": [
    "## Overview\n",
    "### A Literary Introduction: *Jane Austen V. Charlotte Bronte*\n",
    "Despite being born nearly forty years apart, modern fans often pit Jane Austen & Charlotte Bronte against one another in a battle for literary  supremacy. The battle centers around the topics of education for women, courting, and marriage. The authors' similar backgrounds naturally draw comparisons, but the modern fascination is probably due to novelty of British women publishing novels during the early 19th century. \n",
    "\n",
    "Can we help close a literary battle for supremacy and simply acknowledge that the authors addressed different topics and deserve to be acknowledged as excellent authors each in their own right?\n",
    "\n",
    "We're going to apply Latent Dirichlet Allocation a machine learning algorithm for topic modeling to each of the author's novels to compare the distribution of topics in their novels."
   ]
  },
  {
   "cell_type": "code",
   "execution_count": 2,
   "metadata": {},
   "outputs": [],
   "source": [
    "import numpy as np\n",
    "import gensim\n",
    "import os\n",
    "import re\n",
    "\n",
    "from gensim.utils import simple_preprocess\n",
    "from gensim.parsing.preprocessing import STOPWORDS\n",
    "from gensim import corpora\n",
    "\n",
    "from gensim.models.ldamulticore import LdaMulticore\n",
    "\n",
    "import pandas as pd"
   ]
  },
  {
   "cell_type": "code",
   "execution_count": 3,
   "metadata": {},
   "outputs": [
    {
     "data": {
      "text/plain": [
       "'3.8.1'"
      ]
     },
     "execution_count": 3,
     "metadata": {},
     "output_type": "execute_result"
    }
   ],
   "source": [
    "gensim.__version__"
   ]
  },
  {
   "cell_type": "markdown",
   "metadata": {},
   "source": [
    "### Novel Data\n",
    "I grabbed the novel data pre-split into a bunch of smaller chunks"
   ]
  },
  {
   "cell_type": "code",
   "execution_count": 4,
   "metadata": {},
   "outputs": [],
   "source": [
    "path = './data/austen-brontë-split'"
   ]
  },
  {
   "cell_type": "markdown",
   "metadata": {},
   "source": [
    "### Text Preprocessing\n",
    "**Activity**: update the function `tokenize` with any technique you have learned so far this week. "
   ]
  },
  {
   "cell_type": "code",
   "execution_count": 5,
   "metadata": {},
   "outputs": [],
   "source": [
    "# 1) Plain Python - ''.split command\n",
    "# 2) Spacy - just the lemmas from the document\n",
    "# 3) Gensim - simple_preprocess\n",
    "\n",
    "STOPWORDS = set(STOPWORDS).union(set(['said', 'mr', 'mrs']))\n",
    "\n",
    "def tokenize(text):\n",
    "    return [token for token in simple_preprocess(text) if token not in STOPWORDS]"
   ]
  },
  {
   "cell_type": "code",
   "execution_count": 6,
   "metadata": {},
   "outputs": [],
   "source": [
    "import os\n",
    "\n",
    "def gather_data(path_to_data): \n",
    "    data = []\n",
    "    for f in os.listdir(path):\n",
    "        if os.path.isdir(f) == False:\n",
    "            if f[-3:] == 'txt':\n",
    "                with open(os.path.join(path,f)) as t:\n",
    "                    text = t.read().strip('\\n')\n",
    "                    data.append(tokenize(str(text)))       \n",
    "    return data"
   ]
  },
  {
   "cell_type": "code",
   "execution_count": 7,
   "metadata": {},
   "outputs": [],
   "source": [
    "tokens = gather_data(path)"
   ]
  },
  {
   "cell_type": "code",
   "execution_count": 9,
   "metadata": {},
   "outputs": [
    {
     "data": {
      "text/plain": [
       "['feels',\n",
       " 'like',\n",
       " 'snow',\n",
       " 'place',\n",
       " 'party',\n",
       " 'try',\n",
       " 'day',\n",
       " 'dissuade',\n",
       " 'father',\n",
       " 'venturing']"
      ]
     },
     "execution_count": 9,
     "metadata": {},
     "output_type": "execute_result"
    }
   ],
   "source": [
    "tokens[1][0:10]"
   ]
  },
  {
   "cell_type": "code",
   "execution_count": 8,
   "metadata": {},
   "outputs": [
    {
     "data": {
      "text/plain": [
       "'this is a sample string with a  newline character'"
      ]
     },
     "execution_count": 8,
     "metadata": {},
     "output_type": "execute_result"
    }
   ],
   "source": [
    "\"this is a sample string with a \\n newline character\".replace('\\n', '')"
   ]
  },
  {
   "cell_type": "markdown",
   "metadata": {
    "toc-hr-collapsed": true
   },
   "source": [
    "## Follow Along"
   ]
  },
  {
   "cell_type": "code",
   "execution_count": 10,
   "metadata": {},
   "outputs": [],
   "source": [
    "titles = [t[:-4] for t in os.listdir(path) if os.path.isdir(t) == False]"
   ]
  },
  {
   "cell_type": "code",
   "execution_count": 13,
   "metadata": {},
   "outputs": [
    {
     "data": {
      "text/plain": [
       "True"
      ]
     },
     "execution_count": 13,
     "metadata": {},
     "output_type": "execute_result"
    }
   ],
   "source": [
    "len(titles) == len(tokens)"
   ]
  },
  {
   "cell_type": "code",
   "execution_count": 12,
   "metadata": {},
   "outputs": [
    {
     "data": {
      "text/plain": [
       "813"
      ]
     },
     "execution_count": 12,
     "metadata": {},
     "output_type": "execute_result"
    }
   ],
   "source": [
    "len(tokens)"
   ]
  },
  {
   "cell_type": "markdown",
   "metadata": {},
   "source": [
    "### Author DataFrame\n"
   ]
  },
  {
   "cell_type": "code",
   "execution_count": 14,
   "metadata": {},
   "outputs": [],
   "source": [
    "df = pd.DataFrame(index=titles, data={'tokens':tokens})"
   ]
  },
  {
   "cell_type": "code",
   "execution_count": 15,
   "metadata": {},
   "outputs": [
    {
     "data": {
      "text/html": [
       "<div>\n",
       "<style scoped>\n",
       "    .dataframe tbody tr th:only-of-type {\n",
       "        vertical-align: middle;\n",
       "    }\n",
       "\n",
       "    .dataframe tbody tr th {\n",
       "        vertical-align: top;\n",
       "    }\n",
       "\n",
       "    .dataframe thead th {\n",
       "        text-align: right;\n",
       "    }\n",
       "</style>\n",
       "<table border=\"1\" class=\"dataframe\">\n",
       "  <thead>\n",
       "    <tr style=\"text-align: right;\">\n",
       "      <th></th>\n",
       "      <th>tokens</th>\n",
       "    </tr>\n",
       "  </thead>\n",
       "  <tbody>\n",
       "    <tr>\n",
       "      <th>Austen_Emma0026</th>\n",
       "      <td>[giving, fair, companion, account, yesterday, ...</td>\n",
       "    </tr>\n",
       "    <tr>\n",
       "      <th>Austen_Emma0032</th>\n",
       "      <td>[feels, like, snow, place, party, try, day, di...</td>\n",
       "    </tr>\n",
       "    <tr>\n",
       "      <th>CBronte_Villette0086</th>\n",
       "      <td>[pierced, opaque, blackness, stood, bougie, qu...</td>\n",
       "    </tr>\n",
       "    <tr>\n",
       "      <th>CBronte_Jane0099</th>\n",
       "      <td>[joke, queer, looks, tell, thing, specially, s...</td>\n",
       "    </tr>\n",
       "    <tr>\n",
       "      <th>CBronte_Villette0092</th>\n",
       "      <td>[second, landing, floor, comprising, abode, kn...</td>\n",
       "    </tr>\n",
       "  </tbody>\n",
       "</table>\n",
       "</div>"
      ],
      "text/plain": [
       "                                                                 tokens\n",
       "Austen_Emma0026       [giving, fair, companion, account, yesterday, ...\n",
       "Austen_Emma0032       [feels, like, snow, place, party, try, day, di...\n",
       "CBronte_Villette0086  [pierced, opaque, blackness, stood, bougie, qu...\n",
       "CBronte_Jane0099      [joke, queer, looks, tell, thing, specially, s...\n",
       "CBronte_Villette0092  [second, landing, floor, comprising, abode, kn..."
      ]
     },
     "execution_count": 15,
     "metadata": {},
     "output_type": "execute_result"
    }
   ],
   "source": [
    "df.head()"
   ]
  },
  {
   "cell_type": "code",
   "execution_count": 16,
   "metadata": {},
   "outputs": [],
   "source": [
    "df['author'] = df.reset_index()['index'].apply(lambda x: x.split('_')[0]).tolist()\n",
    "df['book'] = df.reset_index()['index'].apply(lambda x: x.split('_')[1][:-4]).tolist()\n",
    "df['section'] = df.reset_index()['index'].apply(lambda x: x[-4:]).tolist()\n",
    "df['section'] = df['section'].astype('int')"
   ]
  },
  {
   "cell_type": "code",
   "execution_count": 17,
   "metadata": {},
   "outputs": [],
   "source": [
    "df['author'] = df['author'].map({'Austen':1, 'CBronte':0})"
   ]
  },
  {
   "cell_type": "code",
   "execution_count": 18,
   "metadata": {},
   "outputs": [
    {
     "data": {
      "text/plain": [
       "0    441\n",
       "1    372\n",
       "Name: author, dtype: int64"
      ]
     },
     "execution_count": 18,
     "metadata": {},
     "output_type": "execute_result"
    }
   ],
   "source": [
    "df.author.value_counts()"
   ]
  },
  {
   "cell_type": "code",
   "execution_count": 19,
   "metadata": {},
   "outputs": [
    {
     "data": {
      "text/html": [
       "<div>\n",
       "<style scoped>\n",
       "    .dataframe tbody tr th:only-of-type {\n",
       "        vertical-align: middle;\n",
       "    }\n",
       "\n",
       "    .dataframe tbody tr th {\n",
       "        vertical-align: top;\n",
       "    }\n",
       "\n",
       "    .dataframe thead th {\n",
       "        text-align: right;\n",
       "    }\n",
       "</style>\n",
       "<table border=\"1\" class=\"dataframe\">\n",
       "  <thead>\n",
       "    <tr style=\"text-align: right;\">\n",
       "      <th></th>\n",
       "      <th>tokens</th>\n",
       "      <th>author</th>\n",
       "      <th>book</th>\n",
       "      <th>section</th>\n",
       "    </tr>\n",
       "  </thead>\n",
       "  <tbody>\n",
       "    <tr>\n",
       "      <th>Austen_Emma0026</th>\n",
       "      <td>[giving, fair, companion, account, yesterday, ...</td>\n",
       "      <td>1</td>\n",
       "      <td>Emma</td>\n",
       "      <td>26</td>\n",
       "    </tr>\n",
       "    <tr>\n",
       "      <th>Austen_Emma0032</th>\n",
       "      <td>[feels, like, snow, place, party, try, day, di...</td>\n",
       "      <td>1</td>\n",
       "      <td>Emma</td>\n",
       "      <td>32</td>\n",
       "    </tr>\n",
       "    <tr>\n",
       "      <th>CBronte_Villette0086</th>\n",
       "      <td>[pierced, opaque, blackness, stood, bougie, qu...</td>\n",
       "      <td>0</td>\n",
       "      <td>Villette</td>\n",
       "      <td>86</td>\n",
       "    </tr>\n",
       "    <tr>\n",
       "      <th>CBronte_Jane0099</th>\n",
       "      <td>[joke, queer, looks, tell, thing, specially, s...</td>\n",
       "      <td>0</td>\n",
       "      <td>Jane</td>\n",
       "      <td>99</td>\n",
       "    </tr>\n",
       "    <tr>\n",
       "      <th>CBronte_Villette0092</th>\n",
       "      <td>[second, landing, floor, comprising, abode, kn...</td>\n",
       "      <td>0</td>\n",
       "      <td>Villette</td>\n",
       "      <td>92</td>\n",
       "    </tr>\n",
       "  </tbody>\n",
       "</table>\n",
       "</div>"
      ],
      "text/plain": [
       "                                                                 tokens  \\\n",
       "Austen_Emma0026       [giving, fair, companion, account, yesterday, ...   \n",
       "Austen_Emma0032       [feels, like, snow, place, party, try, day, di...   \n",
       "CBronte_Villette0086  [pierced, opaque, blackness, stood, bougie, qu...   \n",
       "CBronte_Jane0099      [joke, queer, looks, tell, thing, specially, s...   \n",
       "CBronte_Villette0092  [second, landing, floor, comprising, abode, kn...   \n",
       "\n",
       "                      author      book  section  \n",
       "Austen_Emma0026            1      Emma       26  \n",
       "Austen_Emma0032            1      Emma       32  \n",
       "CBronte_Villette0086       0  Villette       86  \n",
       "CBronte_Jane0099           0      Jane       99  \n",
       "CBronte_Villette0092       0  Villette       92  "
      ]
     },
     "execution_count": 19,
     "metadata": {},
     "output_type": "execute_result"
    }
   ],
   "source": [
    "df.head()"
   ]
  },
  {
   "cell_type": "markdown",
   "metadata": {},
   "source": [
    "### Streaming Documents\n",
    "Here we use a new pythonic thingy: the `yield` statement in our function. This allows us to iterate over a bunch of documents without actually reading them into memory. You can see how we use this function later on. "
   ]
  },
  {
   "cell_type": "code",
   "execution_count": 20,
   "metadata": {},
   "outputs": [],
   "source": [
    "def doc_stream(path):\n",
    "    for f in os.listdir(path):\n",
    "        if os.path.isdir(f) == False:\n",
    "            if f[-3:] == 'txt':\n",
    "                with open(os.path.join(path,f)) as t:\n",
    "                    text = t.read().strip('\\n')\n",
    "                    tokens = tokenize(text)\n",
    "                yield tokens"
   ]
  },
  {
   "cell_type": "code",
   "execution_count": 21,
   "metadata": {},
   "outputs": [],
   "source": [
    "streaming_data = doc_stream(path)"
   ]
  },
  {
   "cell_type": "code",
   "execution_count": 23,
   "metadata": {},
   "outputs": [
    {
     "data": {
      "text/plain": [
       "list"
      ]
     },
     "execution_count": 23,
     "metadata": {},
     "output_type": "execute_result"
    }
   ],
   "source": [
    "type(tokens)"
   ]
  },
  {
   "cell_type": "code",
   "execution_count": 22,
   "metadata": {},
   "outputs": [
    {
     "data": {
      "text/plain": [
       "generator"
      ]
     },
     "execution_count": 22,
     "metadata": {},
     "output_type": "execute_result"
    }
   ],
   "source": [
    "type(streaming_data)"
   ]
  },
  {
   "cell_type": "code",
   "execution_count": null,
   "metadata": {},
   "outputs": [],
   "source": [
    "# gather_data => returns a list\n",
    "# doc_stream => returns a generator"
   ]
  },
  {
   "cell_type": "code",
   "execution_count": 33,
   "metadata": {},
   "outputs": [
    {
     "data": {
      "text/plain": [
       "['nod',\n",
       " 'smile',\n",
       " 'approbation',\n",
       " 'thought',\n",
       " 'looking',\n",
       " 'point',\n",
       " 'unlikely',\n",
       " 'engage',\n",
       " 'considered',\n",
       " 'dressed']"
      ]
     },
     "execution_count": 33,
     "metadata": {},
     "output_type": "execute_result"
    }
   ],
   "source": [
    "next(streaming_data)[:10] # Returns one document at a time from the generator"
   ]
  },
  {
   "cell_type": "markdown",
   "metadata": {},
   "source": [
    "### Gensim LDA Topic Modeling"
   ]
  },
  {
   "cell_type": "code",
   "execution_count": 34,
   "metadata": {},
   "outputs": [],
   "source": [
    "# A Dictionary Representation of all the words in our corpus\n",
    "id2word = corpora.Dictionary(doc_stream(path))"
   ]
  },
  {
   "cell_type": "code",
   "execution_count": 38,
   "metadata": {},
   "outputs": [
    {
     "data": {
      "text/plain": [
       "15378"
      ]
     },
     "execution_count": 38,
     "metadata": {},
     "output_type": "execute_result"
    }
   ],
   "source": [
    "id2word.token2id['america']"
   ]
  },
  {
   "cell_type": "code",
   "execution_count": 39,
   "metadata": {},
   "outputs": [
    {
     "data": {
      "text/plain": [
       "[(869, 3), (1254, 1), (2485, 1), (16850, 1)]"
      ]
     },
     "execution_count": 39,
     "metadata": {},
     "output_type": "execute_result"
    }
   ],
   "source": [
    "id2word.doc2bow(tokenize(\"This is a sample message Darcy England England England\"))"
   ]
  },
  {
   "cell_type": "code",
   "execution_count": 40,
   "metadata": {},
   "outputs": [
    {
     "name": "stdout",
     "output_type": "stream",
     "text": [
      "64\n",
      "7064\n"
     ]
    }
   ],
   "source": [
    "import sys\n",
    "print(sys.getsizeof(id2word))\n",
    "print(sys.getsizeof(tokens))"
   ]
  },
  {
   "cell_type": "code",
   "execution_count": 56,
   "metadata": {},
   "outputs": [
    {
     "data": {
      "text/plain": [
       "22095"
      ]
     },
     "execution_count": 56,
     "metadata": {},
     "output_type": "execute_result"
    }
   ],
   "source": [
    "len(id2word.keys())"
   ]
  },
  {
   "cell_type": "code",
   "execution_count": 41,
   "metadata": {},
   "outputs": [],
   "source": [
    "# Let's remove extreme values from the dataset\n",
    "id2word.filter_extremes(no_below=2, no_above=0.95)"
   ]
  },
  {
   "cell_type": "code",
   "execution_count": 42,
   "metadata": {},
   "outputs": [
    {
     "data": {
      "text/plain": [
       "14392"
      ]
     },
     "execution_count": 42,
     "metadata": {},
     "output_type": "execute_result"
    }
   ],
   "source": [
    "len(id2word.keys())"
   ]
  },
  {
   "cell_type": "code",
   "execution_count": 43,
   "metadata": {},
   "outputs": [],
   "source": [
    "# a bag of words(bow) representation of our corpus\n",
    "# Note: we haven't actually read any text into memory here\n",
    "# Although abstracted away - tokenization IS happening in the doc_stream f(x)\n",
    "corpus = [id2word.doc2bow(text) for text in doc_stream(path)]"
   ]
  },
  {
   "cell_type": "code",
   "execution_count": 44,
   "metadata": {},
   "outputs": [
    {
     "data": {
      "text/plain": [
       "[(4, 1),\n",
       " (18, 1),\n",
       " (29, 1),\n",
       " (31, 1),\n",
       " (32, 2),\n",
       " (42, 1),\n",
       " (48, 1),\n",
       " (53, 1),\n",
       " (57, 1),\n",
       " (73, 1)]"
      ]
     },
     "execution_count": 44,
     "metadata": {},
     "output_type": "execute_result"
    }
   ],
   "source": [
    "corpus[345][:10]"
   ]
  },
  {
   "cell_type": "code",
   "execution_count": 45,
   "metadata": {},
   "outputs": [],
   "source": [
    "lda = LdaMulticore(corpus=corpus,\n",
    "                   id2word=id2word,\n",
    "                   random_state=723812,\n",
    "                   num_topics = 15,\n",
    "                   passes=10,\n",
    "                   workers=12\n",
    "                  )"
   ]
  },
  {
   "cell_type": "code",
   "execution_count": 46,
   "metadata": {},
   "outputs": [
    {
     "name": "stdout",
     "output_type": "stream",
     "text": [
      "[(8, 0.7524468), (9, 0.17532337)]\n"
     ]
    }
   ],
   "source": [
    "new_document = \"pounds mother sure think year rochester thorfield fairfax live elizabeth darcy bingley\"\n",
    "\n",
    "new_tokens = tokenize(new_document)\n",
    "\n",
    "new_bow = id2word.doc2bow(new_tokens)\n",
    "\n",
    "new_topic = lda[new_bow]\n",
    "\n",
    "print(new_topic)"
   ]
  },
  {
   "cell_type": "code",
   "execution_count": 47,
   "metadata": {},
   "outputs": [
    {
     "data": {
      "text/plain": [
       "[(0,\n",
       "  '0.008*\"bretton\" + 0.006*\"madame\" + 0.005*\"like\" + 0.005*\"little\" + 0.003*\"jane\" + 0.003*\"night\" + 0.003*\"good\" + 0.003*\"old\" + 0.003*\"come\" + 0.003*\"know\"'),\n",
       " (1,\n",
       "  '0.008*\"miss\" + 0.007*\"dear\" + 0.006*\"little\" + 0.005*\"harriet\" + 0.004*\"knightley\" + 0.004*\"helen\" + 0.004*\"day\" + 0.004*\"great\" + 0.004*\"emma\" + 0.004*\"burns\"'),\n",
       " (2,\n",
       "  '0.026*\"emma\" + 0.018*\"harriet\" + 0.014*\"elton\" + 0.013*\"miss\" + 0.011*\"knightley\" + 0.011*\"weston\" + 0.011*\"woodhouse\" + 0.009*\"think\" + 0.008*\"thing\" + 0.008*\"good\"'),\n",
       " (3,\n",
       "  '0.009*\"madame\" + 0.005*\"pelet\" + 0.004*\"vous\" + 0.004*\"day\" + 0.004*\"monsieur\" + 0.004*\"little\" + 0.003*\"knew\" + 0.003*\"room\" + 0.003*\"school\" + 0.003*\"like\"'),\n",
       " (4,\n",
       "  '0.006*\"little\" + 0.006*\"madame\" + 0.005*\"like\" + 0.004*\"day\" + 0.004*\"thought\" + 0.004*\"long\" + 0.004*\"night\" + 0.004*\"door\" + 0.003*\"good\" + 0.003*\"eyes\"'),\n",
       " (5,\n",
       "  '0.005*\"little\" + 0.004*\"madame\" + 0.004*\"think\" + 0.003*\"room\" + 0.003*\"hand\" + 0.003*\"dr\" + 0.003*\"good\" + 0.003*\"thought\" + 0.003*\"paul\" + 0.003*\"know\"'),\n",
       " (6,\n",
       "  '0.007*\"like\" + 0.006*\"little\" + 0.005*\"face\" + 0.004*\"thought\" + 0.004*\"saw\" + 0.003*\"good\" + 0.003*\"heart\" + 0.003*\"time\" + 0.003*\"know\" + 0.003*\"half\"'),\n",
       " (7,\n",
       "  '0.005*\"like\" + 0.004*\"night\" + 0.004*\"time\" + 0.004*\"day\" + 0.004*\"thought\" + 0.004*\"know\" + 0.004*\"door\" + 0.004*\"room\" + 0.003*\"come\" + 0.003*\"think\"'),\n",
       " (8,\n",
       "  '0.007*\"miss\" + 0.006*\"elinor\" + 0.006*\"elizabeth\" + 0.006*\"know\" + 0.005*\"time\" + 0.005*\"think\" + 0.005*\"marianne\" + 0.005*\"soon\" + 0.005*\"jane\" + 0.005*\"sister\"'),\n",
       " (9,\n",
       "  '0.005*\"like\" + 0.005*\"little\" + 0.004*\"john\" + 0.004*\"know\" + 0.004*\"miss\" + 0.004*\"long\" + 0.003*\"good\" + 0.003*\"think\" + 0.003*\"time\" + 0.003*\"house\"'),\n",
       " (10,\n",
       "  '0.011*\"sir\" + 0.004*\"little\" + 0.004*\"yes\" + 0.004*\"think\" + 0.003*\"jane\" + 0.003*\"mother\" + 0.003*\"shall\" + 0.003*\"good\" + 0.003*\"ginevra\" + 0.003*\"pounds\"'),\n",
       " (11,\n",
       "  '0.007*\"little\" + 0.005*\"like\" + 0.004*\"thought\" + 0.003*\"room\" + 0.003*\"time\" + 0.003*\"long\" + 0.003*\"know\" + 0.003*\"look\" + 0.003*\"hand\" + 0.003*\"eyes\"'),\n",
       " (12,\n",
       "  '0.007*\"little\" + 0.005*\"like\" + 0.004*\"bessie\" + 0.004*\"miss\" + 0.004*\"good\" + 0.004*\"shall\" + 0.003*\"know\" + 0.003*\"thought\" + 0.003*\"reed\" + 0.003*\"jane\"'),\n",
       " (13,\n",
       "  '0.005*\"like\" + 0.005*\"pelet\" + 0.003*\"crimsworth\" + 0.003*\"hunsden\" + 0.003*\"face\" + 0.003*\"little\" + 0.003*\"man\" + 0.002*\"smile\" + 0.002*\"countenance\" + 0.002*\"soon\"'),\n",
       " (14,\n",
       "  '0.010*\"graham\" + 0.007*\"polly\" + 0.006*\"little\" + 0.006*\"papa\" + 0.006*\"bretton\" + 0.006*\"like\" + 0.005*\"good\" + 0.004*\"eye\" + 0.004*\"look\" + 0.004*\"face\"')]"
      ]
     },
     "execution_count": 47,
     "metadata": {},
     "output_type": "execute_result"
    }
   ],
   "source": [
    "lda.print_topics()"
   ]
  },
  {
   "cell_type": "code",
   "execution_count": 48,
   "metadata": {},
   "outputs": [],
   "source": [
    "words = [re.findall('\"([^\"]*)\"',t[1]) for t in lda.print_topics()]"
   ]
  },
  {
   "cell_type": "code",
   "execution_count": 49,
   "metadata": {},
   "outputs": [],
   "source": [
    "topics = [' '.join(t[0:5]) for t in words]"
   ]
  },
  {
   "cell_type": "code",
   "execution_count": 50,
   "metadata": {},
   "outputs": [
    {
     "name": "stdout",
     "output_type": "stream",
     "text": [
      "------ Topic 0 ------\n",
      "bretton madame like little jane\n",
      "\n",
      "------ Topic 1 ------\n",
      "miss dear little harriet knightley\n",
      "\n",
      "------ Topic 2 ------\n",
      "emma harriet elton miss knightley\n",
      "\n",
      "------ Topic 3 ------\n",
      "madame pelet vous day monsieur\n",
      "\n",
      "------ Topic 4 ------\n",
      "little madame like day thought\n",
      "\n",
      "------ Topic 5 ------\n",
      "little madame think room hand\n",
      "\n",
      "------ Topic 6 ------\n",
      "like little face thought saw\n",
      "\n",
      "------ Topic 7 ------\n",
      "like night time day thought\n",
      "\n",
      "------ Topic 8 ------\n",
      "miss elinor elizabeth know time\n",
      "\n",
      "------ Topic 9 ------\n",
      "like little john know miss\n",
      "\n",
      "------ Topic 10 ------\n",
      "sir little yes think jane\n",
      "\n",
      "------ Topic 11 ------\n",
      "little like thought room time\n",
      "\n",
      "------ Topic 12 ------\n",
      "little like bessie miss good\n",
      "\n",
      "------ Topic 13 ------\n",
      "like pelet crimsworth hunsden face\n",
      "\n",
      "------ Topic 14 ------\n",
      "graham polly little papa bretton\n",
      "\n"
     ]
    }
   ],
   "source": [
    "for id, t in enumerate(topics): \n",
    "    print(f\"------ Topic {id} ------\")\n",
    "    print(t, end=\"\\n\\n\")"
   ]
  },
  {
   "cell_type": "markdown",
   "metadata": {},
   "source": [
    "## Challenge \n",
    "\n",
    "You will apply an LDA model to a customer review dataset to practice the fitting and estimation of LDA. "
   ]
  },
  {
   "cell_type": "markdown",
   "metadata": {},
   "source": [
    "# Interpret LDA Results (Learn)\n",
    "<a id=\"#p3\"></a>"
   ]
  },
  {
   "cell_type": "markdown",
   "metadata": {},
   "source": [
    "## Overview"
   ]
  },
  {
   "cell_type": "markdown",
   "metadata": {
    "toc-hr-collapsed": true
   },
   "source": [
    "## Follow Along"
   ]
  },
  {
   "cell_type": "markdown",
   "metadata": {},
   "source": [
    "### Topic Distance Visualization"
   ]
  },
  {
   "cell_type": "code",
   "execution_count": 51,
   "metadata": {},
   "outputs": [],
   "source": [
    "import pyLDAvis.gensim\n",
    "\n",
    "pyLDAvis.enable_notebook()"
   ]
  },
  {
   "cell_type": "code",
   "execution_count": 52,
   "metadata": {},
   "outputs": [
    {
     "data": {
      "text/html": [
       "\n",
       "<link rel=\"stylesheet\" type=\"text/css\" href=\"https://cdn.rawgit.com/bmabey/pyLDAvis/files/ldavis.v1.0.0.css\">\n",
       "\n",
       "\n",
       "<div id=\"ldavis_el235381403745755484963630825566\"></div>\n",
       "<script type=\"text/javascript\">\n",
       "\n",
       "var ldavis_el235381403745755484963630825566_data = {\"mdsDat\": {\"x\": [0.16349643255838905, 0.03174873033837058, -0.04321686077852556, 0.004573051711253233, 0.18624548967132998, 0.004056579494148919, 0.007103565097224092, -0.035262387228518544, -0.05037907714742652, -0.07790706308639447, 0.07051347006535176, -0.02378539417557589, -0.0613230053186176, -0.07401267110142058, -0.10185086009958808], \"y\": [-0.021995491374100493, 0.022663873213470357, 0.09992007162727354, 0.04918671959371916, -0.019637734763888668, 0.03983007678224396, 0.042971138429768324, 0.05126712457130365, 0.05619729124028151, 0.024055940399222674, -0.07595708126208076, -0.016746290459268627, -0.016657796622739737, -0.11980289917788975, -0.11529494219731502], \"topics\": [1, 2, 3, 4, 5, 6, 7, 8, 9, 10, 11, 12, 13, 14, 15], \"cluster\": [1, 1, 1, 1, 1, 1, 1, 1, 1, 1, 1, 1, 1, 1, 1], \"Freq\": [32.72406768798828, 14.701414108276367, 12.661407470703125, 7.946791648864746, 7.933254718780518, 7.341458797454834, 7.001856803894043, 2.3484508991241455, 1.854535698890686, 1.524275779724121, 1.2542896270751953, 1.1175410747528076, 1.010936975479126, 0.349901020526886, 0.22982223331928253]}, \"tinfo\": {\"Term\": [\"emma\", \"little\", \"miss\", \"harriet\", \"sir\", \"like\", \"elton\", \"good\", \"knightley\", \"dear\", \"think\", \"madame\", \"weston\", \"jane\", \"woodhouse\", \"know\", \"time\", \"mother\", \"long\", \"man\", \"shall\", \"elinor\", \"come\", \"thought\", \"day\", \"face\", \"yes\", \"night\", \"thing\", \"lady\", \"bingley\", \"bennet\", \"marianne\", \"willoughby\", \"elinor\", \"darcy\", \"longbourn\", \"netherfield\", \"brandon\", \"lydia\", \"lucas\", \"jennings\", \"wickham\", \"ferrars\", \"meryton\", \"dashwood\", \"hertfordshire\", \"fitzwilliam\", \"middleton\", \"elizabeth\", \"barton\", \"forster\", \"collins\", \"lizzy\", \"palmer\", \"rosings\", \"engagement\", \"fanny\", \"delaford\", \"dashwoods\", \"gardiner\", \"charlotte\", \"catherine\", \"sister\", \"colonel\", \"behaviour\", \"edward\", \"family\", \"mother\", \"replied\", \"soon\", \"jane\", \"miss\", \"dear\", \"lady\", \"happiness\", \"time\", \"know\", \"think\", \"great\", \"hope\", \"sure\", \"thing\", \"good\", \"shall\", \"day\", \"little\", \"man\", \"father\", \"away\", \"young\", \"room\", \"thought\", \"mending\", \"hindostanee\", \"diana\", \"elliott\", \"oliver\", \"briggs\", \"annuity\", \"traverse\", \"fetters\", \"etang\", \"surplice\", \"rivers\", \"clapped\", \"approving\", \"playfully\", \"billiard\", \"dawlish\", \"toothpick\", \"lame\", \"conducting\", \"aghast\", \"earthquake\", \"dishonour\", \"newspaper\", \"hourly\", \"cadeau\", \"lifetime\", \"urn\", \"judgments\", \"sightless\", \"despotic\", \"hannah\", \"accommodate\", \"tablet\", \"bertha\", \"curled\", \"st\", \"mary\", \"rochester\", \"scholars\", \"john\", \"brothers\", \"orphan\", \"ingram\", \"temple\", \"clergyman\", \"school\", \"morton\", \"bassompierre\", \"sir\", \"adele\", \"yes\", \"kiss\", \"face\", \"like\", \"house\", \"live\", \"hand\", \"years\", \"long\", \"asked\", \"eye\", \"tell\", \"know\", \"little\", \"looked\", \"shall\", \"eyes\", \"come\", \"thought\", \"think\", \"time\", \"good\", \"miss\", \"saw\", \"man\", \"room\", \"jane\", \"day\", \"heart\", \"soon\", \"life\", \"way\", \"confessional\", \"customary\", \"barrett\", \"porte\", \"rosine\", \"hues\", \"volubly\", \"confidences\", \"lulled\", \"sensitiveness\", \"mes\", \"infatuated\", \"plotted\", \"coward\", \"vaudeville\", \"mourned\", \"lull\", \"considerateness\", \"ebon\", \"sanctity\", \"vie\", \"donne\", \"paletot\", \"pear\", \"lions\", \"thanksgiving\", \"cloven\", \"imbecile\", \"wonted\", \"intense\", \"jesuit\", \"dripping\", \"curiously\", \"classe\", \"garments\", \"kinsman\", \"beck\", \"madame\", \"incidents\", \"schoolrooms\", \"blent\", \"emanuel\", \"holy\", \"paul\", \"ce\", \"rome\", \"vestibule\", \"protestant\", \"dim\", \"la\", \"attic\", \"est\", \"pierre\", \"et\", \"monsieur\", \"tact\", \"je\", \"rue\", \"bien\", \"mademoiselle\", \"pupils\", \"pensionnat\", \"fossette\", \"candle\", \"lesson\", \"door\", \"garden\", \"pale\", \"vous\", \"night\", \"english\", \"rose\", \"desk\", \"like\", \"stood\", \"little\", \"day\", \"dr\", \"eyes\", \"hand\", \"thought\", \"long\", \"light\", \"heart\", \"round\", \"took\", \"life\", \"came\", \"good\", \"saw\", \"knew\", \"time\", \"left\", \"looked\", \"went\", \"know\", \"come\", \"felt\", \"house\", \"whip\", \"judges\", \"aristocratic\", \"conveyance\", \"gytrash\", \"glade\", \"blows\", \"bronze\", \"trap\", \"boots\", \"workpeople\", \"aristocrat\", \"shout\", \"eerie\", \"piled\", \"wallis\", \"ribbons\", \"hindered\", \"clattering\", \"rushes\", \"beneficent\", \"truant\", \"renovation\", \"wars\", \"clings\", \"exhilaration\", \"insanity\", \"inflamed\", \"traversing\", \"oaths\", \"leah\", \"commotion\", \"dingy\", \"ink\", \"carpets\", \"pull\", \"crew\", \"traveller\", \"sarah\", \"oak\", \"hunsden\", \"carter\", \"behest\", \"waiter\", \"driver\", \"patrician\", \"ll\", \"crimsworth\", \"clerk\", \"dog\", \"midnight\", \"gallery\", \"mason\", \"hall\", \"storey\", \"sparks\", \"night\", \"thornfield\", \"upstairs\", \"door\", \"lit\", \"horse\", \"moon\", \"black\", \"rochester\", \"sun\", \"got\", \"road\", \"wood\", \"room\", \"master\", \"like\", \"day\", \"come\", \"house\", \"thought\", \"time\", \"heard\", \"window\", \"went\", \"jane\", \"looked\", \"know\", \"half\", \"dark\", \"shall\", \"life\", \"think\", \"came\", \"long\", \"good\", \"sir\", \"better\", \"great\", \"saw\", \"little\", \"look\", \"soon\", \"martin\", \"pork\", \"maple\", \"nash\", \"selina\", \"hawkins\", \"exploring\", \"landau\", \"elton\", \"vicarage\", \"charade\", \"goddard\", \"woodhouse\", \"eltons\", \"harriet\", \"boarder\", \"reigns\", \"abbey\", \"perrys\", \"stomach\", \"inimitable\", \"digne\", \"cleverness\", \"bath\", \"dominion\", \"palpably\", \"hartfield\", \"surprized\", \"congratulatory\", \"partridge\", \"emma\", \"knightley\", \"isabella\", \"taylor\", \"martins\", \"surry\", \"grove\", \"weston\", \"suckling\", \"perry\", \"bates\", \"highbury\", \"smith\", \"cole\", \"randalls\", \"body\", \"papa\", \"churchill\", \"miss\", \"thing\", \"think\", \"frank\", \"oh\", \"good\", \"man\", \"dear\", \"little\", \"know\", \"young\", \"thought\", \"like\", \"great\", \"friend\", \"father\", \"shall\", \"time\", \"sure\", \"woman\", \"cox\", \"jour\", \"secresy\", \"coxes\", \"gilbert\", \"succumbed\", \"stokes\", \"vines\", \"pensionnaires\", \"tableau\", \"consummate\", \"crayon\", \"tolling\", \"sisera\", \"sweeps\", \"ledru\", \"hothouse\", \"chapeau\", \"leonie\", \"abandonment\", \"cleanly\", \"dixons\", \"brodequins\", \"collective\", \"baker\", \"quant\", \"dissembling\", \"cultured\", \"tarts\", \"nuptials\", \"skirt\", \"pistolets\", \"opera\", \"basket\", \"rosalie\", \"glen\", \"wave\", \"screens\", \"stair\", \"wooden\", \"mdlle\", \"spoon\", \"reuter\", \"rolls\", \"threatening\", \"transparent\", \"pink\", \"fruit\", \"faubourg\", \"warmer\", \"green\", \"little\", \"lace\", \"small\", \"pair\", \"seat\", \"large\", \"like\", \"neat\", \"white\", \"turned\", \"thought\", \"monsieur\", \"took\", \"room\", \"old\", \"look\", \"pupils\", \"door\", \"hand\", \"looking\", \"eyes\", \"garden\", \"long\", \"looked\", \"sat\", \"light\", \"opened\", \"round\", \"bretton\", \"time\", \"knew\", \"know\", \"certain\", \"away\", \"eye\", \"came\", \"good\", \"man\", \"moment\", \"think\", \"shall\", \"saw\", \"thing\", \"day\", \"half\", \"lloyd\", \"abbot\", \"accursed\", \"leas\", \"benefactress\", \"ass\", \"eyelid\", \"spilt\", \"rabid\", \"expresses\", \"mysteriously\", \"avait\", \"tuck\", \"breeches\", \"rag\", \"milksop\", \"inquisitiveness\", \"furnishing\", \"revert\", \"fathomless\", \"plaits\", \"devour\", \"hybrid\", \"correctly\", \"opposes\", \"drunkard\", \"quilt\", \"argue\", \"crumbs\", \"leaven\", \"bessie\", \"nicety\", \"reed\", \"countrymen\", \"swear\", \"abandoned\", \"isidore\", \"helen\", \"swiss\", \"yorke\", \"brocklehurst\", \"nursery\", \"crib\", \"bible\", \"deceit\", \"miller\", \"eyre\", \"adele\", \"frances\", \"gateshead\", \"hunsden\", \"victor\", \"rochester\", \"scorn\", \"darling\", \"mama\", \"child\", \"little\", \"like\", \"sir\", \"monsieur\", \"head\", \"love\", \"god\", \"heart\", \"shall\", \"night\", \"jane\", \"good\", \"hand\", \"miss\", \"looked\", \"thought\", \"eyes\", \"room\", \"know\", \"lady\", \"yes\", \"saw\", \"went\", \"time\", \"come\", \"think\", \"life\", \"long\", \"came\", \"wor\", \"princes\", \"childer\", \"tribune\", \"savants\", \"sibyl\", \"manufacture\", \"municipality\", \"unforced\", \"athenians\", \"meretricious\", \"arrows\", \"plume\", \"hoist\", \"mich\", \"tabernacle\", \"wi\", \"artistic\", \"priests\", \"enfants_\", \"ignore\", \"latent\", \"fitly\", \"lark\", \"celestial\", \"deceased\", \"mechant\", \"chanting\", \"bottles\", \"stigmatized\", \"belles\", \"hortense\", \"rochemorte\", \"eulalie\", \"sara\", \"mesdemoiselles\", \"braided\", \"aristocracy\", \"ginevra\", \"turban\", \"blanche\", \"ingram\", \"dent\", \"fanshawe\", \"boissec\", \"professors\", \"vivacious\", \"arm\", \"desiree\", \"face\", \"dr\", \"hamal\", \"mastery\", \"like\", \"little\", \"band\", \"bretton\", \"saw\", \"black\", \"heart\", \"half\", \"thought\", \"eyes\", \"tell\", \"looked\", \"graham\", \"look\", \"sir\", \"hand\", \"yes\", \"laugh\", \"good\", \"madame\", \"time\", \"eye\", \"know\", \"think\", \"old\", \"room\", \"looking\", \"miss\", \"way\", \"knew\", \"day\", \"braids\", \"pauvres\", \"carlos\", \"puncture\", \"godlike\", \"vaut\", \"sucree_\", \"mortar\", \"benefice\", \"damer\", \"guttering\", \"miret\", \"cote\", \"pillule\", \"cleopatra\", \"matron\", \"chercher\", \"gasp\", \"unintentionally\", \"globes\", \"mieux\", \"faible\", \"tittered\", \"gazes\", \"vraiment\", \"blithe\", \"bubble\", \"docteur\", \"verandah\", \"educational\", \"garret\", \"pots\", \"desiree\", \"cries\", \"costume\", \"marie\", \"portress\", \"georgette\", \"peep\", \"paul\", \"dr\", \"ni\", \"madame\", \"bonne\", \"fifine\", \"graham\", \"hand\", \"little\", \"desk\", \"monsieur\", \"room\", \"stood\", \"think\", \"air\", \"looked\", \"english\", \"heard\", \"eyes\", \"gave\", \"door\", \"thought\", \"good\", \"john\", \"long\", \"morning\", \"lucy\", \"know\", \"like\", \"moment\", \"seen\", \"come\", \"life\", \"time\", \"half\", \"man\", \"vite\", \"improvise\", \"vanderkelkov\", \"annually\", \"intractable\", \"propre_\", \"allez\", \"rubicund\", \"prenez\", \"bougez\", \"gens\", \"betters\", \"quelquechose\", \"flamands\", \"punch\", \"sweat\", \"xxxi\", \"blanc\", \"serves\", \"direful\", \"giggle\", \"merci\", \"ni\", \"catholics\", \"espionage\", \"brabant\", \"butterfly\", \"fils\", \"cordon\", \"spying\", \"managing\", \"adam\", \"non\", \"bourgeois\", \"donnez\", \"pelet\", \"ne\", \"flamand\", \"masters\", \"jeunes\", \"une\", \"madame\", \"vous\", \"en\", \"reuter\", \"pas\", \"comme\", \"plate\", \"bien\", \"monsieur\", \"est\", \"establishment\", \"parents\", \"je\", \"beck\", \"pupils\", \"pierre\", \"school\", \"moi\", \"day\", \"paul\", \"knew\", \"lessons\", \"work\", \"la\", \"little\", \"room\", \"half\", \"course\", \"like\", \"good\", \"time\", \"thought\", \"way\", \"house\", \"know\", \"old\", \"subject\", \"scatcherd\", \"foolishly\", \"wingfield\", \"flayed\", \"canadian\", \"ox\", \"pittance\", \"skeletons\", \"penurious\", \"ahead\", \"tires\", \"effluence\", \"burns\", \"hunters\", \"astley\", \"disparity\", \"gruel\", \"mimic\", \"excitation\", \"bella\", \"presenting\", \"woodland\", \"authors\", \"enquired\", \"twigs\", \"basins\", \"cromer\", \"unhealthy\", \"corresponded\", \"bateses\", \"grudged\", \"doctrine\", \"helen\", \"bathing\", \"colds\", \"fog\", \"lowood\", \"bilious\", \"south\", \"dear\", \"perry\", \"sea\", \"knightley\", \"miss\", \"harriet\", \"children\", \"little\", \"temple\", \"evening\", \"book\", \"bark\", \"great\", \"graham\", \"emma\", \"day\", \"girl\", \"sure\", \"long\", \"good\", \"cole\", \"come\", \"air\", \"time\", \"far\", \"better\", \"like\", \"know\", \"wish\", \"thought\", \"think\", \"heart\", \"hope\", \"place\", \"fragmentary\", \"russian\", \"digest\", \"marmalade\", \"faithless\", \"fishing\", \"juanna\", \"rasselas\", \"shred\", \"mellowing\", \"fingered\", \"repairing\", \"zone\", \"plaister\", \"rejoin\", \"wearily\", \"bored\", \"factories\", \"proverbially\", \"speculate\", \"thinner\", \"thinker\", \"sooty\", \"sighs\", \"polly\", \"catechism\", \"chastiser\", \"magistrate\", \"conversion\", \"orphans\", \"gipsies\", \"wears\", \"graham\", \"sins\", \"callous\", \"papa\", \"countries\", \"bretton\", \"doll\", \"snowe\", \"woods\", \"footman\", \"eye\", \"river\", \"gazed\", \"eshton\", \"breakfast\", \"like\", \"little\", \"look\", \"face\", \"crimsworth\", \"good\", \"small\", \"home\", \"hurt\", \"remember\", \"sat\", \"scene\", \"sorry\", \"long\", \"time\", \"father\", \"round\", \"low\", \"knew\", \"hair\", \"know\", \"shall\", \"having\", \"hand\", \"miss\", \"man\", \"moment\", \"room\", \"took\", \"morning\", \"hunchback\", \"junta\", \"edition\", \"xxxix\", \"publishers\", \"palliatives\", \"kiosk\", \"playmates\", \"bronte\", \"unearthly\", \"brunette\", \"sabbath\", \"dresser\", \"sundays\", \"writhed\", \"administered\", \"auld\", \"leapt\", \"attested\", \"walravens\", \"playmate\", \"gilead\", \"drug\", \"currer\", \"chou\", \"sedative\", \"heinrich\", \"muehler\", \"vulture\", \"bigotry\", \"syne\", \"lang\", \"justine\", \"scotch\", \"goton\", \"bretton\", \"marie\", \"headache\", \"cup\", \"agent\", \"godmother\", \"madame\", \"count\", \"paulina\", \"beck\", \"nun\", \"like\", \"child\", \"old\", \"little\", \"night\", \"jane\", \"eyes\", \"home\", \"come\", \"marry\", \"called\", \"girl\", \"good\", \"liked\", \"time\", \"know\", \"man\", \"thought\", \"long\", \"face\", \"looked\", \"husband\", \"let\", \"think\", \"hand\", \"hoard\", \"pursed\", \"unsaid\", \"impute\", \"catalogue\", \"faites\", \"advertise\", \"labassecouriens\", \"suicide\", \"incomparably\", \"divinity\", \"circumspect\", \"taisez\", \"upset\", \"capers\", \"metamorphosis\", \"twain\", \"lever\", \"absolutism\", \"casketing\", \"characterless\", \"lounge\", \"sonorous\", \"egotist\", \"studiously\", \"dames\", \"tolerant\", \"ornamental\", \"instrumental\", \"repentant\", \"exultant\", \"denominated\", \"queen\", \"hearty\", \"ami\", \"sneeze\", \"feather\", \"farewell\", \"sir\", \"ginevra\", \"mingled\", \"train\", \"pounds\", \"terror\", \"josef\", \"cholmondeley\", \"presents\", \"vous\", \"hundreds\", \"purse\", \"shillings\", \"stepped\", \"angry\", \"yes\", \"amused\", \"mother\", \"ago\", \"little\", \"jane\", \"think\", \"shall\", \"matter\", \"dr\", \"good\", \"promise\", \"paul\", \"lady\", \"ll\", \"word\", \"seen\", \"white\", \"ought\", \"come\", \"school\", \"miss\", \"like\", \"john\", \"hunsdens\", \"francois\", \"gilead\", \"proverbially\", \"bracing\", \"slimy\", \"bec\", \"perfidy\", \"invigorated\", \"curing\", \"stumbling\", \"prophetic\", \"trousseau\", \"guileful\", \"devotedly\", \"available\", \"undeserved\", \"vacillating\", \"allows\", \"intervene\", \"abusive\", \"hilarity\", \"blanc\", \"fils\", \"lurk\", \"cramp\", \"disclaim\", \"indelibly\", \"strengthening\", \"bigben\", \"physically\", \"coquetry\", \"pelet\", \"tradesman\", \"zoraide\", \"crimsworth\", \"yorke\", \"foreigner\", \"hunsden\", \"antipathy\", \"like\", \"restore\", \"intention\", \"countenance\", \"establish\", \"face\", \"smile\", \"affirmed\", \"flatter\", \"man\", \"darling\", \"wages\", \"little\", \"sign\", \"false\", \"soon\", \"making\", \"love\", \"half\", \"night\", \"heard\", \"nature\", \"felt\", \"house\", \"feeling\", \"light\", \"heart\", \"dear\", \"laugh\", \"looking\", \"mind\", \"reason\", \"gone\"], \"Freq\": [917.0, 1690.0, 1543.0, 555.0, 581.0, 1299.0, 419.0, 1348.0, 408.0, 593.0, 1317.0, 391.0, 463.0, 927.0, 336.0, 1430.0, 1301.0, 662.0, 919.0, 905.0, 921.0, 683.0, 819.0, 1131.0, 1048.0, 479.0, 592.0, 604.0, 802.0, 616.0, 302.65460205078125, 317.79010009765625, 556.4080200195312, 212.5497589111328, 671.614013671875, 408.3361511230469, 86.87786865234375, 72.21599578857422, 141.5959014892578, 167.8682861328125, 69.21598052978516, 225.29507446289062, 189.6358184814453, 127.1410903930664, 56.119564056396484, 245.267578125, 40.57606887817383, 35.69171905517578, 99.47541809082031, 625.5609130859375, 86.69621276855469, 38.38807678222656, 173.342529296875, 94.14506530761719, 74.7975082397461, 47.914833068847656, 112.01683044433594, 46.79159927368164, 29.46672821044922, 35.14631652832031, 90.8061294555664, 107.08253479003906, 122.89697265625, 522.5803833007812, 277.16741943359375, 135.86146545410156, 263.4804992675781, 297.2593688964844, 443.3273010253906, 250.01158142089844, 533.5477294921875, 530.6404418945312, 740.8192749023438, 358.4637451171875, 361.3255615234375, 197.88192749023438, 574.643310546875, 603.9901733398438, 561.2748413085938, 407.48040771484375, 292.2234802246094, 327.98028564453125, 374.218505859375, 499.04583740234375, 365.24468994140625, 385.58331298828125, 463.4858093261719, 345.3751525878906, 277.5885925292969, 295.5670166015625, 294.1015930175781, 300.8188171386719, 287.5488586425781, 6.751849174499512, 6.74921989440918, 65.55877685546875, 7.5168375968933105, 26.167726516723633, 13.320246696472168, 5.782790660858154, 5.701106548309326, 4.830025672912598, 4.835071086883545, 4.819376468658447, 49.916831970214844, 4.787886619567871, 4.776442050933838, 4.781696319580078, 4.7982258796691895, 4.790585517883301, 4.797703742980957, 4.783802032470703, 4.774898529052734, 4.776709079742432, 4.784607410430908, 4.778548717498779, 10.248648643493652, 8.608785629272461, 3.8841869831085205, 3.8780086040496826, 3.878997325897217, 3.8454229831695557, 3.866770029067993, 7.902789115905762, 31.691364288330078, 7.545048236846924, 6.138744354248047, 6.115935802459717, 13.530006408691406, 102.62895965576172, 77.7340316772461, 153.47923278808594, 11.384350776672363, 217.02902221679688, 13.05893325805664, 13.053773880004883, 40.504783630371094, 34.814903259277344, 20.76881217956543, 87.80447387695312, 22.58370590209961, 33.972984313964844, 159.71749877929688, 50.52906799316406, 143.95616149902344, 23.396713256835938, 120.76692962646484, 240.62515258789062, 160.0348663330078, 65.24229431152344, 129.4503631591797, 83.92635345458984, 171.43997192382812, 93.94988250732422, 92.21033477783203, 113.00830078125, 201.1017303466797, 220.41957092285156, 126.04536437988281, 147.91372680664062, 116.43762969970703, 136.10919189453125, 155.60498046875, 168.36708068847656, 166.48960876464844, 168.9093475341797, 180.00518798828125, 126.55077362060547, 125.80231475830078, 121.37168884277344, 122.88751983642578, 124.81375885009766, 107.98921203613281, 115.99041748046875, 104.99813842773438, 106.50033569335938, 8.033651351928711, 7.855987071990967, 6.023969650268555, 8.485697746276855, 31.399991989135742, 5.88999080657959, 5.024378776550293, 5.865259647369385, 4.97397518157959, 5.767788410186768, 5.731982707977295, 4.038806438446045, 4.023763179779053, 5.674548625946045, 4.844753742218018, 4.016280651092529, 5.6539764404296875, 4.017781734466553, 4.008594512939453, 3.993189573287964, 3.997025489807129, 3.9716217517852783, 16.812047958374023, 6.410569667816162, 3.9725146293640137, 3.8993372917175293, 3.8660969734191895, 4.67451286315918, 7.008107662200928, 6.234350681304932, 9.447542190551758, 7.073932647705078, 7.937685012817383, 47.446922302246094, 13.102507591247559, 9.669504165649414, 108.39805603027344, 232.07081604003906, 6.881096839904785, 7.626429557800293, 8.370671272277832, 64.41093444824219, 10.360461235046387, 102.5665512084961, 33.55867004394531, 16.17864418029785, 17.603891372680664, 15.221989631652832, 32.036441802978516, 59.024356842041016, 10.74757194519043, 58.27415466308594, 20.134469985961914, 46.9704475402832, 121.58146667480469, 14.31270980834961, 37.635459899902344, 38.39548873901367, 27.13347053527832, 56.29124069213867, 66.86346435546875, 21.5527286529541, 27.07577133178711, 32.341094970703125, 34.24932861328125, 151.66976928710938, 67.71456146240234, 56.34055709838867, 47.52708435058594, 154.58209228515625, 76.10343170166016, 74.81317138671875, 43.475372314453125, 227.06248474121094, 90.31952667236328, 250.20028686523438, 184.8076171875, 71.90320587158203, 132.7545166015625, 128.45242309570312, 181.83958435058594, 155.23629760742188, 83.44850158691406, 123.21309661865234, 86.4206314086914, 99.05743408203125, 102.36428833007812, 109.47720336914062, 137.7603759765625, 111.56596374511719, 95.2905502319336, 124.49501037597656, 94.54878997802734, 100.95442962646484, 90.75057220458984, 111.13404846191406, 96.3764419555664, 92.37120819091797, 90.8094711303711, 7.3238205909729, 5.714827537536621, 5.723973274230957, 4.753002166748047, 5.525663375854492, 3.850393533706665, 3.8315048217773438, 3.835867404937744, 3.832502841949463, 3.8252360820770264, 3.832745313644409, 3.8315658569335938, 3.7991816997528076, 3.7759392261505127, 6.659526348114014, 2.9026641845703125, 2.9013760089874268, 2.9023385047912598, 2.902801752090454, 2.902872323989868, 2.902024507522583, 2.8950586318969727, 2.896458387374878, 2.8896095752716064, 2.875985860824585, 2.8436429500579834, 2.8696107864379883, 3.5804011821746826, 2.8634257316589355, 2.865607261657715, 20.157516479492188, 4.247920513153076, 5.614541053771973, 7.510985851287842, 6.943441390991211, 5.509710311889648, 3.5589559078216553, 10.671271324157715, 4.763570785522461, 12.897895812988281, 73.77515411376953, 11.358376502990723, 4.142629623413086, 8.997121810913086, 7.743098735809326, 5.389103412628174, 67.8386459350586, 45.54640197753906, 13.09261417388916, 20.94551658630371, 15.31898021697998, 18.83871841430664, 23.97078514099121, 50.62478256225586, 9.70669937133789, 5.746109485626221, 114.36518859863281, 31.751670837402344, 18.485090255737305, 96.85848236083984, 21.426372528076172, 21.918821334838867, 24.598512649536133, 42.78510665893555, 62.698486328125, 29.303668975830078, 52.50508499145508, 27.924762725830078, 23.478221893310547, 96.71258544921875, 41.57883834838867, 119.6883544921875, 105.5894546508789, 91.76090240478516, 83.41780853271484, 101.60202026367188, 106.5293960571289, 71.32003784179688, 38.60466003417969, 61.09204864501953, 81.67256927490234, 69.90129852294922, 98.88575744628906, 62.877376556396484, 40.70676803588867, 77.3547592163086, 62.60022735595703, 84.9606704711914, 64.15827941894531, 71.57438659667969, 82.59342193603516, 56.761756896972656, 57.14936828613281, 61.21315383911133, 58.897727966308594, 60.634490966796875, 55.97899627685547, 57.32874298095703, 87.38023376464844, 12.061263084411621, 32.08519744873047, 13.79574203491211, 10.774169921875, 19.375478744506836, 11.595894813537598, 7.699814796447754, 375.3810729980469, 17.106311798095703, 22.452373504638672, 55.25525665283203, 286.6761779785156, 20.9042911529541, 461.5069885253906, 5.141445636749268, 3.351597309112549, 27.48308753967285, 3.34822940826416, 3.3162641525268555, 3.3454604148864746, 3.3301355838775635, 3.327352523803711, 21.549928665161133, 3.2769975662231445, 3.3252193927764893, 138.23077392578125, 27.96355438232422, 3.243000030517578, 3.2318828105926514, 670.9960327148438, 297.71075439453125, 52.35558319091797, 39.232139587402344, 10.894028663635254, 8.142443656921387, 31.06827735900879, 290.9789123535156, 11.715680122375488, 52.86464309692383, 96.66142272949219, 78.99674224853516, 69.71735382080078, 38.850528717041016, 54.434730529785156, 131.30685424804688, 83.56958770751953, 95.33717346191406, 344.7298583984375, 217.2291717529297, 240.48690795898438, 80.7693862915039, 130.23223876953125, 208.73231506347656, 156.52975463867188, 125.0389633178711, 200.3665313720703, 181.1558380126953, 120.76129913330078, 143.72372436523438, 147.25537109375, 122.75912475585938, 95.9166488647461, 97.20726013183594, 112.11841583251953, 108.31403350830078, 90.2145767211914, 86.92198944091797, 7.036909580230713, 5.395336627960205, 5.28406286239624, 4.5362396240234375, 4.534548282623291, 3.632514238357544, 3.616032361984253, 3.566255569458008, 3.549422264099121, 5.70660924911499, 4.206580638885498, 2.7511768341064453, 2.74993634223938, 2.7484047412872314, 2.748382091522217, 2.747089385986328, 2.7430484294891357, 2.743176221847534, 2.743621826171875, 2.738895893096924, 2.7391178607940674, 2.7278850078582764, 2.7287826538085938, 2.7281486988067627, 2.7266457080841064, 2.7248246669769287, 2.6883702278137207, 2.7148280143737793, 2.6903116703033447, 2.6260035037994385, 5.305099010467529, 4.527204990386963, 7.5210490226745605, 15.004782676696777, 4.5478997230529785, 5.092401027679443, 6.642840385437012, 5.020981788635254, 7.2128214836120605, 4.870538234710693, 41.54368591308594, 4.404191493988037, 28.34670066833496, 5.236669540405273, 6.457662105560303, 4.278097152709961, 12.590258598327637, 16.94780158996582, 5.34976053237915, 6.9278717041015625, 27.769006729125977, 175.6769561767578, 17.686731338500977, 44.38679504394531, 18.148218154907227, 30.805252075195312, 45.21736145019531, 122.58131408691406, 14.351786613464355, 39.844886779785156, 48.84858703613281, 99.79248046875, 42.46347427368164, 58.51302719116211, 81.28372955322266, 56.8115348815918, 65.6419906616211, 29.352760314941406, 58.75712585449219, 61.83876419067383, 46.708614349365234, 61.53583526611328, 30.8499755859375, 72.27723693847656, 61.0726432800293, 43.8342399597168, 39.18036651611328, 31.72857093811035, 41.53834533691406, 33.8363037109375, 73.8592300415039, 49.30303192138672, 71.42900085449219, 39.51755905151367, 51.268898010253906, 41.658843994140625, 50.341251373291016, 61.01231384277344, 53.13604736328125, 46.46750259399414, 56.60198211669922, 49.56040573120117, 46.49476623535156, 46.23691940307617, 46.0503044128418, 44.575199127197266, 10.307093620300293, 20.862634658813477, 5.531176567077637, 3.8139595985412598, 8.477693557739258, 3.7422590255737305, 4.456749439239502, 3.6538610458374023, 2.8769166469573975, 2.8711564540863037, 2.858057737350464, 2.8710198402404785, 2.8659634590148926, 2.8670668601989746, 2.8667004108428955, 2.8656063079833984, 2.8522188663482666, 2.8404483795166016, 2.8513925075531006, 2.837933301925659, 2.8416616916656494, 3.5833494663238525, 2.8242027759552, 2.7840659618377686, 2.799283742904663, 2.7631492614746094, 2.780132532119751, 5.624461650848389, 3.4504036903381348, 6.934037685394287, 92.98078918457031, 4.757247447967529, 74.36489868164062, 4.1736602783203125, 4.592750549316406, 8.029678344726562, 14.000048637390137, 28.942655563354492, 8.928268432617188, 7.823887825012207, 25.83250617980957, 21.408939361572266, 9.30099868774414, 8.796234130859375, 5.593894958496094, 12.497042655944824, 37.81591796875, 46.27757263183594, 39.94091033935547, 17.534032821655273, 40.16157531738281, 10.826528549194336, 68.83198547363281, 17.303295135498047, 11.441390991210938, 16.927099227905273, 52.57806396484375, 153.3835906982422, 126.41194915771484, 73.24287414550781, 46.002037048339844, 57.0612678527832, 67.02439880371094, 39.4495849609375, 69.11283874511719, 82.57435607910156, 62.916133880615234, 74.12263488769531, 85.75555419921875, 57.398380279541016, 88.13623809814453, 60.09269332885742, 74.99551391601562, 57.044288635253906, 64.00898742675781, 76.9240493774414, 55.020973205566406, 54.28538513183594, 55.97190856933594, 48.14939498901367, 60.25998306274414, 52.76118850708008, 56.452457427978516, 48.257808685302734, 49.3123893737793, 48.17775344848633, 4.324140548706055, 3.4848790168762207, 3.4848499298095703, 3.4777936935424805, 2.6148746013641357, 3.2112438678741455, 1.7766246795654297, 1.7762433290481567, 1.7758582830429077, 1.7754238843917847, 1.7749656438827515, 1.7744836807250977, 1.774843454360962, 1.7719109058380127, 1.7695618867874146, 1.7698519229888916, 1.7680777311325073, 1.7677891254425049, 3.4879889488220215, 1.763951063156128, 1.7566553354263306, 1.7560747861862183, 1.7500845193862915, 1.7592504024505615, 1.748175024986267, 1.7562733888626099, 1.7566450834274292, 1.746621012687683, 1.728049635887146, 1.7331873178482056, 4.123983383178711, 4.15662145614624, 3.1551153659820557, 6.531933784484863, 2.615835189819336, 3.2272298336029053, 5.7144856452941895, 2.5716512203216553, 22.22576141357422, 4.310575485229492, 7.939581871032715, 14.690996170043945, 7.5133795738220215, 13.550976753234863, 2.440812587738037, 3.232633352279663, 2.424570322036743, 15.876524925231934, 5.228111267089844, 35.359825134277344, 22.712448120117188, 6.441993236541748, 2.913550853729248, 54.64189147949219, 43.3035888671875, 6.4423298835754395, 15.85738468170166, 27.702356338500977, 13.955713272094727, 24.12105941772461, 23.044801712036133, 30.389341354370117, 22.588539123535156, 20.46854591369629, 21.622486114501953, 13.296125411987305, 19.843351364135742, 19.09962272644043, 19.206645965576172, 18.814403533935547, 10.87995433807373, 24.285432815551758, 16.11168670654297, 23.472904205322266, 15.76499080657959, 23.14518928527832, 21.9820613861084, 16.539880752563477, 19.274782180786133, 15.209752082824707, 21.036100387573242, 17.085844039916992, 16.068544387817383, 15.25353717803955, 2.580693244934082, 2.566744804382324, 1.7436513900756836, 1.7429496049880981, 1.7409359216690063, 1.73928964138031, 1.7386322021484375, 1.7338600158691406, 1.729691982269287, 1.6903998851776123, 1.6131068468093872, 5.117324352264404, 1.7351934909820557, 4.101862907409668, 6.554549217224121, 1.7420680522918701, 1.722969651222229, 1.7147618532180786, 1.745222568511963, 1.7427016496658325, 1.7427316904067993, 1.735836386680603, 1.737967848777771, 1.740343451499939, 1.7353378534317017, 1.666994571685791, 1.7425785064697266, 1.6616040468215942, 2.583587646484375, 1.5515143871307373, 8.328396797180176, 2.5651025772094727, 5.396426677703857, 2.574526071548462, 4.64138650894165, 6.969166278839111, 4.824278831481934, 4.736287593841553, 3.6102585792541504, 18.122831344604492, 20.25347328186035, 2.5745439529418945, 25.365520477294922, 5.8115644454956055, 3.5208585262298584, 14.049890518188477, 21.175655364990234, 32.02777862548828, 8.53737735748291, 13.03966236114502, 21.318567276000977, 12.81014633178711, 22.484149932861328, 11.426323890686035, 16.812166213989258, 10.48828411102295, 15.473652839660645, 15.382707595825195, 12.718661308288574, 14.194568634033203, 18.336055755615234, 19.181472778320312, 14.721075057983398, 16.42579460144043, 13.371131896972656, 12.109249114990234, 17.76701545715332, 16.97449493408203, 13.507545471191406, 12.30935001373291, 13.66994857788086, 12.473084449768066, 14.188695907592773, 12.27363109588623, 12.742246627807617, 3.387857675552368, 2.5629820823669434, 2.5201408863067627, 1.7280323505401611, 1.7244449853897095, 1.6880719661712646, 4.025035381317139, 1.6985032558441162, 2.44937801361084, 1.7281895875930786, 2.9109890460968018, 1.420728325843811, 2.3390250205993652, 2.365175724029541, 1.7281436920166016, 1.7009605169296265, 1.7232707738876343, 1.5375713109970093, 1.720510721206665, 0.8870177268981934, 1.723076581954956, 2.5641801357269287, 3.408837080001831, 1.7241536378860474, 1.7053645849227905, 1.7159132957458496, 2.547764539718628, 1.4921046495437622, 1.7254897356033325, 1.7204337120056152, 1.716753602027893, 1.7190760374069214, 3.78184175491333, 3.7626891136169434, 2.440396547317505, 27.663774490356445, 10.837944984436035, 2.4440202713012695, 6.512646198272705, 3.912574291229248, 9.001531600952148, 47.686946868896484, 19.381832122802734, 9.244983673095703, 11.299005508422852, 9.234908103942871, 5.140683650970459, 5.859033584594727, 7.347704887390137, 17.754932403564453, 10.88345718383789, 8.560905456542969, 7.257756233215332, 8.348907470703125, 12.086160659790039, 11.719067573547363, 5.676724910736084, 13.509866714477539, 5.087525844573975, 19.201597213745117, 10.128684997558594, 14.812175750732422, 6.977290153503418, 10.88093090057373, 7.951496601104736, 17.700801849365234, 13.842061042785645, 11.918688774108887, 10.010862350463867, 13.034699440002441, 12.377350807189941, 11.9169282913208, 11.168900489807129, 10.161038398742676, 10.061820030212402, 10.667301177978516, 9.333561897277832, 8.79248332977295, 14.505753517150879, 2.0581796169281006, 5.6774492263793945, 1.4645816087722778, 1.4640469551086426, 1.4637949466705322, 1.46318519115448, 1.4578577280044556, 1.4547431468963623, 1.4427995681762695, 1.4184956550598145, 1.4232521057128906, 15.964277267456055, 2.7311527729034424, 2.1771762371063232, 3.395404577255249, 5.004199504852295, 1.4503575563430786, 1.4607592821121216, 1.4677186012268066, 1.4641207456588745, 1.4539769887924194, 2.1622869968414307, 0.7532439231872559, 1.4664818048477173, 1.4629303216934204, 1.448129653930664, 1.4479916095733643, 1.405286431312561, 2.07078218460083, 1.4381591081619263, 3.1923043727874756, 17.243228912353516, 2.8424952030181885, 2.1793019771575928, 2.760261058807373, 8.701481819152832, 2.179685354232788, 5.475807189941406, 27.439781188964844, 8.479320526123047, 7.012304306030273, 17.975685119628906, 34.381526947021484, 18.80697250366211, 11.27059268951416, 26.155176162719727, 6.36895751953125, 13.4932861328125, 8.412678718566895, 2.8067595958709717, 16.43770980834961, 9.178101539611816, 16.21799087524414, 16.9639892578125, 10.042475700378418, 12.486793518066406, 13.689262390136719, 15.467019081115723, 5.526080131530762, 12.078695297241211, 8.344188690185547, 12.791482925415039, 9.616695404052734, 10.102887153625488, 11.890745162963867, 11.300410270690918, 9.298789978027344, 9.99802303314209, 9.394329071044922, 8.910382270812988, 8.768875122070312, 8.727110862731934, 1.609442114830017, 1.6084705591201782, 1.5466690063476562, 3.938652992248535, 2.374415636062622, 2.305051565170288, 2.239370822906494, 1.5970525741577148, 1.5958894491195679, 1.6081794500350952, 1.6068702936172485, 1.6132912635803223, 1.607826590538025, 3.9532511234283447, 1.9908783435821533, 1.1351913213729858, 1.5371932983398438, 1.3941137790679932, 0.8322944045066833, 1.0190640687942505, 1.6121370792388916, 0.8294438123703003, 1.2871193885803223, 1.6103157997131348, 25.988679885864258, 0.8307161927223206, 0.8299556374549866, 2.3825135231018066, 0.8245334625244141, 0.8143368363380432, 2.3915481567382812, 1.6044520139694214, 37.62017822265625, 1.6105486154556274, 1.6077959537506104, 22.836977005004883, 2.191441059112549, 22.321746826171875, 4.131078243255615, 7.044734477996826, 4.399033546447754, 2.3906137943267822, 16.222986221313477, 3.7656033039093018, 5.033548831939697, 3.9540603160858154, 8.145979881286621, 22.040937423706055, 23.881099700927734, 14.912049293518066, 13.130790710449219, 6.299740314483643, 18.440536499023438, 8.716873168945312, 11.490954399108887, 4.86956262588501, 7.847506523132324, 8.934334754943848, 5.944579601287842, 6.755268096923828, 11.486705780029297, 12.331314086914062, 9.42189884185791, 8.263520240783691, 6.980194091796875, 9.07017993927002, 6.784309387207031, 10.735907554626465, 9.690483093261719, 8.39109992980957, 8.558672904968262, 9.885458946228027, 8.597805976867676, 7.912481784820557, 8.300190925598145, 7.703653812408447, 7.273917198181152, 2.3471734523773193, 2.343919038772583, 3.8780863285064697, 1.5820597410202026, 2.3477420806884766, 1.3572715520858765, 2.2819368839263916, 2.189772367477417, 1.5827550888061523, 1.5774823427200317, 1.1622167825698853, 1.5195646286010742, 1.5781599283218384, 3.0993850231170654, 1.5783114433288574, 2.3393161296844482, 3.1074769496917725, 0.8134449124336243, 1.4645575284957886, 8.979732513427734, 1.5774599313735962, 0.8149906992912292, 1.5760340690612793, 1.5842384099960327, 1.5742254257202148, 1.5752358436584473, 1.3025493621826172, 1.3024319410324097, 1.2601935863494873, 1.5801427364349365, 3.105131149291992, 2.3454434871673584, 6.092400074005127, 3.867413282394409, 3.143353223800659, 25.812824249267578, 5.73845911026001, 3.106212615966797, 7.859057903289795, 2.739811658859253, 4.638716697692871, 19.6192626953125, 4.28501558303833, 7.2245306968688965, 9.488276481628418, 4.579226970672607, 16.695711135864258, 9.19749927520752, 10.607420921325684, 16.367685317993164, 10.732706069946289, 11.71957778930664, 10.10720157623291, 9.209891319274902, 10.538029670715332, 7.027560234069824, 7.659274578094482, 7.40226411819458, 10.675103187561035, 6.499855041503906, 10.096424102783203, 10.194256782531738, 8.811787605285645, 8.774508476257324, 8.029025077819824, 7.0552873611450195, 7.407028675079346, 5.775716304779053, 6.2482428550720215, 6.770650386810303, 6.2709760665893555, 1.6107940673828125, 1.0921987295150757, 1.073038101196289, 1.048034429550171, 1.0684378147125244, 1.082444190979004, 1.623802661895752, 0.5667990446090698, 0.5642477869987488, 0.561016321182251, 0.5602188110351562, 0.5598371624946594, 0.5577576160430908, 0.5582466125488281, 0.5632660984992981, 0.5619787573814392, 0.5587500929832458, 0.5575672388076782, 0.5607666373252869, 0.5510407090187073, 0.5528372526168823, 0.5623654127120972, 0.5641219615936279, 0.5465214252471924, 0.5572695732116699, 0.5625621676445007, 0.542744517326355, 0.5621426105499268, 0.5533543229103088, 0.5619421601295471, 1.0894520282745361, 1.0924725532531738, 3.1068239212036133, 1.5726994276046753, 1.0636035203933716, 0.8002810478210449, 1.0872032642364502, 2.682335615158081, 12.376090049743652, 3.5204782485961914, 1.0174381732940674, 1.6105738878250122, 3.2078075408935547, 2.0239181518554688, 0.9524314403533936, 1.5248795747756958, 1.3854691982269287, 3.122934341430664, 1.0761196613311768, 1.6207666397094727, 1.0940157175064087, 1.5210050344467163, 2.259146213531494, 4.6926655769348145, 1.7797311544418335, 3.8648364543914795, 2.523160934448242, 4.983733654022217, 3.9598779678344727, 4.342318534851074, 3.80894136428833, 2.5333147048950195, 2.54643177986145, 3.6944668292999268, 2.159513473510742, 2.3613882064819336, 2.8282647132873535, 2.1553361415863037, 2.5300371646881104, 2.496687412261963, 2.1933810710906982, 2.2259464263916016, 2.4736101627349854, 2.1535871028900146, 2.3622829914093018, 2.2560946941375732, 2.1626577377319336, 0.872370183467865, 1.317830204963684, 0.45623984932899475, 0.4560488164424896, 0.4590652585029602, 0.4573467969894409, 0.4558146595954895, 0.45884576439857483, 0.4575326442718506, 0.4584510624408722, 0.4541928172111511, 0.45407769083976746, 0.45767343044281006, 0.4563732147216797, 0.4515607953071594, 0.45894595980644226, 0.45495250821113586, 0.4500572383403778, 0.4405125677585602, 0.4425939917564392, 0.4547475278377533, 0.4374857246875763, 0.4569554924964905, 0.45837393403053284, 0.45726096630096436, 0.4582234025001526, 0.4554402232170105, 0.45745769143104553, 0.4616889953613281, 0.8091160655021667, 0.8886944651603699, 0.887520968914032, 3.5003714561462402, 1.1828118562698364, 1.3353874683380127, 2.3142123222351074, 0.8382678627967834, 0.8789066076278687, 2.111114263534546, 0.8490753173828125, 3.616746187210083, 0.8638949990272522, 1.2891509532928467, 1.7129584550857544, 0.6585623025894165, 2.0638279914855957, 1.7262470722198486, 0.8527853488922119, 0.8877174258232117, 2.004326343536377, 0.8350310325622559, 0.7181057333946228, 2.0380351543426514, 0.8412371873855591, 0.9029364585876465, 1.644431471824646, 1.1800721883773804, 1.4133644104003906, 1.3934035301208496, 1.379881501197815, 1.363534927368164, 1.1848046779632568, 1.1784266233444214, 1.1754276752471924, 1.0738937854766846, 1.0586940050125122, 1.065901517868042, 1.035749912261963, 0.945901095867157, 0.9613292813301086, 0.9657769203186035, 0.9409490823745728, 0.9428514838218689], \"Total\": [917.0, 1690.0, 1543.0, 555.0, 581.0, 1299.0, 419.0, 1348.0, 408.0, 593.0, 1317.0, 391.0, 463.0, 927.0, 336.0, 1430.0, 1301.0, 662.0, 919.0, 905.0, 921.0, 683.0, 819.0, 1131.0, 1048.0, 479.0, 592.0, 604.0, 802.0, 616.0, 305.8189697265625, 322.49298095703125, 564.7681274414062, 216.08407592773438, 683.25, 415.686279296875, 88.51564025878906, 73.59376525878906, 144.31439208984375, 171.14279174804688, 70.58732604980469, 229.8236846923828, 194.10000610351562, 130.32046508789062, 57.623199462890625, 251.86236572265625, 41.69597625732422, 36.71657943725586, 102.41535186767578, 644.9181518554688, 89.50125122070312, 39.637821197509766, 179.08534240722656, 97.370849609375, 77.47682189941406, 49.64406967163086, 116.35157775878906, 48.632362365722656, 30.7042293548584, 36.69586181640625, 95.48454284667969, 112.84870910644531, 130.33544921875, 589.5971069335938, 306.4841003417969, 145.9024658203125, 314.09326171875, 383.0581970214844, 662.1876831054688, 350.9777526855469, 922.6052856445312, 927.4851684570312, 1543.438720703125, 593.5313720703125, 616.3394165039062, 277.4724426269531, 1301.5406494140625, 1430.906982421875, 1317.3697509765625, 827.5846557617188, 507.2674865722656, 619.035888671875, 802.1244506835938, 1348.7506103515625, 921.4520874023438, 1048.894775390625, 1690.6253662109375, 905.9041137695312, 519.5508422851562, 673.36181640625, 666.7484130859375, 870.3573608398438, 1131.551513671875, 7.563737392425537, 7.570532321929932, 73.57705688476562, 8.488640785217285, 29.644927978515625, 15.151773452758789, 6.601201057434082, 6.591146945953369, 5.635576248168945, 5.643002033233643, 5.630007266998291, 58.33757781982422, 5.5959062576293945, 5.58259916305542, 5.589264869689941, 5.609025478363037, 5.602451324462891, 5.618410587310791, 5.630350112915039, 5.625737190246582, 5.628401756286621, 5.638058185577393, 5.639154434204102, 12.151046752929688, 10.350024223327637, 4.679255962371826, 4.676573276519775, 4.680269718170166, 4.650571823120117, 4.677610874176025, 9.57573413848877, 39.77183151245117, 9.410181045532227, 7.576597213745117, 7.552383899688721, 18.218841552734375, 190.2627410888672, 145.47756958007812, 346.53155517578125, 15.972922325134277, 616.4132690429688, 19.763824462890625, 19.830636978149414, 83.80789184570312, 69.92171478271484, 36.46196365356445, 235.39913940429688, 41.734710693359375, 71.4554672241211, 581.27783203125, 130.67015075683594, 592.8975830078125, 47.08717727661133, 479.8180236816406, 1299.1732177734375, 744.653076171875, 210.84625244140625, 597.7562866210938, 313.7781982421875, 919.1859130859375, 386.7887878417969, 383.241455078125, 534.5098266601562, 1430.906982421875, 1690.6253662109375, 683.9288940429688, 921.4520874023438, 622.4244995117188, 819.1885986328125, 1131.551513671875, 1317.3697509765625, 1301.5406494140625, 1348.7506103515625, 1543.438720703125, 767.4232788085938, 905.9041137695312, 870.3573608398438, 927.4851684570312, 1048.894775390625, 641.4017944335938, 922.6052856445312, 576.4761962890625, 684.5890502929688, 8.862791061401367, 8.846820831298828, 6.858426094055176, 9.831117630004883, 36.4276123046875, 6.841537952423096, 5.848971366882324, 6.8619208335876465, 5.842898845672607, 6.839780330657959, 6.830641269683838, 4.845566749572754, 4.843856334686279, 6.834214687347412, 5.837721347808838, 4.843563556671143, 6.824724197387695, 4.849984645843506, 4.842188358306885, 4.8327412605285645, 4.841370105743408, 4.8273444175720215, 20.485816955566406, 7.812788963317871, 4.842498302459717, 4.834971904754639, 4.800584316253662, 5.813754081726074, 8.717432022094727, 7.7607951164245605, 11.78472900390625, 8.823408126831055, 9.92910385131836, 63.14228439331055, 16.706893920898438, 12.208861351013184, 159.6064453125, 391.26556396484375, 8.681087493896484, 9.7224702835083, 10.769789695739746, 103.40914916992188, 13.65910530090332, 174.49758911132812, 50.7655143737793, 22.492542266845703, 24.75596809387207, 21.201854705810547, 49.87120056152344, 103.27383422851562, 14.399126052856445, 106.14886474609375, 30.278553009033203, 83.731689453125, 271.7406311035156, 20.556110382080078, 68.73560333251953, 71.31067657470703, 46.285614013671875, 116.72626495361328, 149.70156860351562, 35.20948028564453, 48.333370208740234, 61.66147232055664, 67.3038101196289, 523.617431640625, 171.6415252685547, 138.6352996826172, 109.14602661132812, 604.8167114257812, 222.66773986816406, 225.08241271972656, 100.084228515625, 1299.1732177734375, 314.6824951171875, 1690.6253662109375, 1048.894775390625, 225.35972595214844, 622.4244995117188, 597.7562866210938, 1131.551513671875, 919.1859130859375, 297.1001281738281, 641.4017944335938, 342.2720031738281, 484.19097900390625, 576.4761962890625, 681.6895751953125, 1348.7506103515625, 767.4232788085938, 534.2245483398438, 1301.5406494140625, 531.2476806640625, 683.9288940429688, 487.1647644042969, 1430.906982421875, 819.1885986328125, 660.5588989257812, 744.653076171875, 8.373784065246582, 6.537129878997803, 6.547946929931641, 5.580911636352539, 6.547304630279541, 4.647469997406006, 4.640838623046875, 4.646845817565918, 4.645299911499023, 4.6370344161987305, 4.647098064422607, 4.647768974304199, 4.639072418212891, 4.641730785369873, 8.341440200805664, 3.6921818256378174, 3.6916518211364746, 3.69356107711792, 3.694561004638672, 3.694689989089966, 3.6945407390594482, 3.6915268898010254, 3.6945719718933105, 3.6905884742736816, 3.675168752670288, 3.6449034214019775, 3.6831307411193848, 4.61008358001709, 3.6899821758270264, 3.6935458183288574, 26.565120697021484, 5.542105197906494, 7.439146995544434, 10.18792724609375, 9.430082321166992, 7.526457786560059, 4.640556335449219, 15.850654602050781, 6.4212446212768555, 19.669757843017578, 141.06568908691406, 17.220203399658203, 5.530224800109863, 13.385557174682617, 11.329879760742188, 7.480452060699463, 142.31820678710938, 92.03425598144531, 23.387163162231445, 43.55430603027344, 29.56674575805664, 40.73627853393555, 57.17411804199219, 165.60763549804688, 17.178184509277344, 8.276263236999512, 604.8167114257812, 96.44937896728516, 44.61643981933594, 523.617431640625, 58.378150939941406, 60.531883239746094, 72.7583999633789, 175.85987854003906, 346.53155517578125, 101.34136199951172, 283.1176452636719, 97.16149139404297, 72.59868621826172, 870.3573608398438, 199.91615295410156, 1299.1732177734375, 1048.894775390625, 819.1885986328125, 744.653076171875, 1131.551513671875, 1301.5406494140625, 614.0709228515625, 189.54769897460938, 487.1647644042969, 927.4851684570312, 683.9288940429688, 1430.906982421875, 578.5516967773438, 220.5562286376953, 921.4520874023438, 576.4761962890625, 1317.3697509765625, 681.6895751953125, 919.1859130859375, 1348.7506103515625, 581.27783203125, 613.7542114257812, 827.5846557617188, 767.4232788085938, 1690.6253662109375, 627.5877075195312, 922.6052856445312, 93.13053894042969, 12.929019927978516, 34.69005584716797, 15.066247940063477, 11.797080993652344, 21.353364944458008, 12.848489761352539, 8.532733917236328, 419.4396667480469, 19.323509216308594, 25.74056625366211, 63.56309127807617, 336.2666931152344, 24.691814422607422, 555.9365234375, 6.268621921539307, 4.1385273933410645, 33.93720626831055, 4.136279582977295, 4.100985527038574, 4.13737678527832, 4.118562698364258, 4.119344711303711, 26.755359649658203, 4.071084022521973, 4.133881092071533, 172.73399353027344, 35.101749420166016, 4.087133884429932, 4.108241558074951, 917.037109375, 408.1881103515625, 72.60906982421875, 53.975135803222656, 14.322237968444824, 10.544538497924805, 43.215965270996094, 463.5210876464844, 15.696029663085938, 81.92296600341797, 157.90426635742188, 132.18128967285156, 117.8666000366211, 62.89284133911133, 95.31949615478516, 288.307373046875, 172.6436309814453, 229.12657165527344, 1543.438720703125, 802.1244506835938, 1317.3697509765625, 240.61399841308594, 565.4987182617188, 1348.7506103515625, 905.9041137695312, 593.5313720703125, 1690.6253662109375, 1430.906982421875, 666.7484130859375, 1131.551513671875, 1299.1732177734375, 827.5846557617188, 443.01214599609375, 519.5508422851562, 921.4520874023438, 1301.5406494140625, 619.035888671875, 475.1408386230469, 8.034770011901855, 6.2356858253479, 6.112945556640625, 5.339889049530029, 5.341240406036377, 4.44110107421875, 4.42720890045166, 4.432699203491211, 4.430324554443359, 7.175863265991211, 5.40427303314209, 3.543734073638916, 3.5433826446533203, 3.544194459915161, 3.544341802597046, 3.543440818786621, 3.5404884815216064, 3.541769504547119, 3.5425503253936768, 3.5383291244506836, 3.5428988933563232, 3.529681921005249, 3.5363361835479736, 3.5365867614746094, 3.535325288772583, 3.5373189449310303, 3.5028932094573975, 3.5374770164489746, 3.5291008949279785, 3.447471857070923, 7.209542751312256, 6.133018493652344, 10.8526611328125, 23.62611198425293, 6.284597396850586, 7.268669605255127, 9.986767768859863, 7.26071834564209, 11.7826509475708, 7.232345104217529, 107.89263916015625, 6.461162090301514, 73.26615142822266, 8.252567291259766, 10.9935302734375, 6.366909980773926, 27.442230224609375, 41.18280792236328, 8.817342758178711, 12.697979927062988, 102.05506896972656, 1690.6253662109375, 54.73173141479492, 231.66087341308594, 58.448875427246094, 137.10690307617188, 258.8261413574219, 1299.1732177734375, 41.25655746459961, 223.95570373535156, 328.210205078125, 1131.551513671875, 271.7406311035156, 484.19097900390625, 870.3573608398438, 469.3135681152344, 627.5877075195312, 149.70156860351562, 523.617431640625, 597.7562866210938, 364.4053649902344, 622.4244995117188, 171.6415252685547, 919.1859130859375, 683.9288940429688, 359.3158874511719, 297.1001281738281, 191.11947631835938, 342.2720031738281, 220.0008087158203, 1301.5406494140625, 534.2245483398438, 1430.906982421875, 330.0328063964844, 673.36181640625, 383.241455078125, 681.6895751953125, 1348.7506103515625, 905.9041137695312, 567.7528076171875, 1317.3697509765625, 921.4520874023438, 767.4232788085938, 802.1244506835938, 1048.894775390625, 578.5516967773438, 11.932748794555664, 24.21989631652832, 6.484188079833984, 4.614017963409424, 10.315759658813477, 4.610899925231934, 5.555779933929443, 4.597905158996582, 3.670745372772217, 3.667379856109619, 3.6509692668914795, 3.6683499813079834, 3.6665375232696533, 3.667985677719116, 3.6682770252227783, 3.668063163757324, 3.6530747413635254, 3.6411821842193604, 3.6646549701690674, 3.648312568664551, 3.6581838130950928, 4.615444660186768, 3.6618051528930664, 3.6188106536865234, 3.6581897735595703, 3.6334636211395264, 3.6705737113952637, 7.445659637451172, 4.591526508331299, 9.236127853393555, 124.26078796386719, 6.470084190368652, 122.76868438720703, 5.6479268074035645, 6.3169636726379395, 11.969023704528809, 23.24671173095703, 54.88547134399414, 14.11032772064209, 12.170696258544922, 53.609458923339844, 43.692928314208984, 15.709921836853027, 14.7437744140625, 8.439408302307129, 23.35210418701172, 97.38385772705078, 130.67015075683594, 113.34235382080078, 41.50926208496094, 141.06568908691406, 22.200027465820312, 346.53155517578125, 44.88789749145508, 25.066810607910156, 47.55575180053711, 291.6434326171875, 1690.6253662109375, 1299.1732177734375, 581.27783203125, 271.7406311035156, 398.30621337890625, 567.7957763671875, 222.34397888183594, 641.4017944335938, 921.4520874023438, 604.8167114257812, 927.4851684570312, 1348.7506103515625, 597.7562866210938, 1543.438720703125, 683.9288940429688, 1131.551513671875, 622.4244995117188, 870.3573608398438, 1430.906982421875, 616.3394165039062, 592.8975830078125, 767.4232788085938, 487.1647644042969, 1301.5406494140625, 819.1885986328125, 1317.3697509765625, 576.4761962890625, 919.1859130859375, 681.6895751953125, 5.161493301391602, 4.293868064880371, 4.294373035430908, 4.293648719787598, 3.4294919967651367, 4.313173294067383, 2.568889856338501, 2.5690324306488037, 2.568814516067505, 2.5686333179473877, 2.568915843963623, 2.5683016777038574, 2.5688974857330322, 2.5677220821380615, 2.5651259422302246, 2.5673606395721436, 2.56510853767395, 2.5673179626464844, 5.066402435302734, 2.5626184940338135, 2.553170680999756, 2.5529749393463135, 2.5452864170074463, 2.5637834072113037, 2.5483620166778564, 2.5625996589660645, 2.5634231567382812, 2.5524373054504395, 2.536036968231201, 2.5641016960144043, 6.115436553955078, 6.965672969818115, 5.291381359100342, 13.173053741455078, 4.27392578125, 5.679863929748535, 12.49294376373291, 4.380277156829834, 100.5789794921875, 10.297658920288086, 27.210418701171875, 83.80789184570312, 27.613431930541992, 80.12985229492188, 4.396642208099365, 7.178459167480469, 4.382277011871338, 112.04357147216797, 16.711151123046875, 479.8180236816406, 225.35972595214844, 26.5517635345459, 6.274497985839844, 1299.1732177734375, 1690.6253662109375, 32.41434097290039, 220.0008087158203, 767.4232788085938, 175.85987854003906, 641.4017944335938, 578.5516967773438, 1131.551513671875, 622.4244995117188, 534.5098266601562, 683.9288940429688, 205.42982482910156, 627.5877075195312, 581.27783203125, 597.7562866210938, 592.8975830078125, 121.28792572021484, 1348.7506103515625, 391.26556396484375, 1301.5406494140625, 383.241455078125, 1430.906982421875, 1317.3697509765625, 469.3135681152344, 870.3573608398438, 364.4053649902344, 1543.438720703125, 684.5890502929688, 534.2245483398438, 1048.894775390625, 3.3840699195861816, 3.380406618118286, 2.5377988815307617, 2.5379319190979004, 2.5371627807617188, 2.5372371673583984, 2.538142442703247, 2.532193899154663, 2.536294937133789, 2.4862146377563477, 2.415431499481201, 7.728187084197998, 2.968571424484253, 7.047791957855225, 11.489827156066895, 3.2496724128723145, 3.3706047534942627, 3.3668038845062256, 3.4316511154174805, 3.4321916103363037, 3.434072256088257, 3.473484516143799, 3.4792792797088623, 3.486633539199829, 3.5322792530059814, 3.3990941047668457, 3.6277377605438232, 3.5391845703125, 5.635519504547119, 3.4827709197998047, 21.093793869018555, 6.068770885467529, 16.711151123046875, 6.272294521331787, 15.21026611328125, 27.932903289794922, 16.166988372802734, 15.878429412841797, 10.8418607711792, 174.49758911132812, 225.35972595214844, 6.749817371368408, 391.26556396484375, 30.669279098510742, 12.204180717468262, 205.42982482910156, 597.7562866210938, 1690.6253662109375, 100.084228515625, 271.7406311035156, 870.3573608398438, 314.6824951171875, 1317.3697509765625, 259.30633544921875, 683.9288940429688, 222.66773986816406, 614.0709228515625, 622.4244995117188, 387.1756896972656, 523.617431640625, 1131.551513671875, 1348.7506103515625, 616.4132690429688, 919.1859130859375, 503.9638671875, 372.47222900390625, 1430.906982421875, 1299.1732177734375, 567.7528076171875, 440.8102111816406, 819.1885986328125, 576.4761962890625, 1301.5406494140625, 578.5516967773438, 905.9041137695312, 4.204449653625488, 3.364452362060547, 3.3566277027130127, 2.523371934890747, 2.5220041275024414, 2.487755298614502, 5.960022449493408, 2.5206594467163086, 3.913533926010132, 3.0691637992858887, 5.193341255187988, 2.597593069076538, 4.285083770751953, 4.395351409912109, 3.230144739151001, 3.2393038272857666, 3.2906112670898438, 2.9640133380889893, 3.3835320472717285, 1.7503775358200073, 3.4042844772338867, 5.0729594230651855, 6.749817371368408, 3.417212963104248, 3.384345531463623, 3.411118745803833, 5.077436447143555, 2.984034538269043, 3.4655847549438477, 3.461463451385498, 3.461134433746338, 3.467195987701416, 8.19052791595459, 8.34703540802002, 5.225026607513428, 97.85100555419922, 32.72323226928711, 5.271881103515625, 21.1120548248291, 10.696752548217773, 35.73221969604492, 391.26556396484375, 109.14602661132812, 46.90341567993164, 73.26615142822266, 57.98899841308594, 21.958553314208984, 28.27497100830078, 46.285614013671875, 271.7406311035156, 106.14886474609375, 69.81829071044922, 49.95293426513672, 68.73560333251953, 159.6064453125, 149.70156860351562, 30.278553009033203, 235.39913940429688, 24.179428100585938, 1048.894775390625, 174.49758911132812, 534.2245483398438, 61.4177360534668, 248.7056884765625, 103.27383422851562, 1690.6253662109375, 870.3573608398438, 578.5516967773438, 339.82122802734375, 1299.1732177734375, 1348.7506103515625, 1301.5406494140625, 1131.551513671875, 684.5890502929688, 744.653076171875, 1430.906982421875, 469.3135681152344, 338.8743591308594, 17.82616424560547, 2.983577013015747, 8.53482723236084, 2.269653558731079, 2.269314765930176, 2.269986152648926, 2.269071578979492, 2.271308660507202, 2.26885986328125, 2.250365972518921, 2.257934331893921, 2.276494026184082, 25.932321548461914, 4.7178425788879395, 3.887686014175415, 6.4652628898620605, 9.594538688659668, 3.0495030879974365, 3.1326723098754883, 3.1626925468444824, 3.1854236125946045, 3.163614273071289, 4.704894542694092, 1.6414647102355957, 3.2089316844940186, 3.205634355545044, 3.1822335720062256, 3.215642213821411, 3.128840446472168, 4.777867317199707, 3.3316261768341064, 8.024130821228027, 54.88547134399414, 7.757533073425293, 5.8254008293151855, 8.33650016784668, 50.37518310546875, 6.13837194442749, 30.2939510345459, 593.5313720703125, 81.92296600341797, 61.94168472290039, 408.1881103515625, 1543.438720703125, 555.9365234375, 206.9088592529297, 1690.6253662109375, 69.92171478271484, 481.95428466796875, 161.22059631347656, 11.087121963500977, 827.5846557617188, 205.42982482910156, 917.037109375, 1048.894775390625, 296.3140869140625, 619.035888671875, 919.1859130859375, 1348.7506103515625, 62.89284133911133, 819.1885986328125, 259.30633544921875, 1301.5406494140625, 454.9284362792969, 613.7542114257812, 1299.1732177734375, 1430.906982421875, 518.0067138671875, 1131.551513671875, 1317.3697509765625, 641.4017944335938, 507.2674865722656, 502.06414794921875, 2.410128116607666, 2.411489725112915, 2.3940694332122803, 6.695430278778076, 4.191627502441406, 4.189350128173828, 4.1445136070251465, 3.1257717609405518, 3.27508282661438, 3.3039166927337646, 3.3065454959869385, 3.3494248390197754, 3.357050657272339, 8.360586166381836, 4.244375705718994, 2.4752583503723145, 3.3809545040130615, 3.400003433227539, 2.0637543201446533, 2.5303072929382324, 4.176699161529541, 2.178295850753784, 3.427772045135498, 4.291326522827148, 72.35559844970703, 2.340176820755005, 2.339069366455078, 6.753658294677734, 2.337754487991333, 2.335498332977295, 7.209194660186768, 4.887514114379883, 205.42982482910156, 5.0918731689453125, 5.129388809204102, 172.6436309814453, 7.906985759735107, 220.0008087158203, 19.691295623779297, 56.13530731201172, 26.76533317565918, 9.958913803100586, 383.241455078125, 23.827566146850586, 43.51534652709961, 27.359790802001953, 139.77378845214844, 1299.1732177734375, 1690.6253662109375, 627.5877075195312, 479.8180236816406, 92.03425598144531, 1348.7506103515625, 231.66087341308594, 488.9924621582031, 52.25896072387695, 218.14956665039062, 359.3158874511719, 109.68009185791016, 171.57522583007812, 919.1859130859375, 1301.5406494140625, 519.5508422851562, 342.2720031738281, 199.2181854248047, 534.2245483398438, 180.7728271484375, 1430.906982421875, 921.4520874023438, 535.7786865234375, 597.7562866210938, 1543.438720703125, 905.9041137695312, 567.7528076171875, 870.3573608398438, 484.19097900390625, 503.9638671875, 3.15193247795105, 3.152323007583618, 5.786867141723633, 2.3820035457611084, 3.990527391433716, 2.3958683013916016, 4.1004204750061035, 4.144615650177002, 3.219395399093628, 3.219266891479492, 2.406848669052124, 3.2231850624084473, 3.3481051921844482, 6.624943256378174, 3.3759117126464844, 5.020656108856201, 6.793484210968018, 1.8129889965057373, 3.2953951358795166, 21.75078773498535, 3.879554510116577, 2.0500149726867676, 4.038280487060547, 4.061574935913086, 4.07759428024292, 4.133531093597412, 3.496190071105957, 3.495976686477661, 3.406083583831787, 4.330660343170166, 8.716119766235352, 6.985458850860596, 21.331607818603516, 13.612385749816895, 11.52951431274414, 220.0008087158203, 27.932903289794922, 11.756141662597656, 50.49260330200195, 10.580815315246582, 27.18586540222168, 391.26556396484375, 27.32990264892578, 78.37891387939453, 159.6064453125, 42.61269760131836, 1299.1732177734375, 291.6434326171875, 469.3135681152344, 1690.6253662109375, 604.8167114257812, 927.4851684570312, 622.4244995117188, 488.9924621582031, 819.1885986328125, 207.70791625976562, 300.03076171875, 296.3140869140625, 1348.7506103515625, 191.8435516357422, 1301.5406494140625, 1430.906982421875, 905.9041137695312, 1131.551513671875, 919.1859130859375, 479.8180236816406, 683.9288940429688, 183.24993896484375, 455.23333740234375, 1317.3697509765625, 597.7562866210938, 2.451502561569214, 1.9104357957839966, 1.8946902751922607, 2.7617955207824707, 2.8738579750061035, 3.7174875736236572, 6.252222061157227, 2.2002577781677246, 2.203237771987915, 2.2078490257263184, 2.20841908454895, 2.2126991748809814, 2.2145402431488037, 2.2165589332580566, 2.2393040657043457, 2.237976312637329, 2.238499641418457, 2.2348101139068604, 2.2528629302978516, 2.22403883934021, 2.2326531410217285, 2.271925687789917, 2.2942447662353516, 2.225706100463867, 2.2724602222442627, 2.297077178955078, 2.225548505783081, 2.308689594268799, 2.2756752967834473, 2.3146233558654785, 4.659371376037598, 4.765875816345215, 20.857938766479492, 9.105545043945312, 5.650487899780273, 3.927037477493286, 6.400052070617676, 30.90003776550293, 581.27783203125, 100.5789794921875, 7.672567844390869, 20.01816749572754, 98.72798919677734, 36.48752212524414, 7.1441850662231445, 21.034976959228516, 17.150569915771484, 109.14602661132812, 10.3638334274292, 28.844762802124023, 11.606849670410156, 27.045166015625, 80.93202209472656, 592.8975830078125, 52.39936065673828, 662.1876831054688, 164.37908935546875, 1690.6253662109375, 927.4851684570312, 1317.3697509765625, 921.4520874023438, 212.99868774414062, 225.35972595214844, 1348.7506103515625, 112.9958267211914, 174.49758911132812, 616.3394165039062, 142.31820678710938, 393.1502380371094, 440.8102111816406, 223.95570373535156, 273.29022216796875, 819.1885986328125, 235.39913940429688, 1543.438720703125, 1299.1732177734375, 616.4132690429688, 2.6796083450317383, 4.9178266525268555, 2.0500149726867676, 2.0637543201446533, 2.135843276977539, 2.14093017578125, 2.1414575576782227, 2.171658515930176, 2.1762938499450684, 2.2213830947875977, 2.2119579315185547, 2.212026596069336, 2.2295708656311035, 2.2330076694488525, 2.2225496768951416, 2.266991376876831, 2.262789011001587, 2.2389142513275146, 2.2378129959106445, 2.261439800262451, 2.327561140060425, 2.258821487426758, 2.9640133380889893, 2.984034538269043, 3.0511040687561035, 3.066930055618286, 3.0511727333068848, 3.1626689434051514, 3.1969172954559326, 5.603569507598877, 8.488934516906738, 9.259808540344238, 97.85100555419922, 15.522026062011719, 24.92669105529785, 92.03425598144531, 12.170696258544922, 13.803688049316406, 141.06568908691406, 12.91296100616455, 1299.1732177734375, 16.76828956604004, 59.693756103515625, 172.99351501464844, 7.9695611000061035, 479.8180236816406, 254.643798828125, 23.691232681274414, 29.554553985595703, 905.9041137695312, 25.066810607910156, 13.663386344909668, 1690.6253662109375, 32.433067321777344, 52.93925476074219, 922.6052856445312, 199.45677185058594, 567.7957763671875, 578.5516967773438, 604.8167114257812, 614.0709228515625, 305.0079650878906, 660.5588989257812, 744.653076171875, 275.9845886230469, 297.1001281738281, 641.4017944335938, 593.5313720703125, 121.28792572021484, 364.4053649902344, 566.074951171875, 233.83340454101562, 341.09515380859375], \"Category\": [\"Default\", \"Default\", \"Default\", \"Default\", \"Default\", \"Default\", \"Default\", \"Default\", \"Default\", \"Default\", \"Default\", \"Default\", \"Default\", \"Default\", \"Default\", \"Default\", \"Default\", \"Default\", \"Default\", \"Default\", \"Default\", \"Default\", \"Default\", \"Default\", \"Default\", \"Default\", \"Default\", \"Default\", \"Default\", \"Default\", \"Topic1\", \"Topic1\", \"Topic1\", \"Topic1\", \"Topic1\", \"Topic1\", \"Topic1\", \"Topic1\", \"Topic1\", \"Topic1\", \"Topic1\", \"Topic1\", \"Topic1\", \"Topic1\", \"Topic1\", \"Topic1\", \"Topic1\", \"Topic1\", \"Topic1\", \"Topic1\", \"Topic1\", \"Topic1\", \"Topic1\", \"Topic1\", \"Topic1\", \"Topic1\", \"Topic1\", \"Topic1\", \"Topic1\", \"Topic1\", \"Topic1\", \"Topic1\", \"Topic1\", \"Topic1\", \"Topic1\", \"Topic1\", \"Topic1\", \"Topic1\", \"Topic1\", \"Topic1\", \"Topic1\", \"Topic1\", \"Topic1\", \"Topic1\", \"Topic1\", \"Topic1\", \"Topic1\", \"Topic1\", \"Topic1\", \"Topic1\", \"Topic1\", \"Topic1\", \"Topic1\", \"Topic1\", \"Topic1\", \"Topic1\", \"Topic1\", \"Topic1\", \"Topic1\", \"Topic1\", \"Topic1\", \"Topic1\", \"Topic1\", \"Topic2\", \"Topic2\", \"Topic2\", \"Topic2\", \"Topic2\", \"Topic2\", \"Topic2\", \"Topic2\", \"Topic2\", \"Topic2\", \"Topic2\", \"Topic2\", \"Topic2\", \"Topic2\", \"Topic2\", \"Topic2\", \"Topic2\", \"Topic2\", \"Topic2\", \"Topic2\", \"Topic2\", \"Topic2\", \"Topic2\", \"Topic2\", \"Topic2\", \"Topic2\", \"Topic2\", \"Topic2\", \"Topic2\", \"Topic2\", \"Topic2\", \"Topic2\", \"Topic2\", \"Topic2\", \"Topic2\", \"Topic2\", \"Topic2\", \"Topic2\", \"Topic2\", \"Topic2\", \"Topic2\", \"Topic2\", \"Topic2\", \"Topic2\", \"Topic2\", \"Topic2\", \"Topic2\", \"Topic2\", \"Topic2\", \"Topic2\", \"Topic2\", \"Topic2\", \"Topic2\", \"Topic2\", \"Topic2\", \"Topic2\", \"Topic2\", \"Topic2\", \"Topic2\", \"Topic2\", \"Topic2\", \"Topic2\", \"Topic2\", \"Topic2\", \"Topic2\", \"Topic2\", \"Topic2\", \"Topic2\", \"Topic2\", \"Topic2\", \"Topic2\", \"Topic2\", \"Topic2\", \"Topic2\", \"Topic2\", \"Topic2\", \"Topic2\", \"Topic2\", \"Topic2\", \"Topic2\", \"Topic2\", \"Topic2\", \"Topic2\", \"Topic3\", \"Topic3\", \"Topic3\", \"Topic3\", \"Topic3\", \"Topic3\", \"Topic3\", \"Topic3\", \"Topic3\", \"Topic3\", \"Topic3\", \"Topic3\", \"Topic3\", \"Topic3\", \"Topic3\", \"Topic3\", \"Topic3\", \"Topic3\", \"Topic3\", \"Topic3\", \"Topic3\", \"Topic3\", \"Topic3\", \"Topic3\", \"Topic3\", \"Topic3\", \"Topic3\", \"Topic3\", \"Topic3\", \"Topic3\", \"Topic3\", \"Topic3\", \"Topic3\", \"Topic3\", \"Topic3\", \"Topic3\", \"Topic3\", \"Topic3\", \"Topic3\", \"Topic3\", \"Topic3\", \"Topic3\", \"Topic3\", \"Topic3\", \"Topic3\", \"Topic3\", \"Topic3\", \"Topic3\", \"Topic3\", \"Topic3\", \"Topic3\", \"Topic3\", \"Topic3\", \"Topic3\", \"Topic3\", \"Topic3\", \"Topic3\", \"Topic3\", \"Topic3\", \"Topic3\", \"Topic3\", \"Topic3\", \"Topic3\", \"Topic3\", \"Topic3\", \"Topic3\", \"Topic3\", \"Topic3\", \"Topic3\", \"Topic3\", \"Topic3\", \"Topic3\", \"Topic3\", \"Topic3\", \"Topic3\", \"Topic3\", \"Topic3\", \"Topic3\", \"Topic3\", \"Topic3\", \"Topic3\", \"Topic3\", \"Topic3\", \"Topic3\", \"Topic3\", \"Topic3\", \"Topic3\", \"Topic3\", \"Topic3\", \"Topic3\", \"Topic3\", \"Topic3\", \"Topic3\", \"Topic3\", \"Topic3\", \"Topic3\", \"Topic3\", \"Topic3\", \"Topic3\", \"Topic4\", \"Topic4\", \"Topic4\", \"Topic4\", \"Topic4\", \"Topic4\", \"Topic4\", \"Topic4\", \"Topic4\", \"Topic4\", \"Topic4\", \"Topic4\", \"Topic4\", \"Topic4\", \"Topic4\", \"Topic4\", \"Topic4\", \"Topic4\", \"Topic4\", \"Topic4\", \"Topic4\", \"Topic4\", \"Topic4\", \"Topic4\", \"Topic4\", \"Topic4\", \"Topic4\", \"Topic4\", \"Topic4\", \"Topic4\", \"Topic4\", \"Topic4\", \"Topic4\", \"Topic4\", \"Topic4\", \"Topic4\", \"Topic4\", \"Topic4\", \"Topic4\", \"Topic4\", \"Topic4\", \"Topic4\", \"Topic4\", \"Topic4\", \"Topic4\", \"Topic4\", \"Topic4\", \"Topic4\", \"Topic4\", \"Topic4\", \"Topic4\", \"Topic4\", \"Topic4\", \"Topic4\", \"Topic4\", \"Topic4\", \"Topic4\", \"Topic4\", \"Topic4\", \"Topic4\", \"Topic4\", \"Topic4\", \"Topic4\", \"Topic4\", \"Topic4\", \"Topic4\", \"Topic4\", \"Topic4\", \"Topic4\", \"Topic4\", \"Topic4\", \"Topic4\", \"Topic4\", \"Topic4\", \"Topic4\", \"Topic4\", \"Topic4\", \"Topic4\", \"Topic4\", \"Topic4\", \"Topic4\", \"Topic4\", \"Topic4\", \"Topic4\", \"Topic4\", \"Topic4\", \"Topic4\", \"Topic4\", \"Topic4\", \"Topic4\", \"Topic4\", \"Topic4\", \"Topic4\", \"Topic4\", \"Topic4\", \"Topic4\", \"Topic4\", \"Topic4\", \"Topic5\", \"Topic5\", \"Topic5\", \"Topic5\", \"Topic5\", \"Topic5\", \"Topic5\", \"Topic5\", \"Topic5\", \"Topic5\", \"Topic5\", \"Topic5\", \"Topic5\", \"Topic5\", \"Topic5\", \"Topic5\", \"Topic5\", \"Topic5\", \"Topic5\", \"Topic5\", \"Topic5\", \"Topic5\", \"Topic5\", \"Topic5\", \"Topic5\", \"Topic5\", \"Topic5\", \"Topic5\", \"Topic5\", \"Topic5\", \"Topic5\", \"Topic5\", \"Topic5\", \"Topic5\", \"Topic5\", \"Topic5\", \"Topic5\", \"Topic5\", \"Topic5\", \"Topic5\", \"Topic5\", \"Topic5\", \"Topic5\", \"Topic5\", \"Topic5\", \"Topic5\", \"Topic5\", \"Topic5\", \"Topic5\", \"Topic5\", \"Topic5\", \"Topic5\", \"Topic5\", \"Topic5\", \"Topic5\", \"Topic5\", \"Topic5\", \"Topic5\", \"Topic5\", \"Topic5\", \"Topic5\", \"Topic5\", \"Topic5\", \"Topic5\", \"Topic5\", \"Topic5\", \"Topic5\", \"Topic5\", \"Topic6\", \"Topic6\", \"Topic6\", \"Topic6\", \"Topic6\", \"Topic6\", \"Topic6\", \"Topic6\", \"Topic6\", \"Topic6\", \"Topic6\", \"Topic6\", \"Topic6\", \"Topic6\", \"Topic6\", \"Topic6\", \"Topic6\", \"Topic6\", \"Topic6\", \"Topic6\", \"Topic6\", \"Topic6\", \"Topic6\", \"Topic6\", \"Topic6\", \"Topic6\", \"Topic6\", \"Topic6\", \"Topic6\", \"Topic6\", \"Topic6\", \"Topic6\", \"Topic6\", \"Topic6\", \"Topic6\", \"Topic6\", \"Topic6\", \"Topic6\", \"Topic6\", \"Topic6\", \"Topic6\", \"Topic6\", \"Topic6\", \"Topic6\", \"Topic6\", \"Topic6\", \"Topic6\", \"Topic6\", \"Topic6\", \"Topic6\", \"Topic6\", \"Topic6\", \"Topic6\", \"Topic6\", \"Topic6\", \"Topic6\", \"Topic6\", \"Topic6\", \"Topic6\", \"Topic6\", \"Topic6\", \"Topic6\", \"Topic6\", \"Topic6\", \"Topic6\", \"Topic6\", \"Topic6\", \"Topic6\", \"Topic6\", \"Topic6\", \"Topic6\", \"Topic6\", \"Topic6\", \"Topic6\", \"Topic6\", \"Topic6\", \"Topic6\", \"Topic6\", \"Topic6\", \"Topic6\", \"Topic6\", \"Topic6\", \"Topic6\", \"Topic6\", \"Topic6\", \"Topic6\", \"Topic6\", \"Topic6\", \"Topic6\", \"Topic6\", \"Topic6\", \"Topic6\", \"Topic6\", \"Topic6\", \"Topic6\", \"Topic6\", \"Topic7\", \"Topic7\", \"Topic7\", \"Topic7\", \"Topic7\", \"Topic7\", \"Topic7\", \"Topic7\", \"Topic7\", \"Topic7\", \"Topic7\", \"Topic7\", \"Topic7\", \"Topic7\", \"Topic7\", \"Topic7\", \"Topic7\", \"Topic7\", \"Topic7\", \"Topic7\", \"Topic7\", \"Topic7\", \"Topic7\", \"Topic7\", \"Topic7\", \"Topic7\", \"Topic7\", \"Topic7\", \"Topic7\", \"Topic7\", \"Topic7\", \"Topic7\", \"Topic7\", \"Topic7\", \"Topic7\", \"Topic7\", \"Topic7\", \"Topic7\", \"Topic7\", \"Topic7\", \"Topic7\", \"Topic7\", \"Topic7\", \"Topic7\", \"Topic7\", \"Topic7\", \"Topic7\", \"Topic7\", \"Topic7\", \"Topic7\", \"Topic7\", \"Topic7\", \"Topic7\", \"Topic7\", \"Topic7\", \"Topic7\", \"Topic7\", \"Topic7\", \"Topic7\", \"Topic7\", \"Topic7\", \"Topic7\", \"Topic7\", \"Topic7\", \"Topic7\", \"Topic7\", \"Topic7\", \"Topic7\", \"Topic7\", \"Topic7\", \"Topic7\", \"Topic7\", \"Topic7\", \"Topic7\", \"Topic7\", \"Topic7\", \"Topic7\", \"Topic7\", \"Topic7\", \"Topic7\", \"Topic7\", \"Topic7\", \"Topic7\", \"Topic7\", \"Topic7\", \"Topic7\", \"Topic8\", \"Topic8\", \"Topic8\", \"Topic8\", \"Topic8\", \"Topic8\", \"Topic8\", \"Topic8\", \"Topic8\", \"Topic8\", \"Topic8\", \"Topic8\", \"Topic8\", \"Topic8\", \"Topic8\", \"Topic8\", \"Topic8\", \"Topic8\", \"Topic8\", \"Topic8\", \"Topic8\", \"Topic8\", \"Topic8\", \"Topic8\", \"Topic8\", \"Topic8\", \"Topic8\", \"Topic8\", \"Topic8\", \"Topic8\", \"Topic8\", \"Topic8\", \"Topic8\", \"Topic8\", \"Topic8\", \"Topic8\", \"Topic8\", \"Topic8\", \"Topic8\", \"Topic8\", \"Topic8\", \"Topic8\", \"Topic8\", \"Topic8\", \"Topic8\", \"Topic8\", \"Topic8\", \"Topic8\", \"Topic8\", \"Topic8\", \"Topic8\", \"Topic8\", \"Topic8\", \"Topic8\", \"Topic8\", \"Topic8\", \"Topic8\", \"Topic8\", \"Topic8\", \"Topic8\", \"Topic8\", \"Topic8\", \"Topic8\", \"Topic8\", \"Topic8\", \"Topic8\", \"Topic8\", \"Topic8\", \"Topic8\", \"Topic8\", \"Topic8\", \"Topic8\", \"Topic8\", \"Topic8\", \"Topic8\", \"Topic8\", \"Topic8\", \"Topic8\", \"Topic8\", \"Topic8\", \"Topic8\", \"Topic8\", \"Topic8\", \"Topic8\", \"Topic9\", \"Topic9\", \"Topic9\", \"Topic9\", \"Topic9\", \"Topic9\", \"Topic9\", \"Topic9\", \"Topic9\", \"Topic9\", \"Topic9\", \"Topic9\", \"Topic9\", \"Topic9\", \"Topic9\", \"Topic9\", \"Topic9\", \"Topic9\", \"Topic9\", \"Topic9\", \"Topic9\", \"Topic9\", \"Topic9\", \"Topic9\", \"Topic9\", \"Topic9\", \"Topic9\", \"Topic9\", \"Topic9\", \"Topic9\", \"Topic9\", \"Topic9\", \"Topic9\", \"Topic9\", \"Topic9\", \"Topic9\", \"Topic9\", \"Topic9\", \"Topic9\", \"Topic9\", \"Topic9\", \"Topic9\", \"Topic9\", \"Topic9\", \"Topic9\", \"Topic9\", \"Topic9\", \"Topic9\", \"Topic9\", \"Topic9\", \"Topic9\", \"Topic9\", \"Topic9\", \"Topic9\", \"Topic9\", \"Topic9\", \"Topic9\", \"Topic9\", \"Topic9\", \"Topic9\", \"Topic9\", \"Topic9\", \"Topic9\", \"Topic9\", \"Topic9\", \"Topic9\", \"Topic9\", \"Topic9\", \"Topic9\", \"Topic9\", \"Topic9\", \"Topic9\", \"Topic9\", \"Topic9\", \"Topic9\", \"Topic10\", \"Topic10\", \"Topic10\", \"Topic10\", \"Topic10\", \"Topic10\", \"Topic10\", \"Topic10\", \"Topic10\", \"Topic10\", \"Topic10\", \"Topic10\", \"Topic10\", \"Topic10\", \"Topic10\", \"Topic10\", \"Topic10\", \"Topic10\", \"Topic10\", \"Topic10\", \"Topic10\", \"Topic10\", \"Topic10\", \"Topic10\", \"Topic10\", \"Topic10\", \"Topic10\", \"Topic10\", \"Topic10\", \"Topic10\", \"Topic10\", \"Topic10\", \"Topic10\", \"Topic10\", \"Topic10\", \"Topic10\", \"Topic10\", \"Topic10\", \"Topic10\", \"Topic10\", \"Topic10\", \"Topic10\", \"Topic10\", \"Topic10\", \"Topic10\", \"Topic10\", \"Topic10\", \"Topic10\", \"Topic10\", \"Topic10\", \"Topic10\", \"Topic10\", \"Topic10\", \"Topic10\", \"Topic10\", \"Topic10\", \"Topic10\", \"Topic10\", \"Topic10\", \"Topic10\", \"Topic10\", \"Topic10\", \"Topic10\", \"Topic10\", \"Topic10\", \"Topic10\", \"Topic10\", \"Topic10\", \"Topic10\", \"Topic10\", \"Topic10\", \"Topic10\", \"Topic10\", \"Topic10\", \"Topic10\", \"Topic10\", \"Topic10\", \"Topic10\", \"Topic11\", \"Topic11\", \"Topic11\", \"Topic11\", \"Topic11\", \"Topic11\", \"Topic11\", \"Topic11\", \"Topic11\", \"Topic11\", \"Topic11\", \"Topic11\", \"Topic11\", \"Topic11\", \"Topic11\", \"Topic11\", \"Topic11\", \"Topic11\", \"Topic11\", \"Topic11\", \"Topic11\", \"Topic11\", \"Topic11\", \"Topic11\", \"Topic11\", \"Topic11\", \"Topic11\", \"Topic11\", \"Topic11\", \"Topic11\", \"Topic11\", \"Topic11\", \"Topic11\", \"Topic11\", \"Topic11\", \"Topic11\", \"Topic11\", \"Topic11\", \"Topic11\", \"Topic11\", \"Topic11\", \"Topic11\", \"Topic11\", \"Topic11\", \"Topic11\", \"Topic11\", \"Topic11\", \"Topic11\", \"Topic11\", \"Topic11\", \"Topic11\", \"Topic11\", \"Topic11\", \"Topic11\", \"Topic11\", \"Topic11\", \"Topic11\", \"Topic11\", \"Topic11\", \"Topic11\", \"Topic11\", \"Topic11\", \"Topic11\", \"Topic11\", \"Topic11\", \"Topic11\", \"Topic11\", \"Topic11\", \"Topic11\", \"Topic11\", \"Topic11\", \"Topic11\", \"Topic11\", \"Topic12\", \"Topic12\", \"Topic12\", \"Topic12\", \"Topic12\", \"Topic12\", \"Topic12\", \"Topic12\", \"Topic12\", \"Topic12\", \"Topic12\", \"Topic12\", \"Topic12\", \"Topic12\", \"Topic12\", \"Topic12\", \"Topic12\", \"Topic12\", \"Topic12\", \"Topic12\", \"Topic12\", \"Topic12\", \"Topic12\", \"Topic12\", \"Topic12\", \"Topic12\", \"Topic12\", \"Topic12\", \"Topic12\", \"Topic12\", \"Topic12\", \"Topic12\", \"Topic12\", \"Topic12\", \"Topic12\", \"Topic12\", \"Topic12\", \"Topic12\", \"Topic12\", \"Topic12\", \"Topic12\", \"Topic12\", \"Topic12\", \"Topic12\", \"Topic12\", \"Topic12\", \"Topic12\", \"Topic12\", \"Topic12\", \"Topic12\", \"Topic12\", \"Topic12\", \"Topic12\", \"Topic12\", \"Topic12\", \"Topic12\", \"Topic12\", \"Topic12\", \"Topic12\", \"Topic12\", \"Topic12\", \"Topic12\", \"Topic12\", \"Topic12\", \"Topic12\", \"Topic12\", \"Topic12\", \"Topic12\", \"Topic12\", \"Topic12\", \"Topic12\", \"Topic12\", \"Topic12\", \"Topic12\", \"Topic12\", \"Topic12\", \"Topic12\", \"Topic13\", \"Topic13\", \"Topic13\", \"Topic13\", \"Topic13\", \"Topic13\", \"Topic13\", \"Topic13\", \"Topic13\", \"Topic13\", \"Topic13\", \"Topic13\", \"Topic13\", \"Topic13\", \"Topic13\", \"Topic13\", \"Topic13\", \"Topic13\", \"Topic13\", \"Topic13\", \"Topic13\", \"Topic13\", \"Topic13\", \"Topic13\", \"Topic13\", \"Topic13\", \"Topic13\", \"Topic13\", \"Topic13\", \"Topic13\", \"Topic13\", \"Topic13\", \"Topic13\", \"Topic13\", \"Topic13\", \"Topic13\", \"Topic13\", \"Topic13\", \"Topic13\", \"Topic13\", \"Topic13\", \"Topic13\", \"Topic13\", \"Topic13\", \"Topic13\", \"Topic13\", \"Topic13\", \"Topic13\", \"Topic13\", \"Topic13\", \"Topic13\", \"Topic13\", \"Topic13\", \"Topic13\", \"Topic13\", \"Topic13\", \"Topic13\", \"Topic13\", \"Topic13\", \"Topic13\", \"Topic13\", \"Topic13\", \"Topic13\", \"Topic13\", \"Topic13\", \"Topic13\", \"Topic13\", \"Topic13\", \"Topic13\", \"Topic13\", \"Topic13\", \"Topic14\", \"Topic14\", \"Topic14\", \"Topic14\", \"Topic14\", \"Topic14\", \"Topic14\", \"Topic14\", \"Topic14\", \"Topic14\", \"Topic14\", \"Topic14\", \"Topic14\", \"Topic14\", \"Topic14\", \"Topic14\", \"Topic14\", \"Topic14\", \"Topic14\", \"Topic14\", \"Topic14\", \"Topic14\", \"Topic14\", \"Topic14\", \"Topic14\", \"Topic14\", \"Topic14\", \"Topic14\", \"Topic14\", \"Topic14\", \"Topic14\", \"Topic14\", \"Topic14\", \"Topic14\", \"Topic14\", \"Topic14\", \"Topic14\", \"Topic14\", \"Topic14\", \"Topic14\", \"Topic14\", \"Topic14\", \"Topic14\", \"Topic14\", \"Topic14\", \"Topic14\", \"Topic14\", \"Topic14\", \"Topic14\", \"Topic14\", \"Topic14\", \"Topic14\", \"Topic14\", \"Topic14\", \"Topic14\", \"Topic14\", \"Topic14\", \"Topic14\", \"Topic14\", \"Topic14\", \"Topic14\", \"Topic14\", \"Topic14\", \"Topic14\", \"Topic14\", \"Topic14\", \"Topic14\", \"Topic14\", \"Topic14\", \"Topic14\", \"Topic14\", \"Topic14\", \"Topic14\", \"Topic14\", \"Topic14\", \"Topic14\", \"Topic14\", \"Topic15\", \"Topic15\", \"Topic15\", \"Topic15\", \"Topic15\", \"Topic15\", \"Topic15\", \"Topic15\", \"Topic15\", \"Topic15\", \"Topic15\", \"Topic15\", \"Topic15\", \"Topic15\", \"Topic15\", \"Topic15\", \"Topic15\", \"Topic15\", \"Topic15\", \"Topic15\", \"Topic15\", \"Topic15\", \"Topic15\", \"Topic15\", \"Topic15\", \"Topic15\", \"Topic15\", \"Topic15\", \"Topic15\", \"Topic15\", \"Topic15\", \"Topic15\", \"Topic15\", \"Topic15\", \"Topic15\", \"Topic15\", \"Topic15\", \"Topic15\", \"Topic15\", \"Topic15\", \"Topic15\", \"Topic15\", \"Topic15\", \"Topic15\", \"Topic15\", \"Topic15\", \"Topic15\", \"Topic15\", \"Topic15\", \"Topic15\", \"Topic15\", \"Topic15\", \"Topic15\", \"Topic15\", \"Topic15\", \"Topic15\", \"Topic15\", \"Topic15\", \"Topic15\", \"Topic15\", \"Topic15\", \"Topic15\", \"Topic15\", \"Topic15\", \"Topic15\", \"Topic15\", \"Topic15\", \"Topic15\", \"Topic15\", \"Topic15\", \"Topic15\", \"Topic15\", \"Topic15\"], \"logprob\": [30.0, 29.0, 28.0, 27.0, 26.0, 25.0, 24.0, 23.0, 22.0, 21.0, 20.0, 19.0, 18.0, 17.0, 16.0, 15.0, 14.0, 13.0, 12.0, 11.0, 10.0, 9.0, 8.0, 7.0, 6.0, 5.0, 4.0, 3.0, 2.0, 1.0, -5.88100004196167, -5.832200050354004, -5.27209997177124, -6.234399795532227, -5.083899974822998, -5.581500053405762, -7.1290998458862305, -7.313899993896484, -6.640600204467773, -6.470399856567383, -7.356299877166748, -6.176199913024902, -6.348499774932861, -6.748300075531006, -7.566100120544434, -6.09119987487793, -7.890399932861328, -8.018600463867188, -6.99370002746582, -5.154900074005127, -7.131199836730957, -7.945799827575684, -6.438300132751465, -7.048699855804443, -7.278800010681152, -7.724100112915039, -6.874899864196777, -7.747900009155273, -8.21030044555664, -8.034000396728516, -7.084799766540527, -6.920000076293945, -6.782199859619141, -5.334799766540527, -5.968900203704834, -6.6819000244140625, -6.019599914550781, -5.89900016784668, -5.499300003051758, -6.0721001625061035, -5.314000129699707, -5.319499969482422, -4.985799789428711, -5.711699962615967, -5.703800201416016, -6.3059000968933105, -5.239799976348877, -5.190000057220459, -5.263400077819824, -5.583600044250488, -5.915999889373779, -5.800600051879883, -5.668700218200684, -5.380899906158447, -5.692999839782715, -5.638800144195557, -5.454800128936768, -5.748899936676025, -5.967400074005127, -5.904699802398682, -5.909599781036377, -5.8871002197265625, -5.932199954986572, -8.883600234985352, -8.883999824523926, -6.610400199890137, -8.776300430297852, -7.528900146484375, -8.204099655151367, -9.03849983215332, -9.05270004272461, -9.218500137329102, -9.217499732971191, -9.220800399780273, -6.882999897003174, -9.227299690246582, -9.229700088500977, -9.228599548339844, -9.225199699401855, -9.226699829101562, -9.225299835205078, -9.22819995880127, -9.229999542236328, -9.229599952697754, -9.227999687194824, -9.229299545288086, -8.466300010681152, -8.640600204467773, -9.43649959564209, -9.43809986114502, -9.437800407409668, -9.446499824523926, -9.440999984741211, -8.726200103759766, -7.337399959564209, -8.772500038146973, -8.978799819946289, -8.982500076293945, -8.18850040435791, -6.162300109863281, -6.440100193023682, -5.759799957275391, -8.361200332641602, -5.413400173187256, -8.223899841308594, -8.224300384521484, -7.0920000076293945, -7.2434000968933105, -7.759900093078613, -6.318299770355225, -7.676199913024902, -7.2677998542785645, -5.71999979019165, -6.870800018310547, -5.82390022277832, -7.6407999992370605, -5.999499797821045, -5.310200214385986, -5.7179999351501465, -6.615300178527832, -5.930099964141846, -6.363500118255615, -5.649199962615967, -6.2505998611450195, -6.2692999839782715, -6.065899848937988, -5.48960018157959, -5.397900104522705, -5.9567999839782715, -5.796800136566162, -6.035999774932861, -5.879899978637695, -5.746099948883057, -5.667200088500977, -5.678500175476074, -5.664000034332275, -5.600399971008301, -5.9527997970581055, -5.958700180053711, -5.994500160217285, -5.982100009918213, -5.966599941253662, -6.111400127410889, -6.039899826049805, -6.139500141143799, -6.125199794769287, -8.560400009155273, -8.5826997756958, -8.848299980163574, -8.505599975585938, -7.197199821472168, -8.870800018310547, -9.02970027923584, -8.875, -9.039799690246582, -8.89169979095459, -8.89799976348877, -9.248100280761719, -9.251799583435059, -8.907999992370605, -9.066100120544434, -9.253700256347656, -8.911700248718262, -9.253299713134766, -9.255599975585938, -9.259400367736816, -9.258500099182129, -9.264800071716309, -7.821899890899658, -8.786100387573242, -9.264599800109863, -9.28320026397705, -9.291799545288086, -9.101900100708008, -8.696900367736816, -8.813899993896484, -8.398300170898438, -8.687600135803223, -8.572400093078613, -6.78439998626709, -8.071200370788574, -8.375, -5.958199977874756, -5.197000026702881, -8.715200424194336, -8.61240005493164, -8.51930046081543, -6.478700160980225, -8.305999755859375, -6.013500213623047, -7.13070011138916, -7.860300064086914, -7.775899887084961, -7.921299934387207, -7.17710018157959, -6.566100120544434, -8.26930046081543, -6.57889986038208, -7.641600131988525, -6.79449987411499, -5.843400001525879, -7.982900142669678, -7.01609992980957, -6.996099948883057, -7.343200206756592, -6.613500118255615, -6.441400051116943, -7.573500156402588, -7.345399856567383, -7.167699813842773, -7.110300064086914, -5.622300148010254, -6.428699970245361, -6.612599849700928, -6.782700061798096, -5.603300094604492, -6.3119001388549805, -6.328999996185303, -6.871799945831299, -5.218800067901611, -6.140699863433838, -5.121699810028076, -5.424699783325195, -6.36870002746582, -5.755499839782715, -5.78849983215332, -5.440899848937988, -5.599100112915039, -6.219799995422363, -5.830100059509277, -6.184800148010254, -6.048299789428711, -6.015500068664551, -5.948299884796143, -5.718500137329102, -5.9293999671936035, -6.087100028991699, -5.819699764251709, -6.094900131225586, -6.029300212860107, -6.135900020599365, -5.933300018310547, -6.075699806213379, -6.118199825286865, -6.135200023651123, -8.187100410461426, -8.435199737548828, -8.433600425720215, -8.619400024414062, -8.468799591064453, -8.829999923706055, -8.835000038146973, -8.833800315856934, -8.834699630737305, -8.836600303649902, -8.834600448608398, -8.83489990234375, -8.843400001525879, -8.849599838256836, -8.28219985961914, -9.112600326538086, -9.11299991607666, -9.112700462341309, -9.112500190734863, -9.112500190734863, -9.112799644470215, -9.11520004272461, -9.114700317382812, -9.11709976196289, -9.121800422668457, -9.133099555969238, -9.12399959564209, -8.902700424194336, -9.126199722290039, -9.125399589538574, -7.174600124359131, -8.731800079345703, -8.452899932861328, -8.16189956665039, -8.240400314331055, -8.471699714660645, -8.90880012512207, -7.810699939727783, -8.617199897766113, -7.621200084686279, -5.877200126647949, -7.748300075531006, -8.7568998336792, -7.981299877166748, -8.131400108337402, -8.493800163269043, -5.961100101470947, -6.359499931335449, -7.606200218200684, -7.136300086975098, -7.449100017547607, -7.242300033569336, -7.001399993896484, -6.253799915313721, -7.905399799346924, -8.429699897766113, -5.438799858093262, -6.720300197601318, -7.261300086975098, -5.605000019073486, -7.11359977722168, -7.09089994430542, -6.975500106811523, -6.421999931335449, -6.039899826049805, -6.80049991607666, -6.217299938201904, -6.848700046539307, -7.02209997177124, -5.606500148773193, -6.4506001472473145, -5.3933000564575195, -5.518700122833252, -5.658999919891357, -5.75439977645874, -5.557199954986572, -5.509799957275391, -5.910999774932861, -6.524799823760986, -6.065800189971924, -5.7754998207092285, -5.931099891662598, -5.5843000411987305, -6.0370001792907715, -6.471799850463867, -5.829800128936768, -6.041500091552734, -5.736000061035156, -6.016900062561035, -5.90749979019165, -5.7642998695373535, -6.139400005340576, -6.132599830627441, -6.063899993896484, -6.102399826049805, -6.073400020599365, -6.153200149536133, -6.12939977645874, -5.706200122833252, -7.686500072479248, -6.708099842071533, -7.552199840545654, -7.7993998527526855, -7.212500095367432, -7.725900173187256, -8.135299682617188, -4.248600006103516, -7.337100028991699, -7.065100193023682, -6.164599895477295, -4.518199920654297, -7.136600017547607, -4.041999816894531, -8.539199829101562, -8.967100143432617, -6.8628997802734375, -8.968099594116211, -8.977700233459473, -8.968899726867676, -8.97350025177002, -8.974300384521484, -7.106100082397461, -8.98960018157959, -8.975000381469727, -5.247600078582764, -6.845600128173828, -9.0, -9.003499984741211, -3.667799949645996, -4.480400085449219, -6.218500137329102, -6.506999969482422, -7.788300037384033, -8.079400062561035, -6.740300178527832, -4.503300189971924, -7.71560001373291, -6.208799839019775, -5.605299949645996, -5.80709981918335, -5.93209981918335, -6.5167999267578125, -6.179500102996826, -5.298999786376953, -5.750800132751465, -5.619100093841553, -4.333799839019775, -4.795599937438965, -4.693900108337402, -5.784900188446045, -5.307199954986572, -4.8354997634887695, -5.123300075531006, -5.347899913787842, -4.876399993896484, -4.977200031280518, -5.382699966430664, -5.208600044250488, -5.184299945831299, -5.366300106048584, -5.61299991607666, -5.599699974060059, -5.456999778747559, -5.491499900817871, -5.674300193786621, -5.71150016784668, -8.14780044555664, -8.41349983215332, -8.434300422668457, -8.586899757385254, -8.587300300598145, -8.809100151062012, -8.813599586486816, -8.827500343322754, -8.832200050354004, -8.357399940490723, -8.662300109863281, -9.086999893188477, -9.087400436401367, -9.088000297546387, -9.088000297546387, -9.088399887084961, -9.089900016784668, -9.089900016784668, -9.089699745178223, -9.091400146484375, -9.091400146484375, -9.095499992370605, -9.095100402832031, -9.095399856567383, -9.09589958190918, -9.096599578857422, -9.110099792480469, -9.100299835205078, -9.109299659729004, -9.133500099182129, -8.430299758911133, -8.588899612426758, -8.081299781799316, -7.390600204467773, -8.58430004119873, -8.471199989318848, -8.205499649047852, -8.485400199890137, -8.123100280761719, -8.515800476074219, -6.372200012207031, -8.616399765014648, -6.754499912261963, -8.443300247192383, -8.233699798583984, -8.645500183105469, -7.566100120544434, -7.268899917602539, -8.421899795532227, -8.163399696350098, -6.775100231170654, -4.930300235748291, -7.226200103759766, -6.306000232696533, -7.200399875640869, -6.671299934387207, -6.287499904632568, -5.290200233459473, -7.435100078582764, -6.414000034332275, -6.210299968719482, -5.4959001541137695, -6.350299835205078, -6.029699802398682, -5.701000213623047, -6.059299945831299, -5.91480016708374, -6.719600200653076, -6.025599956512451, -5.9745001792907715, -6.255099773406982, -5.979400157928467, -6.669899940490723, -5.81850004196167, -5.9868998527526855, -6.318600177764893, -6.430799961090088, -6.6417999267578125, -6.372399806976318, -6.577499866485596, -5.796800136566162, -6.201000213623047, -5.8302998542785645, -6.4222002029418945, -6.161900043487549, -6.369500160217285, -6.180200099945068, -5.9878997802734375, -6.126100063323975, -6.260200023651123, -6.062900066375732, -6.195799827575684, -6.259699821472168, -6.265200138092041, -6.2692999839782715, -6.301799774169922, -7.718800067901611, -7.013700008392334, -8.34119987487793, -8.713000297546387, -7.9141998291015625, -8.731900215148926, -8.55720043182373, -8.755800247192383, -8.99489974975586, -8.996899604797363, -9.001500129699707, -8.996999740600586, -8.998700141906738, -8.998299598693848, -8.998499870300293, -8.998800277709961, -9.003499984741211, -9.007699966430664, -9.003800392150879, -9.008600234985352, -9.007200241088867, -8.775300025939941, -9.013400077819824, -9.027700424194336, -9.022299766540527, -9.035300254821777, -9.02910041809082, -8.32450008392334, -8.81309986114502, -8.11520004272461, -5.519199848175049, -8.491999626159668, -5.742599964141846, -8.62279987335205, -8.527099609375, -7.968500137329102, -7.412600040435791, -6.686299800872803, -7.862400054931641, -7.9944000244140625, -6.800000190734863, -6.987800121307373, -7.821499824523926, -7.877299785614014, -8.329999923706055, -7.526100158691406, -6.418900012969971, -6.2170000076293945, -6.364200115203857, -7.1875, -6.358699798583984, -7.669600009918213, -5.820000171661377, -7.200699806213379, -7.6143999099731445, -7.222700119018555, -6.089300155639648, -5.018700122833252, -5.212100028991699, -5.757800102233887, -6.222899913787842, -6.007500171661377, -5.84660005569458, -6.3765997886657715, -5.815899848937988, -5.637899875640869, -5.909800052642822, -5.7459001541137695, -5.600100040435791, -6.0015997886657715, -5.572700023651123, -5.955699920654297, -5.7342000007629395, -6.007800102233887, -5.892600059509277, -5.708799839019775, -6.043900012969971, -6.057400226593018, -6.026800155639648, -6.177299976348877, -5.953000068664551, -6.085899829864502, -6.018199920654297, -6.175099849700928, -6.153500080108643, -6.176700115203857, -7.494999885559082, -7.7108001708984375, -7.7108001708984375, -7.712800025939941, -7.998000144958496, -7.792600154876709, -8.384499549865723, -8.384699821472168, -8.384900093078613, -8.385199546813965, -8.38539981842041, -8.385700225830078, -8.385499954223633, -8.387200355529785, -8.388500213623047, -8.388299942016602, -8.389300346374512, -8.38949966430664, -7.70989990234375, -8.39169979095459, -8.39579963684082, -8.396100044250488, -8.399499893188477, -8.39430046081543, -8.40060043334961, -8.395999908447266, -8.39579963684082, -8.40149974822998, -8.412199974060059, -8.409199714660645, -7.542399883270264, -7.5345001220703125, -7.810200214385986, -7.082499980926514, -7.997600078582764, -7.787600040435791, -7.21619987487793, -8.014699935913086, -5.857999801635742, -7.4980998039245605, -6.88730001449585, -6.271999835968018, -6.942500114440918, -6.352799892425537, -8.066900253295898, -7.785900115966797, -8.073599815368652, -6.194399833679199, -7.305200099945068, -5.393599987030029, -5.836299896240234, -7.096399784088135, -7.889800071716309, -4.958399772644043, -5.190999984741211, -7.09630012512207, -6.1956000328063965, -5.637700080871582, -6.323299884796143, -5.776100158691406, -5.821800231933594, -5.545100212097168, -5.841800212860107, -5.940299987792969, -5.885499954223633, -6.371699810028076, -5.97130012512207, -6.009500026702881, -6.004000186920166, -6.024600028991699, -6.572299957275391, -5.7692999839782715, -6.179699897766113, -5.803400039672852, -6.201399803161621, -5.817399978637695, -5.86899995803833, -6.15339994430542, -6.000400066375732, -6.237299919128418, -5.913000106811523, -6.120999813079834, -6.182300090789795, -6.234399795532227, -7.775000095367432, -7.780399799346924, -8.167099952697754, -8.167499542236328, -8.168700218200684, -8.169599533081055, -8.170000076293945, -8.172699928283691, -8.175100326538086, -8.198100090026855, -8.24489974975586, -7.0904998779296875, -8.17199993133545, -7.311600208282471, -6.842899799346924, -8.168000221252441, -8.178999900817871, -8.183799743652344, -8.166199684143066, -8.16759967803955, -8.16759967803955, -8.171600341796875, -8.17039966583252, -8.168999671936035, -8.171899795532227, -8.2121000289917, -8.167699813842773, -8.215299606323242, -7.773900032043457, -8.283900260925293, -6.603400230407715, -7.781099796295166, -7.037399768829346, -7.777400016784668, -7.1880998611450195, -6.781599998474121, -7.149400234222412, -7.167799949645996, -7.439300060272217, -5.825900077819824, -5.714799880981445, -7.777400016784668, -5.489699840545654, -6.963200092315674, -7.464399814605713, -6.08050012588501, -5.670199871063232, -5.256499767303467, -6.57859992980957, -6.155099868774414, -5.66349983215332, -6.172800064086914, -5.610300064086914, -6.287199974060059, -5.901000022888184, -6.372799873352051, -5.98390007019043, -5.989799976348877, -6.179999828338623, -6.070199966430664, -5.814199924468994, -5.769100189208984, -6.03380012512207, -5.924200057983398, -6.130000114440918, -6.229100227355957, -5.845699787139893, -5.89139986038208, -6.119800090789795, -6.212699890136719, -6.107900142669678, -6.19950008392334, -6.0706000328063965, -6.21560001373291, -6.178199768066406, -7.30679988861084, -7.5858001708984375, -7.602700233459473, -7.980000019073486, -7.982100009918213, -8.003399848937988, -7.134399890899658, -7.997200012207031, -7.631100177764893, -7.979899883270264, -7.458499908447266, -8.175800323486328, -7.677199840545654, -7.666100025177002, -7.979899883270264, -7.995800018310547, -7.982699871063232, -8.096799850463867, -7.984399795532227, -8.646900177001953, -7.982900142669678, -7.585299968719482, -7.300600051879883, -7.9822001457214355, -7.993199825286865, -7.986999988555908, -7.591800212860107, -8.126799583435059, -7.981500148773193, -7.984399795532227, -7.986499786376953, -7.985199928283691, -7.196800231933594, -7.2017998695373535, -7.634799957275391, -5.2067999839782715, -6.143899917602539, -7.633299827575684, -6.653200149536133, -7.162799835205078, -6.329599857330322, -4.662300109863281, -5.562600135803223, -6.3028998374938965, -6.10230016708374, -6.303999900817871, -6.889800071716309, -6.758999824523926, -6.532599925994873, -5.650300025939941, -6.139699935913086, -6.379799842834473, -6.544899940490723, -6.404799938201904, -6.034900188446045, -6.065800189971924, -6.790599822998047, -5.923600196838379, -6.900199890136719, -5.572000026702881, -6.211599826812744, -5.831500053405762, -6.5843000411987305, -6.139999866485596, -6.45359992980957, -5.65339994430542, -5.8993000984191895, -6.048900127410889, -6.223299980163574, -5.959400177001953, -6.011099815368652, -6.048999786376953, -6.113800048828125, -6.208399772644043, -6.218200206756592, -6.159800052642822, -6.293399810791016, -6.353099822998047, -5.65749979019165, -7.610199928283691, -6.5954999923706055, -7.950500011444092, -7.950799942016602, -7.951000213623047, -7.951399803161621, -7.955100059509277, -7.957200050354004, -7.965400218963623, -7.982399940490723, -7.979100227355957, -5.561699867248535, -7.327300071716309, -7.553999900817871, -7.109600067138672, -6.721700191497803, -7.96019983291626, -7.953100204467773, -7.948299884796143, -7.950799942016602, -7.957699775695801, -7.5609002113342285, -8.615400314331055, -7.94920015335083, -7.951600074768066, -7.961699962615967, -7.9618000984191895, -7.991799831390381, -7.604100227355957, -7.968699932098389, -7.171299934387207, -5.484600067138672, -7.287300109863281, -7.552999973297119, -7.316699981689453, -6.168499946594238, -7.552800178527832, -6.631700038909912, -5.019999980926514, -6.194399833679199, -6.384399890899658, -5.442999839782715, -4.79449987411499, -5.397799968719482, -5.909800052642822, -5.067999839782715, -6.480599880218506, -5.729800224304199, -6.202300071716309, -7.300000190734863, -5.532400131225586, -6.115200042724609, -5.545899868011475, -5.500899791717529, -6.025199890136719, -5.807400226593018, -5.715400218963623, -5.593299865722656, -6.622499942779541, -5.84060001373291, -6.2104997634887695, -5.783199787139893, -6.06850004196167, -6.019199848175049, -5.856299877166748, -5.907199859619141, -6.102099895477295, -6.029600143432617, -6.091899871826172, -6.144800186157227, -6.160799980163574, -6.165599822998047, -7.740699768066406, -7.741300106048584, -7.7804999351501465, -6.845699787139893, -7.351799964904785, -7.381499767303467, -7.410399913787842, -7.7484002113342285, -7.749199867248535, -7.741499900817871, -7.742300033569336, -7.73829984664917, -7.741700172424316, -6.8420000076293945, -7.5279998779296875, -8.089799880981445, -7.786600112915039, -7.884300231933594, -8.400199890136719, -8.197699546813965, -7.738999843597412, -8.403599739074707, -7.964200019836426, -7.740200042724609, -4.958899974822998, -8.402099609375, -8.402999877929688, -7.348400115966797, -8.409500122070312, -8.42199993133545, -7.344600200653076, -7.743800163269043, -4.589000225067139, -7.739999771118164, -7.741700172424316, -5.088200092315674, -7.432000160217285, -5.111000061035156, -6.797999858856201, -6.2642998695373535, -6.735199928283691, -7.34499979019165, -5.430200099945068, -6.890699863433838, -6.600500106811523, -6.841800212860107, -6.119100093841553, -5.123700141906738, -5.043499946594238, -5.514400005340576, -5.641600131988525, -6.376100063323975, -5.302000045776367, -6.051300048828125, -5.775000095367432, -6.633600234985352, -6.156400203704834, -6.026700019836426, -6.434100151062012, -6.306300163269043, -5.775400161743164, -5.704400062561035, -5.973499774932861, -6.104700088500977, -6.273499965667725, -6.011600017547607, -6.302000045776367, -5.8429999351501465, -5.945400238037109, -6.089399814605713, -6.0696001052856445, -5.92549991607666, -6.065100193023682, -6.148099899291992, -6.100299835205078, -6.174900054931641, -6.2322998046875, -7.2631001472473145, -7.264500141143799, -6.761000156402588, -7.657599925994873, -7.262899875640869, -7.8109002113342285, -7.291299819946289, -7.332499980926514, -7.657199859619141, -7.6605000495910645, -7.966000080108643, -7.69789981842041, -7.660099983215332, -6.985099792480469, -7.659999847412109, -7.266499996185303, -6.982500076293945, -8.322799682617188, -7.734799861907959, -5.92140007019043, -7.6605000495910645, -8.320899963378906, -7.661399841308594, -7.656199932098389, -7.662600040435791, -7.661900043487549, -7.8520002365112305, -7.852099895477295, -7.8850998878479, -7.65880012512207, -6.98330020904541, -7.263899803161621, -6.309299945831299, -6.763700008392334, -6.9710001945495605, -4.865499973297119, -6.369100093841553, -6.982900142669678, -6.054699897766113, -7.108399868011475, -6.581900119781494, -5.139800071716309, -6.661200046539307, -6.138800144195557, -5.866300106048584, -6.594799995422363, -5.301199913024902, -5.89739990234375, -5.754799842834473, -5.321000099182129, -5.743000030517578, -5.655099868774414, -5.803100109100342, -5.896100044250488, -5.761300086975098, -6.166500091552734, -6.080399990081787, -6.114500045776367, -5.7484002113342285, -6.24459981918335, -5.804100036621094, -5.79449987411499, -5.940199851989746, -5.944499969482422, -6.033299922943115, -6.162600040435791, -6.113900184631348, -6.36269998550415, -6.283999919891357, -6.203700065612793, -6.280399799346924, -6.57859992980957, -6.967199802398682, -6.984899997711182, -7.008399963378906, -6.989200115203857, -6.976099967956543, -6.5706000328063965, -7.6230998039245605, -7.627600193023682, -7.633399963378906, -7.634799957275391, -7.635499954223633, -7.639200210571289, -7.638299942016602, -7.62939977645874, -7.6315999031066895, -7.637400150299072, -7.639500141143799, -7.633800029754639, -7.651299953460693, -7.6479997634887695, -7.63100004196167, -7.627799987792969, -7.6595001220703125, -7.640100002288818, -7.6305999755859375, -7.666500091552734, -7.63129997253418, -7.64709997177124, -7.631700038909912, -6.969699859619141, -6.966899871826172, -5.9217000007629395, -6.60260009765625, -6.99370002746582, -7.27810001373291, -6.971700191497803, -6.068699836730957, -4.539599895477295, -5.796800136566162, -7.038099765777588, -6.578800201416016, -5.889800071716309, -6.350299835205078, -7.104100227355957, -6.633399963378906, -6.729300022125244, -5.916600227355957, -6.98199987411499, -6.572400093078613, -6.9654998779296875, -6.636000156402588, -6.2403998374938965, -5.509300231933594, -6.478899955749512, -5.703400135040283, -6.129799842834473, -5.44920015335083, -5.679100036621094, -5.586900234222412, -5.7179999351501465, -6.125800132751465, -6.120699882507324, -5.748499870300293, -6.2855000495910645, -6.196100234985352, -6.015699863433838, -6.287399768829346, -6.127099990844727, -6.140399932861328, -6.269899845123291, -6.255199909210205, -6.149700164794922, -6.2881999015808105, -6.195700168609619, -6.241700172424316, -6.283999919891357, -6.771500110626221, -6.359000205993652, -7.4197001457214355, -7.420199871063232, -7.413599967956543, -7.417300224304199, -7.4207000732421875, -7.414000034332275, -7.416900157928467, -7.414899826049805, -7.424200057983398, -7.424499988555908, -7.416600227355957, -7.419400215148926, -7.429999828338623, -7.41379976272583, -7.422599792480469, -7.4334001541137695, -7.454800128936768, -7.450099945068359, -7.422999858856201, -7.461699962615967, -7.4182000160217285, -7.41510009765625, -7.417500019073486, -7.41540002822876, -7.421500205993652, -7.417099952697754, -7.407899856567383, -6.846799850463867, -6.752999782562256, -6.754300117492676, -5.3821001052856445, -6.467100143432617, -6.345799922943115, -5.795899868011475, -6.811399936676025, -6.764100074768066, -5.887800216674805, -6.798600196838379, -5.349400043487549, -6.781300067901611, -6.38100004196167, -6.096799850463867, -7.052700042724609, -5.910399913787842, -6.089099884033203, -6.794300079345703, -6.7540998458862305, -5.939700126647949, -6.815299987792969, -6.966100215911865, -5.922999858856201, -6.8078999519348145, -6.737100124359131, -6.137599945068359, -6.469399929046631, -6.289000034332275, -6.303299903869629, -6.313000202178955, -6.324900150299072, -6.465400218963623, -6.470799922943115, -6.473400115966797, -6.563700199127197, -6.578000068664551, -6.571199893951416, -6.599899768829346, -6.6905999183654785, -6.6743998527526855, -6.6697998046875, -6.695899963378906, -6.69379997253418], \"loglift\": [30.0, 29.0, 28.0, 27.0, 26.0, 25.0, 24.0, 23.0, 22.0, 21.0, 20.0, 19.0, 18.0, 17.0, 16.0, 15.0, 14.0, 13.0, 12.0, 11.0, 10.0, 9.0, 8.0, 7.0, 6.0, 5.0, 4.0, 3.0, 2.0, 1.0, 1.1066999435424805, 1.1023999452590942, 1.1021000146865845, 1.100600004196167, 1.0999000072479248, 1.0992000102996826, 1.0983999967575073, 1.0981999635696411, 1.0980000495910645, 1.0976999998092651, 1.0973999500274658, 1.0972000360488892, 1.0937999486923218, 1.0923999547958374, 1.0906000137329102, 1.090499997138977, 1.0898000001907349, 1.0887000560760498, 1.0879000425338745, 1.0865999460220337, 1.0851999521255493, 1.0850000381469727, 1.0844999551773071, 1.083400011062622, 1.0819000005722046, 1.0815999507904053, 1.0791000127792358, 1.0785000324249268, 1.0758999586105347, 1.0738999843597412, 1.0667999982833862, 1.0645999908447266, 1.0583000183105469, 0.996399998664856, 1.0164999961853027, 1.045799970626831, 0.9412999749183655, 0.8634999990463257, 0.7157999873161316, 0.7778000235557556, 0.5694000124931335, 0.5587000250816345, 0.382999986410141, 0.6128000020980835, 0.5830000042915344, 0.7789999842643738, 0.2994999885559082, 0.25459998846054077, 0.2639000117778778, 0.40849998593330383, 0.565500020980835, 0.48179998993873596, 0.3546000123023987, 0.12280000001192093, 0.19169999659061432, 0.11630000174045563, -0.1770000010728836, 0.15279999375343323, 0.490200012922287, 0.2937000095844269, 0.2985999882221222, 0.05469999834895134, -0.25290000438690186, 1.8036999702453613, 1.80239999294281, 1.801800012588501, 1.7956000566482544, 1.7925000190734863, 1.7884000539779663, 1.7848999500274658, 1.7721999883651733, 1.7630000114440918, 1.7626999616622925, 1.7618000507354736, 1.761299967765808, 1.761299967765808, 1.761299967765808, 1.761199951171875, 1.7611000537872314, 1.760699987411499, 1.7592999935150146, 1.7542999982833862, 1.7532000541687012, 1.7532000541687012, 1.753100037574768, 1.7516000270843506, 1.746999979019165, 1.7330000400543213, 1.7309999465942383, 1.7300000190734863, 1.7294000387191772, 1.7271000146865845, 1.7268999814987183, 1.7252000570297241, 1.6900999546051025, 1.6963000297546387, 1.7067999839782715, 1.7063000202178955, 1.6196999549865723, 1.2999000549316406, 1.2905000448226929, 1.1028000116348267, 1.5786000490188599, 0.8733000159263611, 1.5027999877929688, 1.4990999698638916, 1.1900999546051025, 1.2199000120162964, 1.3544000387191772, 0.9311000108718872, 1.3030999898910522, 1.173699975013733, 0.6254000067710876, 0.9671000242233276, 0.5016999840736389, 1.2178000211715698, 0.5376999974250793, 0.23100000619888306, 0.3797000050544739, 0.7441999912261963, 0.3873000144958496, 0.5985000133514404, 0.23800000548362732, 0.5020999908447266, 0.4925999939441681, 0.36329999566078186, -0.04500000178813934, -0.1200999990105629, 0.22599999606609344, 0.08789999783039093, 0.2409999966621399, 0.12240000069141388, -0.06679999828338623, -0.14000000059604645, -0.13910000026226044, -0.16030000150203705, -0.23160000145435333, 0.11479999870061874, -0.05700000002980232, -0.052799999713897705, -0.10400000214576721, -0.21140000224113464, 0.1356000006198883, -0.15649999678134918, 0.2142000049352646, 0.05660000070929527, 1.968400001525879, 1.9478000402450562, 1.936900019645691, 1.9193999767303467, 1.9180999994277954, 1.9169000387191772, 1.9146000146865845, 1.9097000360488892, 1.9055999517440796, 1.8961000442504883, 1.8912999629974365, 1.8845000267028809, 1.881100058555603, 1.8806999921798706, 1.8802000284194946, 1.8792999982833862, 1.8783999681472778, 1.8783999681472778, 1.8776999711990356, 1.8758000135421753, 1.875, 1.871500015258789, 1.86899995803833, 1.8688000440597534, 1.8686000108718872, 1.8515000343322754, 1.850100040435791, 1.8485000133514404, 1.8483999967575073, 1.847599983215332, 1.8456000089645386, 1.8456000089645386, 1.8428000211715698, 1.7807999849319458, 1.8236000537872314, 1.833400011062622, 1.6797000169754028, 1.5442999601364136, 1.8342000246047974, 1.823799967765808, 1.8145999908447266, 1.5931999683380127, 1.7901999950408936, 1.5351999998092651, 1.6526999473571777, 1.7371000051498413, 1.7257000207901, 1.7352999448776245, 1.6239999532699585, 1.507200002670288, 1.7740999460220337, 1.4668999910354614, 1.6585999727249146, 1.4884999990463257, 1.2623000144958496, 1.7045999765396118, 1.4643000364303589, 1.4474999904632568, 1.5325000286102295, 1.3372999429702759, 1.260599970817566, 1.5757999420166016, 1.4871000051498413, 1.4213000535964966, 1.3911000490188599, 0.8276000022888184, 1.1365000009536743, 1.166200041770935, 1.235200047492981, 0.7024000287055969, 0.9929999709129333, 0.9650999903678894, 1.232800006866455, 0.3224000036716461, 0.8184000253677368, 0.15600000321865082, 0.3303999900817871, 0.9241999983787537, 0.5214999914169312, 0.5289999842643738, 0.23839999735355377, 0.288100004196167, 0.7968000173568726, 0.41690000891685486, 0.6901999711990356, 0.4797999858856201, 0.33820000290870667, 0.2378000020980835, -0.21480000019073486, 0.13819999992847443, 0.3427000045776367, -0.28040000796318054, 0.34049999713897705, 0.1534000039100647, 0.38609999418258667, -0.4887000024318695, -0.07339999824762344, 0.09929999709129333, -0.03750000149011612, 2.398400068283081, 2.3980000019073486, 2.397900104522705, 2.371799945831299, 2.362799882888794, 2.3443000316619873, 2.3408000469207764, 2.34060001373291, 2.340100049972534, 2.339900016784668, 2.3396999835968018, 2.3392999172210693, 2.33270001411438, 2.3259999752044678, 2.3071999549865723, 2.291800022125244, 2.2915000915527344, 2.291300058364868, 2.2911999225616455, 2.2911999225616455, 2.2909998893737793, 2.289400100708008, 2.2890000343322754, 2.2876999378204346, 2.2871999740600586, 2.2841999530792236, 2.2827999591827393, 2.279599905014038, 2.2788000106811523, 2.278599977493286, 2.2564001083374023, 2.2664999961853027, 2.250999927520752, 2.22760009765625, 2.226300001144409, 2.2204999923706055, 2.2669999599456787, 2.136699914932251, 2.233799934387207, 2.1103999614715576, 1.8841999769210815, 2.116300106048584, 2.243499994277954, 2.1350998878479004, 2.1517999172210693, 2.2044999599456787, 1.7914999723434448, 1.8289999961853027, 1.952299952507019, 1.8003000020980835, 1.8747999668121338, 1.761199951171875, 1.663100004196167, 1.3472000360488892, 1.9615999460220337, 2.1675000190734863, 0.8669000267982483, 1.4213000535964966, 1.6512999534606934, 0.8449000120162964, 1.5300999879837036, 1.5166000127792358, 1.4479000568389893, 1.118899941444397, 0.8227999806404114, 1.291599988937378, 0.8474000096321106, 1.2855000495910645, 1.403499960899353, 0.3352000117301941, 0.9621000289916992, 0.1477999985218048, 0.23649999499320984, 0.3433000147342682, 0.3433000147342682, 0.12210000306367874, 0.029500000178813934, 0.37950000166893005, 0.941100001335144, 0.4562000036239624, 0.10260000079870224, 0.2515999972820282, -0.1396999955177307, 0.31310001015663147, 0.8425999879837036, 0.05490000173449516, 0.31220000982284546, -0.20880000293254852, 0.16920000314712524, -0.0203000009059906, -0.2606000006198883, 0.20600000023841858, 0.15850000083446503, -0.07169999927282333, -0.03480000048875809, -0.7955999970436096, 0.11550000309944153, -0.2460000067949295, 2.470400094985962, 2.464600086212158, 2.4560000896453857, 2.446000099182129, 2.4433999061584473, 2.4368999004364014, 2.43149995803833, 2.4314000606536865, 2.423099994659424, 2.4121999740600586, 2.39739990234375, 2.3940000534057617, 2.3745999336242676, 2.3675999641418457, 2.3480000495910645, 2.335900068283081, 2.323199987411499, 2.323199987411499, 2.322700023651123, 2.321700096130371, 2.3215999603271484, 2.3215999603271484, 2.3206000328063965, 2.317699909210205, 2.3171000480651855, 2.3164000511169434, 2.311300039291382, 2.30679988861084, 2.302799940109253, 2.2941999435424805, 2.2216999530792236, 2.2184998989105225, 2.2070999145507812, 2.215100049972534, 2.260499954223633, 2.275599956512451, 2.2040998935699463, 2.06850004196167, 2.2416000366210938, 2.096100091934204, 2.043299913406372, 2.0192999839782715, 2.009000062942505, 2.0524001121520996, 1.9738999605178833, 1.7475999593734741, 1.8085999488830566, 1.6572999954223633, 1.035099983215332, 1.2278000116348267, 0.8334000110626221, 1.4424999952316284, 1.0657000541687012, 0.6682000160217285, 0.7784000039100647, 0.9765999913215637, 0.40139999985694885, 0.4674000144004822, 0.8255000114440918, 0.4706999957561493, 0.35679998993873596, 0.6258000135421753, 1.003999948501587, 0.8579999804496765, 0.427700012922287, 0.04780000075697899, 0.6080999970436096, 0.8355000019073486, 2.4790000915527344, 2.466900110244751, 2.46589994430542, 2.448499917984009, 2.4479000568389893, 2.4107000827789307, 2.4091999530792236, 2.3940999507904053, 2.389899969100952, 2.382499933242798, 2.3610999584198, 2.3585000038146973, 2.358099937438965, 2.357300043106079, 2.357300043106079, 2.357100009918213, 2.3564000129699707, 2.356100082397461, 2.356100082397461, 2.3554999828338623, 2.354300022125244, 2.3540000915527344, 2.352400064468384, 2.352099895477295, 2.351900100708008, 2.3506999015808105, 2.3469998836517334, 2.34689998626709, 2.3401999473571777, 2.3394999504089355, 2.3048999309539795, 2.3080999851226807, 2.2448999881744385, 2.157599925994873, 2.2881999015808105, 2.2558000087738037, 2.203900098800659, 2.242799997329712, 2.1208999156951904, 2.2163000106811523, 1.6571999788284302, 2.2283999919891357, 1.6619999408721924, 2.1568000316619873, 2.0796000957489014, 2.2139999866485596, 1.8324999809265137, 1.7237000465393066, 2.111999988555908, 2.00570011138916, 1.309999942779541, 0.3474000096321106, 1.4819999933242798, 0.9592999815940857, 1.4421000480651855, 1.1186000108718872, 0.8669999837875366, 0.250900000333786, 1.5556999444961548, 0.885200023651123, 0.7067000269889832, 0.1834000051021576, 0.7554000020027161, 0.4984000027179718, 0.24070000648498535, 0.5001000165939331, 0.3540000021457672, 0.9824000000953674, 0.4242999851703644, 0.34299999475479126, 0.5572999715805054, 0.29760000109672546, 0.8953999876976013, 0.06870000064373016, 0.19580000638961792, 0.5077999830245972, 0.5856999754905701, 0.8159999847412109, 0.5026000142097473, 0.7394999861717224, -0.2574999928474426, 0.2287999987602234, -0.385699987411499, 0.48919999599456787, 0.036400001496076584, 0.39250001311302185, 0.005900000222027302, -0.48420000076293945, -0.22439999878406525, 0.10869999974966049, -0.5357000231742859, -0.3111000061035156, -0.19210000336170197, -0.2418999969959259, -0.5141000151634216, 0.04830000177025795, 2.512500047683716, 2.5097999572753906, 2.5, 2.468600034713745, 2.4628000259399414, 2.4502999782562256, 2.4386000633239746, 2.4291999340057373, 2.415299892425537, 2.4142000675201416, 2.414099931716919, 2.4138998985290527, 2.4126999378204346, 2.412600040435791, 2.412400007247925, 2.412100076675415, 2.4114999771118164, 2.410599946975708, 2.408099889755249, 2.4077999591827393, 2.406399965286255, 2.405900001525879, 2.3993000984191895, 2.3968000411987305, 2.391400098800659, 2.385200023651123, 2.3810999393463135, 2.378499984741211, 2.373300075531006, 2.372299909591675, 2.36899995803833, 2.3515000343322754, 2.1577000617980957, 2.3564999103546143, 2.3401999473571777, 2.2597999572753906, 2.151900053024292, 2.0190999507904053, 2.2012999057769775, 2.217099905014038, 1.9289000034332275, 1.9456000328063965, 2.1347999572753906, 2.1424999237060547, 2.24780011177063, 2.033799886703491, 1.7130999565124512, 1.621000051498413, 1.6160000562667847, 1.7971999645233154, 1.4026999473571777, 1.9408999681472778, 1.0427000522613525, 1.7057000398635864, 1.8746999502182007, 1.6260000467300415, 0.9458000063896179, 0.2590999901294708, 0.32910001277923584, 0.5874999761581421, 0.8827999830245972, 0.7159000039100647, 0.5223000049591064, 0.9297999739646912, 0.4311000108718872, 0.2467000037431717, 0.39590001106262207, 0.13220000267028809, -0.09640000015497208, 0.3158000111579895, -0.20389999449253082, 0.22699999809265137, -0.05490000173449516, 0.26919999718666077, 0.04910000041127205, -0.26429998874664307, 0.24289999902248383, 0.26820001006126404, 0.040800001472234726, 0.34470000863075256, -0.41359999775886536, -0.08349999785423279, -0.4909999966621399, 0.1785999983549118, -0.2662999927997589, 0.00930000003427267, 3.574399948120117, 3.5427000522613525, 3.5425000190734863, 3.5406999588012695, 3.4802000522613525, 3.456399917602539, 3.382699966430664, 3.3824000358581543, 3.3822999000549316, 3.3821001052856445, 3.381700038909912, 3.381700038909912, 3.3815999031066895, 3.380500078201294, 3.3801000118255615, 3.3794000148773193, 3.379300117492676, 3.3782999515533447, 3.3780999183654785, 3.3778998851776123, 3.377500057220459, 3.37719988822937, 3.376800060272217, 3.374799966812134, 3.374500036239624, 3.3736000061035156, 3.373500108718872, 3.371999979019165, 3.367799997329712, 3.359800100326538, 3.3573999404907227, 3.235100030899048, 3.2344000339508057, 3.0499000549316406, 3.260499954223633, 3.1861000061035156, 2.9693000316619873, 3.218899965286255, 2.2416999340057373, 2.8805999755859375, 2.519700050354004, 2.0100998878479004, 2.4498000144958496, 1.9742000102996826, 3.162899971008301, 2.9535999298095703, 3.1594998836517334, 1.7973999977111816, 2.589400053024292, 1.1435999870300293, 1.4565999507904053, 2.335200071334839, 2.984299898147583, 0.5827000141143799, 0.0868000015616417, 2.135699987411499, 1.121399998664856, 0.42989999055862427, 1.2175999879837036, 0.4708000123500824, 0.5282999873161316, 0.13420000672340393, 0.4352000057697296, 0.48899999260902405, 0.2973000109195709, 1.013800024986267, 0.29739999771118164, 0.3359000086784363, 0.31349998712539673, 0.3009999990463257, 1.3401999473571777, -0.2655999958515167, 0.5616000294685364, -0.2639999985694885, 0.5605000257492065, -0.37290000915527344, -0.3418000042438507, 0.4059000015258789, -0.05869999900460243, 0.5751000046730042, -0.5440999865531921, 0.06080000102519989, 0.2475000023841858, -0.47929999232292175, 3.7165000438690186, 3.7121999263763428, 3.6122000217437744, 3.611799955368042, 3.6108999252319336, 3.6098999977111816, 3.6092000007629395, 3.608799934387207, 3.60479998588562, 3.6017000675201416, 3.5838000774383545, 3.5752999782562256, 3.4505999088287354, 3.4463000297546387, 3.4261999130249023, 3.3640999794006348, 3.316499948501587, 3.3127999305725098, 3.3113999366760254, 3.309799909591675, 3.3092000484466553, 3.2939000129699707, 3.2934000492095947, 3.2927000522613525, 3.2767999172210693, 3.2750000953674316, 3.254300117492676, 3.2314000129699707, 3.2076001167297363, 3.1789000034332275, 3.058199882507324, 3.1263999938964844, 2.8571999073028564, 3.097100019454956, 2.800600051879883, 2.5992000102996826, 2.7781999111175537, 2.7778000831604004, 2.8879001140594482, 1.7228000164031982, 1.5781999826431274, 3.023699998855591, 1.2515000104904175, 2.3241000175476074, 2.744499921798706, 1.3049999475479126, 0.6471999883651733, 0.021299999207258224, 1.5260000228881836, 0.9506999850273132, 0.2782000005245209, 0.7861999869346619, -0.08299999684095383, 0.8654000163078308, 0.2818000018596649, 0.9320999979972839, 0.30660000443458557, 0.287200003862381, 0.5716999769210815, 0.37959998846054077, -0.13490000367164612, -0.265500009059906, 0.25290000438690186, -0.03709999844431877, 0.3580999970436096, 0.5612999796867371, -0.40119999647140503, -0.35019999742507935, 0.249099999666214, 0.4092999994754791, -0.10559999942779541, 0.1542000025510788, -0.5313000082969666, 0.13449999690055847, -0.27649998664855957, 3.9677000045776367, 3.911600112915039, 3.8970000743865967, 3.805000066757202, 3.803499937057495, 3.7959001064300537, 3.791100025177002, 3.7888998985290527, 3.7149999141693115, 3.609299898147583, 3.60479998588562, 3.580199956893921, 3.578200101852417, 3.563999891281128, 3.558199882507324, 3.5394999980926514, 3.536799907684326, 3.5272998809814453, 3.5074000358581543, 3.5039000511169434, 3.502700090408325, 3.5013999938964844, 3.500499963760376, 3.4995999336242676, 3.498300075531006, 3.4965999126434326, 3.4941000938415527, 3.490600109100342, 3.486299991607666, 3.484499931335449, 3.4825000762939453, 3.482100009918213, 3.410900115966797, 3.386899948120117, 3.4223999977111816, 2.920300006866455, 3.0785999298095703, 3.414900064468384, 3.0076000690460205, 3.1779000759124756, 2.805000066757202, 2.078900098800659, 2.4553000926971436, 2.5596001148223877, 2.314300060272217, 2.346400022506714, 2.7316999435424805, 2.6096999645233154, 2.3431999683380127, 1.4555000066757202, 1.9061000347137451, 2.0850000381469727, 2.2546000480651855, 2.075500011444092, 1.6030000448226929, 1.636199951171875, 2.5095999240875244, 1.3257999420166016, 2.6249001026153564, 0.18320000171661377, 1.3371000289916992, 0.5982999801635742, 2.0085999965667725, 1.0543999671936035, 1.6196000576019287, -0.37560001015663147, 0.042500000447034836, 0.3012000024318695, 0.6589000225067139, -0.41819998621940613, -0.5073999762535095, -0.5097000002861023, -0.43459999561309814, -0.026599999517202377, -0.12049999833106995, -0.7152000069618225, 0.26600000262260437, 0.5318999886512756, 4.172500133514404, 4.007299900054932, 3.970900058746338, 3.940500020980835, 3.9402999877929688, 3.9398999214172363, 3.9398000240325928, 3.9351999759674072, 3.9342000484466553, 3.9340999126434326, 3.9137001037597656, 3.908900022506714, 3.8935000896453857, 3.8320000171661377, 3.798799991607666, 3.734600067138672, 3.7276999950408936, 3.6354000568389893, 3.6157000064849854, 3.6108999252319336, 3.601300001144409, 3.6012001037597656, 3.6012001037597656, 3.599600076675415, 3.5954999923706055, 3.594099998474121, 3.5913000106811523, 3.5808000564575195, 3.578200101852417, 3.5425000190734863, 3.5385000705718994, 3.456899881362915, 3.2207999229431152, 3.3745999336242676, 3.395400047302246, 3.2732999324798584, 2.6226000785827637, 3.3431999683380127, 2.6679999828338623, 1.3044999837875366, 2.1105000972747803, 2.2000999450683594, 1.2559000253677368, 0.574400007724762, 0.9922000169754028, 1.468500018119812, 0.20980000495910645, 1.982699990272522, 0.8029000163078308, 1.4256000518798828, 3.0048000812530518, 0.45969998836517334, 1.270300030708313, 0.34360000491142273, 0.2542000114917755, 0.9940000176429749, 0.47510001063346863, 0.17170000076293945, -0.08959999680519104, 1.9465999603271484, 0.16169999539852142, 0.9422000050544739, -0.24390000104904175, 0.5220000147819519, 0.2718000113964081, -0.3151000142097473, -0.4625999927520752, 0.35850000381469727, -0.35040000081062317, -0.5647000074386597, 0.10220000147819519, 0.3208000063896179, 0.3262999951839447, 4.090199947357178, 4.089099884033203, 4.05709981918335, 3.9635000228881836, 3.9256999492645264, 3.8966000080108643, 3.8784000873565674, 3.822499990463257, 3.775099992752075, 3.7739999294281006, 3.77239990234375, 3.7634999752044678, 3.7578999996185303, 3.744999885559082, 3.736999988555908, 3.7144999504089355, 3.7058000564575195, 3.6024999618530273, 3.585900068283081, 3.5845999717712402, 3.542099952697754, 3.5285000801086426, 3.5144999027252197, 3.5139000415802, 3.470099925994873, 3.4583001136779785, 3.457900047302246, 3.4521000385284424, 3.451900005340576, 3.4403998851776123, 3.3905999660491943, 3.3801000118255615, 2.7964999675750732, 3.3429999351501465, 3.333899974822998, 2.4711999893188477, 3.210900068283081, 2.2060000896453857, 2.9323999881744385, 2.418600082397461, 2.6882998943328857, 3.0671000480651855, 1.3317999839782715, 2.6491000652313232, 2.337100028991699, 2.5597000122070312, 1.6514999866485596, 0.41749998927116394, 0.23430000245571136, 0.7542999982833862, 0.8956000208854675, 1.812399983406067, 0.20170000195503235, 1.2139999866485596, 0.7433000206947327, 2.120800018310547, 1.169100046157837, 0.7997000217437744, 1.5789999961853027, 1.2592999935150146, 0.11169999837875366, -0.16509999334812164, 0.48410001397132874, 0.7702999711036682, 1.142699956893921, 0.41819998621940613, 1.211400032043457, -0.3984000086784363, -0.06080000102519989, 0.3375000059604645, 0.24779999256134033, -0.5566999912261963, -0.16339999437332153, 0.2207999974489212, -0.15860000252723694, 0.353300005197525, 0.2558000087738037, 4.299499988555908, 4.297999858856201, 4.193999767303467, 4.185100078582764, 4.063799858093262, 4.026000022888184, 4.008200168609619, 3.9563000202178955, 3.8842999935150146, 3.88100004196167, 3.866300106048584, 3.8422999382019043, 3.8422000408172607, 3.834700107574463, 3.8340001106262207, 3.8306000232696533, 3.8120999336242676, 3.792799949645996, 3.7832999229431152, 3.7095999717712402, 3.6944000720977783, 3.6719000339508057, 3.65339994430542, 3.6528000831604004, 3.6424999237060547, 3.6296000480651855, 3.6068999767303467, 3.6068999767303467, 3.5999999046325684, 3.5861001014709473, 3.5622000694274902, 3.5028998851776123, 3.341099977493286, 3.335900068283081, 3.2946999073028564, 2.4514999389648438, 3.011699914932251, 3.2632999420166016, 2.734100103378296, 3.2430999279022217, 2.8259999752044678, 1.6014000177383423, 2.7414000034332275, 2.210200071334839, 1.7716000080108643, 2.3636999130249023, 0.23999999463558197, 1.1376999616622925, 0.8046000003814697, -0.043299999088048935, 0.5626999735832214, 0.22310000658035278, 0.4738999903202057, 0.6222000122070312, 0.2409999966621399, 1.2079999446868896, 0.9262999892234802, 0.904699981212616, -0.24469999969005585, 1.2094000577926636, -0.2648000121116638, -0.3499000072479248, -0.038600001484155655, -0.2651999890804291, -0.1460999995470047, 0.37470000982284546, 0.06889999657869339, 1.1370999813079834, 0.3057999908924103, -0.6765000224113464, 0.03700000047683716, 5.235300064086914, 5.096099853515625, 5.086699962615967, 4.686299800872803, 4.665800094604492, 4.42140007019043, 4.30709981918335, 4.298999786376953, 4.293099880218506, 4.285299777984619, 4.283599853515625, 4.281000137329102, 4.276400089263916, 4.276400089263916, 4.275100231170654, 4.273399829864502, 4.267399787902832, 4.266900062561035, 4.264599800109863, 4.260000228881836, 4.259399890899658, 4.258999824523926, 4.252399921417236, 4.250999927520752, 4.24970006942749, 4.2484002113342285, 4.244200229644775, 4.242599964141846, 4.241199970245361, 4.239699840545654, 4.202099800109863, 4.182199954986572, 3.7511000633239746, 3.899199962615967, 3.9851999282836914, 4.064599990844727, 3.8826000690460205, 3.211199998855591, 1.805799961090088, 2.3029000759124756, 3.6349000930786133, 3.135200023651123, 2.2284998893737793, 2.7632999420166016, 3.640199899673462, 3.0309998989105225, 3.1393001079559326, 2.1013998985290527, 3.3903000354766846, 2.77620005607605, 3.2934999465942383, 2.777100086212158, 2.07669997215271, 0.8162999749183655, 2.2727999687194824, 0.5116000175476074, 1.478600025177002, -0.17139999568462372, 0.19900000095367432, -0.059700001031160355, 0.16670000553131104, 1.2235000133514404, 1.1722999811172485, -0.24480000138282776, 1.6978000402450562, 1.3525999784469604, 0.2711000144481659, 1.4651999473571777, 0.6093000173568726, 0.48159998655319214, 1.0292999744415283, 0.8449000120162964, -0.14740000665187836, 0.9610999822616577, -0.8269000053405762, -0.7006000280380249, 0.0027000000700354576, 4.953400135040283, 4.758699893951416, 4.572999954223633, 4.565899848937988, 4.5381999015808105, 4.532100200653076, 4.528500080108643, 4.521100044250488, 4.51609992980957, 4.497600078582764, 4.492499828338623, 4.492199897766113, 4.492199897766113, 4.487800121307373, 4.481900215148926, 4.478300094604492, 4.471499919891357, 4.471199989318848, 4.450300216674805, 4.444499969482422, 4.442800045013428, 4.434100151062012, 4.205900192260742, 4.202300071716309, 4.177599906921387, 4.174499988555908, 4.173600196838379, 4.142099857330322, 4.140600204467773, 4.140399932861328, 3.8189001083374023, 3.730600118637085, 2.744999885559082, 3.501300096511841, 3.148900032043457, 2.3924999237060547, 3.4001998901367188, 3.3215999603271484, 1.8736000061035156, 3.353800058364868, 0.19169999659061432, 3.109800100326538, 2.2404000759124756, 1.4606000185012817, 3.5822999477386475, 0.626800000667572, 1.0816999673843384, 2.751300096511841, 2.5703001022338867, -0.03799999877810478, 2.673799991607666, 3.1298000812530518, -0.6452000141143799, 2.4235999584198, 2.0044000148773193, -0.2542000114917755, 0.9455999732017517, 0.07980000227689743, 0.046799998730421066, -0.007300000172108412, -0.03440000116825104, 0.5249000191688538, -0.2533000111579895, -0.3756999969482422, 0.5266000032424927, 0.43860000371932983, -0.32420000433921814, -0.275299996137619, 1.2217999696731567, 0.1378999948501587, -0.29789999127388, 0.5601000189781189, 0.18459999561309814]}, \"token.table\": {\"Topic\": [4, 7, 8, 10, 6, 1, 2, 5, 6, 7, 8, 6, 14, 5, 2, 7, 7, 4, 10, 2, 3, 4, 6, 7, 8, 14, 2, 4, 13, 2, 4, 7, 14, 2, 3, 4, 5, 6, 7, 15, 2, 4, 6, 7, 13, 2, 1, 2, 3, 4, 5, 6, 7, 8, 11, 12, 13, 14, 11, 1, 2, 3, 4, 5, 6, 7, 8, 9, 10, 11, 12, 6, 10, 4, 3, 7, 8, 14, 1, 2, 3, 4, 5, 6, 7, 8, 10, 11, 12, 14, 1, 2, 3, 4, 5, 6, 8, 9, 10, 11, 12, 14, 10, 2, 2, 3, 4, 7, 8, 9, 10, 15, 2, 2, 7, 2, 8, 4, 4, 1, 2, 3, 4, 5, 6, 7, 8, 9, 10, 12, 13, 8, 8, 1, 2, 3, 4, 5, 6, 7, 8, 9, 10, 11, 12, 13, 14, 7, 2, 11, 8, 4, 13, 3, 7, 10, 13, 2, 13, 6, 10, 11, 3, 7, 1, 2, 3, 4, 5, 6, 7, 8, 9, 10, 11, 12, 13, 14, 15, 6, 2, 3, 4, 6, 7, 8, 10, 13, 3, 4, 6, 10, 11, 3, 1, 2, 7, 11, 2, 4, 6, 9, 10, 2, 3, 4, 5, 6, 7, 8, 10, 12, 13, 14, 1, 2, 4, 5, 6, 11, 6, 7, 11, 1, 3, 5, 1, 5, 11, 8, 2, 3, 5, 6, 7, 8, 9, 10, 11, 12, 13, 1, 2, 3, 5, 6, 8, 11, 4, 8, 6, 11, 2, 3, 8, 1, 7, 9, 4, 1, 2, 4, 6, 11, 2, 4, 1, 2, 4, 7, 8, 13, 14, 1, 2, 3, 4, 5, 6, 7, 8, 9, 10, 11, 12, 13, 14, 10, 3, 7, 11, 3, 6, 7, 8, 9, 10, 13, 4, 15, 5, 8, 13, 4, 11, 12, 2, 1, 2, 4, 1, 2, 3, 4, 5, 6, 7, 8, 9, 12, 13, 10, 2, 4, 7, 8, 12, 2, 3, 7, 8, 9, 4, 5, 1, 2, 3, 4, 5, 6, 7, 8, 10, 11, 14, 4, 8, 2, 3, 6, 8, 9, 10, 1, 2, 3, 4, 5, 6, 7, 8, 9, 10, 11, 12, 14, 4, 2, 12, 8, 10, 14, 6, 8, 10, 6, 10, 8, 2, 4, 8, 12, 9, 1, 2, 1, 2, 3, 4, 5, 6, 7, 8, 9, 10, 11, 12, 7, 2, 3, 4, 5, 6, 8, 9, 11, 12, 13, 14, 2, 9, 2, 3, 4, 7, 11, 6, 10, 13, 4, 1, 2, 6, 7, 11, 1, 13, 5, 9, 2, 4, 7, 11, 4, 10, 13, 2, 1, 2, 3, 4, 5, 6, 7, 8, 9, 10, 11, 12, 13, 14, 7, 10, 12, 1, 2, 3, 4, 5, 6, 7, 8, 9, 10, 11, 12, 13, 14, 15, 11, 2, 3, 4, 6, 7, 8, 9, 2, 14, 9, 3, 4, 7, 1, 3, 4, 10, 14, 2, 14, 11, 12, 1, 2, 5, 6, 10, 6, 10, 2, 3, 6, 7, 8, 9, 10, 8, 1, 2, 3, 4, 5, 6, 7, 8, 9, 10, 11, 12, 13, 14, 15, 8, 6, 8, 14, 2, 5, 6, 1, 2, 7, 13, 11, 12, 9, 10, 1, 2, 3, 4, 5, 6, 7, 8, 9, 11, 12, 13, 8, 1, 2, 3, 4, 5, 6, 7, 8, 9, 10, 11, 2, 7, 8, 10, 14, 9, 13, 1, 2, 4, 5, 6, 7, 11, 10, 14, 2, 2, 3, 4, 6, 8, 9, 10, 4, 6, 3, 5, 9, 13, 1, 2, 4, 7, 9, 1, 2, 4, 6, 12, 5, 4, 3, 1, 6, 11, 1, 2, 5, 6, 11, 6, 1, 2, 6, 1, 2, 4, 5, 6, 7, 8, 9, 11, 12, 1, 2, 3, 4, 5, 6, 7, 8, 9, 10, 11, 12, 13, 14, 15, 3, 6, 7, 10, 4, 2, 3, 3, 5, 3, 6, 11, 12, 4, 2, 6, 7, 15, 2, 10, 7, 6, 11, 2, 4, 6, 7, 9, 9, 1, 2, 3, 4, 5, 6, 9, 10, 12, 13, 1, 2, 3, 4, 5, 6, 7, 8, 9, 10, 12, 13, 15, 4, 7, 12, 5, 7, 1, 2, 3, 4, 5, 6, 7, 8, 9, 10, 11, 12, 13, 14, 3, 6, 6, 6, 6, 4, 3, 6, 7, 8, 9, 13, 1, 2, 9, 2, 3, 4, 6, 7, 9, 12, 15, 4, 11, 7, 6, 2, 3, 4, 5, 6, 7, 9, 10, 12, 13, 4, 3, 5, 2, 3, 7, 10, 13, 3, 9, 7, 14, 1, 2, 4, 5, 1, 2, 3, 4, 5, 6, 7, 8, 9, 10, 13, 1, 2, 3, 4, 7, 9, 12, 13, 15, 1, 2, 4, 6, 7, 1, 2, 2, 1, 2, 3, 4, 5, 6, 7, 8, 9, 10, 11, 12, 13, 14, 1, 2, 3, 4, 5, 6, 7, 9, 10, 11, 12, 13, 15, 8, 1, 7, 1, 1, 7, 14, 2, 4, 7, 8, 12, 3, 8, 9, 13, 2, 3, 4, 6, 7, 8, 9, 10, 2, 5, 2, 7, 2, 3, 4, 7, 8, 10, 12, 5, 2, 3, 4, 5, 6, 7, 8, 9, 11, 12, 4, 6, 10, 2, 6, 2, 1, 11, 6, 9, 14, 6, 3, 9, 2, 4, 9, 11, 1, 2, 3, 4, 7, 8, 12, 13, 2, 4, 6, 7, 12, 5, 3, 2, 8, 10, 1, 2, 3, 4, 5, 6, 7, 8, 9, 10, 11, 12, 13, 14, 15, 1, 2, 3, 4, 5, 6, 8, 9, 10, 11, 12, 13, 14, 4, 13, 3, 7, 2, 4, 4, 11, 13, 7, 2, 3, 5, 13, 7, 9, 1, 2, 3, 4, 6, 7, 11, 12, 13, 15, 4, 11, 9, 14, 1, 2, 4, 6, 7, 11, 1, 2, 4, 5, 6, 7, 11, 12, 2, 1, 2, 4, 5, 6, 11, 12, 1, 2, 5, 2, 3, 4, 5, 6, 7, 8, 9, 10, 13, 14, 1, 2, 4, 5, 6, 7, 11, 12, 2, 3, 4, 6, 7, 8, 9, 10, 8, 1, 2, 1, 2, 3, 4, 5, 6, 7, 8, 9, 10, 11, 14, 15, 11, 2, 4, 6, 7, 8, 12, 6, 10, 2, 3, 6, 7, 8, 9, 10, 13, 1, 2, 4, 5, 15, 1, 2, 3, 4, 5, 6, 7, 10, 11, 2, 3, 6, 7, 8, 9, 10, 13, 2, 6, 8, 1, 2, 3, 4, 5, 6, 7, 8, 9, 10, 11, 12, 13, 14, 8, 11, 4, 5, 7, 2, 10, 14, 1, 2, 3, 4, 5, 6, 7, 8, 9, 10, 11, 12, 13, 14, 15, 7, 1, 2, 3, 4, 5, 6, 7, 8, 9, 10, 11, 12, 13, 2, 3, 4, 7, 9, 13, 14, 1, 2, 3, 4, 5, 6, 7, 8, 9, 10, 11, 12, 13, 15, 4, 12, 2, 9, 7, 8, 14, 3, 12, 1, 2, 3, 5, 6, 7, 8, 9, 10, 11, 12, 14, 15, 1, 2, 3, 4, 5, 6, 7, 8, 10, 11, 13, 14, 1, 2, 3, 4, 5, 6, 8, 9, 10, 13, 14, 1, 2, 3, 4, 5, 6, 7, 8, 9, 10, 11, 12, 13, 15, 1, 2, 3, 4, 6, 7, 13, 14, 1, 2, 3, 4, 5, 6, 7, 8, 10, 11, 12, 13, 7, 4, 6, 9, 13, 1, 2, 6, 7, 14, 1, 2, 3, 4, 5, 6, 7, 8, 9, 10, 11, 12, 13, 14, 15, 1, 2, 3, 4, 5, 6, 7, 8, 9, 10, 11, 12, 13, 15, 1, 2, 4, 2, 2, 3, 9, 10, 6, 12, 1, 12, 8, 1, 2, 4, 10, 3, 10, 1, 2, 4, 6, 7, 10, 11, 15, 11, 3, 8, 9, 11, 11, 1, 2, 4, 7, 12, 2, 3, 9, 10, 15, 1, 3, 4, 6, 7, 8, 9, 10, 12, 2, 3, 4, 6, 7, 2, 4, 6, 15, 1, 2, 3, 4, 5, 6, 7, 11, 13, 1, 2, 3, 4, 5, 6, 7, 8, 9, 10, 11, 12, 13, 14, 15, 1, 2, 3, 4, 5, 6, 8, 9, 10, 7, 1, 2, 3, 4, 5, 7, 12, 1, 2, 3, 4, 5, 6, 7, 8, 9, 10, 11, 1, 4, 5, 12, 2, 3, 7, 2, 3, 6, 8, 9, 9, 10, 2, 3, 4, 7, 14, 1, 2, 3, 4, 5, 6, 7, 8, 9, 10, 11, 12, 13, 14, 2, 3, 4, 7, 8, 9, 12, 13, 2, 9, 5, 9, 10, 3, 8, 9, 4, 10, 6, 13, 2, 3, 4, 5, 6, 7, 8, 9, 10, 13, 14, 2, 6, 11, 12, 1, 2, 3, 4, 5, 6, 7, 8, 9, 10, 11, 12, 13, 14, 15, 4, 3, 6, 6, 9, 1, 2, 3, 4, 5, 6, 7, 8, 9, 10, 11, 12, 13, 1, 2, 4, 5, 11, 9, 2, 3, 4, 6, 9, 12, 13, 1, 2, 3, 4, 5, 6, 7, 8, 9, 10, 11, 12, 13, 15, 1, 2, 3, 4, 5, 6, 7, 8, 9, 10, 11, 12, 13, 14, 15, 1, 2, 3, 4, 5, 6, 7, 8, 10, 11, 12, 15, 3, 6, 9, 10, 13, 2, 3, 4, 5, 6, 8, 9, 11, 12, 13, 1, 2, 3, 4, 5, 6, 7, 8, 9, 10, 11, 12, 13, 1, 2, 3, 4, 6, 7, 8, 9, 12, 13, 1, 3, 4, 5, 6, 7, 5, 11, 2, 6, 11, 2, 9, 4, 1, 2, 3, 4, 6, 7, 8, 9, 10, 12, 13, 1, 2, 3, 4, 5, 6, 7, 8, 9, 10, 11, 12, 13, 14, 15, 1, 2, 3, 4, 6, 7, 8, 9, 10, 11, 12, 13, 14, 2, 3, 4, 6, 8, 9, 10, 1, 2, 3, 4, 5, 6, 7, 8, 9, 10, 11, 12, 13, 15, 2, 4, 8, 1, 2, 3, 4, 5, 6, 7, 8, 9, 11, 13, 1, 2, 4, 5, 6, 11, 12, 1, 2, 4, 5, 6, 11, 1, 2, 3, 4, 5, 6, 7, 8, 9, 10, 11, 12, 13, 14, 15, 1, 5, 11, 1, 2, 3, 4, 5, 6, 7, 8, 9, 10, 11, 12, 13, 15, 1, 9, 13, 1, 2, 3, 4, 5, 6, 7, 8, 9, 10, 11, 12, 13, 15, 1, 2, 3, 4, 5, 6, 7, 8, 9, 10, 11, 12, 13, 15, 2, 7, 14, 5, 13, 1, 2, 4, 7, 11, 1, 1, 2, 5, 6, 3, 4, 2, 14, 8, 3, 6, 7, 1, 2, 3, 4, 5, 6, 7, 8, 9, 10, 11, 12, 13, 15, 1, 2, 3, 4, 5, 6, 7, 8, 9, 11, 12, 13, 14, 15, 1, 2, 3, 4, 6, 7, 6, 8, 6, 2, 8, 1, 2, 3, 4, 5, 6, 7, 8, 9, 10, 11, 12, 13, 14, 15, 3, 13, 1, 2, 4, 9, 14, 2, 3, 4, 6, 7, 15, 4, 15, 3, 11, 1, 2, 3, 4, 5, 6, 7, 9, 12, 1, 2, 3, 4, 5, 6, 7, 8, 9, 12, 13, 7, 8, 3, 10, 6, 14, 3, 8, 10, 14, 7, 3, 4, 2, 4, 6, 7, 8, 12, 13, 14, 5, 4, 6, 9, 7, 4, 7, 14, 3, 6, 1, 2, 3, 5, 6, 7, 8, 15, 1, 10, 6, 1, 2, 4, 5, 6, 11, 2, 3, 6, 7, 13, 1, 2, 3, 4, 5, 6, 7, 8, 9, 11, 13, 14, 2, 3, 6, 7, 8, 9, 10, 14, 1, 2, 7, 11, 2, 3, 7, 3, 7, 8, 9, 10, 1, 2, 3, 4, 5, 6, 7, 8, 9, 10, 11, 12, 13, 14, 3, 8, 13, 14, 6, 7, 12, 4, 2, 13, 3, 9, 13, 3, 10, 14, 4, 13, 1, 2, 3, 4, 7, 8, 12, 13, 1, 2, 3, 4, 5, 6, 7, 8, 9, 10, 11, 12, 13, 15, 1, 2, 4, 5, 6, 7, 11, 1, 2, 3, 4, 5, 6, 7, 8, 9, 10, 11, 12, 13, 14, 1, 2, 3, 4, 5, 6, 7, 8, 9, 10, 12, 13, 9, 14, 1, 2, 3, 4, 5, 6, 7, 8, 1, 2, 3, 4, 5, 6, 7, 8, 9, 10, 11, 12, 13, 14, 2, 5, 2, 13, 1, 2, 3, 4, 5, 6, 7, 8, 9, 10, 11, 12, 13, 8, 8, 1, 2, 3, 4, 5, 6, 7, 8, 9, 10, 15, 3, 4, 7, 13, 7, 2, 7, 10, 6, 1, 2, 3, 4, 5, 6, 7, 8, 9, 10, 11, 12, 13, 6, 1, 2, 3, 4, 6, 7, 8, 9, 10, 11, 2, 3, 4, 5, 6, 7, 8, 9, 10, 11, 1, 2, 3, 4, 5, 6, 7, 8, 9, 10, 11, 12, 13, 14, 8, 14, 1, 2, 3, 4, 5, 6, 7, 8, 9, 10, 11, 12, 13, 2, 1, 2, 3, 4, 5, 6, 7, 8, 9, 10, 11, 12, 13, 14, 15, 1, 2, 3, 4, 5, 6, 7, 8, 9, 10, 11, 12, 13, 14, 15, 1, 2, 3, 4, 5, 6, 7, 8, 9, 12, 13, 3, 1, 2, 3, 4, 6, 7, 8, 9, 10, 12, 13, 1, 2, 3, 4, 5, 6, 7, 8, 9, 10, 11, 12, 13, 14, 15, 1, 2, 3, 4, 5, 6, 7, 8, 9, 10, 11, 12, 13, 1, 2, 2, 3, 4, 5, 6, 7, 8, 10, 11, 12, 13, 14, 7, 11, 1, 2, 3, 4, 5, 6, 7, 8, 9, 10, 11, 12, 13, 14, 15, 1, 1, 2, 3, 4, 5, 6, 7, 8, 9, 10, 11, 12, 13, 14, 1, 2, 3, 4, 5, 6, 7, 8, 9, 10, 11, 12, 13, 14, 15, 1, 2, 3, 4, 5, 6, 7, 8, 9, 10, 11, 12, 13, 15, 6, 14, 1, 2, 3, 4, 5, 6, 7, 8, 9, 10, 11, 12, 13, 15, 1, 2, 3, 4, 5, 6, 7, 8, 10, 12, 2, 3, 4, 7, 9, 11, 1, 1, 2, 3, 4, 5, 6, 7, 8, 9, 10, 12, 13, 14, 3, 3, 2, 9, 1, 2, 4, 2, 3, 4, 5, 6, 7, 8, 9, 10, 12, 13, 2, 3, 4, 6, 7, 8, 9, 10, 13, 2, 11, 12, 1, 2, 3, 4, 5, 6, 7, 8, 9, 10, 11, 12, 14, 15, 1, 2, 4, 6, 7, 8, 12, 1, 2, 3, 4, 5, 6, 7, 8, 9, 10, 11, 12, 13, 15, 7, 10, 8, 1, 5, 6, 1, 2, 4, 6, 7, 11, 3, 9, 13, 3, 7, 12, 1, 2, 3, 4, 5, 6, 7, 8, 9, 11, 13, 1, 2, 5, 6, 11, 1, 5, 6, 11, 1, 2, 3, 4, 5, 6, 7, 8, 10, 12, 13, 2, 4, 6, 7, 8, 9, 12, 1, 2, 3, 4, 5, 6, 7, 8, 9, 10, 11, 12, 13, 1, 2, 3, 6, 7, 10, 2, 8, 9, 11, 1, 2, 3, 4, 5, 6, 7, 8, 9, 10, 11, 12, 14, 2, 3, 4, 6, 7, 10, 8, 6, 12, 2, 8, 9, 10, 8, 1, 3, 8, 10, 14, 8, 14, 8, 1, 7, 3, 4, 7, 8, 12, 6, 9, 7, 1, 2, 3, 7, 9, 11, 11, 12, 1, 2, 3, 4, 5, 6, 7, 8, 9, 10, 11, 12, 13, 14, 15, 1, 3, 4, 8, 14, 6, 9, 1, 2, 3, 4, 5, 6, 7, 8, 9, 10, 11, 12, 13, 14, 3, 8, 10, 1, 2, 3, 4, 5, 6, 7, 8, 9, 10, 11, 12, 13, 14, 2, 3, 4, 5, 6, 7, 8, 9, 10, 13, 14, 2, 3, 4, 6, 7, 8, 13, 1, 2, 3, 4, 5, 6, 7, 8, 9, 10, 11, 12, 13, 14, 15, 9, 1, 2, 4, 7, 1, 2, 3, 4, 5, 6, 7, 8, 9, 10, 11, 12, 13, 14, 3, 5, 13, 8, 7, 5, 1, 2, 3, 4, 5, 6, 7, 8, 9, 10, 11, 12, 15, 2, 3, 6, 7, 8, 9, 10, 13, 2, 3, 4, 5, 6, 7, 11, 14, 1, 2, 12, 9, 10, 4, 7, 1, 2, 3, 4, 5, 6, 7, 8, 9, 10, 11, 12, 13, 14, 15, 2, 3, 5, 10, 2, 3, 5, 6, 8, 9, 10, 13, 6, 1, 2, 3, 4, 5, 7, 8, 9, 2, 3, 4, 6, 12, 4, 1, 2, 3, 4, 5, 6, 7, 8, 9, 10, 11, 12, 13, 14, 1, 2, 3, 4, 5, 6, 7, 8, 9, 10, 11, 12, 13, 14, 2, 4, 7, 1, 2, 3, 4, 5, 6, 7, 8, 9, 10, 12, 13, 1, 3, 6, 8, 7, 2, 14, 1, 2, 7, 13, 11, 12, 1, 2, 3, 4, 5, 6, 7, 8, 9, 10, 11, 12, 14, 11, 1, 2, 3, 4, 5, 6, 7, 8, 9, 10, 11, 12, 13, 1, 2, 3, 4, 5, 6, 7, 8, 9, 10, 11, 13, 3, 8, 9, 13, 1, 2, 4, 5, 1, 2, 3, 4, 5, 6, 7, 8, 9, 12, 13, 1, 2, 3, 4, 6, 7, 8, 9, 10, 11, 5, 2, 3, 6, 7, 8, 9, 10, 13, 4, 7, 2, 3, 4, 6, 7, 8, 9, 10, 11, 13, 14, 2, 3, 4, 5, 6, 7, 8, 10, 11, 12, 13, 9, 3, 4, 2, 3, 6, 9, 2, 3, 4, 6, 7, 10, 15, 6, 3, 6, 10, 13, 11, 6, 1, 4, 5, 6, 11, 5, 3, 5, 7, 8, 15, 3, 8, 9, 10, 4, 9, 2, 3, 9, 2, 3, 4, 6, 7, 8, 12, 6, 12, 11, 1, 2, 3, 4, 5, 6, 7, 8, 9, 10, 11, 12, 13, 14, 6, 12, 7, 1, 2, 3, 4, 6, 10, 12, 2, 11, 12, 13, 2, 13, 3, 8, 2, 3, 5, 6, 9, 11, 12, 13, 5, 3, 4, 2, 3, 6, 9, 10, 13, 6, 9, 1, 2, 3, 4, 5, 7, 8, 14, 10, 14, 2, 11, 1, 2, 5, 7, 11, 14, 8, 13, 8, 3, 8, 10, 1, 2, 3, 4, 5, 6, 7, 8, 11, 13, 14, 2, 10, 3, 6, 8, 10, 12, 10, 13, 1, 4, 10, 11, 9, 2, 3, 4, 6, 7, 8, 9, 10, 11, 14, 2, 3, 6, 7, 8, 9, 14, 14, 6, 2, 3, 4, 5, 6, 7, 8, 9, 14, 8, 10, 7, 7, 7, 1, 2, 4, 5, 6, 11, 12, 1, 2, 3, 4, 5, 6, 7, 8, 10, 11, 12, 13, 15, 1, 2, 3, 4, 7, 8, 13, 14, 5, 3, 4, 12, 1, 2, 3, 4, 5, 6, 7, 9, 10, 11, 12, 13, 14, 4, 7, 12, 7, 14, 1, 2, 3, 4, 5, 6, 7, 8, 10, 11, 12, 1, 2, 4, 6, 7, 9, 13, 15, 2, 3, 6, 7, 10, 15, 7, 4, 1, 2, 3, 4, 5, 6, 12, 13, 2, 3, 4, 7, 10, 1, 2, 3, 4, 5, 6, 7, 8, 10, 4, 8, 1, 2, 3, 4, 6, 7, 8, 9, 12, 13, 14, 3, 6, 2, 3, 4, 7, 8, 1, 2, 3, 4, 5, 6, 7, 8, 9, 10, 11, 12, 13, 14, 15, 6, 7, 1, 2, 3, 4, 5, 6, 7, 8, 9, 10, 11, 12, 13, 2, 3, 9, 1, 2, 1, 2, 3, 4, 5, 6, 7, 8, 9, 10, 11, 12, 13, 10, 2, 3, 4, 6, 7, 8, 9, 10, 12, 4, 12, 9, 13, 3, 8, 9, 4, 10, 1, 2, 3, 4, 5, 6, 7, 8, 9, 10, 11, 12, 13, 14, 8, 1, 2, 3, 4, 5, 6, 7, 8, 9, 10, 11, 12, 13, 14, 15, 2, 11, 1, 2, 3, 4, 5, 6, 7, 8, 9, 10, 11, 12, 13, 2, 3, 7, 10, 1, 2, 3, 4, 5, 6, 7, 8, 9, 10, 11, 12, 13, 14, 3, 6, 1, 2, 3, 4, 6, 7, 9, 1, 2, 3, 5, 6, 12, 13, 14, 1, 6, 1, 2, 3, 4, 5, 6, 7, 9, 10, 11, 12, 1, 2, 3, 4, 5, 6, 7, 8, 9, 10, 11, 12, 13, 6, 1, 8, 13, 1, 2, 3, 4, 5, 6, 7, 8, 9, 10, 11, 12, 13, 14, 5, 3, 8, 10, 1, 2, 3, 4, 5, 6, 7, 8, 9, 10, 11, 12, 13, 14, 1, 2, 3, 4, 14, 4, 8, 12, 8, 2, 12, 2, 1, 2, 3, 4, 6, 7, 9, 13, 15, 6, 12, 1, 2, 3, 4, 5, 6, 7, 8, 11, 12, 13, 14, 6, 1, 2, 3, 4, 5, 6, 7, 8, 9, 10, 11, 12, 11, 2, 6, 8, 1, 2, 3, 4, 5, 6, 7, 8, 9, 10, 11, 12, 13, 1, 2, 3, 4, 5, 6, 7, 8, 9, 10, 11, 12, 14, 15, 1, 2, 4, 5, 6, 11, 12, 3, 13, 14, 2, 3, 4, 5, 6, 8, 9, 10, 11, 12, 13, 7, 14, 1, 2, 3, 4, 5, 6, 7, 8, 10, 11, 12, 13, 14, 15, 4, 12, 1, 2, 3, 4, 5, 6, 7, 9, 11, 12, 13, 1, 2, 3, 4, 6, 8, 9, 10, 11, 4, 8, 2, 12, 7, 5, 6, 7, 10, 1, 2, 3, 4, 6, 7, 8, 9, 10, 13, 3, 6, 7, 9, 1, 2, 3, 4, 6, 7, 9, 10, 14, 8, 6, 5, 1, 2, 3, 4, 5, 6, 7, 8, 9, 10, 11, 12, 13, 14, 2, 3, 4, 7, 1, 4, 6, 14, 7, 1, 2, 3, 4, 5, 6, 7, 9, 10, 11, 14, 6, 1, 5, 6, 9, 6, 14, 1, 2, 3, 4, 5, 6, 7, 8, 9, 10, 12, 13, 6, 13, 1, 2, 3, 4, 5, 6, 7, 8, 9, 10, 11, 12, 14, 2, 1, 2, 5, 11, 1, 5, 7, 13, 10, 11, 6, 2, 7, 2, 13, 8, 4, 6, 2, 3, 3, 7, 9, 10, 13, 14, 10, 14, 6, 1, 2, 5, 11, 1, 2, 3, 4, 5, 6, 7, 8, 9, 10, 11, 12, 13, 1, 2, 3, 4, 7, 9, 10, 11, 1, 2, 3, 4, 6, 7, 8, 14, 3, 1, 2, 3, 4, 5, 6, 7, 8, 9, 10, 11, 12, 13, 14, 1, 2, 3, 4, 5, 6, 7, 8, 9, 10, 11, 12, 13, 14, 15, 12, 14, 4, 9, 12, 2, 3, 4, 6, 7, 8, 9, 1, 2, 3, 4, 5, 6, 7, 8, 9, 10, 11, 12, 13, 14, 15, 1, 4, 6, 7, 1, 2, 3, 4, 5, 6, 7, 8, 9, 10, 11, 12, 13, 14, 15, 11, 4, 9, 10, 14, 6, 1, 2, 3, 4, 5, 6, 7, 8, 9, 10, 11, 12, 13, 14, 2, 1, 4, 6, 7, 12, 15, 2, 3, 4, 5, 6, 14, 3, 6, 4, 2, 3, 4, 7, 12, 2, 4, 8, 2, 4, 7, 2, 3, 6, 8, 1, 2, 3, 4, 5, 6, 7, 8, 9, 10, 11, 12, 8, 14, 7, 11, 3, 2, 3, 4, 6, 7, 8, 9, 10, 10, 13, 8, 4, 11, 6, 9, 14, 10, 14, 1, 2, 3, 4, 6, 7, 8, 12, 13, 2, 2, 10, 3, 9, 2, 9, 11, 1, 3, 2, 5, 2, 3, 4, 7, 8, 9, 3, 6, 10, 7, 8, 3, 2, 3, 4, 5, 6, 7, 8, 9, 10, 13, 14, 3, 9, 2, 13, 4, 6, 14, 15, 3, 4, 4, 3, 6, 13, 1, 6, 7, 11, 4, 2, 4, 6, 1, 2, 3, 4, 5, 6, 7, 8, 9, 10, 11, 12, 13, 14, 6, 12, 4, 12, 13, 1, 2, 3, 4, 5, 6, 7, 8, 9, 10, 11, 12, 13, 15, 1, 2, 4, 5, 6, 7, 11, 4, 1, 2, 3, 4, 5, 6, 7, 8, 9, 10, 11, 12, 13, 14, 8, 1, 2, 4, 5, 1, 4, 7, 1, 2, 3, 4, 5, 6, 7, 8, 9, 10, 11, 12, 1, 11, 1, 2, 3, 4, 5, 6, 7, 8, 9, 10, 11, 12, 13, 14, 1, 2, 3, 4, 5, 6, 7, 8, 9, 10, 11, 12, 13, 3, 8, 1, 2, 3, 4, 6, 7, 9, 11, 4, 6, 1, 2, 4, 5, 6, 11, 12, 6, 11, 1, 2, 3, 4, 5, 9, 12, 8, 1, 2, 3, 4, 5, 6, 7, 8, 9, 10, 11, 13, 14, 15, 1, 2, 3, 4, 5, 6, 7, 8, 9, 10, 11, 12, 13, 4, 3, 13, 10, 13, 13, 1, 2, 3, 4, 5, 6, 7, 8, 9, 10, 11, 12, 13, 14, 1, 2, 3, 4, 5, 6, 7, 8, 9, 11, 12, 13, 14, 4, 7, 15, 1, 2, 3, 4, 5, 6, 7, 8, 9, 10, 11, 12, 13, 14, 15, 2, 12, 2, 3, 6, 7, 9, 10, 15], \"Freq\": [0.08354900032281876, 0.66839200258255, 0.08354900032281876, 0.08354900032281876, 0.8478578329086304, 0.029466185718774796, 0.05893237143754959, 0.7955870032310486, 0.05893237143754959, 0.8670557141304016, 0.08257673680782318, 0.443879634141922, 0.443879634141922, 0.4296342432498932, 0.8501430749893188, 0.10626788437366486, 0.9253278970718384, 0.2884174883365631, 0.5768349766731262, 0.39029571413993835, 0.03061142936348915, 0.14540427923202515, 0.03061142936348915, 0.3520314395427704, 0.03061142936348915, 0.015305714681744576, 0.19917716085910797, 0.19917716085910797, 0.39835432171821594, 0.3198862671852112, 0.1599431335926056, 0.1599431335926056, 0.3198862671852112, 0.3798873722553253, 0.12662912905216217, 0.08441941440105438, 0.04220970720052719, 0.12662912905216217, 0.21104854345321655, 0.04220970720052719, 0.09451067447662354, 0.2835320234298706, 0.09451067447662354, 0.09451067447662354, 0.2835320234298706, 0.8883516788482666, 0.31634193658828735, 0.22508946061134338, 0.06691848486661911, 0.0851689875125885, 0.15208746492862701, 0.06691848486661911, 0.030417494475841522, 0.0060834987089037895, 0.0060834987089037895, 0.018250497058033943, 0.012166997417807579, 0.018250497058033943, 0.44437217712402344, 0.2275301069021225, 0.10412395000457764, 0.25452521443367004, 0.10412395000457764, 0.06170308217406273, 0.08098529279232025, 0.0539901964366436, 0.007712885271757841, 0.04242086783051491, 0.015425770543515682, 0.030851541087031364, 0.015425770543515682, 0.16778460144996643, 0.6711384057998657, 0.44686487317085266, 0.17697586119174957, 0.35395172238349915, 0.17697586119174957, 0.17697586119174957, 0.20992623269557953, 0.03816840425133705, 0.13358941674232483, 0.019084202125668526, 0.3053472340106964, 0.11450521647930145, 0.03816840425133705, 0.019084202125668526, 0.019084202125668526, 0.03816840425133705, 0.019084202125668526, 0.03816840425133705, 0.49424195289611816, 0.12356048822402954, 0.11120443791151047, 0.02471209689974785, 0.08649233728647232, 0.03706814721226692, 0.02471209689974785, 0.03706814721226692, 0.012356048449873924, 0.012356048449873924, 0.012356048449873924, 0.02471209689974785, 0.7925902605056763, 0.9089255332946777, 0.07744157314300537, 0.3097662925720215, 0.15488314628601074, 0.15488314628601074, 0.07744157314300537, 0.15488314628601074, 0.07744157314300537, 0.07744157314300537, 0.8956401348114014, 0.1343064308166504, 0.8058385848999023, 0.22829605638980865, 0.6848881840705872, 0.8606279492378235, 0.9163177609443665, 0.07140079140663147, 0.2142023891210556, 0.14280158281326294, 0.0803258940577507, 0.062475696206092834, 0.0803258940577507, 0.14280158281326294, 0.14280158281326294, 0.008925098925828934, 0.017850197851657867, 0.017850197851657867, 0.017850197851657867, 0.778724730014801, 0.7790231108665466, 0.1680503785610199, 0.24302668869495392, 0.13961108028888702, 0.12409874051809311, 0.04653702676296234, 0.09048866480588913, 0.09824483096599579, 0.02068312279880047, 0.02068312279880047, 0.010341561399400234, 0.010341561399400234, 0.012926951982080936, 0.010341561399400234, 0.0025853903498500586, 0.8675096035003662, 0.25722241401672363, 0.5144448280334473, 0.7786241769790649, 0.3034537434577942, 0.3034537434577942, 0.7639352679252625, 0.06944865733385086, 0.06944865733385086, 0.06944865733385086, 0.44159960746765137, 0.44159960746765137, 0.21254462003707886, 0.21254462003707886, 0.4250892400741577, 0.44111329317092896, 0.8178063631057739, 0.4395853579044342, 0.10692617297172546, 0.11583668738603592, 0.0697990283370018, 0.06831394135951996, 0.07573936879634857, 0.0697990283370018, 0.014850856736302376, 0.004455257207155228, 0.005940342787653208, 0.011880685575306416, 0.007425428368151188, 0.007425428368151188, 0.001485085696913302, 0.001485085696913302, 0.8485782146453857, 0.18510325253009796, 0.27765488624572754, 0.030850542709231377, 0.15425270795822144, 0.030850542709231377, 0.18510325253009796, 0.06170108541846275, 0.030850542709231377, 0.09019473195075989, 0.27058419585227966, 0.27058419585227966, 0.09019473195075989, 0.27058419585227966, 0.874836266040802, 0.9720534682273865, 0.011173028498888016, 0.3119507431983948, 0.3119507431983948, 0.21163025498390198, 0.042326051741838455, 0.6348907351493835, 0.042326051741838455, 0.042326051741838455, 0.4758208394050598, 0.013994730077683926, 0.0559789203107357, 0.167936772108078, 0.083968386054039, 0.02798946015536785, 0.0419841930270195, 0.02798946015536785, 0.0419841930270195, 0.0419841930270195, 0.013994730077683926, 0.2913157641887665, 0.025331804528832436, 0.012665902264416218, 0.6142962574958801, 0.025331804528832436, 0.03166475519537926, 0.20929840207099915, 0.20929840207099915, 0.4185968041419983, 0.11212706565856934, 0.037375688552856445, 0.8222651481628418, 0.3867208659648895, 0.1289069652557373, 0.3867208659648895, 0.46697166562080383, 0.01879623346030712, 0.676664412021637, 0.01879623346030712, 0.0438578762114048, 0.006265411153435707, 0.05012328922748566, 0.03759246692061424, 0.07518493384122849, 0.006265411153435707, 0.006265411153435707, 0.056388698518276215, 0.9321295619010925, 0.013707787729799747, 0.006853893864899874, 0.02056168206036091, 0.013707787729799747, 0.006853893864899874, 0.006853893864899874, 0.7232978940010071, 0.18082447350025177, 0.3161862790584564, 0.3161862790584564, 0.16352061927318573, 0.16352061927318573, 0.6540824770927429, 0.09693905711174011, 0.7755124568939209, 0.7885518074035645, 0.8120089173316956, 0.9860679507255554, 0.0031008427031338215, 0.0031008427031338215, 0.0031008427031338215, 0.0031008427031338215, 0.794451117515564, 0.1324085295200348, 0.016095181927084923, 0.11266627162694931, 0.10461868345737457, 0.7484259605407715, 0.008047590963542461, 0.008047590963542461, 0.008047590963542461, 0.38451874256134033, 0.12871602177619934, 0.08472447097301483, 0.0928710550069809, 0.13523328304290771, 0.04887950047850609, 0.0700606182217598, 0.013034533709287643, 0.011405217461287975, 0.003258633427321911, 0.01629316806793213, 0.004887950140982866, 0.003258633427321911, 0.0016293167136609554, 0.3849717676639557, 0.27130094170570374, 0.6104271411895752, 0.06782523542642593, 0.5833346247673035, 0.08641993999481201, 0.08641993999481201, 0.043209969997406006, 0.021604984998703003, 0.15123489499092102, 0.021604984998703003, 0.7138307094573975, 0.17845767736434937, 0.23091167211532593, 0.23091167211532593, 0.46182334423065186, 0.3258192837238312, 0.3258192837238312, 0.1629096418619156, 0.8914204239845276, 0.9907822012901306, 0.0032699082512408495, 0.0032699082512408495, 0.01137269102036953, 0.19333574175834656, 0.24451285600662231, 0.24451285600662231, 0.005686345510184765, 0.07960883527994156, 0.09098152816295624, 0.07960883527994156, 0.02843172661960125, 0.01137269102036953, 0.01137269102036953, 0.6747608184814453, 0.11025188863277435, 0.11025188863277435, 0.4042569100856781, 0.29400503635406494, 0.07350125908851624, 0.09285232424736023, 0.7428185939788818, 0.09285232424736023, 0.2941960394382477, 0.5883920788764954, 0.8619132041931152, 0.7976234555244446, 0.3919427990913391, 0.04509076476097107, 0.013874081894755363, 0.01734260283410549, 0.4543761610984802, 0.01734260283410549, 0.02081112191081047, 0.010405560955405235, 0.003468520473688841, 0.02081112191081047, 0.003468520473688841, 0.2274463027715683, 0.4548926055431366, 0.06521183252334595, 0.42387694120407104, 0.19563551247119904, 0.032605916261672974, 0.19563551247119904, 0.06521183252334595, 0.08063486218452454, 0.2729179859161377, 0.16126972436904907, 0.0434187687933445, 0.06822949647903442, 0.06202681362628937, 0.1426616758108139, 0.05582413449883461, 0.012405362911522388, 0.012405362911522388, 0.049621451646089554, 0.024810725823044777, 0.006202681455761194, 0.8626202940940857, 0.2957744598388672, 0.5915489196777344, 0.7886320352554321, 0.6516432762145996, 0.3258216381072998, 0.11980301141738892, 0.23960602283477783, 0.47921204566955566, 0.29315894842147827, 0.5863178968429565, 0.46819913387298584, 0.320180743932724, 0.080045185983181, 0.4802711009979248, 0.080045185983181, 0.8865064978599548, 0.9839628338813782, 0.006929315626621246, 0.35772085189819336, 0.12877951562404633, 0.09300742298364639, 0.07869859039783478, 0.05008092150092125, 0.05008092150092125, 0.11447067558765411, 0.007154417224228382, 0.02861766889691353, 0.014308834448456764, 0.007154417224228382, 0.05723533779382706, 0.8178876042366028, 0.2454536408185959, 0.09545419365167618, 0.03181806579232216, 0.10454507172107697, 0.1545448899269104, 0.07272700220346451, 0.04545437917113304, 0.018181750550866127, 0.09999962896108627, 0.11818138509988785, 0.004545437637716532, 0.8579853773117065, 0.065998874604702, 0.42902877926826477, 0.018653424456715584, 0.03730684891343117, 0.4849890470504761, 0.03730684891343117, 0.8483356237411499, 0.3106173276901245, 0.621234655380249, 0.8607989549636841, 0.1517924815416336, 0.6577674150466919, 0.10119499266147614, 0.05059749633073807, 0.05059749633073807, 0.4154810309410095, 0.4154810309410095, 0.2756538689136505, 0.551307737827301, 0.07712382823228836, 0.03856191411614418, 0.23137149214744568, 0.6169906258583069, 0.1969497799873352, 0.5908493399620056, 0.1969497799873352, 0.8548367619514465, 0.3166342079639435, 0.19664649665355682, 0.1366526484489441, 0.03999589756131172, 0.10332273691892624, 0.049994874745607376, 0.07665880769491196, 0.006665983237326145, 0.01333196647465229, 0.016664957627654076, 0.00999897439032793, 0.006665983237326145, 0.02666393294930458, 0.0033329916186630726, 0.3899100124835968, 0.1949550062417984, 0.3899100124835968, 0.3315292000770569, 0.12175630033016205, 0.1598968207836151, 0.09388437867164612, 0.08068188279867172, 0.07334716618061066, 0.07041328400373459, 0.016136376187205315, 0.013202490285038948, 0.011735547333955765, 0.007334716618061066, 0.007334716618061066, 0.008801660500466824, 0.0014669434167444706, 0.0014669434167444706, 0.4406616687774658, 0.06487032771110535, 0.5189626216888428, 0.19461098313331604, 0.016217581927776337, 0.08108790963888168, 0.08108790963888168, 0.03243516385555267, 0.4465673267841339, 0.4465673267841339, 0.7880845069885254, 0.10604361444711685, 0.7423052787780762, 0.10604361444711685, 0.2322852909564972, 0.0580713227391243, 0.6387845277786255, 0.4496324360370636, 0.4496324360370636, 0.3479643166065216, 0.3479643166065216, 0.42731812596321106, 0.42731812596321106, 0.943718671798706, 0.023017529398202896, 0.015345019288361073, 0.007672509644180536, 0.007672509644180536, 0.29263612627983093, 0.5852722525596619, 0.019698411226272583, 0.6697459816932678, 0.05909523367881775, 0.07879364490509033, 0.039396822452545166, 0.039396822452545166, 0.09849205613136292, 0.7848178744316101, 0.29997017979621887, 0.14241008460521698, 0.14544008672237396, 0.09393005818128586, 0.027270017191767693, 0.1212000697851181, 0.08181004971265793, 0.015150008723139763, 0.02424001507461071, 0.02424001507461071, 0.0030300018843263388, 0.0030300018843263388, 0.012120007537305355, 0.0030300018843263388, 0.0030300018843263388, 0.7835648059844971, 0.847034215927124, 0.44789761304855347, 0.44789761304855347, 0.07769836485385895, 0.8546820282936096, 0.038849182426929474, 0.9481720924377441, 0.0177228432148695, 0.00886142160743475, 0.0177228432148695, 0.4275204539299011, 0.4275204539299011, 0.5933653116226196, 0.2966826558113098, 0.2468768060207367, 0.22973258793354034, 0.1817287653684616, 0.037717290222644806, 0.027430756017565727, 0.020573066547513008, 0.1817287653684616, 0.010286533273756504, 0.006857689004391432, 0.006857689004391432, 0.020573066547513008, 0.030859600752592087, 0.6985886096954346, 0.3866436779499054, 0.12565919756889343, 0.08216177672147751, 0.024165229871869087, 0.06766264140605927, 0.06282959878444672, 0.14499136805534363, 0.00966609176248312, 0.014499137178063393, 0.028998274356126785, 0.05316350236535072, 0.5229385495185852, 0.14261959493160248, 0.19015946984291077, 0.09507973492145538, 0.09507973492145538, 0.490485280752182, 0.490485280752182, 0.4757196009159088, 0.00872880034148693, 0.004364400170743465, 0.41461798548698425, 0.05673719942569733, 0.004364400170743465, 0.026186399161815643, 0.4519367218017578, 0.4519367218017578, 0.8935103416442871, 0.06334899365901947, 0.7443506717681885, 0.015837248414754868, 0.031674496829509735, 0.015837248414754868, 0.06334899365901947, 0.047511741518974304, 0.8120044469833374, 0.8467642068862915, 0.26110053062438965, 0.08703351020812988, 0.6092345714569092, 0.08703351020812988, 0.24683256447315216, 0.5759426355361938, 0.054851680994033813, 0.08227752149105072, 0.027425840497016907, 0.12827549874782562, 0.17103399336338043, 0.5558605194091797, 0.08551699668169022, 0.04275849834084511, 0.7282711863517761, 0.8162890672683716, 0.8332319259643555, 0.3433240056037903, 0.17166200280189514, 0.3433240056037903, 0.2385009080171585, 0.015900060534477234, 0.6201023459434509, 0.03180012106895447, 0.0954003632068634, 0.8482755422592163, 0.966019868850708, 0.016751790419220924, 0.00558392982929945, 0.9037989377975464, 0.035890933126211166, 0.006525624077767134, 0.003262812038883567, 0.009788435883820057, 0.006525624077767134, 0.016314059495925903, 0.003262812038883567, 0.003262812038883567, 0.006525624077767134, 0.32227012515068054, 0.16601793467998505, 0.11718913167715073, 0.11230625212192535, 0.09155400842428207, 0.05004952475428581, 0.06469816714525223, 0.010986480861902237, 0.0170900821685791, 0.00854504108428955, 0.01464864145964384, 0.00854504108428955, 0.013427921570837498, 0.0024414402432739735, 0.0012207201216369867, 0.2732420563697815, 0.2732420563697815, 0.22770170867443085, 0.22770170867443085, 0.7217473983764648, 0.8887724280357361, 0.9026501774787903, 0.874390721321106, 0.7340106964111328, 0.8247448801994324, 0.740155041217804, 0.42776092886924744, 0.42776092886924744, 0.8959109783172607, 0.4319743812084198, 0.10799359530210495, 0.32398077845573425, 0.10799359530210495, 0.28855159878730774, 0.5771031975746155, 0.8290016651153564, 0.3196072280406952, 0.3196072280406952, 0.13149014115333557, 0.06574507057666779, 0.32872533798217773, 0.13149014115333557, 0.32872533798217773, 0.6737247109413147, 0.036589957773685455, 0.07317991554737091, 0.14635983109474182, 0.036589957773685455, 0.036589957773685455, 0.29271966218948364, 0.036589957773685455, 0.036589957773685455, 0.14635983109474182, 0.14635983109474182, 0.3815172016620636, 0.10983070731163025, 0.1618557721376419, 0.057805635035037994, 0.01734169013798237, 0.12139183282852173, 0.06358619779348373, 0.028902817517518997, 0.01734169013798237, 0.005780563689768314, 0.011561127379536629, 0.011561127379536629, 0.011561127379536629, 0.1264704465866089, 0.5058817863464355, 0.2529408931732178, 0.17705611884593964, 0.7082244753837585, 0.270730584859848, 0.18833431601524353, 0.11182349920272827, 0.0500263050198555, 0.11182349920272827, 0.07945354282855988, 0.08239626884460449, 0.020599067211151123, 0.014713618904352188, 0.029427237808704376, 0.01177089475095272, 0.014713618904352188, 0.008828171528875828, 0.00294272368773818, 0.877935528755188, 0.8712134957313538, 0.9363490343093872, 0.652117908000946, 0.8465646505355835, 0.8619655966758728, 0.19096212089061737, 0.06365404278039932, 0.5728863477706909, 0.06365404278039932, 0.06365404278039932, 0.06365404278039932, 0.15943129360675812, 0.31886258721351624, 0.47829386591911316, 0.09778967499732971, 0.043462079018354416, 0.49981388449668884, 0.2064448744058609, 0.054327595978975296, 0.010865519754588604, 0.06519311666488647, 0.021731039509177208, 0.31424468755722046, 0.31424468755722046, 0.6533774733543396, 0.8480620384216309, 0.2376585751771927, 0.09902440756559372, 0.019804881885647774, 0.019804881885647774, 0.17824393510818481, 0.1584390550851822, 0.019804881885647774, 0.03960976377129555, 0.0792195275425911, 0.1584390550851822, 0.45016998052597046, 0.8057121634483337, 0.10071402043104172, 0.7684352397918701, 0.16466470062732697, 0.05488823354244232, 0.4924198091030121, 0.4924198091030121, 0.9042796492576599, 0.8044357895851135, 0.43533584475517273, 0.43533584475517273, 0.9815094470977783, 0.0024056604597717524, 0.0024056604597717524, 0.00962264183908701, 0.01360197365283966, 0.1360197365283966, 0.29924342036247253, 0.18589363992214203, 0.00906798243522644, 0.14508771896362305, 0.09974780678749084, 0.0453399121761322, 0.03173793852329254, 0.01360197365283966, 0.01360197365283966, 0.15957355499267578, 0.15957355499267578, 0.039893388748168945, 0.039893388748168945, 0.4388272762298584, 0.039893388748168945, 0.07978677749633789, 0.039893388748168945, 0.039893388748168945, 0.9727535247802734, 0.011911267414689064, 0.003970422316342592, 0.003970422316342592, 0.003970422316342592, 0.9537860155105591, 0.027251029387116432, 0.8924664855003357, 0.3680064082145691, 0.11917305737733841, 0.1763761341571808, 0.10105875134468079, 0.0753173753619194, 0.043855685740709305, 0.045762453228235245, 0.014300767332315445, 0.010487229563295841, 0.018114306032657623, 0.016207536682486534, 0.005720306653529406, 0.005720306653529406, 0.0009533845004625618, 0.6031694412231445, 0.05728425085544586, 0.013478646986186504, 0.015163478441536427, 0.21060386300086975, 0.02190280146896839, 0.013478646986186504, 0.005054492503404617, 0.005054492503404617, 0.045490436255931854, 0.003369661746546626, 0.001684830873273313, 0.001684830873273313, 0.7804574370384216, 0.23698343336582184, 0.7109503149986267, 0.9444952607154846, 0.20982502400875092, 0.41965004801750183, 0.20982502400875092, 0.5069996118545532, 0.07242851704359055, 0.07242851704359055, 0.2897140681743622, 0.03621425852179527, 0.23936112225055695, 0.2992013990879059, 0.2992013990879059, 0.059840280562639236, 0.1298905909061432, 0.4296381175518036, 0.1498737633228302, 0.05994950607419014, 0.06994108855724335, 0.019983168691396713, 0.08992426097393036, 0.02997475303709507, 0.8354451060295105, 0.10443063825368881, 0.4499337077140808, 0.8666554093360901, 0.8970187306404114, 0.013591193594038486, 0.027182387188076973, 0.027182387188076973, 0.027182387188076973, 0.013591193594038486, 0.8353976607322693, 0.728409469127655, 0.06015495955944061, 0.6416528820991516, 0.040103305131196976, 0.020051652565598488, 0.08020661026239395, 0.040103305131196976, 0.020051652565598488, 0.06015495955944061, 0.020051652565598488, 0.040103305131196976, 0.8065440654754639, 0.13442401587963104, 0.5713053345680237, 0.3277428448200226, 0.3277428448200226, 0.8866577744483948, 0.3093455135822296, 0.4640182554721832, 0.8564348816871643, 0.4528126120567322, 0.4528126120567322, 0.8499349355697632, 0.28255096077919006, 0.5651019215583801, 0.2492481768131256, 0.1246240884065628, 0.2492481768131256, 0.3738722801208496, 0.022959843277931213, 0.1836787462234497, 0.13775905966758728, 0.4821566939353943, 0.11479920893907547, 0.022959843277931213, 0.022959843277931213, 0.022959843277931213, 0.15235157310962677, 0.10156772285699844, 0.2539193034172058, 0.2031354457139969, 0.2031354457139969, 0.7369044423103333, 0.8286129236221313, 0.19138658046722412, 0.19138658046722412, 0.38277316093444824, 0.15087351202964783, 0.12604622542858124, 0.2902882695198059, 0.18524974584579468, 0.017188120633363724, 0.1126776859164238, 0.04965457320213318, 0.009548956528306007, 0.02673707716166973, 0.011458748020231724, 0.009548956528306007, 0.007639165036380291, 0.0019097912590950727, 0.0019097912590950727, 0.0019097912590950727, 0.0044373502023518085, 0.2085554599761963, 0.3194892108440399, 0.013312050141394138, 0.11980845034122467, 0.09318435192108154, 0.10205905139446259, 0.08874700218439102, 0.0044373502023518085, 0.0044373502023518085, 0.017749400809407234, 0.013312050141394138, 0.013312050141394138, 0.29867640137672424, 0.5973528027534485, 0.793344259262085, 0.11333489418029785, 0.26478657126426697, 0.7060975432395935, 0.24763014912605286, 0.24763014912605286, 0.4952602982521057, 0.8256584405899048, 0.8868301510810852, 0.8260727524757385, 0.1728050708770752, 0.6912202835083008, 0.28712770342826843, 0.5742554068565369, 0.8373309373855591, 0.06685912609100342, 0.006367535330355167, 0.022286374121904373, 0.01591883972287178, 0.022286374121904373, 0.0031837676651775837, 0.009551303461194038, 0.009551303461194038, 0.0031837676651775837, 0.8617475032806396, 0.4392719566822052, 0.44929561018943787, 0.44929561018943787, 0.983534574508667, 0.0043907794170081615, 0.0029271862003952265, 0.0014635931001976132, 0.0043907794170081615, 0.0014635931001976132, 0.9706658124923706, 0.006202337332069874, 0.006202337332069874, 0.012404674664139748, 0.0015505843330174685, 0.0015505843330174685, 0.0015505843330174685, 0.0015505843330174685, 0.9424359202384949, 0.06437159329652786, 0.016688931733369827, 0.0023841331712901592, 0.8940499424934387, 0.011920665390789509, 0.0047682663425803185, 0.0023841331712901592, 0.0809985026717186, 0.0404992513358593, 0.8504842519760132, 0.029010972008109093, 0.6189007759094238, 0.009670324623584747, 0.009670324623584747, 0.10637356340885162, 0.009670324623584747, 0.04835161939263344, 0.058021944016218185, 0.04835161939263344, 0.04835161939263344, 0.009670324623584747, 0.20936992764472961, 0.014176089316606522, 0.0032714051194489002, 0.7317042946815491, 0.019628431648015976, 0.0010904683731496334, 0.017447493970394135, 0.0010904683731496334, 0.06396123021841049, 0.31980612874031067, 0.021320408210158348, 0.17056326568126678, 0.10660204291343689, 0.042640816420316696, 0.042640816420316696, 0.19188368320465088, 0.7804517149925232, 0.9625997543334961, 0.025783922523260117, 0.004490996245294809, 0.2739507853984833, 0.34131571650505066, 0.05389195680618286, 0.017963984981179237, 0.08981992304325104, 0.12125690281391144, 0.017963984981179237, 0.04490996152162552, 0.02245498076081276, 0.004490996245294809, 0.004490996245294809, 0.004490996245294809, 0.6092119812965393, 0.5116997957229614, 0.10964996367692947, 0.03654998540878296, 0.07309997081756592, 0.10964996367692947, 0.14619994163513184, 0.29547810554504395, 0.5909562110900879, 0.018841464072465897, 0.5464024543762207, 0.16015245020389557, 0.08478658646345139, 0.06594512611627579, 0.009420732036232948, 0.10362805426120758, 0.009420732036232948, 0.37643226981163025, 0.12547741830348969, 0.12547741830348969, 0.12547741830348969, 0.12547741830348969, 0.20052051544189453, 0.11458315700292587, 0.25781211256980896, 0.014322894625365734, 0.04296868294477463, 0.12890605628490448, 0.10026025772094727, 0.12890605628490448, 0.014322894625365734, 0.0238858200609684, 0.561316728591919, 0.1194290965795517, 0.1433149129152298, 0.0477716401219368, 0.0238858200609684, 0.05971454828977585, 0.0119429100304842, 0.886053204536438, 0.45547524094581604, 0.5313878059387207, 0.32368215918540955, 0.14524199068546295, 0.15769129991531372, 0.07677076756954193, 0.1120438203215599, 0.06432145088911057, 0.043572597205638885, 0.010374427773058414, 0.004149771295487881, 0.0186739694327116, 0.026973512023687363, 0.004149771295487881, 0.006224656943231821, 0.0020748856477439404, 0.3192162811756134, 0.3192162811756134, 0.8230670690536499, 0.9339619278907776, 0.8180227279663086, 0.42924246191978455, 0.21462123095989227, 0.21462123095989227, 0.06784234941005707, 0.2400575429201126, 0.17221519351005554, 0.07827962934970856, 0.07827962934970856, 0.10959148406982422, 0.10959148406982422, 0.04174913838505745, 0.02870253100991249, 0.018265247344970703, 0.0026093211490660906, 0.04174913838505745, 0.00782796274870634, 0.0026093211490660906, 0.0026093211490660906, 0.7199709415435791, 0.18315474689006805, 0.18636798858642578, 0.21368053555488586, 0.08354426920413971, 0.03855889290571213, 0.09961047768592834, 0.09157737344503403, 0.036952272057533264, 0.024099308997392654, 0.0032132412306964397, 0.011246344074606895, 0.011246344074606895, 0.016066204756498337, 0.36967113614082336, 0.061611853539943695, 0.08214914053678513, 0.3902083933353424, 0.04107457026839256, 0.04107457026839256, 0.01026864256709814, 0.10420617461204529, 0.25217893719673157, 0.17715048789978027, 0.09795380383729935, 0.04376659169793129, 0.07711257040500641, 0.08753318339586258, 0.07294432073831558, 0.020841235294938087, 0.014588864520192146, 0.006252370309084654, 0.02709360420703888, 0.014588864520192146, 0.004168246872723103, 0.29411736130714417, 0.29411736130714417, 0.2878953516483307, 0.5757907032966614, 0.2689988911151886, 0.2689988911151886, 0.2689988911151886, 0.23857082426548004, 0.4771416485309601, 0.30223318934440613, 0.18889574706554413, 0.2266748994588852, 0.018889574334025383, 0.07555829733610153, 0.018889574334025383, 0.018889574334025383, 0.0566687248647213, 0.018889574334025383, 0.018889574334025383, 0.018889574334025383, 0.018889574334025383, 0.018889574334025383, 0.7753391265869141, 0.0783170834183693, 0.010442277416586876, 0.03654797002673149, 0.033937402069568634, 0.01566341705620289, 0.023495124652981758, 0.007831708528101444, 0.002610569354146719, 0.002610569354146719, 0.007831708528101444, 0.002610569354146719, 0.9664346575737, 0.2995138466358185, 0.13727717101573944, 0.012479743920266628, 0.04991897568106651, 0.19967590272426605, 0.17471641302108765, 0.04991897568106651, 0.04991897568106651, 0.012479743920266628, 0.024959487840533257, 0.33631664514541626, 0.1296907216310501, 0.15826664865016937, 0.11210554093122482, 0.05495369806885719, 0.048359256237745285, 0.07253888249397278, 0.021981479600071907, 0.004396295640617609, 0.013188887387514114, 0.021981479600071907, 0.010990739800035954, 0.008792591281235218, 0.0021981478203088045, 0.29126179218292236, 0.06472484022378922, 0.355986624956131, 0.09708725661039352, 0.03236242011189461, 0.03236242011189461, 0.03236242011189461, 0.09708725661039352, 0.5350775718688965, 0.14820493757724762, 0.034645311534404755, 0.015397915616631508, 0.1866997331380844, 0.015397915616631508, 0.023096872493624687, 0.007698957808315754, 0.003849478904157877, 0.005774218123406172, 0.017322655767202377, 0.005774218123406172, 0.822297990322113, 0.11341284960508347, 0.5670642852783203, 0.11341284960508347, 0.11341284960508347, 0.31249746680259705, 0.15624873340129852, 0.15624873340129852, 0.15624873340129852, 0.15624873340129852, 0.35146889090538025, 0.13768884539604187, 0.11594850569963455, 0.08333798497915268, 0.06884442269802094, 0.07971459627151489, 0.08333798497915268, 0.014493563212454319, 0.01811695285141468, 0.010870172642171383, 0.014493563212454319, 0.01811695285141468, 0.0036233908031135798, 0.0036233908031135798, 0.0036233908031135798, 0.4193418622016907, 0.1559285670518875, 0.13927599787712097, 0.05752704292535782, 0.04390221834182739, 0.06358251720666885, 0.072665736079216, 0.01968030445277691, 0.012110956013202667, 0.003027739003300667, 0.006055478006601334, 0.0015138695016503334, 0.004541608504951, 0.0015138695016503334, 0.974520742893219, 0.0076733920723199844, 0.0076733920723199844, 0.8872207403182983, 0.08193913102149963, 0.5735739469528198, 0.32775652408599854, 0.33511677384376526, 0.3024304509162903, 0.6048609018325806, 0.2387005090713501, 0.4774010181427002, 0.7857661843299866, 0.9804834723472595, 0.1896856129169464, 0.1896856129169464, 0.3793712258338928, 0.22751308977603912, 0.45502617955207825, 0.5752074718475342, 0.03383573144674301, 0.03383573144674301, 0.03383573144674301, 0.20301440358161926, 0.03383573144674301, 0.03383573144674301, 0.03383573144674301, 0.4405958652496338, 0.239908829331398, 0.119954414665699, 0.239908829331398, 0.3598632514476776, 0.6703363060951233, 0.30123767256736755, 0.10041255503892899, 0.20082511007785797, 0.10041255503892899, 0.20082511007785797, 0.28977763652801514, 0.28977763652801514, 0.21733322739601135, 0.14488881826400757, 0.07244440913200378, 0.9586803317070007, 0.558620274066925, 0.08275856077671051, 0.1448274701833725, 0.020689640194177628, 0.062068916857242584, 0.08275856077671051, 0.020689640194177628, 0.8298314213752747, 0.11469675600528717, 0.2558619976043701, 0.0882282704114914, 0.1764565408229828, 0.3529130816459656, 0.20334185659885406, 0.20334185659885406, 0.20334185659885406, 0.20334185659885406, 0.4446956515312195, 0.04987240955233574, 0.008312067948281765, 0.008312067948281765, 0.33663877844810486, 0.0955887883901596, 0.02493620477616787, 0.02909223921597004, 0.0041560339741408825, 0.5688331723213196, 0.04063094034790993, 0.0474027618765831, 0.01805819571018219, 0.21669834852218628, 0.045145489275455475, 0.01805819571018219, 0.006771823391318321, 0.009029097855091095, 0.0045145489275455475, 0.0045145489275455475, 0.009029097855091095, 0.006771823391318321, 0.0022572744637727737, 0.0022572744637727737, 0.04856395348906517, 0.09712790697813034, 0.19425581395626068, 0.0728459283709526, 0.0728459283709526, 0.4127936065196991, 0.024281976744532585, 0.024281976744532585, 0.04856395348906517, 0.8239082098007202, 0.04909628629684448, 0.04909628629684448, 0.3436740040779114, 0.4664147198200226, 0.04909628629684448, 0.02454814314842224, 0.02454814314842224, 0.06991314888000488, 0.1747828722000122, 0.39617452025413513, 0.04660876840353012, 0.04078267142176628, 0.18060897290706635, 0.01747828722000122, 0.005826096050441265, 0.02330438420176506, 0.02913047932088375, 0.005826096050441265, 0.9530338048934937, 0.010472899302840233, 0.020945798605680466, 0.010472899302840233, 0.05985553190112114, 0.7781218886375427, 0.05985553190112114, 0.09481462091207504, 0.37925848364830017, 0.04740731045603752, 0.04740731045603752, 0.37925848364830017, 0.5940352082252502, 0.2970176041126251, 0.33727413415908813, 0.07227302342653275, 0.12045504152774811, 0.43363815546035767, 0.02409100905060768, 0.3822554051876068, 0.18079647421836853, 0.12397472560405731, 0.04907332733273506, 0.041324909776449203, 0.09814665466547012, 0.036159295588731766, 0.020662454888224602, 0.03357648849487305, 0.010331227444112301, 0.0051656137220561504, 0.012914033606648445, 0.0025828068610280752, 0.0051656137220561504, 0.2527843713760376, 0.2757647931575775, 0.13788239657878876, 0.045960795134305954, 0.06894119828939438, 0.045960795134305954, 0.11490198969841003, 0.022980397567152977, 0.28680962324142456, 0.5736192464828491, 0.1925542652606964, 0.1925542652606964, 0.5776627659797668, 0.5668066740036011, 0.06297852098941803, 0.31489259004592896, 0.2937474846839905, 0.587494969367981, 0.9361121654510498, 0.48780131340026855, 0.15907897055149078, 0.18890626728534698, 0.009942435659468174, 0.019884871318936348, 0.20879113674163818, 0.019884871318936348, 0.21873357892036438, 0.039769742637872696, 0.06959705054759979, 0.019884871318936348, 0.039769742637872696, 0.13871175050735474, 0.13871175050735474, 0.2774235010147095, 0.2774235010147095, 0.28348296880722046, 0.2058626413345337, 0.06412114948034286, 0.033747974783182144, 0.08099513500928879, 0.057371556758880615, 0.13161709904670715, 0.03712277114391327, 0.016873987391591072, 0.006749594584107399, 0.033747974783182144, 0.013499189168214798, 0.02362358197569847, 0.006749594584107399, 0.0033747972920536995, 0.8606833219528198, 0.13757675886154175, 0.6878837943077087, 0.2913590371608734, 0.5827180743217468, 0.058467965573072433, 0.26085707545280457, 0.2383693903684616, 0.11693593114614487, 0.02248767949640751, 0.02248767949640751, 0.175403892993927, 0.04947289451956749, 0.017990143969655037, 0.004497535992413759, 0.004497535992413759, 0.004497535992413759, 0.008995071984827518, 0.031464800238609314, 0.015732400119304657, 0.031464800238609314, 0.8652819991111755, 0.04719720035791397, 0.7882820963859558, 0.07356764376163483, 0.11035146564245224, 0.11035146564245224, 0.2942705750465393, 0.14713528752326965, 0.07356764376163483, 0.18391910195350647, 0.3987157344818115, 0.10847412794828415, 0.11726932972669601, 0.09674719721078873, 0.09088373184204102, 0.04983946681022644, 0.05570293217897415, 0.014658666215837002, 0.029317332431674004, 0.005863466300070286, 0.011726932600140572, 0.005863466300070286, 0.008795199915766716, 0.002931733150035143, 0.36997202038764954, 0.12530115246772766, 0.10231691598892212, 0.06153843551874161, 0.15495821833610535, 0.0452270433306694, 0.06376271694898605, 0.01779424585402012, 0.014087111689150333, 0.00889712292701006, 0.01112140342593193, 0.013345684856176376, 0.008155696094036102, 0.002965707564726472, 0.000741426891181618, 0.21192602813243866, 0.15188032388687134, 0.14481613039970398, 0.1872013360261917, 0.0635778084397316, 0.06004571169614792, 0.12009142339229584, 0.024724703282117844, 0.007064200937747955, 0.021192602813243866, 0.010596301406621933, 0.0035321004688739777, 0.4336696267127991, 0.08673392236232758, 0.08673392236232758, 0.08673392236232758, 0.2602017819881439, 0.26773133873939514, 0.2044493854045868, 0.024339212104678154, 0.08275332301855087, 0.038942739367485046, 0.06328195333480835, 0.06814979016780853, 0.04381057992577553, 0.18497800827026367, 0.019471369683742523, 0.49179258942604065, 0.0785418152809143, 0.07491680979728699, 0.07370847463607788, 0.14862528443336487, 0.037458404898643494, 0.037458404898643494, 0.006041678134351969, 0.010875020176172256, 0.008458348922431469, 0.0193333700299263, 0.006041678134351969, 0.0036250068806111813, 0.04899315536022186, 0.15677809715270996, 0.3233548402786255, 0.07838904857635498, 0.27436167001724243, 0.019597262144088745, 0.058791786432266235, 0.009798631072044373, 0.009798631072044373, 0.019597262144088745, 0.09255838394165039, 0.06941878795623779, 0.023139595985412598, 0.7173274755477905, 0.046279191970825195, 0.046279191970825195, 0.3001537322998047, 0.3001537322998047, 0.31267789006233215, 0.10422595590353012, 0.5211297869682312, 0.4478265047073364, 0.8280094265937805, 0.9164076447486877, 0.11616790294647217, 0.2876538634300232, 0.18254956603050232, 0.04425443708896637, 0.06638165563344955, 0.14935873448848724, 0.06638165563344955, 0.022127218544483185, 0.01659541390836239, 0.03872263431549072, 0.01659541390836239, 0.30247944593429565, 0.12444868683815002, 0.14000476896762848, 0.10889260470867157, 0.07950888574123383, 0.07778043299913406, 0.05703898146748543, 0.03975444287061691, 0.020741447806358337, 0.020741447806358337, 0.013827632181346416, 0.008642270229756832, 0.001728454022668302, 0.001728454022668302, 0.001728454022668302, 0.04830695316195488, 0.2596498727798462, 0.060383688658475876, 0.3079568147659302, 0.09057553112506866, 0.13888248801231384, 0.030191844329237938, 0.02415347658097744, 0.00603836914524436, 0.00603836914524436, 0.018115106970071793, 0.01207673829048872, 0.00603836914524436, 0.15064913034439087, 0.2636359632015228, 0.07532456517219543, 0.07532456517219543, 0.2259736955165863, 0.07532456517219543, 0.11298684775829315, 0.11877750605344772, 0.2158070206642151, 0.2141340970993042, 0.0920107439160347, 0.041823066771030426, 0.10372120141983032, 0.09535659104585648, 0.03178552910685539, 0.03513137623667717, 0.013383381068706512, 0.00836461316794157, 0.015056303702294827, 0.010037535801529884, 0.001672922633588314, 0.804589569568634, 0.07543026655912399, 0.10057369619607925, 0.7135843634605408, 0.08289111405611038, 0.01801980659365654, 0.03243565186858177, 0.05045546218752861, 0.061267346143722534, 0.010811884887516499, 0.010811884887516499, 0.010811884887516499, 0.0036039615515619516, 0.0036039615515619516, 0.07374943047761917, 0.01618889905512333, 0.0017987665487453341, 0.8310301303863525, 0.03597532957792282, 0.03417656198143959, 0.005396299529820681, 0.1620989590883255, 0.011578496545553207, 0.005789248272776604, 0.7989162802696228, 0.011578496545553207, 0.005789248272776604, 0.4348810613155365, 0.07279124855995178, 0.10825365036725998, 0.05599327012896538, 0.11385297775268555, 0.06719192117452621, 0.07839057594537735, 0.013065095990896225, 0.009332211688160896, 0.013065095990896225, 0.007465769071131945, 0.01493153814226389, 0.00559932691976428, 0.0018664422677829862, 0.0018664422677829862, 0.046831026673316956, 0.8897895216941833, 0.046831026673316956, 0.19833986461162567, 0.19331860542297363, 0.17072291672229767, 0.06527641415596008, 0.047701992094516754, 0.07531893253326416, 0.14310598373413086, 0.03514883667230606, 0.025106312707066536, 0.0100425248965621, 0.015063786879181862, 0.0100425248965621, 0.0100425248965621, 0.002510631224140525, 0.5954334735870361, 0.0850619226694107, 0.2551857531070709, 0.35663631558418274, 0.12539267539978027, 0.1351635456085205, 0.11562182009220123, 0.061882100999355316, 0.058625150471925735, 0.06676752865314484, 0.024427145719528198, 0.024427145719528198, 0.0065139057114720345, 0.01139933429658413, 0.0081423819065094, 0.0016284764278680086, 0.0016284764278680086, 0.3102579414844513, 0.1683811992406845, 0.19176746904850006, 0.05300889536738396, 0.03741804137825966, 0.0467725545167923, 0.1075768768787384, 0.03741804137825966, 0.01714993640780449, 0.004677255172282457, 0.01403176598250866, 0.001559085096232593, 0.007795425597578287, 0.001559085096232593, 0.5491159558296204, 0.2196463793516159, 0.2196463793516159, 0.28602564334869385, 0.28602564334869385, 0.018219757825136185, 0.10931854695081711, 0.018219757825136185, 0.5283730030059814, 0.30973589420318604, 0.9833083152770996, 0.3404415249824524, 0.022696102038025856, 0.5976639986038208, 0.030261468142271042, 0.44270873069763184, 0.812224268913269, 0.9246377348899841, 0.8158261775970459, 0.7789005041122437, 0.7321123480796814, 0.07321123778820038, 0.14642247557640076, 0.3762839138507843, 0.18814195692539215, 0.063395656645298, 0.0879359170794487, 0.12474630028009415, 0.049080509692430496, 0.03272034227848053, 0.006135063711553812, 0.008180085569620132, 0.008180085569620132, 0.012270127423107624, 0.02249523438513279, 0.018405191600322723, 0.002045021392405033, 0.57563316822052, 0.09068194031715393, 0.06505443900823593, 0.07293982058763504, 0.08673924952745438, 0.039426930248737335, 0.033512890338897705, 0.007885386236011982, 0.005914039444178343, 0.01774211786687374, 0.0019713465590029955, 0.0019713465590029955, 0.0019713465590029955, 0.0019713465590029955, 0.2312830686569214, 0.2312830686569214, 0.016520218923687935, 0.36344483494758606, 0.016520218923687935, 0.1156415343284607, 0.28712227940559387, 0.5742445588111877, 0.8473407030105591, 0.8695631623268127, 0.09661813080310822, 0.3800427317619324, 0.21486516296863556, 0.12220455706119537, 0.11146129667758942, 0.03625849634408951, 0.05371629074215889, 0.03491558879613876, 0.005371628794819117, 0.010743257589638233, 0.013429072685539722, 0.0013429071987047791, 0.006714536342769861, 0.004028721712529659, 0.0013429071987047791, 0.0013429071987047791, 0.8769958019256592, 0.6345313787460327, 0.09648939222097397, 0.2894681692123413, 0.3859575688838959, 0.09648939222097397, 0.09648939222097397, 0.014177791774272919, 0.0354444794356823, 0.524578332901001, 0.12051123380661011, 0.2835558354854584, 0.014177791774272919, 0.373188853263855, 0.373188853263855, 0.2119612842798233, 0.6358838677406311, 0.44011589884757996, 0.13394832611083984, 0.019135475158691406, 0.07654190063476562, 0.019135475158691406, 0.03827095031738281, 0.09567736834287643, 0.03827095031738281, 0.09567736834287643, 0.6166441440582275, 0.16916786134243011, 0.01637108251452446, 0.02182811126112938, 0.02728513814508915, 0.04365622252225876, 0.0545702762901783, 0.005457027815282345, 0.005457027815282345, 0.005457027815282345, 0.03274216502904892, 0.8192680478096008, 0.7833397388458252, 0.8600295186042786, 0.891675591468811, 0.3620832860469818, 0.3620832860469818, 0.806350588798523, 0.1151929423213005, 0.4529295265674591, 0.4529295265674591, 0.6323772668838501, 0.8254968523979187, 0.8676632046699524, 0.48921406269073486, 0.08352435380220413, 0.011932050809264183, 0.178980752825737, 0.178980752825737, 0.0357961505651474, 0.023864101618528366, 0.011932050809264183, 0.725097119808197, 0.7852431535720825, 0.09815539419651031, 0.09815539419651031, 0.8212260007858276, 0.8145244121551514, 0.43942999839782715, 0.43942999839782715, 0.7731166481971741, 0.12885276973247528, 0.402052104473114, 0.31829124689102173, 0.08376085758209229, 0.033504340797662735, 0.05025651305913925, 0.033504340797662735, 0.033504340797662735, 0.016752170398831367, 0.44219616055488586, 0.7930201292037964, 0.45949676632881165, 0.17904099822044373, 0.013772384263575077, 0.013772384263575077, 0.7161639928817749, 0.013772384263575077, 0.06886192411184311, 0.12905050814151764, 0.043016836047172546, 0.12905050814151764, 0.602235734462738, 0.043016836047172546, 0.5725159049034119, 0.13261666893959045, 0.03558008372783661, 0.0884111151099205, 0.04420555755496025, 0.015094581060111523, 0.07978564500808716, 0.00970365945249796, 0.002156368689611554, 0.003234553150832653, 0.012938212603330612, 0.004312737379223108, 0.014548500999808311, 0.5528430342674255, 0.13093650341033936, 0.08729100972414017, 0.0727425068616867, 0.014548500999808311, 0.11638800799846649, 0.014548500999808311, 0.9790113568305969, 0.004351161420345306, 0.008702322840690613, 0.004351161420345306, 0.0848555788397789, 0.7637001872062683, 0.0848555788397789, 0.2804589569568634, 0.09348631650209427, 0.09348631650209427, 0.09348631650209427, 0.3739452660083771, 0.309857040643692, 0.3520365357398987, 0.10382644832134247, 0.025956612080335617, 0.06002466380596161, 0.03406805172562599, 0.045424070209264755, 0.024334324523806572, 0.024334324523806572, 0.001622288255020976, 0.006489153020083904, 0.006489153020083904, 0.003244576510041952, 0.003244576510041952, 0.139973983168602, 0.4199219346046448, 0.279947966337204, 0.139973983168602, 0.8018364310264587, 0.24128283560276031, 0.48256567120552063, 0.9178339838981628, 0.860109269618988, 0.634452760219574, 0.46878790855407715, 0.18751516938209534, 0.2812727391719818, 0.81907719373703, 0.081907719373703, 0.081907719373703, 0.24387742578983307, 0.48775485157966614, 0.0212372038513422, 0.4884556829929352, 0.10618601739406586, 0.0424744077026844, 0.23360924422740936, 0.0212372038513422, 0.06371161341667175, 0.0212372038513422, 0.2882682979106903, 0.17034035921096802, 0.177827849984169, 0.05802803486585617, 0.05054054409265518, 0.09172172844409943, 0.04866867512464523, 0.02994995191693306, 0.016846848651766777, 0.02807808108627796, 0.011231232434511185, 0.016846848651766777, 0.011231232434511185, 0.0018718719948083162, 0.17638926208019257, 0.017148956656455994, 0.00734955258667469, 0.730055570602417, 0.02204865776002407, 0.002449850784614682, 0.04409731552004814, 0.4221099019050598, 0.14047034084796906, 0.07757318019866943, 0.06918688863515854, 0.1264932006597519, 0.04961887747049332, 0.053812023252248764, 0.016073720529675484, 0.012579433619976044, 0.007687431760132313, 0.007687431760132313, 0.007687431760132313, 0.006988574285060167, 0.001397714950144291, 0.04841497540473938, 0.019365990534424782, 0.5712966918945312, 0.038731981068849564, 0.019365990534424782, 0.06778096407651901, 0.06778096407651901, 0.019365990534424782, 0.009682995267212391, 0.07746396213769913, 0.019365990534424782, 0.019365990534424782, 0.4544922113418579, 0.4544922113418579, 0.018270935863256454, 0.2740640640258789, 0.14616748690605164, 0.03654187172651291, 0.03654187172651291, 0.3288768529891968, 0.12789656221866608, 0.03654187172651291, 0.5857162475585938, 0.09085902571678162, 0.03569461777806282, 0.014602343551814556, 0.0665217861533165, 0.04867447912693024, 0.0892365425825119, 0.022714756429195404, 0.01784730888903141, 0.003244965337216854, 0.003244965337216854, 0.011357378214597702, 0.003244965337216854, 0.004867448005825281, 0.8880442380905151, 0.9375658631324768, 0.5726180672645569, 0.28630903363227844, 0.1854526698589325, 0.18158908188343048, 0.1545438915491104, 0.09272633492946625, 0.05022676661610603, 0.17386187613010406, 0.0734083503484726, 0.0193179864436388, 0.007727194577455521, 0.023181583732366562, 0.007727194577455521, 0.0193179864436388, 0.011590791866183281, 0.7800971269607544, 0.783399760723114, 0.3380385935306549, 0.06595875322818756, 0.12367265671491623, 0.1978762447834015, 0.01648968830704689, 0.024734530597925186, 0.07420359551906586, 0.09069328010082245, 0.024734530597925186, 0.024734530597925186, 0.008244844153523445, 0.03764334321022034, 0.7528669238090515, 0.15057337284088135, 0.5515753030776978, 0.8669233918190002, 0.10827048122882843, 0.7578933835029602, 0.10827048122882843, 0.8466346859931946, 0.36329570412635803, 0.17317722737789154, 0.1788243055343628, 0.06964736431837082, 0.04141194373369217, 0.054588474333286285, 0.060235556215047836, 0.0169412512332201, 0.0169412512332201, 0.009411806240677834, 0.009411806240677834, 0.0037647222634404898, 0.0037647222634404898, 0.8468475341796875, 0.059431999921798706, 0.08914799988269806, 0.5051720142364502, 0.029715999960899353, 0.11886399984359741, 0.029715999960899353, 0.014857999980449677, 0.059431999921798706, 0.029715999960899353, 0.04457399994134903, 0.04884582385420799, 0.43961241841316223, 0.03256388381123543, 0.016281941905617714, 0.04884582385420799, 0.16281941533088684, 0.016281941905617714, 0.06512776762247086, 0.11397359520196915, 0.04884582385420799, 0.3185179829597473, 0.1669473499059677, 0.09445705264806747, 0.08347367495298386, 0.0856703519821167, 0.08347367495298386, 0.07908032089471817, 0.02416343241930008, 0.008786702528595924, 0.01757340505719185, 0.008786702528595924, 0.013180053792893887, 0.013180053792893887, 0.002196675632148981, 0.44746530055999756, 0.44746530055999756, 0.22550800442695618, 0.18214108049869537, 0.1769370585680008, 0.1092846542596817, 0.09367255866527557, 0.04857095703482628, 0.08326449245214462, 0.02428547851741314, 0.020816123113036156, 0.0069387080147862434, 0.0069387080147862434, 0.010408061556518078, 0.00867338478565216, 0.8553271293640137, 0.0942443236708641, 0.15819582343101501, 0.2793670892715454, 0.14809821546077728, 0.016829343512654305, 0.13126887381076813, 0.06731737405061722, 0.03365868702530861, 0.03365868702530861, 0.006731737405061722, 0.003365868702530861, 0.010097606107592583, 0.006731737405061722, 0.006731737405061722, 0.003365868702530861, 0.13393133878707886, 0.18550258874893188, 0.17472650110721588, 0.09236643463373184, 0.11314888298511505, 0.09467560052871704, 0.09698475897312164, 0.04233461618423462, 0.01308524515479803, 0.01000636350363493, 0.009236644022166729, 0.016933847218751907, 0.01308524515479803, 0.001539440592750907, 0.003078881185501814, 0.17722775042057037, 0.17722775042057037, 0.20850323140621185, 0.08340129256248474, 0.09903903305530548, 0.09382645040750504, 0.0781887099146843, 0.020850323140621185, 0.010425161570310593, 0.01563774235546589, 0.03127548471093178, 0.8260198831558228, 0.017129696905612946, 0.06851878762245178, 0.20555636286735535, 0.35972362756729126, 0.17129696905612946, 0.10277818143367767, 0.017129696905612946, 0.017129696905612946, 0.017129696905612946, 0.017129696905612946, 0.017129696905612946, 0.27386316657066345, 0.1301293671131134, 0.14787428081035614, 0.03608132153749466, 0.11829941719770432, 0.10410349071025848, 0.09049905836582184, 0.025434374809265137, 0.018927907571196556, 0.010646947659552097, 0.015378925018012524, 0.01419593021273613, 0.009463953785598278, 0.002957485383376479, 0.0011829942231997848, 0.24662519991397858, 0.3082815110683441, 0.1327981799840927, 0.07114188373088837, 0.03794233873486519, 0.06639908999204636, 0.0853702649474144, 0.009485584683716297, 0.004742792341858149, 0.004742792341858149, 0.009485584683716297, 0.009485584683716297, 0.009485584683716297, 0.9653813242912292, 0.0205400288105011, 0.1545831710100174, 0.06323856860399246, 0.4778025448322296, 0.01405301596969366, 0.03513253852725029, 0.1616096794605255, 0.03513253852725029, 0.00702650798484683, 0.01405301596969366, 0.00702650798484683, 0.01405301596969366, 0.01405301596969366, 0.8380298614501953, 0.08380299061536789, 0.30352944135665894, 0.1860341876745224, 0.16862747073173523, 0.07833018153905869, 0.04895636439323425, 0.07833018153905869, 0.05330803990364075, 0.015230868943035603, 0.017406707629561424, 0.009791272692382336, 0.015230868943035603, 0.011967111378908157, 0.008703353814780712, 0.002175838453695178, 0.001087919226847589, 0.9828771352767944, 0.26131805777549744, 0.16412048041820526, 0.12269201129674911, 0.08923055231571198, 0.08923055231571198, 0.10516458004713058, 0.06692291796207428, 0.03186805546283722, 0.014340625144541264, 0.00956041645258665, 0.00956041645258665, 0.023901041597127914, 0.007967013865709305, 0.0031868056394159794, 0.23248030245304108, 0.18422967195510864, 0.14767616987228394, 0.10234981775283813, 0.0628720298409462, 0.08919055759906769, 0.08772841840982437, 0.032167088240385056, 0.024856384843587875, 0.004386420827358961, 0.008772841654717922, 0.008772841654717922, 0.010234981775283813, 0.001462140353396535, 0.001462140353396535, 0.1975821554660797, 0.2167915403842926, 0.11800045520067215, 0.11525626480579376, 0.0713491141796112, 0.1289772391319275, 0.04939553886651993, 0.04116294905543327, 0.01646517962217331, 0.008232589811086655, 0.010976786725223064, 0.013720983639359474, 0.013720983639359474, 0.002744196681305766, 0.4401552379131317, 0.4401552379131317, 0.39450803399086, 0.14617931842803955, 0.10743299126625061, 0.03346273675560951, 0.10038820654153824, 0.05283590033650398, 0.11800017207860947, 0.015850769355893135, 0.010567179881036282, 0.0035223932936787605, 0.005283589940518141, 0.0017611966468393803, 0.010567179881036282, 0.0017611966468393803, 0.18572601675987244, 0.18572601675987244, 0.18070639669895172, 0.1355298012495041, 0.040156975388526917, 0.06525509059429169, 0.12047092616558075, 0.030117731541395187, 0.020078487694263458, 0.0351373553276062, 0.3970208764076233, 0.03970208764076233, 0.19851043820381165, 0.17865939438343048, 0.019851043820381165, 0.17865939438343048, 0.9775125980377197, 0.4859422743320465, 0.0698038637638092, 0.10202103108167648, 0.026847640052437782, 0.1261838972568512, 0.07517339289188385, 0.005369527731090784, 0.0349019318819046, 0.03221716731786728, 0.00805429182946682, 0.01610858365893364, 0.010739055462181568, 0.002684763865545392, 0.8791564106941223, 0.8557395935058594, 0.32775020599365234, 0.32775020599365234, 0.9816364645957947, 0.005843074060976505, 0.005843074060976505, 0.020446471869945526, 0.5929476618766785, 0.0025558089837431908, 0.01789066195487976, 0.07156264781951904, 0.010223235934972763, 0.04089294373989105, 0.06389522552490234, 0.12267882376909256, 0.0025558089837431908, 0.05111617594957352, 0.11993873119354248, 0.4797549247741699, 0.008567051962018013, 0.11137168109416962, 0.17990809679031372, 0.017134103924036026, 0.02570115588605404, 0.042835261672735214, 0.008567051962018013, 0.4442037045955658, 0.148067906498909, 0.296135812997818, 0.476293683052063, 0.12032682448625565, 0.05514979362487793, 0.025068089365959167, 0.11029958724975586, 0.09024512022733688, 0.07019064575433731, 0.005013617686927319, 0.010027235373854637, 0.010027235373854637, 0.005013617686927319, 0.010027235373854637, 0.005013617686927319, 0.005013617686927319, 0.3154192566871643, 0.12616769969463348, 0.06308384984731674, 0.10513975471258163, 0.3574751615524292, 0.021027950569987297, 0.021027950569987297, 0.38083499670028687, 0.13908757269382477, 0.07837474346160889, 0.059608958661556244, 0.17330752313137054, 0.058505088090896606, 0.05188187211751938, 0.01324643474072218, 0.014350304380059242, 0.003311608685180545, 0.005519347731024027, 0.009934825822710991, 0.009934825822710991, 0.0022077392786741257, 0.28892260789871216, 0.5778452157974243, 0.7785463929176331, 0.028826704248785973, 0.9224545359611511, 0.028826704248785973, 0.9844748377799988, 0.0017706381622701883, 0.0017706381622701883, 0.0017706381622701883, 0.005311914719641209, 0.0017706381622701883, 0.5012010335922241, 0.25060051679611206, 0.21480044722557068, 0.14935560524463654, 0.14935560524463654, 0.5974224209785461, 0.4236718714237213, 0.1781347543001175, 0.02407226525247097, 0.019257811829447746, 0.20702147483825684, 0.014443359337747097, 0.07221679389476776, 0.009628905914723873, 0.004814452957361937, 0.004814452957361937, 0.03370117023587227, 0.021475233137607574, 0.010737616568803787, 0.9341726303100586, 0.010737616568803787, 0.010737616568803787, 0.06982149183750153, 0.7680363655090332, 0.06982149183750153, 0.06982149183750153, 0.24058692157268524, 0.5361651182174683, 0.027495646849274635, 0.06873911619186401, 0.013747823424637318, 0.006873911712318659, 0.013747823424637318, 0.05499129369854927, 0.006873911712318659, 0.020621735602617264, 0.006873911712318659, 0.2623564600944519, 0.41977035999298096, 0.017490431666374207, 0.017490431666374207, 0.12243302166461945, 0.10494258999824524, 0.03498086333274841, 0.0800335556268692, 0.2501048445701599, 0.1500629186630249, 0.2100880742073059, 0.0900377482175827, 0.05502306669950485, 0.1100461333990097, 0.01000419445335865, 0.01000419445335865, 0.0150062907487154, 0.005002097226679325, 0.005002097226679325, 0.01000419445335865, 0.0947326049208641, 0.04736630246043205, 0.23683151602745056, 0.0947326049208641, 0.23683151602745056, 0.33156412839889526, 0.4781259000301361, 0.4781259000301361, 0.6154466271400452, 0.3077233135700226, 0.44131726026535034, 0.13615107536315918, 0.09859215468168259, 0.07981269806623459, 0.05164350941777229, 0.07511783391237259, 0.028169186785817146, 0.009389729239046574, 0.014084593392908573, 0.032864052802324295, 0.009389729239046574, 0.004694864619523287, 0.014084593392908573, 0.11122167110443115, 0.324396550655365, 0.009268472902476788, 0.38927584886550903, 0.12049014866352081, 0.027805417776107788, 0.7802067399024963, 0.30267107486724854, 0.6053421497344971, 0.925468385219574, 0.19712360203266144, 0.19712360203266144, 0.5913707613945007, 0.7785385251045227, 0.9718307852745056, 0.8783948421478271, 0.5281816720962524, 0.17606055736541748, 0.17606055736541748, 0.44683223962783813, 0.44683223962783813, 0.779688835144043, 0.966651976108551, 0.009764160960912704, 0.30439603328704834, 0.5073267221450806, 0.06764356046915054, 0.03382178023457527, 0.03382178023457527, 0.2911994755268097, 0.5823989510536194, 0.8178703188896179, 0.042822692543268204, 0.08564538508653641, 0.21411347389221191, 0.5138723254203796, 0.08564538508653641, 0.042822692543268204, 0.3279222846031189, 0.3279222846031189, 0.37980836629867554, 0.164289191365242, 0.07949477434158325, 0.08302787691354752, 0.08126132190227509, 0.06359581649303436, 0.08302787691354752, 0.021198606118559837, 0.008832752704620361, 0.007066201884299517, 0.010599303059279919, 0.007066201884299517, 0.007066201884299517, 0.0017665504710748792, 0.0017665504710748792, 0.13033446669578552, 0.26066893339157104, 0.26066893339157104, 0.13033446669578552, 0.13033446669578552, 0.258792906999588, 0.6469822525978088, 0.48009681701660156, 0.11662270873785019, 0.012958078645169735, 0.029155677184462547, 0.22352685034275055, 0.02591615729033947, 0.057015545666217804, 0.013605982065200806, 0.0051832315512001514, 0.0032395196612924337, 0.022028733044862747, 0.0064790393225848675, 0.0025916157756000757, 0.0012958078878000379, 0.5376471281051636, 0.2067873626947403, 0.2067873626947403, 0.4033445417881012, 0.13209974765777588, 0.12153176218271255, 0.0722145289182663, 0.07045319676399231, 0.08102117478847504, 0.03874925896525383, 0.014090639539062977, 0.02465861849486828, 0.007045319769531488, 0.01232930924743414, 0.014090639539062977, 0.003522659884765744, 0.001761329942382872, 0.09199949353933334, 0.44895753264427185, 0.011039938777685165, 0.003679979592561722, 0.1545591503381729, 0.1692790687084198, 0.003679979592561722, 0.04783973470330238, 0.06623963266611099, 0.003679979592561722, 0.003679979592561722, 0.10995294153690338, 0.10995294153690338, 0.3436029255390167, 0.13744117319583893, 0.21990588307380676, 0.04123235121369362, 0.027488235384225845, 0.4524133801460266, 0.12699322402477264, 0.08532357960939407, 0.09524492174386978, 0.06151234731078148, 0.0575438067317009, 0.04563819244503975, 0.003968538250774145, 0.025795500725507736, 0.00793707650154829, 0.011905615217983723, 0.013889884576201439, 0.005952807608991861, 0.0019842691253870726, 0.0019842691253870726, 0.7898289561271667, 0.3833739161491394, 0.5511000156402588, 0.047921739518642426, 0.023960869759321213, 0.6689946055412292, 0.1102406457066536, 0.040773939341306686, 0.045304376631975174, 0.02114204317331314, 0.019631896167993546, 0.0362435020506382, 0.012081166729331017, 0.012081166729331017, 0.006040583364665508, 0.001510145841166377, 0.01057102158665657, 0.007550729438662529, 0.006040583364665508, 0.8258382678031921, 0.28604310750961304, 0.28604310750961304, 0.7785032391548157, 0.8216996192932129, 0.9292293787002563, 0.2393380105495453, 0.21966639161109924, 0.1934375762939453, 0.059014853090047836, 0.04262183606624603, 0.08196507394313812, 0.08196507394313812, 0.022950220853090286, 0.026228822767734528, 0.013114411383867264, 0.006557205691933632, 0.009835808537900448, 0.003278602845966816, 0.030559327453374863, 0.18335597217082977, 0.18335597217082977, 0.030559327453374863, 0.061118654906749725, 0.1527966409921646, 0.3361526131629944, 0.030559327453374863, 0.19390857219696045, 0.19390857219696045, 0.024238571524620056, 0.14543142914772034, 0.3393400013446808, 0.024238571524620056, 0.024238571524620056, 0.024238571524620056, 0.9783437252044678, 0.8229743838310242, 0.0822974368929863, 0.44445645809173584, 0.44445645809173584, 0.1545574963092804, 0.7727874517440796, 0.13227148354053497, 0.1454986184835434, 0.2562759816646576, 0.18848685920238495, 0.019840721040964127, 0.06778912991285324, 0.10416378825902939, 0.024800902232527733, 0.01653393544256687, 0.008266967721283436, 0.004960180260241032, 0.011573754251003265, 0.018187327310442924, 0.003306786995381117, 0.0016533934976905584, 0.12209225445985794, 0.24418450891971588, 0.12209225445985794, 0.48836901783943176, 0.09386873245239258, 0.5632123947143555, 0.04693436622619629, 0.09386873245239258, 0.023467183113098145, 0.023467183113098145, 0.023467183113098145, 0.11733591556549072, 0.870202898979187, 0.02288699895143509, 0.04577399790287018, 0.2288699895143509, 0.04577399790287018, 0.04577399790287018, 0.4806269705295563, 0.09154799580574036, 0.02288699895143509, 0.10167893022298813, 0.050839465111494064, 0.6609130501747131, 0.10167893022298813, 0.050839465111494064, 0.8122276663780212, 0.37842702865600586, 0.10079598426818848, 0.03713536262512207, 0.07780742645263672, 0.22988557815551758, 0.04244041442871094, 0.08311247825622559, 0.014146804809570312, 0.005305051803588867, 0.007073402404785156, 0.0159151554107666, 0.003536701202392578, 0.003536701202392578, 0.001768350601196289, 0.15341554582118988, 0.20455406606197357, 0.15128478407859802, 0.1108001172542572, 0.08736163377761841, 0.12145397812128067, 0.06392314285039902, 0.036223117262125015, 0.012784629128873348, 0.019176943227648735, 0.004261543042957783, 0.012784629128873348, 0.023438487201929092, 0.0021307715214788914, 0.8770471811294556, 0.0337325818836689, 0.0674651637673378, 0.17266686260700226, 0.10987891256809235, 0.25638413429260254, 0.18836385011672974, 0.026161646470427513, 0.16743452847003937, 0.02092931605875492, 0.015696987509727478, 0.01046465802937746, 0.01046465802937746, 0.01046465802937746, 0.01046465802937746, 0.09214329719543457, 0.09214329719543457, 0.7371463775634766, 0.09214329719543457, 0.8200777173042297, 0.4331461489200592, 0.4331461489200592, 0.1008540466427803, 0.6555513143539429, 0.1008540466427803, 0.05042702332139015, 0.42817413806915283, 0.42817413806915283, 0.43177542090415955, 0.13172809779644012, 0.07318227738142014, 0.04756847769021988, 0.19027391076087952, 0.018295569345355034, 0.04756847769021988, 0.014636455103754997, 0.014636455103754997, 0.007318227551877499, 0.014636455103754997, 0.0036591137759387493, 0.007318227551877499, 0.44053131341934204, 0.06843587756156921, 0.11976278573274612, 0.11976278573274612, 0.06843587756156921, 0.05132690817117691, 0.30796143412590027, 0.06843587756156921, 0.03421793878078461, 0.03421793878078461, 0.05132690817117691, 0.017108969390392303, 0.03421793878078461, 0.03421793878078461, 0.03606585040688515, 0.16590291261672974, 0.40393751859664917, 0.0721317008137703, 0.028852680698037148, 0.07934486865997314, 0.0721317008137703, 0.050492189824581146, 0.043279021978378296, 0.007213170174509287, 0.007213170174509287, 0.014426340349018574, 0.8298424482345581, 0.048814259469509125, 0.048814259469509125, 0.4173852205276489, 0.9680314660072327, 0.012907085940241814, 0.012907085940241814, 0.7257102727890015, 0.017376836389303207, 0.2548602521419525, 0.005792278330773115, 0.005792278330773115, 0.4865514039993286, 0.028961392119526863, 0.02316911332309246, 0.017376836389303207, 0.005792278330773115, 0.13322240114212036, 0.02316911332309246, 0.20018844306468964, 0.18016959726810455, 0.1201130673289299, 0.04003768786787987, 0.1201130673289299, 0.06005653366446495, 0.06005653366446495, 0.04003768786787987, 0.1401319056749344, 0.020018843933939934, 0.7302394509315491, 0.017244650050997734, 0.48285022377967834, 0.06897860020399094, 0.13795720040798187, 0.08622325211763382, 0.017244650050997734, 0.15520185232162476, 0.017244650050997734, 0.6684088110923767, 0.1336817592382431, 0.005730738397687674, 0.5902660489082336, 0.011461476795375347, 0.06876885890960693, 0.04011516645550728, 0.06876885890960693, 0.1031532883644104, 0.05730738118290901, 0.005730738397687674, 0.028653690591454506, 0.011461476795375347, 0.17861947417259216, 0.11482679843902588, 0.025517066940665245, 0.19137799739837646, 0.14034387469291687, 0.06379266828298569, 0.10206826776266098, 0.012758533470332623, 0.025517066940665245, 0.05103413388133049, 0.08930973708629608, 0.8874672055244446, 0.7679715752601624, 0.12799526751041412, 0.09223508834838867, 0.276705265045166, 0.18447017669677734, 0.3689403533935547, 0.06131771579384804, 0.2554904818534851, 0.010219618678092957, 0.20439237356185913, 0.13285504281520844, 0.2861493229866028, 0.040878474712371826, 0.902868390083313, 0.6248317360877991, 0.25561296939849854, 0.08520432561635971, 0.028401441872119904, 0.44075000286102295, 0.4604775607585907, 0.19530542194843292, 0.012206588871777058, 0.6469492316246033, 0.024413177743554115, 0.09765271097421646, 0.7252894639968872, 0.353401243686676, 0.11780041456222534, 0.23560082912445068, 0.11780041456222534, 0.11780041456222534, 0.6605335474014282, 0.0660533532500267, 0.03302667662501335, 0.1981600672006607, 0.8391836285591125, 0.11988337337970734, 0.14188840985298157, 0.14188840985298157, 0.5675536394119263, 0.07288037240505219, 0.03644018620252609, 0.10932055860757828, 0.4737224280834198, 0.21864111721515656, 0.07288037240505219, 0.03644018620252609, 0.8152592182159424, 0.16305184364318848, 0.44070887565612793, 0.38839659094810486, 0.1732846349477768, 0.10158064216375351, 0.07369576394557953, 0.07967109233140945, 0.05975332111120224, 0.05576976761221886, 0.021909551694989204, 0.005975332111120224, 0.011950664222240448, 0.017925996333360672, 0.003983554895967245, 0.0019917774479836226, 0.0019917774479836226, 0.47843536734580994, 0.47843536734580994, 0.8200790882110596, 0.0707339346408844, 0.1414678692817688, 0.0353669673204422, 0.2829357385635376, 0.2122018039226532, 0.2122018039226532, 0.0353669673204422, 0.8945720195770264, 0.25776156783103943, 0.25776156783103943, 0.5155231356620789, 0.24127689003944397, 0.48255378007888794, 0.8257883191108704, 0.7785441279411316, 0.27641260623931885, 0.0829237848520279, 0.17966820299625397, 0.013820630498230457, 0.013820630498230457, 0.04146189242601395, 0.35933640599250793, 0.013820630498230457, 0.9281445741653442, 0.8137426972389221, 0.10171783715486526, 0.12370888143777847, 0.18556331098079681, 0.18556331098079681, 0.3092721998691559, 0.061854440718889236, 0.061854440718889236, 0.49433404207229614, 0.49433404207229614, 0.6178592443466187, 0.2228344827890396, 0.010128839872777462, 0.06077304109930992, 0.03038652054965496, 0.020257679745554924, 0.010128839872777462, 0.03038652054965496, 0.5110470652580261, 0.25552353262901306, 0.3139299750328064, 0.3139299750328064, 0.1166142001748085, 0.233228400349617, 0.17492130398750305, 0.29153549671173096, 0.05830710008740425, 0.05830710008740425, 0.5921361446380615, 0.1973787099123001, 0.6986707448959351, 0.27861133217811584, 0.4179169833660126, 0.13930566608905792, 0.40709468722343445, 0.21239721775054932, 0.079648956656456, 0.026549652218818665, 0.08849884569644928, 0.03539953753352165, 0.04424942284822464, 0.04424942284822464, 0.008849884383380413, 0.017699768766760826, 0.017699768766760826, 0.4520741403102875, 0.8039376139640808, 0.7074852585792542, 0.09433136880397797, 0.09433136880397797, 0.04716568440198898, 0.48455381393432617, 0.2505934536457062, 0.5011869072914124, 0.13286462426185608, 0.7971877455711365, 0.6191673278808594, 0.3095836639404297, 0.788043200969696, 0.08015947788953781, 0.44755709171295166, 0.026719827204942703, 0.19371874630451202, 0.08015947788953781, 0.033399783074855804, 0.046759698539972305, 0.08015947788953781, 0.006679956801235676, 0.006679956801235676, 0.20801003277301788, 0.24267837405204773, 0.24267837405204773, 0.10400501638650894, 0.03466833755373955, 0.03466833755373955, 0.0693366751074791, 0.5234407782554626, 0.848099946975708, 0.04794337600469589, 0.09588675200939178, 0.09588675200939178, 0.04794337600469589, 0.28766024112701416, 0.23971687257289886, 0.04794337600469589, 0.04794337600469589, 0.14383012056350708, 0.2333676666021347, 0.4667353332042694, 0.8173109292984009, 0.8172727227210999, 0.8178226351737976, 0.37767720222473145, 0.01049103308469057, 0.01049103308469057, 0.5665158033370972, 0.03147310018539429, 0.31992098689079285, 0.6398419737815857, 0.5559513568878174, 0.08980752527713776, 0.05559513717889786, 0.11546681821346283, 0.0342123918235302, 0.05987168475985527, 0.047042038291692734, 0.012829646468162537, 0.00855309795588255, 0.004276548977941275, 0.004276548977941275, 0.00855309795588255, 0.004276548977941275, 0.008145399391651154, 0.29323437809944153, 0.008145399391651154, 0.04887239634990692, 0.602759599685669, 0.016290798783302307, 0.008145399391651154, 0.016290798783302307, 0.7248955368995667, 0.23560591042041779, 0.23560591042041779, 0.47121182084083557, 0.2750406563282013, 0.13752032816410065, 0.11918428540229797, 0.05042412132024765, 0.13752032816410065, 0.09626422822475433, 0.08251219987869263, 0.01375203300267458, 0.018336044624447823, 0.01375203300267458, 0.036672089248895645, 0.018336044624447823, 0.004584011156111956, 0.8120020627975464, 0.29855871200561523, 0.5971174240112305, 0.43203574419021606, 0.43203574419021606, 0.7122958302497864, 0.08262632042169571, 0.0028491835109889507, 0.042737752199172974, 0.07977713644504547, 0.03419020026922226, 0.022793468087911606, 0.0056983670219779015, 0.0028491835109889507, 0.0056983670219779015, 0.008547550067305565, 0.35781824588775635, 0.17890912294387817, 0.11927274614572525, 0.059636373072862625, 0.11927274614572525, 0.059636373072862625, 0.059636373072862625, 0.059636373072862625, 0.0272977352142334, 0.3548705577850342, 0.3821682929992676, 0.0409466028213501, 0.1501375436782837, 0.0136488676071167, 0.8186309337615967, 0.812644362449646, 0.08393639326095581, 0.12590458989143372, 0.20984098315238953, 0.16787278652191162, 0.041968196630477905, 0.16787278652191162, 0.16787278652191162, 0.041968196630477905, 0.8570805191993713, 0.017141610383987427, 0.05142483115196228, 0.05142483115196228, 0.017141610383987427, 0.22642715275287628, 0.18525858223438263, 0.10292143374681473, 0.28818002343177795, 0.07204500585794449, 0.051460716873407364, 0.04116857424378395, 0.010292143560945988, 0.010292143560945988, 0.18898656964302063, 0.5669596791267395, 0.002885740017518401, 0.44151824712753296, 0.07791498303413391, 0.18180163204669952, 0.01731443963944912, 0.1991160660982132, 0.03462887927889824, 0.01731443963944912, 0.00865721981972456, 0.011542960070073605, 0.005771480035036802, 0.2423488199710846, 0.6058720946311951, 0.044459179043769836, 0.7113468647003174, 0.044459179043769836, 0.1333775371313095, 0.044459179043769836, 0.34583497047424316, 0.13902334868907928, 0.0965120792388916, 0.11144847422838211, 0.05629871413111687, 0.09306521713733673, 0.07353301346302032, 0.021830113604664803, 0.0241280198097229, 0.016085347160696983, 0.0068937200121581554, 0.00919162668287754, 0.0034468600060790777, 0.0011489533353596926, 0.0011489533353596926, 0.7955958843231201, 0.15911918878555298, 0.07108507305383682, 0.18215550482273102, 0.3332112729549408, 0.1110704317688942, 0.013328451663255692, 0.10662761330604553, 0.08441352844238281, 0.026656903326511383, 0.031099719926714897, 0.013328451663255692, 0.004442817065864801, 0.008885634131729603, 0.004442817065864801, 0.02745170332491398, 0.8510028123855591, 0.05490340664982796, 0.9668828845024109, 0.02014339342713356, 0.134396031498909, 0.12855273485183716, 0.2512621581554413, 0.09349289536476135, 0.03505983576178551, 0.12270942330360413, 0.10810115933418274, 0.029216529801487923, 0.029216529801487923, 0.008764958940446377, 0.023373223841190338, 0.023373223841190338, 0.014608264900743961, 0.7934431433677673, 0.042069435119628906, 0.5328795313835144, 0.07011573016643524, 0.16827774047851562, 0.042069435119628906, 0.056092582643032074, 0.056092582643032074, 0.014023145660758018, 0.014023145660758018, 0.8119761347770691, 0.8293628692626953, 0.3102521300315857, 0.6205042600631714, 0.8276876211166382, 0.7019307613372803, 0.23397691547870636, 0.7786652445793152, 0.15573304891586304, 0.23934371769428253, 0.1447194516658783, 0.18646545708179474, 0.0918411910533905, 0.0306137315928936, 0.1224549263715744, 0.08905812352895737, 0.022264530882239342, 0.019481465220451355, 0.008349199779331684, 0.008349199779331684, 0.025047598406672478, 0.011132265441119671, 0.0027830663602799177, 0.8747650980949402, 0.321856290102005, 0.1654888540506363, 0.14594292640686035, 0.07688064873218536, 0.08209289610385895, 0.059940844774246216, 0.07297146320343018, 0.03648573160171509, 0.01303061842918396, 0.003909185528755188, 0.005212247371673584, 0.007818371057510376, 0.00651530921459198, 0.002606123685836792, 0.001303061842918396, 0.11219463497400284, 0.8414597511291504, 0.18234850466251373, 0.12764394283294678, 0.16411364078521729, 0.200583353638649, 0.009117424488067627, 0.08205682039260864, 0.1002916768193245, 0.02735227532684803, 0.02735227532684803, 0.009117424488067627, 0.009117424488067627, 0.05470455065369606, 0.018234848976135254, 0.6886654496192932, 0.06260595470666885, 0.06260595470666885, 0.1252119094133377, 0.016992416232824326, 0.37383314967155457, 0.18691657483577728, 0.03823293372988701, 0.042481038719415665, 0.055225349962711334, 0.13169121742248535, 0.016992416232824326, 0.029736727476119995, 0.05947345495223999, 0.02548862248659134, 0.016992416232824326, 0.004248104058206081, 0.008496208116412163, 0.82283616065979, 0.10285452008247375, 0.022277720272541046, 0.11138860136270523, 0.289610356092453, 0.06683316081762314, 0.08911088109016418, 0.3787212371826172, 0.022277720272541046, 0.14692501723766327, 0.14692501723766327, 0.07346250861883163, 0.07346250861883163, 0.07346250861883163, 0.14692501723766327, 0.29385003447532654, 0.07346250861883163, 0.13772742450237274, 0.6886370778083801, 0.016144217923283577, 0.3713169991970062, 0.19373060762882233, 0.04843265190720558, 0.04843265190720558, 0.04843265190720558, 0.06457687169313431, 0.016144217923283577, 0.016144217923283577, 0.11300951987504959, 0.016144217923283577, 0.10940368473529816, 0.2188073694705963, 0.1458715796470642, 0.058348629623651505, 0.03646789491176605, 0.22610093653202057, 0.08022936433553696, 0.0437614731490612, 0.029174314811825752, 0.014587157405912876, 0.007293578702956438, 0.014587157405912876, 0.014587157405912876, 0.8179363012313843, 0.24192391335964203, 0.24192391335964203, 0.48384782671928406, 0.342551052570343, 0.0998162031173706, 0.14065009355545044, 0.07486215233802795, 0.11342749744653702, 0.08393634855747223, 0.0499081015586853, 0.015879850834608078, 0.02722259983420372, 0.020416950806975365, 0.009074199944734573, 0.01361129991710186, 0.0022685499861836433, 0.004537099972367287, 0.9324340224266052, 0.8772211670875549, 0.2955491542816162, 0.5910983085632324, 0.39611393213272095, 0.16061605513095856, 0.048835963010787964, 0.08356375992298126, 0.12154728919267654, 0.054262179881334305, 0.09007521718740463, 0.008681949228048325, 0.0065114619210362434, 0.0065114619210362434, 0.002170487307012081, 0.010852436535060406, 0.0065114619210362434, 0.004340974614024162, 0.25846806168556213, 0.08615602552890778, 0.08615602552890778, 0.3446241021156311, 0.08615602552890778, 0.8622413277626038, 0.30533578991889954, 0.6106715798377991, 0.6955435872077942, 0.46605634689331055, 0.46605634689331055, 0.8551374077796936, 0.18499638140201569, 0.09249819070100784, 0.2774945795536041, 0.12333092093467712, 0.06166546046733856, 0.12333092093467712, 0.03083273023366928, 0.03083273023366928, 0.03083273023366928, 0.5891741514205933, 0.3927827477455139, 0.34234920144081116, 0.27525565028190613, 0.03096625953912735, 0.09805981814861298, 0.037847649306058884, 0.017203478142619133, 0.1255853772163391, 0.03268660604953766, 0.012042433954775333, 0.001720347674563527, 0.003440695349127054, 0.0206441730260849, 0.8464546799659729, 0.8870463967323303, 0.040705762803554535, 0.0033921469002962112, 0.0067842938005924225, 0.018656808882951736, 0.010176440700888634, 0.02544110268354416, 0.0016960734501481056, 0.0016960734501481056, 0.0016960734501481056, 0.0016960734501481056, 0.0016960734501481056, 0.44027480483055115, 0.1387050449848175, 0.6935252547264099, 0.46708670258522034, 0.21583274006843567, 0.15539957582950592, 0.15539957582950592, 0.06043316423892975, 0.04748320206999779, 0.18993280827999115, 0.043166548013687134, 0.02589992806315422, 0.01294996403157711, 0.008633309043943882, 0.02589992806315422, 0.03884989395737648, 0.01294996403157711, 0.27882084250450134, 0.20027975738048553, 0.12566573917865753, 0.043197594583034515, 0.058905813843011856, 0.09424930065870285, 0.09817635267972946, 0.01570821739733219, 0.027489379048347473, 0.011781162582337856, 0.007854108698666096, 0.023562325164675713, 0.003927054349333048, 0.007854108698666096, 0.23755669593811035, 0.033936671912670135, 0.008484167978167534, 0.5938917398452759, 0.04242083802819252, 0.0509050078690052, 0.033936671912670135, 0.25464487075805664, 0.25464487075805664, 0.25464487075805664, 0.16032689809799194, 0.3740960955619812, 0.01781409978866577, 0.053442299365997314, 0.053442299365997314, 0.03562819957733154, 0.07125639915466309, 0.053442299365997314, 0.01781409978866577, 0.124698705971241, 0.01781409978866577, 0.43587327003479004, 0.43587327003479004, 0.5787957310676575, 0.12573090195655823, 0.05094269663095474, 0.061781566590070724, 0.07153654843568802, 0.03901993855834007, 0.04010382294654846, 0.008671097457408905, 0.0065033226273953915, 0.005419435445219278, 0.0043355487287044525, 0.0032516613136976957, 0.0021677743643522263, 0.0021677743643522263, 0.2917346954345703, 0.2917346954345703, 0.6061481237411499, 0.058283474296331406, 0.034970082342624664, 0.023313388228416443, 0.1107385978102684, 0.029141737148165703, 0.06411182135343552, 0.005828347057104111, 0.023313388228416443, 0.040798429399728775, 0.005828347057104111, 0.06601978093385696, 0.29708901047706604, 0.1650494486093521, 0.09902966767549515, 0.03300989046692848, 0.03300989046692848, 0.06601978093385696, 0.03300989046692848, 0.1650494486093521, 0.7249648571014404, 0.24165494740009308, 0.3952089250087738, 0.3952089250087738, 0.8699613809585571, 0.15477092564105988, 0.6190837025642395, 0.2888951599597931, 0.5777903199195862, 0.02102355845272541, 0.54135662317276, 0.210235595703125, 0.036791227757930756, 0.03153533861041069, 0.07883834838867188, 0.026279449462890625, 0.005255889613181353, 0.04204711690545082, 0.005255889613181353, 0.08487054705619812, 0.5940937995910645, 0.16974109411239624, 0.08487054705619812, 0.07395036518573761, 0.11092555522918701, 0.25882628560066223, 0.18487592041492462, 0.11092555522918701, 0.07395036518573761, 0.07395036518573761, 0.07395036518573761, 0.07395036518573761, 0.7800002694129944, 0.9035037755966187, 0.7315315008163452, 0.0667339339852333, 0.20020179450511932, 0.28600257635116577, 0.1271122545003891, 0.04131148010492325, 0.06991174072027206, 0.07626734673976898, 0.044489286839962006, 0.04131148010492325, 0.01271122507750988, 0.009533418342471123, 0.00317780626937747, 0.015889031812548637, 0.00317780626937747, 0.05821336805820465, 0.2328534722328186, 0.5821337103843689, 0.05821336805820465, 0.312801331281662, 0.312801331281662, 0.44005170464515686, 0.44005170464515686, 0.4520881772041321, 0.6108458638191223, 0.05016608536243439, 0.047215137630701065, 0.03246040642261505, 0.12098879367113113, 0.04426419362425804, 0.04426419362425804, 0.005901892203837633, 0.026558516547083855, 0.008852838538587093, 0.0029509461019188166, 0.9006775617599487, 0.06371037662029266, 0.764524519443512, 0.12742075324058533, 0.7879778146743774, 0.4538774788379669, 0.4538774788379669, 0.029602916911244392, 0.08880875259637833, 0.28616154193878174, 0.28616154193878174, 0.07894111424684525, 0.09867639094591141, 0.029602916911244392, 0.01973527856171131, 0.009867639280855656, 0.03947055712342262, 0.01973527856171131, 0.01973527856171131, 0.4528340697288513, 0.4528340697288513, 0.5298562049865723, 0.1195407286286354, 0.03715455159544945, 0.05169328674674034, 0.14538736641407013, 0.03392371907830238, 0.03715455159544945, 0.011307906359434128, 0.0032308304216712713, 0.006461660843342543, 0.01938498206436634, 0.0032308304216712713, 0.0016154152108356357, 0.8880982995033264, 0.14244304597377777, 0.028488608077168465, 0.7976810336112976, 0.028488608077168465, 0.09483582526445389, 0.7586866021156311, 0.7915195226669312, 0.158303901553154, 0.6174166202545166, 0.3087083101272583, 0.8464195132255554, 0.28348031640052795, 0.6378306746482849, 0.5736497640609741, 0.34418985247612, 0.7790101766586304, 0.13935606181621552, 0.8361363410949707, 0.7919122576713562, 0.1319853663444519, 0.6810626983642578, 0.04864733666181564, 0.04864733666181564, 0.09729467332363129, 0.04864733666181564, 0.04864733666181564, 0.45156100392341614, 0.45156100392341614, 0.8500748872756958, 0.22232459485530853, 0.01852704957127571, 0.7225549221038818, 0.01852704957127571, 0.3592076003551483, 0.21140864491462708, 0.07670579105615616, 0.06173880770802498, 0.0748349204659462, 0.04864269867539406, 0.07109317183494568, 0.0374174602329731, 0.02057960256934166, 0.0037417460698634386, 0.009354365058243275, 0.01309611089527607, 0.007483492139726877, 0.014301708899438381, 0.5005598068237305, 0.014301708899438381, 0.04290512576699257, 0.28603416681289673, 0.04290512576699257, 0.014301708899438381, 0.08581025153398514, 0.16443978250026703, 0.137033149600029, 0.16443978250026703, 0.137033149600029, 0.10962651669979095, 0.137033149600029, 0.05481325834989548, 0.05481325834989548, 0.8273057341575623, 0.4662618041038513, 0.0772947371006012, 0.019947029650211334, 0.037400681525468826, 0.2705315947532654, 0.05734771117568016, 0.034907300025224686, 0.00748013611882925, 0.0049867574125528336, 0.0049867574125528336, 0.009973514825105667, 0.003740068059414625, 0.003740068059414625, 0.0012466893531382084, 0.4258485436439514, 0.12752683460712433, 0.05541344732046127, 0.06452250480651855, 0.1821811944246292, 0.04326803609728813, 0.04250894486904144, 0.01669994369149208, 0.01669994369149208, 0.0030363532714545727, 0.00683179497718811, 0.004554530140012503, 0.00531361810863018, 0.0030363532714545727, 0.0007590883178636432, 0.459074467420578, 0.459074467420578, 0.23942351341247559, 0.23942351341247559, 0.47884702682495117, 0.34214839339256287, 0.10368133336305618, 0.33178025484085083, 0.010368132963776588, 0.17625826597213745, 0.020736265927553177, 0.010368132963776588, 0.2545177936553955, 0.13786381483078003, 0.16084110736846924, 0.09014172106981277, 0.12725889682769775, 0.08837423473596573, 0.06628067791461945, 0.02651227079331875, 0.01590736210346222, 0.009721165522933006, 0.008837423287332058, 0.005302454344928265, 0.00795368105173111, 0.0008837423520162702, 0.0008837423520162702, 0.18192517757415771, 0.09096258878707886, 0.5457755327224731, 0.09096258878707886, 0.4417841136455536, 0.12754115462303162, 0.09527170658111572, 0.08221026510000229, 0.08297858387231827, 0.0568556971848011, 0.046099212020635605, 0.017671365290880203, 0.010756483301520348, 0.009219842962920666, 0.00998816266655922, 0.009219842962920666, 0.007683202158659697, 0.0015366404550150037, 0.0007683202275075018, 0.4428826868534088, 0.28741583228111267, 0.5748316645622253, 0.4493274390697479, 0.4493274390697479, 0.846648633480072, 0.24370549619197845, 0.14250575006008148, 0.20446477830410004, 0.08261203020811081, 0.028914211317896843, 0.12185274809598923, 0.08674263209104538, 0.028914211317896843, 0.020653007552027702, 0.006195902358740568, 0.006195902358740568, 0.016522405669093132, 0.008261202834546566, 0.0020653007086366415, 0.8899313807487488, 0.19327373802661896, 0.4509720504283905, 0.06442458182573318, 0.06442458182573318, 0.06442458182573318, 0.06442458182573318, 0.39963698387145996, 0.09990924596786499, 0.14986386895179749, 0.14986386895179749, 0.09990924596786499, 0.09990924596786499, 0.15706205368041992, 0.6282482147216797, 0.8610854148864746, 0.06308887898921967, 0.06308887898921967, 0.6939776539802551, 0.06308887898921967, 0.06308887898921967, 0.9103119969367981, 0.8130120635032654, 0.6987064480781555, 0.4485168159008026, 0.8126718401908875, 0.8182106614112854, 0.19421890377998352, 0.09710945188999176, 0.19421890377998352, 0.38843780755996704, 0.21327795088291168, 0.18280966579914093, 0.14320090413093567, 0.11273263394832611, 0.015234139747917652, 0.14929457008838654, 0.09749849140644073, 0.021327795460820198, 0.03351510688662529, 0.012187311425805092, 0.009140484035015106, 0.009140484035015106, 0.44672778248786926, 0.44672778248786926, 0.3116301894187927, 0.3116301894187927, 0.4419324994087219, 0.0279859472066164, 0.3358313739299774, 0.08395784348249435, 0.13992972671985626, 0.0559718944132328, 0.0279859472066164, 0.08395784348249435, 0.25187352299690247, 0.3106297254562378, 0.6212594509124756, 0.7785692811012268, 0.3109798729419708, 0.3109798729419708, 0.2914049029350281, 0.5828098058700562, 0.5277907252311707, 0.45114973187446594, 0.45114973187446594, 0.20171937346458435, 0.04482652619481087, 0.06723979115486145, 0.4034387469291687, 0.022413263097405434, 0.17930610477924347, 0.022413263097405434, 0.022413263097405434, 0.022413263097405434, 0.8546515703201294, 0.446645051240921, 0.8937541842460632, 0.8564985990524292, 0.788258969783783, 0.1774459332227707, 0.5323377847671509, 0.3548918664455414, 0.20197150111198425, 0.7270973920822144, 0.051750436425209045, 0.8797574043273926, 0.04504498839378357, 0.04504498839378357, 0.18017995357513428, 0.49549487233161926, 0.09008997678756714, 0.1351349651813507, 0.8262124061584473, 0.9023846983909607, 0.7135297656059265, 0.22819186747074127, 0.45638373494148254, 0.8548511862754822, 0.018324075266718864, 0.43977779150009155, 0.009162037633359432, 0.009162037633359432, 0.1191064864397049, 0.07329630106687546, 0.054972223937511444, 0.054972223937511444, 0.17407871782779694, 0.018324075266718864, 0.027486111968755722, 0.2831033170223236, 0.5662066340446472, 0.29359233379364014, 0.29359233379364014, 0.5855063796043396, 0.2927531898021698, 0.07318829745054245, 0.07318829745054245, 0.2988295555114746, 0.6723664999008179, 0.8125277161598206, 0.36780276894569397, 0.18390138447284698, 0.4137781262397766, 0.23625804483890533, 0.5512688159942627, 0.07875268161296844, 0.07875268161296844, 0.8128784894943237, 0.10013249516487122, 0.10013249516487122, 0.7009274959564209, 0.3388894498348236, 0.15629814565181732, 0.12124061584472656, 0.07887943834066391, 0.11247623711824417, 0.05988994240760803, 0.05550775304436684, 0.02483241632580757, 0.014607303775846958, 0.014607303775846958, 0.007303651887923479, 0.00876438245177269, 0.004382191225886345, 0.002921460662037134, 0.4039982259273529, 0.4039982259273529, 0.20460298657417297, 0.40920597314834595, 0.40920597314834595, 0.27095556259155273, 0.14574123919010162, 0.18679511547088623, 0.12521430850028992, 0.0431065671145916, 0.05952811613678932, 0.09852929413318634, 0.026685016229748726, 0.012316161766648293, 0.010263468138873577, 0.006158080883324146, 0.006158080883324146, 0.006158080883324146, 0.0020526936277747154, 0.3063506782054901, 0.008629596792161465, 0.006472197361290455, 0.6278031468391418, 0.04099058359861374, 0.002157399198040366, 0.006472197361290455, 0.835942268371582, 0.008930337615311146, 0.16967640817165375, 0.27237528562545776, 0.1652112454175949, 0.01786067523062229, 0.17860674858093262, 0.053582023829221725, 0.044651687145233154, 0.022325843572616577, 0.004465168807655573, 0.004465168807655573, 0.03125618025660515, 0.022325843572616577, 0.008930337615311146, 0.7796940803527832, 0.9788768291473389, 0.005151983350515366, 0.005151983350515366, 0.005151983350515366, 0.9857274293899536, 0.004627828486263752, 0.004627828486263752, 0.20575295388698578, 0.16882294416427612, 0.13716864585876465, 0.20575295388698578, 0.005275717005133629, 0.11079005151987076, 0.11079005151987076, 0.021102868020534515, 0.015827151015400887, 0.005275717005133629, 0.005275717005133629, 0.005275717005133629, 0.23433397710323334, 0.7030019164085388, 0.455592542886734, 0.14092481136322021, 0.07721907645463943, 0.04054001346230507, 0.0984543189406395, 0.06949716806411743, 0.06177525967359543, 0.01930476911365986, 0.005791430827230215, 0.0038609537295997143, 0.017374292016029358, 0.0038609537295997143, 0.0038609537295997143, 0.0019304768647998571, 0.340951532125473, 0.15153402090072632, 0.11365051567554474, 0.03577886521816254, 0.18310360610485077, 0.05682525783777237, 0.054720617830753326, 0.023151030763983727, 0.014732473529875278, 0.006313917227089405, 0.0021046390756964684, 0.006313917227089405, 0.010523195378482342, 0.8029887676239014, 0.1147126778960228, 0.013774354010820389, 0.3443588614463806, 0.055097416043281555, 0.31681013107299805, 0.15151789784431458, 0.055097416043281555, 0.027548708021640778, 0.013774354010820389, 0.2765354812145233, 0.6913387179374695, 0.09218873083591461, 0.008921490050852299, 0.008921490050852299, 0.8534892201423645, 0.011895320378243923, 0.020816810429096222, 0.002973830094560981, 0.31609416007995605, 0.31609416007995605, 0.26153233647346497, 0.037361763417720795, 0.11208528280258179, 0.26153233647346497, 0.037361763417720795, 0.11208528280258179, 0.14944705367088318, 0.7749695181846619, 0.34846729040145874, 0.15006986260414124, 0.11954717338085175, 0.055958252400159836, 0.10682938992977142, 0.08648093789815903, 0.07630670815706253, 0.012717784382402897, 0.012717784382402897, 0.015261341817677021, 0.002543556969612837, 0.002543556969612837, 0.0076306709088385105, 0.002543556969612837, 0.16083267331123352, 0.14474940299987793, 0.24929064512252808, 0.14474940299987793, 0.02412489987909794, 0.10856205224990845, 0.05629143491387367, 0.01206244993954897, 0.04020816832780838, 0.04422898590564728, 0.004020816646516323, 0.004020816646516323, 0.008041633293032646, 0.8607522249221802, 0.29621627926826477, 0.5924325585365295, 0.6077898144721985, 0.30389490723609924, 0.8396292924880981, 0.3250703811645508, 0.2677050232887268, 0.07330018281936646, 0.06055232509970665, 0.09879589825868607, 0.06055232509970665, 0.05736536160111427, 0.00637392932549119, 0.00637392932549119, 0.003186964662745595, 0.003186964662745595, 0.01593482308089733, 0.01274785865098238, 0.003186964662745595, 0.2934739589691162, 0.24287499487400055, 0.062405381351709366, 0.0758984386920929, 0.1281840205192566, 0.04385242983698845, 0.09107812494039536, 0.03204600512981415, 0.005059896036982536, 0.005059896036982536, 0.00674652773886919, 0.003373263869434595, 0.008433159440755844, 0.1643291413784027, 0.6573165655136108, 0.08216457068920135, 0.44094592332839966, 0.10948657244443893, 0.06149245798587799, 0.02249724231660366, 0.18147774040699005, 0.06149245798587799, 0.06749172508716583, 0.011998528614640236, 0.011998528614640236, 0.01049871277064085, 0.007499080616980791, 0.004499448463320732, 0.004499448463320732, 0.0014998160768300295, 0.0014998160768300295, 0.29788053035736084, 0.5957610607147217, 0.04011764004826546, 0.16047056019306183, 0.32094112038612366, 0.24070583283901215, 0.04011764004826546, 0.200588196516037, 0.04011764004826546], \"Term\": [\"abandoned\", \"abandoned\", \"abandoned\", \"abandoned\", \"abandonment\", \"abbey\", \"abbey\", \"abbey\", \"abbey\", \"abbot\", \"abbot\", \"absolutism\", \"absolutism\", \"abusive\", \"accommodate\", \"accommodate\", \"accursed\", \"adam\", \"adam\", \"adele\", \"adele\", \"adele\", \"adele\", \"adele\", \"adele\", \"adele\", \"administered\", \"administered\", \"administered\", \"advertise\", \"advertise\", \"advertise\", \"advertise\", \"affirmed\", \"affirmed\", \"affirmed\", \"affirmed\", \"affirmed\", \"affirmed\", \"affirmed\", \"agent\", \"agent\", \"agent\", \"agent\", \"agent\", \"aghast\", \"ago\", \"ago\", \"ago\", \"ago\", \"ago\", \"ago\", \"ago\", \"ago\", \"ago\", \"ago\", \"ago\", \"ago\", \"ahead\", \"air\", \"air\", \"air\", \"air\", \"air\", \"air\", \"air\", \"air\", \"air\", \"air\", \"air\", \"air\", \"allez\", \"allez\", \"allows\", \"ami\", \"ami\", \"ami\", \"ami\", \"amused\", \"amused\", \"amused\", \"amused\", \"amused\", \"amused\", \"amused\", \"amused\", \"amused\", \"amused\", \"amused\", \"amused\", \"angry\", \"angry\", \"angry\", \"angry\", \"angry\", \"angry\", \"angry\", \"angry\", \"angry\", \"angry\", \"angry\", \"angry\", \"annually\", \"annuity\", \"antipathy\", \"antipathy\", \"antipathy\", \"antipathy\", \"antipathy\", \"antipathy\", \"antipathy\", \"antipathy\", \"approving\", \"argue\", \"argue\", \"aristocracy\", \"aristocracy\", \"aristocrat\", \"aristocratic\", \"arm\", \"arm\", \"arm\", \"arm\", \"arm\", \"arm\", \"arm\", \"arm\", \"arm\", \"arm\", \"arm\", \"arm\", \"arrows\", \"artistic\", \"asked\", \"asked\", \"asked\", \"asked\", \"asked\", \"asked\", \"asked\", \"asked\", \"asked\", \"asked\", \"asked\", \"asked\", \"asked\", \"asked\", \"ass\", \"astley\", \"astley\", \"athenians\", \"attested\", \"attested\", \"attic\", \"attic\", \"attic\", \"attic\", \"auld\", \"auld\", \"authors\", \"authors\", \"authors\", \"available\", \"avait\", \"away\", \"away\", \"away\", \"away\", \"away\", \"away\", \"away\", \"away\", \"away\", \"away\", \"away\", \"away\", \"away\", \"away\", \"away\", \"baker\", \"band\", \"band\", \"band\", \"band\", \"band\", \"band\", \"band\", \"band\", \"bark\", \"bark\", \"bark\", \"bark\", \"bark\", \"barrett\", \"barton\", \"barton\", \"basins\", \"basins\", \"basket\", \"basket\", \"basket\", \"basket\", \"basket\", \"bassompierre\", \"bassompierre\", \"bassompierre\", \"bassompierre\", \"bassompierre\", \"bassompierre\", \"bassompierre\", \"bassompierre\", \"bassompierre\", \"bassompierre\", \"bassompierre\", \"bates\", \"bates\", \"bates\", \"bates\", \"bates\", \"bates\", \"bateses\", \"bateses\", \"bateses\", \"bath\", \"bath\", \"bath\", \"bathing\", \"bathing\", \"bathing\", \"bec\", \"beck\", \"beck\", \"beck\", \"beck\", \"beck\", \"beck\", \"beck\", \"beck\", \"beck\", \"beck\", \"beck\", \"behaviour\", \"behaviour\", \"behaviour\", \"behaviour\", \"behaviour\", \"behaviour\", \"behaviour\", \"behest\", \"behest\", \"bella\", \"bella\", \"belles\", \"belles\", \"belles\", \"benefactress\", \"benefactress\", \"benefice\", \"beneficent\", \"bennet\", \"bennet\", \"bennet\", \"bennet\", \"bennet\", \"bertha\", \"bertha\", \"bessie\", \"bessie\", \"bessie\", \"bessie\", \"bessie\", \"bessie\", \"bessie\", \"better\", \"better\", \"better\", \"better\", \"better\", \"better\", \"better\", \"better\", \"better\", \"better\", \"better\", \"better\", \"better\", \"better\", \"betters\", \"bible\", \"bible\", \"bible\", \"bien\", \"bien\", \"bien\", \"bien\", \"bien\", \"bien\", \"bien\", \"bigben\", \"bigben\", \"bigotry\", \"bigotry\", \"bigotry\", \"bilious\", \"bilious\", \"bilious\", \"billiard\", \"bingley\", \"bingley\", \"bingley\", \"black\", \"black\", \"black\", \"black\", \"black\", \"black\", \"black\", \"black\", \"black\", \"black\", \"black\", \"blanc\", \"blanche\", \"blanche\", \"blanche\", \"blanche\", \"blanche\", \"blent\", \"blent\", \"blent\", \"blithe\", \"blithe\", \"blows\", \"boarder\", \"body\", \"body\", \"body\", \"body\", \"body\", \"body\", \"body\", \"body\", \"body\", \"body\", \"body\", \"boissec\", \"boissec\", \"bonne\", \"bonne\", \"bonne\", \"bonne\", \"bonne\", \"bonne\", \"book\", \"book\", \"book\", \"book\", \"book\", \"book\", \"book\", \"book\", \"book\", \"book\", \"book\", \"book\", \"book\", \"boots\", \"bored\", \"bored\", \"bottles\", \"bougez\", \"bougez\", \"bourgeois\", \"bourgeois\", \"bourgeois\", \"brabant\", \"brabant\", \"bracing\", \"braided\", \"braided\", \"braided\", \"braided\", \"braids\", \"brandon\", \"brandon\", \"breakfast\", \"breakfast\", \"breakfast\", \"breakfast\", \"breakfast\", \"breakfast\", \"breakfast\", \"breakfast\", \"breakfast\", \"breakfast\", \"breakfast\", \"breakfast\", \"breeches\", \"bretton\", \"bretton\", \"bretton\", \"bretton\", \"bretton\", \"bretton\", \"bretton\", \"bretton\", \"bretton\", \"bretton\", \"bretton\", \"briggs\", \"briggs\", \"brocklehurst\", \"brocklehurst\", \"brocklehurst\", \"brocklehurst\", \"brocklehurst\", \"brodequins\", \"bronte\", \"bronte\", \"bronze\", \"brothers\", \"brothers\", \"brothers\", \"brothers\", \"brothers\", \"brunette\", \"brunette\", \"bubble\", \"bubble\", \"burns\", \"burns\", \"burns\", \"burns\", \"butterfly\", \"butterfly\", \"butterfly\", \"cadeau\", \"called\", \"called\", \"called\", \"called\", \"called\", \"called\", \"called\", \"called\", \"called\", \"called\", \"called\", \"called\", \"called\", \"called\", \"callous\", \"callous\", \"callous\", \"came\", \"came\", \"came\", \"came\", \"came\", \"came\", \"came\", \"came\", \"came\", \"came\", \"came\", \"came\", \"came\", \"came\", \"came\", \"canadian\", \"candle\", \"candle\", \"candle\", \"candle\", \"candle\", \"candle\", \"candle\", \"capers\", \"capers\", \"carlos\", \"carpets\", \"carpets\", \"carpets\", \"carter\", \"carter\", \"carter\", \"casketing\", \"casketing\", \"catalogue\", \"catalogue\", \"catechism\", \"catechism\", \"catherine\", \"catherine\", \"catherine\", \"catherine\", \"catherine\", \"catholics\", \"catholics\", \"ce\", \"ce\", \"ce\", \"ce\", \"ce\", \"ce\", \"ce\", \"celestial\", \"certain\", \"certain\", \"certain\", \"certain\", \"certain\", \"certain\", \"certain\", \"certain\", \"certain\", \"certain\", \"certain\", \"certain\", \"certain\", \"certain\", \"certain\", \"chanting\", \"chapeau\", \"characterless\", \"characterless\", \"charade\", \"charade\", \"charade\", \"charlotte\", \"charlotte\", \"charlotte\", \"charlotte\", \"chastiser\", \"chastiser\", \"chercher\", \"chercher\", \"child\", \"child\", \"child\", \"child\", \"child\", \"child\", \"child\", \"child\", \"child\", \"child\", \"child\", \"child\", \"childer\", \"children\", \"children\", \"children\", \"children\", \"children\", \"children\", \"children\", \"children\", \"children\", \"children\", \"children\", \"cholmondeley\", \"cholmondeley\", \"cholmondeley\", \"cholmondeley\", \"cholmondeley\", \"chou\", \"chou\", \"churchill\", \"churchill\", \"churchill\", \"churchill\", \"churchill\", \"churchill\", \"churchill\", \"circumspect\", \"circumspect\", \"clapped\", \"classe\", \"classe\", \"classe\", \"classe\", \"classe\", \"classe\", \"classe\", \"clattering\", \"cleanly\", \"cleopatra\", \"cleopatra\", \"cleopatra\", \"cleopatra\", \"clergyman\", \"clergyman\", \"clergyman\", \"clergyman\", \"clergyman\", \"clerk\", \"clerk\", \"clerk\", \"clerk\", \"clerk\", \"cleverness\", \"clings\", \"cloven\", \"colds\", \"colds\", \"colds\", \"cole\", \"cole\", \"cole\", \"cole\", \"cole\", \"collective\", \"collins\", \"collins\", \"collins\", \"colonel\", \"colonel\", \"colonel\", \"colonel\", \"colonel\", \"colonel\", \"colonel\", \"colonel\", \"colonel\", \"colonel\", \"come\", \"come\", \"come\", \"come\", \"come\", \"come\", \"come\", \"come\", \"come\", \"come\", \"come\", \"come\", \"come\", \"come\", \"come\", \"comme\", \"comme\", \"comme\", \"comme\", \"commotion\", \"conducting\", \"confessional\", \"confidences\", \"congratulatory\", \"considerateness\", \"consummate\", \"conversion\", \"conversion\", \"conveyance\", \"coquetry\", \"coquetry\", \"coquetry\", \"coquetry\", \"cordon\", \"cordon\", \"correctly\", \"corresponded\", \"corresponded\", \"costume\", \"costume\", \"costume\", \"costume\", \"costume\", \"cote\", \"count\", \"count\", \"count\", \"count\", \"count\", \"count\", \"count\", \"count\", \"count\", \"count\", \"countenance\", \"countenance\", \"countenance\", \"countenance\", \"countenance\", \"countenance\", \"countenance\", \"countenance\", \"countenance\", \"countenance\", \"countenance\", \"countenance\", \"countenance\", \"countries\", \"countries\", \"countries\", \"countrymen\", \"countrymen\", \"course\", \"course\", \"course\", \"course\", \"course\", \"course\", \"course\", \"course\", \"course\", \"course\", \"course\", \"course\", \"course\", \"course\", \"coward\", \"cox\", \"coxes\", \"cramp\", \"crayon\", \"crew\", \"crib\", \"crib\", \"crib\", \"crib\", \"crib\", \"crib\", \"cries\", \"cries\", \"cries\", \"crimsworth\", \"crimsworth\", \"crimsworth\", \"crimsworth\", \"crimsworth\", \"crimsworth\", \"crimsworth\", \"crimsworth\", \"cromer\", \"cromer\", \"crumbs\", \"cultured\", \"cup\", \"cup\", \"cup\", \"cup\", \"cup\", \"cup\", \"cup\", \"cup\", \"cup\", \"cup\", \"curing\", \"curiously\", \"curiously\", \"curled\", \"curled\", \"curled\", \"currer\", \"currer\", \"customary\", \"damer\", \"dames\", \"dames\", \"darcy\", \"darcy\", \"darcy\", \"darcy\", \"dark\", \"dark\", \"dark\", \"dark\", \"dark\", \"dark\", \"dark\", \"dark\", \"dark\", \"dark\", \"dark\", \"darling\", \"darling\", \"darling\", \"darling\", \"darling\", \"darling\", \"darling\", \"darling\", \"darling\", \"dashwood\", \"dashwood\", \"dashwood\", \"dashwood\", \"dashwood\", \"dashwoods\", \"dashwoods\", \"dawlish\", \"day\", \"day\", \"day\", \"day\", \"day\", \"day\", \"day\", \"day\", \"day\", \"day\", \"day\", \"day\", \"day\", \"day\", \"dear\", \"dear\", \"dear\", \"dear\", \"dear\", \"dear\", \"dear\", \"dear\", \"dear\", \"dear\", \"dear\", \"dear\", \"dear\", \"deceased\", \"deceit\", \"deceit\", \"delaford\", \"denominated\", \"denominated\", \"denominated\", \"dent\", \"dent\", \"dent\", \"dent\", \"dent\", \"desiree\", \"desiree\", \"desiree\", \"desiree\", \"desk\", \"desk\", \"desk\", \"desk\", \"desk\", \"desk\", \"desk\", \"desk\", \"despotic\", \"despotic\", \"devotedly\", \"devour\", \"diana\", \"diana\", \"diana\", \"diana\", \"diana\", \"diana\", \"digest\", \"digne\", \"dim\", \"dim\", \"dim\", \"dim\", \"dim\", \"dim\", \"dim\", \"dim\", \"dim\", \"dim\", \"dingy\", \"dingy\", \"direful\", \"disclaim\", \"disclaim\", \"dishonour\", \"disparity\", \"disparity\", \"dissembling\", \"divinity\", \"divinity\", \"dixons\", \"docteur\", \"docteur\", \"doctrine\", \"doctrine\", \"doctrine\", \"doctrine\", \"dog\", \"dog\", \"dog\", \"dog\", \"dog\", \"dog\", \"dog\", \"dog\", \"doll\", \"doll\", \"doll\", \"doll\", \"doll\", \"dominion\", \"donne\", \"donnez\", \"donnez\", \"donnez\", \"door\", \"door\", \"door\", \"door\", \"door\", \"door\", \"door\", \"door\", \"door\", \"door\", \"door\", \"door\", \"door\", \"door\", \"door\", \"dr\", \"dr\", \"dr\", \"dr\", \"dr\", \"dr\", \"dr\", \"dr\", \"dr\", \"dr\", \"dr\", \"dr\", \"dr\", \"dresser\", \"dresser\", \"dripping\", \"dripping\", \"driver\", \"driver\", \"drug\", \"drug\", \"drug\", \"drunkard\", \"earthquake\", \"ebon\", \"edition\", \"edition\", \"educational\", \"educational\", \"edward\", \"edward\", \"edward\", \"edward\", \"edward\", \"edward\", \"edward\", \"edward\", \"edward\", \"edward\", \"eerie\", \"effluence\", \"egotist\", \"egotist\", \"elinor\", \"elinor\", \"elinor\", \"elinor\", \"elinor\", \"elinor\", \"elizabeth\", \"elizabeth\", \"elizabeth\", \"elizabeth\", \"elizabeth\", \"elizabeth\", \"elizabeth\", \"elizabeth\", \"elliott\", \"elton\", \"elton\", \"elton\", \"elton\", \"elton\", \"elton\", \"elton\", \"eltons\", \"eltons\", \"eltons\", \"emanuel\", \"emanuel\", \"emanuel\", \"emanuel\", \"emanuel\", \"emanuel\", \"emanuel\", \"emanuel\", \"emanuel\", \"emanuel\", \"emanuel\", \"emma\", \"emma\", \"emma\", \"emma\", \"emma\", \"emma\", \"emma\", \"emma\", \"en\", \"en\", \"en\", \"en\", \"en\", \"en\", \"en\", \"en\", \"enfants_\", \"engagement\", \"engagement\", \"english\", \"english\", \"english\", \"english\", \"english\", \"english\", \"english\", \"english\", \"english\", \"english\", \"english\", \"english\", \"english\", \"enquired\", \"eshton\", \"eshton\", \"eshton\", \"eshton\", \"eshton\", \"eshton\", \"espionage\", \"espionage\", \"est\", \"est\", \"est\", \"est\", \"est\", \"est\", \"est\", \"est\", \"establish\", \"establish\", \"establish\", \"establish\", \"establish\", \"establishment\", \"establishment\", \"establishment\", \"establishment\", \"establishment\", \"establishment\", \"establishment\", \"establishment\", \"establishment\", \"et\", \"et\", \"et\", \"et\", \"et\", \"et\", \"et\", \"et\", \"etang\", \"eulalie\", \"eulalie\", \"evening\", \"evening\", \"evening\", \"evening\", \"evening\", \"evening\", \"evening\", \"evening\", \"evening\", \"evening\", \"evening\", \"evening\", \"evening\", \"evening\", \"excitation\", \"excitation\", \"exhilaration\", \"exploring\", \"expresses\", \"exultant\", \"exultant\", \"exultant\", \"eye\", \"eye\", \"eye\", \"eye\", \"eye\", \"eye\", \"eye\", \"eye\", \"eye\", \"eye\", \"eye\", \"eye\", \"eye\", \"eye\", \"eye\", \"eyelid\", \"eyes\", \"eyes\", \"eyes\", \"eyes\", \"eyes\", \"eyes\", \"eyes\", \"eyes\", \"eyes\", \"eyes\", \"eyes\", \"eyes\", \"eyes\", \"eyre\", \"eyre\", \"eyre\", \"eyre\", \"eyre\", \"eyre\", \"eyre\", \"face\", \"face\", \"face\", \"face\", \"face\", \"face\", \"face\", \"face\", \"face\", \"face\", \"face\", \"face\", \"face\", \"face\", \"factories\", \"factories\", \"faible\", \"faible\", \"faites\", \"faites\", \"faites\", \"faithless\", \"faithless\", \"false\", \"false\", \"false\", \"false\", \"false\", \"false\", \"false\", \"false\", \"false\", \"false\", \"false\", \"false\", \"false\", \"family\", \"family\", \"family\", \"family\", \"family\", \"family\", \"family\", \"family\", \"family\", \"family\", \"family\", \"family\", \"fanny\", \"fanshawe\", \"fanshawe\", \"fanshawe\", \"fanshawe\", \"fanshawe\", \"fanshawe\", \"fanshawe\", \"fanshawe\", \"fanshawe\", \"fanshawe\", \"far\", \"far\", \"far\", \"far\", \"far\", \"far\", \"far\", \"far\", \"far\", \"far\", \"far\", \"far\", \"far\", \"far\", \"farewell\", \"farewell\", \"farewell\", \"farewell\", \"farewell\", \"farewell\", \"farewell\", \"farewell\", \"father\", \"father\", \"father\", \"father\", \"father\", \"father\", \"father\", \"father\", \"father\", \"father\", \"father\", \"father\", \"fathomless\", \"faubourg\", \"faubourg\", \"faubourg\", \"faubourg\", \"feather\", \"feather\", \"feather\", \"feather\", \"feather\", \"feeling\", \"feeling\", \"feeling\", \"feeling\", \"feeling\", \"feeling\", \"feeling\", \"feeling\", \"feeling\", \"feeling\", \"feeling\", \"feeling\", \"feeling\", \"feeling\", \"feeling\", \"felt\", \"felt\", \"felt\", \"felt\", \"felt\", \"felt\", \"felt\", \"felt\", \"felt\", \"felt\", \"felt\", \"felt\", \"felt\", \"felt\", \"ferrars\", \"ferrars\", \"ferrars\", \"fetters\", \"fifine\", \"fifine\", \"fifine\", \"fils\", \"fingered\", \"fingered\", \"fishing\", \"fishing\", \"fitly\", \"fitzwilliam\", \"flamand\", \"flamand\", \"flamand\", \"flamands\", \"flamands\", \"flatter\", \"flatter\", \"flatter\", \"flatter\", \"flatter\", \"flatter\", \"flatter\", \"flatter\", \"flayed\", \"fog\", \"fog\", \"fog\", \"fog\", \"foolishly\", \"footman\", \"footman\", \"footman\", \"footman\", \"footman\", \"foreigner\", \"foreigner\", \"foreigner\", \"foreigner\", \"foreigner\", \"forster\", \"fossette\", \"fossette\", \"fossette\", \"fossette\", \"fossette\", \"fossette\", \"fossette\", \"fragmentary\", \"frances\", \"frances\", \"frances\", \"frances\", \"frances\", \"francois\", \"francois\", \"francois\", \"francois\", \"frank\", \"frank\", \"frank\", \"frank\", \"frank\", \"frank\", \"frank\", \"frank\", \"frank\", \"friend\", \"friend\", \"friend\", \"friend\", \"friend\", \"friend\", \"friend\", \"friend\", \"friend\", \"friend\", \"friend\", \"friend\", \"friend\", \"friend\", \"friend\", \"fruit\", \"fruit\", \"fruit\", \"fruit\", \"fruit\", \"fruit\", \"fruit\", \"fruit\", \"fruit\", \"furnishing\", \"gallery\", \"gallery\", \"gallery\", \"gallery\", \"gallery\", \"gallery\", \"gallery\", \"garden\", \"garden\", \"garden\", \"garden\", \"garden\", \"garden\", \"garden\", \"garden\", \"garden\", \"garden\", \"garden\", \"gardiner\", \"gardiner\", \"gardiner\", \"gardiner\", \"garments\", \"garments\", \"garments\", \"garret\", \"garret\", \"garret\", \"garret\", \"garret\", \"gasp\", \"gasp\", \"gateshead\", \"gateshead\", \"gateshead\", \"gateshead\", \"gateshead\", \"gave\", \"gave\", \"gave\", \"gave\", \"gave\", \"gave\", \"gave\", \"gave\", \"gave\", \"gave\", \"gave\", \"gave\", \"gave\", \"gave\", \"gazed\", \"gazed\", \"gazed\", \"gazed\", \"gazed\", \"gazed\", \"gazed\", \"gazed\", \"gazes\", \"gazes\", \"gens\", \"gens\", \"gens\", \"georgette\", \"georgette\", \"georgette\", \"giggle\", \"giggle\", \"gilbert\", \"gilead\", \"ginevra\", \"ginevra\", \"ginevra\", \"ginevra\", \"ginevra\", \"ginevra\", \"ginevra\", \"ginevra\", \"ginevra\", \"ginevra\", \"ginevra\", \"gipsies\", \"gipsies\", \"gipsies\", \"gipsies\", \"girl\", \"girl\", \"girl\", \"girl\", \"girl\", \"girl\", \"girl\", \"girl\", \"girl\", \"girl\", \"girl\", \"girl\", \"girl\", \"girl\", \"girl\", \"glade\", \"glen\", \"glen\", \"globes\", \"globes\", \"god\", \"god\", \"god\", \"god\", \"god\", \"god\", \"god\", \"god\", \"god\", \"god\", \"god\", \"god\", \"god\", \"goddard\", \"goddard\", \"goddard\", \"goddard\", \"goddard\", \"godlike\", \"godmother\", \"godmother\", \"godmother\", \"godmother\", \"godmother\", \"godmother\", \"godmother\", \"gone\", \"gone\", \"gone\", \"gone\", \"gone\", \"gone\", \"gone\", \"gone\", \"gone\", \"gone\", \"gone\", \"gone\", \"gone\", \"gone\", \"good\", \"good\", \"good\", \"good\", \"good\", \"good\", \"good\", \"good\", \"good\", \"good\", \"good\", \"good\", \"good\", \"good\", \"good\", \"got\", \"got\", \"got\", \"got\", \"got\", \"got\", \"got\", \"got\", \"got\", \"got\", \"got\", \"got\", \"goton\", \"goton\", \"goton\", \"goton\", \"goton\", \"graham\", \"graham\", \"graham\", \"graham\", \"graham\", \"graham\", \"graham\", \"graham\", \"graham\", \"graham\", \"great\", \"great\", \"great\", \"great\", \"great\", \"great\", \"great\", \"great\", \"great\", \"great\", \"great\", \"great\", \"great\", \"green\", \"green\", \"green\", \"green\", \"green\", \"green\", \"green\", \"green\", \"green\", \"green\", \"grove\", \"grove\", \"grove\", \"grove\", \"grove\", \"grove\", \"grudged\", \"grudged\", \"gruel\", \"gruel\", \"gruel\", \"guileful\", \"guttering\", \"gytrash\", \"hair\", \"hair\", \"hair\", \"hair\", \"hair\", \"hair\", \"hair\", \"hair\", \"hair\", \"hair\", \"hair\", \"half\", \"half\", \"half\", \"half\", \"half\", \"half\", \"half\", \"half\", \"half\", \"half\", \"half\", \"half\", \"half\", \"half\", \"half\", \"hall\", \"hall\", \"hall\", \"hall\", \"hall\", \"hall\", \"hall\", \"hall\", \"hall\", \"hall\", \"hall\", \"hall\", \"hall\", \"hamal\", \"hamal\", \"hamal\", \"hamal\", \"hamal\", \"hamal\", \"hamal\", \"hand\", \"hand\", \"hand\", \"hand\", \"hand\", \"hand\", \"hand\", \"hand\", \"hand\", \"hand\", \"hand\", \"hand\", \"hand\", \"hand\", \"hannah\", \"hannah\", \"hannah\", \"happiness\", \"happiness\", \"happiness\", \"happiness\", \"happiness\", \"happiness\", \"happiness\", \"happiness\", \"happiness\", \"happiness\", \"happiness\", \"harriet\", \"harriet\", \"harriet\", \"harriet\", \"harriet\", \"harriet\", \"harriet\", \"hartfield\", \"hartfield\", \"hartfield\", \"hartfield\", \"hartfield\", \"hartfield\", \"having\", \"having\", \"having\", \"having\", \"having\", \"having\", \"having\", \"having\", \"having\", \"having\", \"having\", \"having\", \"having\", \"having\", \"having\", \"hawkins\", \"hawkins\", \"hawkins\", \"head\", \"head\", \"head\", \"head\", \"head\", \"head\", \"head\", \"head\", \"head\", \"head\", \"head\", \"head\", \"head\", \"head\", \"headache\", \"headache\", \"headache\", \"heard\", \"heard\", \"heard\", \"heard\", \"heard\", \"heard\", \"heard\", \"heard\", \"heard\", \"heard\", \"heard\", \"heard\", \"heard\", \"heard\", \"heart\", \"heart\", \"heart\", \"heart\", \"heart\", \"heart\", \"heart\", \"heart\", \"heart\", \"heart\", \"heart\", \"heart\", \"heart\", \"heart\", \"hearty\", \"hearty\", \"hearty\", \"heinrich\", \"heinrich\", \"helen\", \"helen\", \"helen\", \"helen\", \"helen\", \"hertfordshire\", \"highbury\", \"highbury\", \"highbury\", \"highbury\", \"hilarity\", \"hindered\", \"hindostanee\", \"hoard\", \"hoist\", \"holy\", \"holy\", \"holy\", \"home\", \"home\", \"home\", \"home\", \"home\", \"home\", \"home\", \"home\", \"home\", \"home\", \"home\", \"home\", \"home\", \"home\", \"hope\", \"hope\", \"hope\", \"hope\", \"hope\", \"hope\", \"hope\", \"hope\", \"hope\", \"hope\", \"hope\", \"hope\", \"hope\", \"hope\", \"horse\", \"horse\", \"horse\", \"horse\", \"horse\", \"horse\", \"hortense\", \"hortense\", \"hothouse\", \"hourly\", \"hourly\", \"house\", \"house\", \"house\", \"house\", \"house\", \"house\", \"house\", \"house\", \"house\", \"house\", \"house\", \"house\", \"house\", \"house\", \"house\", \"hues\", \"hunchback\", \"hundreds\", \"hundreds\", \"hundreds\", \"hundreds\", \"hundreds\", \"hunsden\", \"hunsden\", \"hunsden\", \"hunsden\", \"hunsden\", \"hunsden\", \"hunsdens\", \"hunsdens\", \"hunters\", \"hunters\", \"hurt\", \"hurt\", \"hurt\", \"hurt\", \"hurt\", \"hurt\", \"hurt\", \"hurt\", \"hurt\", \"husband\", \"husband\", \"husband\", \"husband\", \"husband\", \"husband\", \"husband\", \"husband\", \"husband\", \"husband\", \"husband\", \"hybrid\", \"ignore\", \"imbecile\", \"improvise\", \"impute\", \"impute\", \"incidents\", \"incidents\", \"incomparably\", \"incomparably\", \"indelibly\", \"infatuated\", \"inflamed\", \"ingram\", \"ingram\", \"ingram\", \"ingram\", \"ingram\", \"ingram\", \"ingram\", \"ingram\", \"inimitable\", \"ink\", \"ink\", \"ink\", \"inquisitiveness\", \"insanity\", \"instrumental\", \"instrumental\", \"intense\", \"intense\", \"intention\", \"intention\", \"intention\", \"intention\", \"intention\", \"intention\", \"intention\", \"intention\", \"intervene\", \"intractable\", \"invigorated\", \"isabella\", \"isabella\", \"isabella\", \"isabella\", \"isabella\", \"isabella\", \"isidore\", \"isidore\", \"isidore\", \"isidore\", \"isidore\", \"jane\", \"jane\", \"jane\", \"jane\", \"jane\", \"jane\", \"jane\", \"jane\", \"jane\", \"jane\", \"jane\", \"jane\", \"je\", \"je\", \"je\", \"je\", \"je\", \"je\", \"je\", \"je\", \"jennings\", \"jennings\", \"jennings\", \"jennings\", \"jesuit\", \"jesuit\", \"jesuit\", \"jeunes\", \"jeunes\", \"jeunes\", \"jeunes\", \"jeunes\", \"john\", \"john\", \"john\", \"john\", \"john\", \"john\", \"john\", \"john\", \"john\", \"john\", \"john\", \"john\", \"john\", \"john\", \"josef\", \"josef\", \"josef\", \"josef\", \"jour\", \"juanna\", \"juanna\", \"judges\", \"judgments\", \"junta\", \"justine\", \"justine\", \"justine\", \"kinsman\", \"kinsman\", \"kinsman\", \"kiosk\", \"kiosk\", \"kiss\", \"kiss\", \"kiss\", \"kiss\", \"kiss\", \"kiss\", \"kiss\", \"kiss\", \"knew\", \"knew\", \"knew\", \"knew\", \"knew\", \"knew\", \"knew\", \"knew\", \"knew\", \"knew\", \"knew\", \"knew\", \"knew\", \"knew\", \"knightley\", \"knightley\", \"knightley\", \"knightley\", \"knightley\", \"knightley\", \"knightley\", \"know\", \"know\", \"know\", \"know\", \"know\", \"know\", \"know\", \"know\", \"know\", \"know\", \"know\", \"know\", \"know\", \"know\", \"la\", \"la\", \"la\", \"la\", \"la\", \"la\", \"la\", \"la\", \"la\", \"la\", \"la\", \"la\", \"labassecouriens\", \"labassecouriens\", \"lace\", \"lace\", \"lace\", \"lace\", \"lace\", \"lace\", \"lace\", \"lace\", \"lady\", \"lady\", \"lady\", \"lady\", \"lady\", \"lady\", \"lady\", \"lady\", \"lady\", \"lady\", \"lady\", \"lady\", \"lady\", \"lady\", \"lame\", \"landau\", \"lang\", \"lang\", \"large\", \"large\", \"large\", \"large\", \"large\", \"large\", \"large\", \"large\", \"large\", \"large\", \"large\", \"large\", \"large\", \"lark\", \"latent\", \"laugh\", \"laugh\", \"laugh\", \"laugh\", \"laugh\", \"laugh\", \"laugh\", \"laugh\", \"laugh\", \"laugh\", \"laugh\", \"leah\", \"leah\", \"leah\", \"leapt\", \"leas\", \"leaven\", \"leaven\", \"leaven\", \"ledru\", \"left\", \"left\", \"left\", \"left\", \"left\", \"left\", \"left\", \"left\", \"left\", \"left\", \"left\", \"left\", \"left\", \"leonie\", \"lesson\", \"lesson\", \"lesson\", \"lesson\", \"lesson\", \"lesson\", \"lesson\", \"lesson\", \"lesson\", \"lesson\", \"lessons\", \"lessons\", \"lessons\", \"lessons\", \"lessons\", \"lessons\", \"lessons\", \"lessons\", \"lessons\", \"lessons\", \"let\", \"let\", \"let\", \"let\", \"let\", \"let\", \"let\", \"let\", \"let\", \"let\", \"let\", \"let\", \"let\", \"let\", \"lever\", \"lever\", \"life\", \"life\", \"life\", \"life\", \"life\", \"life\", \"life\", \"life\", \"life\", \"life\", \"life\", \"life\", \"life\", \"lifetime\", \"light\", \"light\", \"light\", \"light\", \"light\", \"light\", \"light\", \"light\", \"light\", \"light\", \"light\", \"light\", \"light\", \"light\", \"light\", \"like\", \"like\", \"like\", \"like\", \"like\", \"like\", \"like\", \"like\", \"like\", \"like\", \"like\", \"like\", \"like\", \"like\", \"like\", \"liked\", \"liked\", \"liked\", \"liked\", \"liked\", \"liked\", \"liked\", \"liked\", \"liked\", \"liked\", \"liked\", \"lions\", \"lit\", \"lit\", \"lit\", \"lit\", \"lit\", \"lit\", \"lit\", \"lit\", \"lit\", \"lit\", \"lit\", \"little\", \"little\", \"little\", \"little\", \"little\", \"little\", \"little\", \"little\", \"little\", \"little\", \"little\", \"little\", \"little\", \"little\", \"little\", \"live\", \"live\", \"live\", \"live\", \"live\", \"live\", \"live\", \"live\", \"live\", \"live\", \"live\", \"live\", \"live\", \"lizzy\", \"lizzy\", \"ll\", \"ll\", \"ll\", \"ll\", \"ll\", \"ll\", \"ll\", \"ll\", \"ll\", \"ll\", \"ll\", \"ll\", \"lloyd\", \"lloyd\", \"long\", \"long\", \"long\", \"long\", \"long\", \"long\", \"long\", \"long\", \"long\", \"long\", \"long\", \"long\", \"long\", \"long\", \"long\", \"longbourn\", \"look\", \"look\", \"look\", \"look\", \"look\", \"look\", \"look\", \"look\", \"look\", \"look\", \"look\", \"look\", \"look\", \"look\", \"looked\", \"looked\", \"looked\", \"looked\", \"looked\", \"looked\", \"looked\", \"looked\", \"looked\", \"looked\", \"looked\", \"looked\", \"looked\", \"looked\", \"looked\", \"looking\", \"looking\", \"looking\", \"looking\", \"looking\", \"looking\", \"looking\", \"looking\", \"looking\", \"looking\", \"looking\", \"looking\", \"looking\", \"looking\", \"lounge\", \"lounge\", \"love\", \"love\", \"love\", \"love\", \"love\", \"love\", \"love\", \"love\", \"love\", \"love\", \"love\", \"love\", \"love\", \"love\", \"low\", \"low\", \"low\", \"low\", \"low\", \"low\", \"low\", \"low\", \"low\", \"low\", \"lowood\", \"lowood\", \"lowood\", \"lowood\", \"lowood\", \"lowood\", \"lucas\", \"lucy\", \"lucy\", \"lucy\", \"lucy\", \"lucy\", \"lucy\", \"lucy\", \"lucy\", \"lucy\", \"lucy\", \"lucy\", \"lucy\", \"lucy\", \"lull\", \"lulled\", \"lurk\", \"lurk\", \"lydia\", \"lydia\", \"lydia\", \"madame\", \"madame\", \"madame\", \"madame\", \"madame\", \"madame\", \"madame\", \"madame\", \"madame\", \"madame\", \"madame\", \"mademoiselle\", \"mademoiselle\", \"mademoiselle\", \"mademoiselle\", \"mademoiselle\", \"mademoiselle\", \"mademoiselle\", \"mademoiselle\", \"mademoiselle\", \"magistrate\", \"magistrate\", \"magistrate\", \"making\", \"making\", \"making\", \"making\", \"making\", \"making\", \"making\", \"making\", \"making\", \"making\", \"making\", \"making\", \"making\", \"making\", \"mama\", \"mama\", \"mama\", \"mama\", \"mama\", \"mama\", \"mama\", \"man\", \"man\", \"man\", \"man\", \"man\", \"man\", \"man\", \"man\", \"man\", \"man\", \"man\", \"man\", \"man\", \"man\", \"managing\", \"managing\", \"manufacture\", \"maple\", \"maple\", \"maple\", \"marianne\", \"marianne\", \"marianne\", \"marianne\", \"marianne\", \"marianne\", \"marie\", \"marie\", \"marie\", \"marmalade\", \"marmalade\", \"marmalade\", \"marry\", \"marry\", \"marry\", \"marry\", \"marry\", \"marry\", \"marry\", \"marry\", \"marry\", \"marry\", \"marry\", \"martin\", \"martin\", \"martin\", \"martin\", \"martin\", \"martins\", \"martins\", \"martins\", \"martins\", \"mary\", \"mary\", \"mary\", \"mary\", \"mary\", \"mary\", \"mary\", \"mary\", \"mary\", \"mary\", \"mary\", \"mason\", \"mason\", \"mason\", \"mason\", \"mason\", \"mason\", \"mason\", \"master\", \"master\", \"master\", \"master\", \"master\", \"master\", \"master\", \"master\", \"master\", \"master\", \"master\", \"master\", \"master\", \"masters\", \"masters\", \"masters\", \"masters\", \"masters\", \"masters\", \"mastery\", \"mastery\", \"matron\", \"matron\", \"matter\", \"matter\", \"matter\", \"matter\", \"matter\", \"matter\", \"matter\", \"matter\", \"matter\", \"matter\", \"matter\", \"matter\", \"matter\", \"mdlle\", \"mdlle\", \"mdlle\", \"mdlle\", \"mdlle\", \"mdlle\", \"mechant\", \"mellowing\", \"mellowing\", \"mending\", \"merci\", \"merci\", \"merci\", \"meretricious\", \"meryton\", \"mes\", \"mesdemoiselles\", \"mesdemoiselles\", \"mesdemoiselles\", \"metamorphosis\", \"metamorphosis\", \"mich\", \"middleton\", \"middleton\", \"midnight\", \"midnight\", \"midnight\", \"midnight\", \"midnight\", \"mieux\", \"mieux\", \"milksop\", \"miller\", \"miller\", \"miller\", \"miller\", \"miller\", \"miller\", \"mimic\", \"mimic\", \"mind\", \"mind\", \"mind\", \"mind\", \"mind\", \"mind\", \"mind\", \"mind\", \"mind\", \"mind\", \"mind\", \"mind\", \"mind\", \"mind\", \"mind\", \"mingled\", \"mingled\", \"mingled\", \"mingled\", \"mingled\", \"miret\", \"miret\", \"miss\", \"miss\", \"miss\", \"miss\", \"miss\", \"miss\", \"miss\", \"miss\", \"miss\", \"miss\", \"miss\", \"miss\", \"miss\", \"miss\", \"moi\", \"moi\", \"moi\", \"moment\", \"moment\", \"moment\", \"moment\", \"moment\", \"moment\", \"moment\", \"moment\", \"moment\", \"moment\", \"moment\", \"moment\", \"moment\", \"moment\", \"monsieur\", \"monsieur\", \"monsieur\", \"monsieur\", \"monsieur\", \"monsieur\", \"monsieur\", \"monsieur\", \"monsieur\", \"monsieur\", \"monsieur\", \"moon\", \"moon\", \"moon\", \"moon\", \"moon\", \"moon\", \"moon\", \"morning\", \"morning\", \"morning\", \"morning\", \"morning\", \"morning\", \"morning\", \"morning\", \"morning\", \"morning\", \"morning\", \"morning\", \"morning\", \"morning\", \"morning\", \"mortar\", \"morton\", \"morton\", \"morton\", \"morton\", \"mother\", \"mother\", \"mother\", \"mother\", \"mother\", \"mother\", \"mother\", \"mother\", \"mother\", \"mother\", \"mother\", \"mother\", \"mother\", \"mother\", \"mourned\", \"muehler\", \"muehler\", \"municipality\", \"mysteriously\", \"nash\", \"nature\", \"nature\", \"nature\", \"nature\", \"nature\", \"nature\", \"nature\", \"nature\", \"nature\", \"nature\", \"nature\", \"nature\", \"nature\", \"ne\", \"ne\", \"ne\", \"ne\", \"ne\", \"ne\", \"ne\", \"ne\", \"neat\", \"neat\", \"neat\", \"neat\", \"neat\", \"neat\", \"neat\", \"neat\", \"netherfield\", \"newspaper\", \"newspaper\", \"ni\", \"ni\", \"nicety\", \"nicety\", \"night\", \"night\", \"night\", \"night\", \"night\", \"night\", \"night\", \"night\", \"night\", \"night\", \"night\", \"night\", \"night\", \"night\", \"night\", \"non\", \"non\", \"non\", \"non\", \"nun\", \"nun\", \"nun\", \"nun\", \"nun\", \"nun\", \"nun\", \"nun\", \"nuptials\", \"nursery\", \"nursery\", \"nursery\", \"nursery\", \"nursery\", \"nursery\", \"nursery\", \"nursery\", \"oak\", \"oak\", \"oak\", \"oak\", \"oak\", \"oaths\", \"oh\", \"oh\", \"oh\", \"oh\", \"oh\", \"oh\", \"oh\", \"oh\", \"oh\", \"oh\", \"oh\", \"oh\", \"oh\", \"oh\", \"old\", \"old\", \"old\", \"old\", \"old\", \"old\", \"old\", \"old\", \"old\", \"old\", \"old\", \"old\", \"old\", \"old\", \"oliver\", \"oliver\", \"oliver\", \"opened\", \"opened\", \"opened\", \"opened\", \"opened\", \"opened\", \"opened\", \"opened\", \"opened\", \"opened\", \"opened\", \"opened\", \"opera\", \"opera\", \"opera\", \"opera\", \"opposes\", \"ornamental\", \"ornamental\", \"orphan\", \"orphan\", \"orphan\", \"orphan\", \"orphans\", \"orphans\", \"ought\", \"ought\", \"ought\", \"ought\", \"ought\", \"ought\", \"ought\", \"ought\", \"ought\", \"ought\", \"ought\", \"ought\", \"ought\", \"ox\", \"pair\", \"pair\", \"pair\", \"pair\", \"pair\", \"pair\", \"pair\", \"pair\", \"pair\", \"pair\", \"pair\", \"pair\", \"pair\", \"pale\", \"pale\", \"pale\", \"pale\", \"pale\", \"pale\", \"pale\", \"pale\", \"pale\", \"pale\", \"pale\", \"pale\", \"paletot\", \"paletot\", \"paletot\", \"palliatives\", \"palmer\", \"palmer\", \"palmer\", \"palpably\", \"papa\", \"papa\", \"papa\", \"papa\", \"papa\", \"papa\", \"papa\", \"papa\", \"papa\", \"papa\", \"papa\", \"parents\", \"parents\", \"parents\", \"parents\", \"parents\", \"parents\", \"parents\", \"parents\", \"parents\", \"parents\", \"partridge\", \"pas\", \"pas\", \"pas\", \"pas\", \"pas\", \"pas\", \"pas\", \"pas\", \"patrician\", \"patrician\", \"paul\", \"paul\", \"paul\", \"paul\", \"paul\", \"paul\", \"paul\", \"paul\", \"paul\", \"paul\", \"paul\", \"paulina\", \"paulina\", \"paulina\", \"paulina\", \"paulina\", \"paulina\", \"paulina\", \"paulina\", \"paulina\", \"paulina\", \"paulina\", \"pauvres\", \"pear\", \"pear\", \"peep\", \"peep\", \"peep\", \"peep\", \"pelet\", \"pelet\", \"pelet\", \"pelet\", \"pelet\", \"pelet\", \"pelet\", \"pensionnaires\", \"pensionnat\", \"pensionnat\", \"pensionnat\", \"pensionnat\", \"penurious\", \"perfidy\", \"perry\", \"perry\", \"perry\", \"perry\", \"perry\", \"perrys\", \"physically\", \"physically\", \"physically\", \"physically\", \"physically\", \"pierre\", \"pierre\", \"pierre\", \"pierre\", \"piled\", \"piled\", \"pillule\", \"pillule\", \"pillule\", \"pink\", \"pink\", \"pink\", \"pink\", \"pink\", \"pink\", \"pink\", \"pistolets\", \"pistolets\", \"pittance\", \"place\", \"place\", \"place\", \"place\", \"place\", \"place\", \"place\", \"place\", \"place\", \"place\", \"place\", \"place\", \"place\", \"place\", \"plaister\", \"plaister\", \"plaits\", \"plate\", \"plate\", \"plate\", \"plate\", \"plate\", \"plate\", \"plate\", \"playfully\", \"playmate\", \"playmate\", \"playmate\", \"playmates\", \"playmates\", \"plotted\", \"plume\", \"polly\", \"polly\", \"polly\", \"polly\", \"polly\", \"polly\", \"polly\", \"polly\", \"pork\", \"porte\", \"porte\", \"portress\", \"portress\", \"portress\", \"portress\", \"portress\", \"portress\", \"pots\", \"pots\", \"pounds\", \"pounds\", \"pounds\", \"pounds\", \"pounds\", \"pounds\", \"pounds\", \"pounds\", \"prenez\", \"prenez\", \"presenting\", \"presenting\", \"presents\", \"presents\", \"presents\", \"presents\", \"presents\", \"presents\", \"priests\", \"priests\", \"princes\", \"professors\", \"professors\", \"professors\", \"promise\", \"promise\", \"promise\", \"promise\", \"promise\", \"promise\", \"promise\", \"promise\", \"promise\", \"promise\", \"promise\", \"prophetic\", \"propre_\", \"protestant\", \"protestant\", \"protestant\", \"protestant\", \"proverbially\", \"publishers\", \"publishers\", \"pull\", \"pull\", \"punch\", \"punch\", \"puncture\", \"pupils\", \"pupils\", \"pupils\", \"pupils\", \"pupils\", \"pupils\", \"pupils\", \"pupils\", \"pupils\", \"pupils\", \"purse\", \"purse\", \"purse\", \"purse\", \"purse\", \"purse\", \"purse\", \"pursed\", \"quant\", \"queen\", \"queen\", \"queen\", \"queen\", \"queen\", \"queen\", \"queen\", \"queen\", \"queen\", \"quelquechose\", \"quelquechose\", \"quilt\", \"rabid\", \"rag\", \"randalls\", \"randalls\", \"randalls\", \"randalls\", \"randalls\", \"rasselas\", \"rasselas\", \"reason\", \"reason\", \"reason\", \"reason\", \"reason\", \"reason\", \"reason\", \"reason\", \"reason\", \"reason\", \"reason\", \"reason\", \"reason\", \"reed\", \"reed\", \"reed\", \"reed\", \"reed\", \"reed\", \"reed\", \"reed\", \"reigns\", \"rejoin\", \"rejoin\", \"rejoin\", \"remember\", \"remember\", \"remember\", \"remember\", \"remember\", \"remember\", \"remember\", \"remember\", \"remember\", \"remember\", \"remember\", \"remember\", \"remember\", \"renovation\", \"repairing\", \"repairing\", \"repentant\", \"repentant\", \"replied\", \"replied\", \"replied\", \"replied\", \"replied\", \"replied\", \"replied\", \"replied\", \"replied\", \"replied\", \"replied\", \"restore\", \"restore\", \"restore\", \"restore\", \"restore\", \"restore\", \"restore\", \"restore\", \"reuter\", \"reuter\", \"reuter\", \"reuter\", \"reuter\", \"reuter\", \"revert\", \"ribbons\", \"river\", \"river\", \"river\", \"river\", \"river\", \"river\", \"river\", \"river\", \"rivers\", \"rivers\", \"rivers\", \"rivers\", \"rivers\", \"road\", \"road\", \"road\", \"road\", \"road\", \"road\", \"road\", \"road\", \"road\", \"rochemorte\", \"rochemorte\", \"rochester\", \"rochester\", \"rochester\", \"rochester\", \"rochester\", \"rochester\", \"rochester\", \"rochester\", \"rochester\", \"rochester\", \"rochester\", \"rolls\", \"rolls\", \"rome\", \"rome\", \"rome\", \"rome\", \"rome\", \"room\", \"room\", \"room\", \"room\", \"room\", \"room\", \"room\", \"room\", \"room\", \"room\", \"room\", \"room\", \"room\", \"room\", \"room\", \"rosalie\", \"rosalie\", \"rose\", \"rose\", \"rose\", \"rose\", \"rose\", \"rose\", \"rose\", \"rose\", \"rose\", \"rose\", \"rose\", \"rose\", \"rose\", \"rosine\", \"rosine\", \"rosine\", \"rosings\", \"rosings\", \"round\", \"round\", \"round\", \"round\", \"round\", \"round\", \"round\", \"round\", \"round\", \"round\", \"round\", \"round\", \"round\", \"rubicund\", \"rue\", \"rue\", \"rue\", \"rue\", \"rue\", \"rue\", \"rue\", \"rue\", \"rue\", \"rushes\", \"russian\", \"sabbath\", \"sabbath\", \"sanctity\", \"sara\", \"sara\", \"sarah\", \"sarah\", \"sat\", \"sat\", \"sat\", \"sat\", \"sat\", \"sat\", \"sat\", \"sat\", \"sat\", \"sat\", \"sat\", \"sat\", \"sat\", \"sat\", \"savants\", \"saw\", \"saw\", \"saw\", \"saw\", \"saw\", \"saw\", \"saw\", \"saw\", \"saw\", \"saw\", \"saw\", \"saw\", \"saw\", \"saw\", \"saw\", \"scatcherd\", \"scatcherd\", \"scene\", \"scene\", \"scene\", \"scene\", \"scene\", \"scene\", \"scene\", \"scene\", \"scene\", \"scene\", \"scene\", \"scene\", \"scene\", \"scholars\", \"scholars\", \"scholars\", \"scholars\", \"school\", \"school\", \"school\", \"school\", \"school\", \"school\", \"school\", \"school\", \"school\", \"school\", \"school\", \"school\", \"school\", \"school\", \"schoolrooms\", \"schoolrooms\", \"scorn\", \"scorn\", \"scorn\", \"scorn\", \"scorn\", \"scorn\", \"scorn\", \"scotch\", \"scotch\", \"scotch\", \"scotch\", \"scotch\", \"scotch\", \"scotch\", \"scotch\", \"screens\", \"screens\", \"sea\", \"sea\", \"sea\", \"sea\", \"sea\", \"sea\", \"sea\", \"sea\", \"sea\", \"sea\", \"sea\", \"seat\", \"seat\", \"seat\", \"seat\", \"seat\", \"seat\", \"seat\", \"seat\", \"seat\", \"seat\", \"seat\", \"seat\", \"seat\", \"secresy\", \"sedative\", \"sedative\", \"sedative\", \"seen\", \"seen\", \"seen\", \"seen\", \"seen\", \"seen\", \"seen\", \"seen\", \"seen\", \"seen\", \"seen\", \"seen\", \"seen\", \"seen\", \"selina\", \"sensitiveness\", \"serves\", \"serves\", \"shall\", \"shall\", \"shall\", \"shall\", \"shall\", \"shall\", \"shall\", \"shall\", \"shall\", \"shall\", \"shall\", \"shall\", \"shall\", \"shall\", \"shillings\", \"shillings\", \"shillings\", \"shillings\", \"shillings\", \"shout\", \"shred\", \"shred\", \"sibyl\", \"sighs\", \"sighs\", \"sightless\", \"sign\", \"sign\", \"sign\", \"sign\", \"sign\", \"sign\", \"sign\", \"sign\", \"sign\", \"sins\", \"sins\", \"sir\", \"sir\", \"sir\", \"sir\", \"sir\", \"sir\", \"sir\", \"sir\", \"sir\", \"sir\", \"sir\", \"sir\", \"sisera\", \"sister\", \"sister\", \"sister\", \"sister\", \"sister\", \"sister\", \"sister\", \"sister\", \"sister\", \"sister\", \"sister\", \"sister\", \"skeletons\", \"skirt\", \"skirt\", \"slimy\", \"small\", \"small\", \"small\", \"small\", \"small\", \"small\", \"small\", \"small\", \"small\", \"small\", \"small\", \"small\", \"small\", \"smile\", \"smile\", \"smile\", \"smile\", \"smile\", \"smile\", \"smile\", \"smile\", \"smile\", \"smile\", \"smile\", \"smile\", \"smile\", \"smile\", \"smith\", \"smith\", \"smith\", \"smith\", \"smith\", \"smith\", \"smith\", \"sneeze\", \"sneeze\", \"sneeze\", \"snowe\", \"snowe\", \"snowe\", \"snowe\", \"snowe\", \"snowe\", \"snowe\", \"snowe\", \"snowe\", \"snowe\", \"snowe\", \"sonorous\", \"sonorous\", \"soon\", \"soon\", \"soon\", \"soon\", \"soon\", \"soon\", \"soon\", \"soon\", \"soon\", \"soon\", \"soon\", \"soon\", \"soon\", \"soon\", \"sooty\", \"sooty\", \"sorry\", \"sorry\", \"sorry\", \"sorry\", \"sorry\", \"sorry\", \"sorry\", \"sorry\", \"sorry\", \"sorry\", \"sorry\", \"south\", \"south\", \"south\", \"south\", \"south\", \"south\", \"south\", \"south\", \"south\", \"sparks\", \"sparks\", \"speculate\", \"speculate\", \"spilt\", \"spoon\", \"spoon\", \"spying\", \"spying\", \"st\", \"st\", \"st\", \"st\", \"st\", \"st\", \"st\", \"st\", \"st\", \"st\", \"stair\", \"stair\", \"stair\", \"stair\", \"stepped\", \"stepped\", \"stepped\", \"stepped\", \"stepped\", \"stepped\", \"stepped\", \"stepped\", \"stepped\", \"stigmatized\", \"stokes\", \"stomach\", \"stood\", \"stood\", \"stood\", \"stood\", \"stood\", \"stood\", \"stood\", \"stood\", \"stood\", \"stood\", \"stood\", \"stood\", \"stood\", \"stood\", \"storey\", \"storey\", \"storey\", \"storey\", \"strengthening\", \"strengthening\", \"studiously\", \"studiously\", \"stumbling\", \"subject\", \"subject\", \"subject\", \"subject\", \"subject\", \"subject\", \"subject\", \"subject\", \"subject\", \"subject\", \"subject\", \"succumbed\", \"suckling\", \"suckling\", \"suckling\", \"sucree_\", \"suicide\", \"suicide\", \"sun\", \"sun\", \"sun\", \"sun\", \"sun\", \"sun\", \"sun\", \"sun\", \"sun\", \"sun\", \"sun\", \"sun\", \"sundays\", \"sundays\", \"sure\", \"sure\", \"sure\", \"sure\", \"sure\", \"sure\", \"sure\", \"sure\", \"sure\", \"sure\", \"sure\", \"sure\", \"sure\", \"surplice\", \"surprized\", \"surprized\", \"surprized\", \"surprized\", \"surry\", \"surry\", \"swear\", \"swear\", \"sweat\", \"sweat\", \"sweeps\", \"swiss\", \"swiss\", \"syne\", \"syne\", \"tabernacle\", \"tableau\", \"tableau\", \"tablet\", \"tablet\", \"tact\", \"tact\", \"tact\", \"tact\", \"tact\", \"tact\", \"taisez\", \"taisez\", \"tarts\", \"taylor\", \"taylor\", \"taylor\", \"taylor\", \"tell\", \"tell\", \"tell\", \"tell\", \"tell\", \"tell\", \"tell\", \"tell\", \"tell\", \"tell\", \"tell\", \"tell\", \"tell\", \"temple\", \"temple\", \"temple\", \"temple\", \"temple\", \"temple\", \"temple\", \"temple\", \"terror\", \"terror\", \"terror\", \"terror\", \"terror\", \"terror\", \"terror\", \"terror\", \"thanksgiving\", \"thing\", \"thing\", \"thing\", \"thing\", \"thing\", \"thing\", \"thing\", \"thing\", \"thing\", \"thing\", \"thing\", \"thing\", \"thing\", \"thing\", \"think\", \"think\", \"think\", \"think\", \"think\", \"think\", \"think\", \"think\", \"think\", \"think\", \"think\", \"think\", \"think\", \"think\", \"think\", \"thinker\", \"thinker\", \"thinner\", \"thinner\", \"thinner\", \"thornfield\", \"thornfield\", \"thornfield\", \"thornfield\", \"thornfield\", \"thornfield\", \"thornfield\", \"thought\", \"thought\", \"thought\", \"thought\", \"thought\", \"thought\", \"thought\", \"thought\", \"thought\", \"thought\", \"thought\", \"thought\", \"thought\", \"thought\", \"thought\", \"threatening\", \"threatening\", \"threatening\", \"threatening\", \"time\", \"time\", \"time\", \"time\", \"time\", \"time\", \"time\", \"time\", \"time\", \"time\", \"time\", \"time\", \"time\", \"time\", \"time\", \"tires\", \"tittered\", \"tittered\", \"tolerant\", \"tolerant\", \"tolling\", \"took\", \"took\", \"took\", \"took\", \"took\", \"took\", \"took\", \"took\", \"took\", \"took\", \"took\", \"took\", \"took\", \"took\", \"toothpick\", \"tradesman\", \"tradesman\", \"tradesman\", \"tradesman\", \"tradesman\", \"tradesman\", \"train\", \"train\", \"train\", \"train\", \"train\", \"train\", \"transparent\", \"transparent\", \"trap\", \"traveller\", \"traveller\", \"traveller\", \"traveller\", \"traveller\", \"traverse\", \"traversing\", \"tribune\", \"trousseau\", \"truant\", \"tuck\", \"turban\", \"turban\", \"turban\", \"turban\", \"turned\", \"turned\", \"turned\", \"turned\", \"turned\", \"turned\", \"turned\", \"turned\", \"turned\", \"turned\", \"turned\", \"turned\", \"twain\", \"twain\", \"twigs\", \"twigs\", \"undeserved\", \"une\", \"une\", \"une\", \"une\", \"une\", \"une\", \"une\", \"une\", \"unearthly\", \"unearthly\", \"unforced\", \"unhealthy\", \"unhealthy\", \"unintentionally\", \"unintentionally\", \"unsaid\", \"upset\", \"upset\", \"upstairs\", \"upstairs\", \"upstairs\", \"upstairs\", \"upstairs\", \"upstairs\", \"upstairs\", \"upstairs\", \"upstairs\", \"urn\", \"vacillating\", \"vanderkelkov\", \"vaudeville\", \"vaut\", \"verandah\", \"verandah\", \"verandah\", \"vestibule\", \"vestibule\", \"vicarage\", \"vicarage\", \"victor\", \"victor\", \"victor\", \"victor\", \"victor\", \"victor\", \"vie\", \"vines\", \"vite\", \"vivacious\", \"vivacious\", \"volubly\", \"vous\", \"vous\", \"vous\", \"vous\", \"vous\", \"vous\", \"vous\", \"vous\", \"vous\", \"vous\", \"vous\", \"vraiment\", \"vraiment\", \"vulture\", \"vulture\", \"wages\", \"wages\", \"wages\", \"wages\", \"waiter\", \"waiter\", \"wallis\", \"walravens\", \"walravens\", \"walravens\", \"warmer\", \"warmer\", \"warmer\", \"warmer\", \"wars\", \"wave\", \"wave\", \"wave\", \"way\", \"way\", \"way\", \"way\", \"way\", \"way\", \"way\", \"way\", \"way\", \"way\", \"way\", \"way\", \"way\", \"way\", \"wearily\", \"wearily\", \"wears\", \"wears\", \"wears\", \"went\", \"went\", \"went\", \"went\", \"went\", \"went\", \"went\", \"went\", \"went\", \"went\", \"went\", \"went\", \"went\", \"went\", \"weston\", \"weston\", \"weston\", \"weston\", \"weston\", \"weston\", \"weston\", \"whip\", \"white\", \"white\", \"white\", \"white\", \"white\", \"white\", \"white\", \"white\", \"white\", \"white\", \"white\", \"white\", \"white\", \"white\", \"wi\", \"wickham\", \"wickham\", \"wickham\", \"wickham\", \"willoughby\", \"willoughby\", \"willoughby\", \"window\", \"window\", \"window\", \"window\", \"window\", \"window\", \"window\", \"window\", \"window\", \"window\", \"window\", \"window\", \"wingfield\", \"wingfield\", \"wish\", \"wish\", \"wish\", \"wish\", \"wish\", \"wish\", \"wish\", \"wish\", \"wish\", \"wish\", \"wish\", \"wish\", \"wish\", \"wish\", \"woman\", \"woman\", \"woman\", \"woman\", \"woman\", \"woman\", \"woman\", \"woman\", \"woman\", \"woman\", \"woman\", \"woman\", \"woman\", \"wonted\", \"wonted\", \"wood\", \"wood\", \"wood\", \"wood\", \"wood\", \"wood\", \"wood\", \"wood\", \"wooden\", \"wooden\", \"woodhouse\", \"woodhouse\", \"woodhouse\", \"woodhouse\", \"woodhouse\", \"woodhouse\", \"woodhouse\", \"woodland\", \"woodland\", \"woods\", \"woods\", \"woods\", \"woods\", \"woods\", \"woods\", \"woods\", \"wor\", \"word\", \"word\", \"word\", \"word\", \"word\", \"word\", \"word\", \"word\", \"word\", \"word\", \"word\", \"word\", \"word\", \"word\", \"work\", \"work\", \"work\", \"work\", \"work\", \"work\", \"work\", \"work\", \"work\", \"work\", \"work\", \"work\", \"work\", \"workpeople\", \"writhed\", \"writhed\", \"xxxi\", \"xxxi\", \"xxxix\", \"years\", \"years\", \"years\", \"years\", \"years\", \"years\", \"years\", \"years\", \"years\", \"years\", \"years\", \"years\", \"years\", \"years\", \"yes\", \"yes\", \"yes\", \"yes\", \"yes\", \"yes\", \"yes\", \"yes\", \"yes\", \"yes\", \"yes\", \"yes\", \"yes\", \"yorke\", \"yorke\", \"yorke\", \"young\", \"young\", \"young\", \"young\", \"young\", \"young\", \"young\", \"young\", \"young\", \"young\", \"young\", \"young\", \"young\", \"young\", \"young\", \"zone\", \"zone\", \"zoraide\", \"zoraide\", \"zoraide\", \"zoraide\", \"zoraide\", \"zoraide\", \"zoraide\"]}, \"R\": 30, \"lambda.step\": 0.01, \"plot.opts\": {\"xlab\": \"PC1\", \"ylab\": \"PC2\"}, \"topic.order\": [9, 10, 5, 8, 3, 12, 13, 7, 6, 4, 2, 15, 1, 11, 14]};\n",
       "\n",
       "function LDAvis_load_lib(url, callback){\n",
       "  var s = document.createElement('script');\n",
       "  s.src = url;\n",
       "  s.async = true;\n",
       "  s.onreadystatechange = s.onload = callback;\n",
       "  s.onerror = function(){console.warn(\"failed to load library \" + url);};\n",
       "  document.getElementsByTagName(\"head\")[0].appendChild(s);\n",
       "}\n",
       "\n",
       "if(typeof(LDAvis) !== \"undefined\"){\n",
       "   // already loaded: just create the visualization\n",
       "   !function(LDAvis){\n",
       "       new LDAvis(\"#\" + \"ldavis_el235381403745755484963630825566\", ldavis_el235381403745755484963630825566_data);\n",
       "   }(LDAvis);\n",
       "}else if(typeof define === \"function\" && define.amd){\n",
       "   // require.js is available: use it to load d3/LDAvis\n",
       "   require.config({paths: {d3: \"https://cdnjs.cloudflare.com/ajax/libs/d3/3.5.5/d3.min\"}});\n",
       "   require([\"d3\"], function(d3){\n",
       "      window.d3 = d3;\n",
       "      LDAvis_load_lib(\"https://cdn.rawgit.com/bmabey/pyLDAvis/files/ldavis.v1.0.0.js\", function(){\n",
       "        new LDAvis(\"#\" + \"ldavis_el235381403745755484963630825566\", ldavis_el235381403745755484963630825566_data);\n",
       "      });\n",
       "    });\n",
       "}else{\n",
       "    // require.js not available: dynamically load d3 & LDAvis\n",
       "    LDAvis_load_lib(\"https://cdnjs.cloudflare.com/ajax/libs/d3/3.5.5/d3.min.js\", function(){\n",
       "         LDAvis_load_lib(\"https://cdn.rawgit.com/bmabey/pyLDAvis/files/ldavis.v1.0.0.js\", function(){\n",
       "                 new LDAvis(\"#\" + \"ldavis_el235381403745755484963630825566\", ldavis_el235381403745755484963630825566_data);\n",
       "            })\n",
       "         });\n",
       "}\n",
       "</script>"
      ],
      "text/plain": [
       "PreparedData(topic_coordinates=              x         y  topics  cluster       Freq\n",
       "topic                                                \n",
       "8      0.163496 -0.021995       1        1  32.724068\n",
       "9      0.031749  0.022664       2        1  14.701414\n",
       "4     -0.043217  0.099920       3        1  12.661407\n",
       "7      0.004573  0.049187       4        1   7.946792\n",
       "2      0.186245 -0.019638       5        1   7.933255\n",
       "11     0.004057  0.039830       6        1   7.341459\n",
       "12     0.007104  0.042971       7        1   7.001857\n",
       "6     -0.035262  0.051267       8        1   2.348451\n",
       "5     -0.050379  0.056197       9        1   1.854536\n",
       "3     -0.077907  0.024056      10        1   1.524276\n",
       "1      0.070513 -0.075957      11        1   1.254290\n",
       "14    -0.023785 -0.016746      12        1   1.117541\n",
       "0     -0.061323 -0.016658      13        1   1.010937\n",
       "10    -0.074013 -0.119803      14        1   0.349901\n",
       "13    -0.101851 -0.115295      15        1   0.229822, topic_info=         Term         Freq        Total Category  logprob  loglift\n",
       "95       emma   917.000000   917.000000  Default  30.0000  30.0000\n",
       "185    little  1690.000000  1690.000000  Default  29.0000  29.0000\n",
       "1214     miss  1543.000000  1543.000000  Default  28.0000  28.0000\n",
       "141   harriet   555.000000   555.000000  Default  27.0000  27.0000\n",
       "1284      sir   581.000000   581.000000  Default  26.0000  26.0000\n",
       "...       ...          ...          ...      ...      ...      ...\n",
       "649     laugh     0.945901   121.287926  Topic15  -6.6906   1.2218\n",
       "190   looking     0.961329   364.405365  Topic15  -6.6744   0.1379\n",
       "439      mind     0.965777   566.074951  Topic15  -6.6698  -0.2979\n",
       "1682   reason     0.940949   233.833405  Topic15  -6.6959   0.5601\n",
       "133      gone     0.942851   341.095154  Topic15  -6.6938   0.1846\n",
       "\n",
       "[1231 rows x 6 columns], token_table=       Topic      Freq         Term\n",
       "term                               \n",
       "6781       4  0.083549    abandoned\n",
       "6781       7  0.668392    abandoned\n",
       "6781       8  0.083549    abandoned\n",
       "6781      10  0.083549    abandoned\n",
       "10280      6  0.847858  abandonment\n",
       "...      ...       ...          ...\n",
       "6666       6  0.320941      zoraide\n",
       "6666       7  0.240706      zoraide\n",
       "6666       9  0.040118      zoraide\n",
       "6666      10  0.200588      zoraide\n",
       "6666      15  0.040118      zoraide\n",
       "\n",
       "[4152 rows x 3 columns], R=30, lambda_step=0.01, plot_opts={'xlab': 'PC1', 'ylab': 'PC2'}, topic_order=[9, 10, 5, 8, 3, 12, 13, 7, 6, 4, 2, 15, 1, 11, 14])"
      ]
     },
     "execution_count": 52,
     "metadata": {},
     "output_type": "execute_result"
    }
   ],
   "source": [
    "pyLDAvis.gensim.prepare(lda, corpus, id2word)"
   ]
  },
  {
   "cell_type": "markdown",
   "metadata": {},
   "source": [
    "### Overall Model / Documents"
   ]
  },
  {
   "cell_type": "code",
   "execution_count": 53,
   "metadata": {},
   "outputs": [
    {
     "data": {
      "text/plain": [
       "[(0, 1),\n",
       " (1, 1),\n",
       " (2, 1),\n",
       " (3, 2),\n",
       " (4, 1),\n",
       " (5, 1),\n",
       " (6, 1),\n",
       " (7, 2),\n",
       " (8, 1),\n",
       " (9, 1),\n",
       " (10, 1),\n",
       " (11, 1),\n",
       " (12, 1),\n",
       " (13, 2),\n",
       " (14, 1),\n",
       " (15, 1),\n",
       " (16, 1),\n",
       " (17, 1),\n",
       " (18, 1),\n",
       " (19, 1),\n",
       " (20, 1),\n",
       " (21, 1),\n",
       " (22, 1),\n",
       " (23, 1),\n",
       " (24, 1),\n",
       " (25, 1),\n",
       " (26, 1),\n",
       " (27, 2),\n",
       " (28, 1),\n",
       " (29, 2),\n",
       " (30, 1),\n",
       " (31, 1),\n",
       " (32, 1),\n",
       " (33, 1),\n",
       " (34, 1),\n",
       " (35, 1),\n",
       " (36, 1),\n",
       " (37, 1),\n",
       " (38, 1),\n",
       " (39, 2),\n",
       " (40, 1),\n",
       " (41, 1),\n",
       " (42, 1),\n",
       " (43, 1),\n",
       " (44, 1),\n",
       " (45, 1),\n",
       " (46, 1),\n",
       " (47, 2),\n",
       " (48, 1),\n",
       " (49, 1)]"
      ]
     },
     "execution_count": 53,
     "metadata": {},
     "output_type": "execute_result"
    }
   ],
   "source": [
    "corpus[0][:50]"
   ]
  },
  {
   "cell_type": "code",
   "execution_count": 54,
   "metadata": {},
   "outputs": [
    {
     "data": {
      "text/plain": [
       "[(2, 0.1878781), (8, 0.53647065), (9, 0.19182312), (11, 0.08196765)]"
      ]
     },
     "execution_count": 54,
     "metadata": {},
     "output_type": "execute_result"
    }
   ],
   "source": [
    "lda[corpus[0]]"
   ]
  },
  {
   "cell_type": "code",
   "execution_count": 55,
   "metadata": {},
   "outputs": [],
   "source": [
    "distro = [lda[d] for d in corpus]"
   ]
  },
  {
   "cell_type": "code",
   "execution_count": 73,
   "metadata": {},
   "outputs": [
    {
     "data": {
      "text/plain": [
       "[(10, 0.13784067), (11, 0.7754888), (13, 0.084567785)]"
      ]
     },
     "execution_count": 73,
     "metadata": {},
     "output_type": "execute_result"
    }
   ],
   "source": [
    "distro[0]"
   ]
  },
  {
   "cell_type": "code",
   "execution_count": 56,
   "metadata": {},
   "outputs": [],
   "source": [
    "distro = [lda[d] for d in corpus]\n",
    "\n",
    "def update(doc):\n",
    "        d_dist = {k:0 for k in range(0,15)}\n",
    "        for t in doc:\n",
    "            d_dist[t[0]] = t[1]\n",
    "        return d_dist\n",
    "    \n",
    "new_distro = [update(d) for d in distro]"
   ]
  },
  {
   "cell_type": "code",
   "execution_count": 57,
   "metadata": {},
   "outputs": [
    {
     "data": {
      "text/plain": [
       "813"
      ]
     },
     "execution_count": 57,
     "metadata": {},
     "output_type": "execute_result"
    }
   ],
   "source": [
    "len(new_distro)"
   ]
  },
  {
   "cell_type": "code",
   "execution_count": 58,
   "metadata": {},
   "outputs": [
    {
     "data": {
      "text/html": [
       "<div>\n",
       "<style scoped>\n",
       "    .dataframe tbody tr th:only-of-type {\n",
       "        vertical-align: middle;\n",
       "    }\n",
       "\n",
       "    .dataframe tbody tr th {\n",
       "        vertical-align: top;\n",
       "    }\n",
       "\n",
       "    .dataframe thead th {\n",
       "        text-align: right;\n",
       "    }\n",
       "</style>\n",
       "<table border=\"1\" class=\"dataframe\">\n",
       "  <thead>\n",
       "    <tr style=\"text-align: right;\">\n",
       "      <th></th>\n",
       "      <th>tokens</th>\n",
       "      <th>author</th>\n",
       "      <th>book</th>\n",
       "      <th>section</th>\n",
       "    </tr>\n",
       "  </thead>\n",
       "  <tbody>\n",
       "    <tr>\n",
       "      <th>Austen_Emma0026</th>\n",
       "      <td>[giving, fair, companion, account, yesterday, ...</td>\n",
       "      <td>1</td>\n",
       "      <td>Emma</td>\n",
       "      <td>26</td>\n",
       "    </tr>\n",
       "    <tr>\n",
       "      <th>Austen_Emma0032</th>\n",
       "      <td>[feels, like, snow, place, party, try, day, di...</td>\n",
       "      <td>1</td>\n",
       "      <td>Emma</td>\n",
       "      <td>32</td>\n",
       "    </tr>\n",
       "    <tr>\n",
       "      <th>CBronte_Villette0086</th>\n",
       "      <td>[pierced, opaque, blackness, stood, bougie, qu...</td>\n",
       "      <td>0</td>\n",
       "      <td>Villette</td>\n",
       "      <td>86</td>\n",
       "    </tr>\n",
       "    <tr>\n",
       "      <th>CBronte_Jane0099</th>\n",
       "      <td>[joke, queer, looks, tell, thing, specially, s...</td>\n",
       "      <td>0</td>\n",
       "      <td>Jane</td>\n",
       "      <td>99</td>\n",
       "    </tr>\n",
       "    <tr>\n",
       "      <th>CBronte_Villette0092</th>\n",
       "      <td>[second, landing, floor, comprising, abode, kn...</td>\n",
       "      <td>0</td>\n",
       "      <td>Villette</td>\n",
       "      <td>92</td>\n",
       "    </tr>\n",
       "  </tbody>\n",
       "</table>\n",
       "</div>"
      ],
      "text/plain": [
       "                                                                 tokens  \\\n",
       "Austen_Emma0026       [giving, fair, companion, account, yesterday, ...   \n",
       "Austen_Emma0032       [feels, like, snow, place, party, try, day, di...   \n",
       "CBronte_Villette0086  [pierced, opaque, blackness, stood, bougie, qu...   \n",
       "CBronte_Jane0099      [joke, queer, looks, tell, thing, specially, s...   \n",
       "CBronte_Villette0092  [second, landing, floor, comprising, abode, kn...   \n",
       "\n",
       "                      author      book  section  \n",
       "Austen_Emma0026            1      Emma       26  \n",
       "Austen_Emma0032            1      Emma       32  \n",
       "CBronte_Villette0086       0  Villette       86  \n",
       "CBronte_Jane0099           0      Jane       99  \n",
       "CBronte_Villette0092       0  Villette       92  "
      ]
     },
     "execution_count": 58,
     "metadata": {},
     "output_type": "execute_result"
    }
   ],
   "source": [
    "df.head()"
   ]
  },
  {
   "cell_type": "code",
   "execution_count": 59,
   "metadata": {},
   "outputs": [],
   "source": [
    "df = pd.DataFrame.from_records(new_distro, index=titles)\n",
    "df.columns = topics\n",
    "df['author'] = df.reset_index()['index'].apply(lambda x: x.split('_')[0]).tolist()"
   ]
  },
  {
   "cell_type": "code",
   "execution_count": 60,
   "metadata": {},
   "outputs": [
    {
     "data": {
      "text/html": [
       "<div>\n",
       "<style scoped>\n",
       "    .dataframe tbody tr th:only-of-type {\n",
       "        vertical-align: middle;\n",
       "    }\n",
       "\n",
       "    .dataframe tbody tr th {\n",
       "        vertical-align: top;\n",
       "    }\n",
       "\n",
       "    .dataframe thead th {\n",
       "        text-align: right;\n",
       "    }\n",
       "</style>\n",
       "<table border=\"1\" class=\"dataframe\">\n",
       "  <thead>\n",
       "    <tr style=\"text-align: right;\">\n",
       "      <th></th>\n",
       "      <th>bretton madame like little jane</th>\n",
       "      <th>miss dear little harriet knightley</th>\n",
       "      <th>emma harriet elton miss knightley</th>\n",
       "      <th>madame pelet vous day monsieur</th>\n",
       "      <th>little madame like day thought</th>\n",
       "      <th>little madame think room hand</th>\n",
       "      <th>like little face thought saw</th>\n",
       "      <th>like night time day thought</th>\n",
       "      <th>miss elinor elizabeth know time</th>\n",
       "      <th>like little john know miss</th>\n",
       "      <th>sir little yes think jane</th>\n",
       "      <th>little like thought room time</th>\n",
       "      <th>little like bessie miss good</th>\n",
       "      <th>like pelet crimsworth hunsden face</th>\n",
       "      <th>graham polly little papa bretton</th>\n",
       "      <th>author</th>\n",
       "    </tr>\n",
       "  </thead>\n",
       "  <tbody>\n",
       "    <tr>\n",
       "      <th>Austen_Emma0026</th>\n",
       "      <td>0.0</td>\n",
       "      <td>0.0</td>\n",
       "      <td>0.187879</td>\n",
       "      <td>0.0</td>\n",
       "      <td>0.000000</td>\n",
       "      <td>0.0</td>\n",
       "      <td>0.0</td>\n",
       "      <td>0.000000</td>\n",
       "      <td>0.536479</td>\n",
       "      <td>0.191817</td>\n",
       "      <td>0.0</td>\n",
       "      <td>0.081965</td>\n",
       "      <td>0.0</td>\n",
       "      <td>0.0</td>\n",
       "      <td>0.0</td>\n",
       "      <td>Austen</td>\n",
       "    </tr>\n",
       "    <tr>\n",
       "      <th>Austen_Emma0032</th>\n",
       "      <td>0.0</td>\n",
       "      <td>0.0</td>\n",
       "      <td>0.564344</td>\n",
       "      <td>0.0</td>\n",
       "      <td>0.000000</td>\n",
       "      <td>0.0</td>\n",
       "      <td>0.0</td>\n",
       "      <td>0.000000</td>\n",
       "      <td>0.367587</td>\n",
       "      <td>0.065922</td>\n",
       "      <td>0.0</td>\n",
       "      <td>0.000000</td>\n",
       "      <td>0.0</td>\n",
       "      <td>0.0</td>\n",
       "      <td>0.0</td>\n",
       "      <td>Austen</td>\n",
       "    </tr>\n",
       "    <tr>\n",
       "      <th>CBronte_Villette0086</th>\n",
       "      <td>0.0</td>\n",
       "      <td>0.0</td>\n",
       "      <td>0.615721</td>\n",
       "      <td>0.0</td>\n",
       "      <td>0.381102</td>\n",
       "      <td>0.0</td>\n",
       "      <td>0.0</td>\n",
       "      <td>0.000000</td>\n",
       "      <td>0.000000</td>\n",
       "      <td>0.000000</td>\n",
       "      <td>0.0</td>\n",
       "      <td>0.000000</td>\n",
       "      <td>0.0</td>\n",
       "      <td>0.0</td>\n",
       "      <td>0.0</td>\n",
       "      <td>CBronte</td>\n",
       "    </tr>\n",
       "    <tr>\n",
       "      <th>CBronte_Jane0099</th>\n",
       "      <td>0.0</td>\n",
       "      <td>0.0</td>\n",
       "      <td>0.000000</td>\n",
       "      <td>0.0</td>\n",
       "      <td>0.071399</td>\n",
       "      <td>0.0</td>\n",
       "      <td>0.0</td>\n",
       "      <td>0.283082</td>\n",
       "      <td>0.000000</td>\n",
       "      <td>0.000000</td>\n",
       "      <td>0.0</td>\n",
       "      <td>0.643616</td>\n",
       "      <td>0.0</td>\n",
       "      <td>0.0</td>\n",
       "      <td>0.0</td>\n",
       "      <td>CBronte</td>\n",
       "    </tr>\n",
       "    <tr>\n",
       "      <th>CBronte_Villette0092</th>\n",
       "      <td>0.0</td>\n",
       "      <td>0.0</td>\n",
       "      <td>0.018084</td>\n",
       "      <td>0.0</td>\n",
       "      <td>0.292093</td>\n",
       "      <td>0.0</td>\n",
       "      <td>0.0</td>\n",
       "      <td>0.000000</td>\n",
       "      <td>0.080176</td>\n",
       "      <td>0.502513</td>\n",
       "      <td>0.0</td>\n",
       "      <td>0.105731</td>\n",
       "      <td>0.0</td>\n",
       "      <td>0.0</td>\n",
       "      <td>0.0</td>\n",
       "      <td>CBronte</td>\n",
       "    </tr>\n",
       "  </tbody>\n",
       "</table>\n",
       "</div>"
      ],
      "text/plain": [
       "                      bretton madame like little jane  \\\n",
       "Austen_Emma0026                                   0.0   \n",
       "Austen_Emma0032                                   0.0   \n",
       "CBronte_Villette0086                              0.0   \n",
       "CBronte_Jane0099                                  0.0   \n",
       "CBronte_Villette0092                              0.0   \n",
       "\n",
       "                      miss dear little harriet knightley  \\\n",
       "Austen_Emma0026                                      0.0   \n",
       "Austen_Emma0032                                      0.0   \n",
       "CBronte_Villette0086                                 0.0   \n",
       "CBronte_Jane0099                                     0.0   \n",
       "CBronte_Villette0092                                 0.0   \n",
       "\n",
       "                      emma harriet elton miss knightley  \\\n",
       "Austen_Emma0026                                0.187879   \n",
       "Austen_Emma0032                                0.564344   \n",
       "CBronte_Villette0086                           0.615721   \n",
       "CBronte_Jane0099                               0.000000   \n",
       "CBronte_Villette0092                           0.018084   \n",
       "\n",
       "                      madame pelet vous day monsieur  \\\n",
       "Austen_Emma0026                                  0.0   \n",
       "Austen_Emma0032                                  0.0   \n",
       "CBronte_Villette0086                             0.0   \n",
       "CBronte_Jane0099                                 0.0   \n",
       "CBronte_Villette0092                             0.0   \n",
       "\n",
       "                      little madame like day thought  \\\n",
       "Austen_Emma0026                             0.000000   \n",
       "Austen_Emma0032                             0.000000   \n",
       "CBronte_Villette0086                        0.381102   \n",
       "CBronte_Jane0099                            0.071399   \n",
       "CBronte_Villette0092                        0.292093   \n",
       "\n",
       "                      little madame think room hand  \\\n",
       "Austen_Emma0026                                 0.0   \n",
       "Austen_Emma0032                                 0.0   \n",
       "CBronte_Villette0086                            0.0   \n",
       "CBronte_Jane0099                                0.0   \n",
       "CBronte_Villette0092                            0.0   \n",
       "\n",
       "                      like little face thought saw  \\\n",
       "Austen_Emma0026                                0.0   \n",
       "Austen_Emma0032                                0.0   \n",
       "CBronte_Villette0086                           0.0   \n",
       "CBronte_Jane0099                               0.0   \n",
       "CBronte_Villette0092                           0.0   \n",
       "\n",
       "                      like night time day thought  \\\n",
       "Austen_Emma0026                          0.000000   \n",
       "Austen_Emma0032                          0.000000   \n",
       "CBronte_Villette0086                     0.000000   \n",
       "CBronte_Jane0099                         0.283082   \n",
       "CBronte_Villette0092                     0.000000   \n",
       "\n",
       "                      miss elinor elizabeth know time  \\\n",
       "Austen_Emma0026                              0.536479   \n",
       "Austen_Emma0032                              0.367587   \n",
       "CBronte_Villette0086                         0.000000   \n",
       "CBronte_Jane0099                             0.000000   \n",
       "CBronte_Villette0092                         0.080176   \n",
       "\n",
       "                      like little john know miss  sir little yes think jane  \\\n",
       "Austen_Emma0026                         0.191817                        0.0   \n",
       "Austen_Emma0032                         0.065922                        0.0   \n",
       "CBronte_Villette0086                    0.000000                        0.0   \n",
       "CBronte_Jane0099                        0.000000                        0.0   \n",
       "CBronte_Villette0092                    0.502513                        0.0   \n",
       "\n",
       "                      little like thought room time  \\\n",
       "Austen_Emma0026                            0.081965   \n",
       "Austen_Emma0032                            0.000000   \n",
       "CBronte_Villette0086                       0.000000   \n",
       "CBronte_Jane0099                           0.643616   \n",
       "CBronte_Villette0092                       0.105731   \n",
       "\n",
       "                      little like bessie miss good  \\\n",
       "Austen_Emma0026                                0.0   \n",
       "Austen_Emma0032                                0.0   \n",
       "CBronte_Villette0086                           0.0   \n",
       "CBronte_Jane0099                               0.0   \n",
       "CBronte_Villette0092                           0.0   \n",
       "\n",
       "                      like pelet crimsworth hunsden face  \\\n",
       "Austen_Emma0026                                      0.0   \n",
       "Austen_Emma0032                                      0.0   \n",
       "CBronte_Villette0086                                 0.0   \n",
       "CBronte_Jane0099                                     0.0   \n",
       "CBronte_Villette0092                                 0.0   \n",
       "\n",
       "                      graham polly little papa bretton   author  \n",
       "Austen_Emma0026                                    0.0   Austen  \n",
       "Austen_Emma0032                                    0.0   Austen  \n",
       "CBronte_Villette0086                               0.0  CBronte  \n",
       "CBronte_Jane0099                                   0.0  CBronte  \n",
       "CBronte_Villette0092                               0.0  CBronte  "
      ]
     },
     "execution_count": 60,
     "metadata": {},
     "output_type": "execute_result"
    }
   ],
   "source": [
    "df.head()"
   ]
  },
  {
   "cell_type": "code",
   "execution_count": 61,
   "metadata": {},
   "outputs": [
    {
     "data": {
      "text/html": [
       "<div>\n",
       "<style scoped>\n",
       "    .dataframe tbody tr th:only-of-type {\n",
       "        vertical-align: middle;\n",
       "    }\n",
       "\n",
       "    .dataframe tbody tr th {\n",
       "        vertical-align: top;\n",
       "    }\n",
       "\n",
       "    .dataframe thead th {\n",
       "        text-align: right;\n",
       "    }\n",
       "</style>\n",
       "<table border=\"1\" class=\"dataframe\">\n",
       "  <thead>\n",
       "    <tr style=\"text-align: right;\">\n",
       "      <th></th>\n",
       "      <th>bretton madame like little jane</th>\n",
       "      <th>miss dear little harriet knightley</th>\n",
       "      <th>emma harriet elton miss knightley</th>\n",
       "      <th>madame pelet vous day monsieur</th>\n",
       "      <th>little madame like day thought</th>\n",
       "      <th>little madame think room hand</th>\n",
       "      <th>like little face thought saw</th>\n",
       "      <th>like night time day thought</th>\n",
       "      <th>miss elinor elizabeth know time</th>\n",
       "      <th>like little john know miss</th>\n",
       "      <th>sir little yes think jane</th>\n",
       "      <th>little like thought room time</th>\n",
       "      <th>little like bessie miss good</th>\n",
       "      <th>like pelet crimsworth hunsden face</th>\n",
       "      <th>graham polly little papa bretton</th>\n",
       "    </tr>\n",
       "    <tr>\n",
       "      <th>author</th>\n",
       "      <th></th>\n",
       "      <th></th>\n",
       "      <th></th>\n",
       "      <th></th>\n",
       "      <th></th>\n",
       "      <th></th>\n",
       "      <th></th>\n",
       "      <th></th>\n",
       "      <th></th>\n",
       "      <th></th>\n",
       "      <th></th>\n",
       "      <th></th>\n",
       "      <th></th>\n",
       "      <th></th>\n",
       "      <th></th>\n",
       "    </tr>\n",
       "  </thead>\n",
       "  <tbody>\n",
       "    <tr>\n",
       "      <th>Austen</th>\n",
       "      <td>0.000000</td>\n",
       "      <td>0.012995</td>\n",
       "      <td>0.160635</td>\n",
       "      <td>0.000557</td>\n",
       "      <td>0.000552</td>\n",
       "      <td>0.000089</td>\n",
       "      <td>0.000034</td>\n",
       "      <td>0.012971</td>\n",
       "      <td>0.741434</td>\n",
       "      <td>0.036994</td>\n",
       "      <td>0.000181</td>\n",
       "      <td>0.023254</td>\n",
       "      <td>0.005999</td>\n",
       "      <td>0.000136</td>\n",
       "      <td>0.001663</td>\n",
       "    </tr>\n",
       "    <tr>\n",
       "      <th>CBronte</th>\n",
       "      <td>0.016844</td>\n",
       "      <td>0.011870</td>\n",
       "      <td>0.014084</td>\n",
       "      <td>0.024177</td>\n",
       "      <td>0.213800</td>\n",
       "      <td>0.032318</td>\n",
       "      <td>0.040925</td>\n",
       "      <td>0.132805</td>\n",
       "      <td>0.015254</td>\n",
       "      <td>0.241274</td>\n",
       "      <td>0.005734</td>\n",
       "      <td>0.104575</td>\n",
       "      <td>0.122967</td>\n",
       "      <td>0.003598</td>\n",
       "      <td>0.017372</td>\n",
       "    </tr>\n",
       "  </tbody>\n",
       "</table>\n",
       "</div>"
      ],
      "text/plain": [
       "         bretton madame like little jane  miss dear little harriet knightley  \\\n",
       "author                                                                         \n",
       "Austen                          0.000000                            0.012995   \n",
       "CBronte                         0.016844                            0.011870   \n",
       "\n",
       "         emma harriet elton miss knightley  madame pelet vous day monsieur  \\\n",
       "author                                                                       \n",
       "Austen                            0.160635                        0.000557   \n",
       "CBronte                           0.014084                        0.024177   \n",
       "\n",
       "         little madame like day thought  little madame think room hand  \\\n",
       "author                                                                   \n",
       "Austen                         0.000552                       0.000089   \n",
       "CBronte                        0.213800                       0.032318   \n",
       "\n",
       "         like little face thought saw  like night time day thought  \\\n",
       "author                                                               \n",
       "Austen                       0.000034                     0.012971   \n",
       "CBronte                      0.040925                     0.132805   \n",
       "\n",
       "         miss elinor elizabeth know time  like little john know miss  \\\n",
       "author                                                                 \n",
       "Austen                          0.741434                    0.036994   \n",
       "CBronte                         0.015254                    0.241274   \n",
       "\n",
       "         sir little yes think jane  little like thought room time  \\\n",
       "author                                                              \n",
       "Austen                    0.000181                       0.023254   \n",
       "CBronte                   0.005734                       0.104575   \n",
       "\n",
       "         little like bessie miss good  like pelet crimsworth hunsden face  \\\n",
       "author                                                                      \n",
       "Austen                       0.005999                            0.000136   \n",
       "CBronte                      0.122967                            0.003598   \n",
       "\n",
       "         graham polly little papa bretton  \n",
       "author                                     \n",
       "Austen                           0.001663  \n",
       "CBronte                          0.017372  "
      ]
     },
     "execution_count": 61,
     "metadata": {},
     "output_type": "execute_result"
    }
   ],
   "source": [
    "df.groupby('author').mean()"
   ]
  },
  {
   "cell_type": "markdown",
   "metadata": {},
   "source": [
    "## Challenge\n",
    "### *Can we see if one of the authors focus more on men than women?*\n",
    "\n",
    "*  Use Spacy for text preprocessing\n",
    "*  Extract the Named Entities from the documents using Spacy (command is fairly straight forward)\n",
    "*  Create unique list of names from the authors (you'll find that there are different types of named entities not all people)\n",
    "*  Label the names with genders (can you this by hand or you use the US census name lists)\n",
    "*  Customize your processing to replace the proper name with your gender from the previous step's lookup table\n",
    "*  Then follow the rest of the LDA flow\n"
   ]
  },
  {
   "cell_type": "markdown",
   "metadata": {},
   "source": [
    "# Selecting the Number of Topics (Learn)\n",
    "<a id=\"#p4\"></a>"
   ]
  },
  {
   "cell_type": "markdown",
   "metadata": {},
   "source": [
    "## Overview"
   ]
  },
  {
   "cell_type": "markdown",
   "metadata": {},
   "source": [
    "## Follow Along"
   ]
  },
  {
   "cell_type": "code",
   "execution_count": 62,
   "metadata": {},
   "outputs": [],
   "source": [
    "from gensim.models.coherencemodel import CoherenceModel\n",
    "\n",
    "def compute_coherence_values(dictionary, corpus, limit, start=2, step=3, passes=5):\n",
    "    \"\"\"\n",
    "    Compute c_v coherence for various number of topics\n",
    "\n",
    "    Parameters:\n",
    "    ----------\n",
    "    dictionary : Gensim dictionary\n",
    "    corpus : Gensim corpus\n",
    "    limit : Max num of topics\n",
    "    passes: the number of times the entire lda model & coherence values are calculated\n",
    "\n",
    "    Returns:\n",
    "    -------\n",
    "    coherence_values : Coherence values corresponding to the LDA model with respective number of topics\n",
    "    \"\"\"\n",
    "    \n",
    "    coherence_values = []\n",
    "    \n",
    "    for iter_ in range(passes):\n",
    "        for num_topics in range(start, limit, step):\n",
    "            model = LdaMulticore(corpus=corpus, num_topics=num_topics, id2word=dictionary, workers=4)\n",
    "            coherencemodel = CoherenceModel(model=model,dictionary=dictionary,corpus=corpus, coherence='u_mass')\n",
    "            coherence_values.append({'pass': iter_, \n",
    "                                     'num_topics': num_topics, \n",
    "                                     'coherence_score': coherencemodel.get_coherence()\n",
    "                                    })\n",
    "\n",
    "    return coherence_values"
   ]
  },
  {
   "cell_type": "code",
   "execution_count": null,
   "metadata": {},
   "outputs": [],
   "source": [
    "# Can take a long time to run.\n",
    "coherence_values = compute_coherence_values(dictionary=id2word, \n",
    "                                                        corpus=corpus,\n",
    "                                                        start=5, \n",
    "                                                        limit=40, \n",
    "                                                        step=2,\n",
    "                                                        passes=10)"
   ]
  },
  {
   "cell_type": "code",
   "execution_count": 82,
   "metadata": {},
   "outputs": [],
   "source": [
    "topic_coherence = pd.DataFrame.from_records(coherence_values)"
   ]
  },
  {
   "cell_type": "code",
   "execution_count": null,
   "metadata": {},
   "outputs": [],
   "source": []
  },
  {
   "cell_type": "code",
   "execution_count": 83,
   "metadata": {},
   "outputs": [
    {
     "data": {
      "text/html": [
       "<div>\n",
       "<style scoped>\n",
       "    .dataframe tbody tr th:only-of-type {\n",
       "        vertical-align: middle;\n",
       "    }\n",
       "\n",
       "    .dataframe tbody tr th {\n",
       "        vertical-align: top;\n",
       "    }\n",
       "\n",
       "    .dataframe thead th {\n",
       "        text-align: right;\n",
       "    }\n",
       "</style>\n",
       "<table border=\"1\" class=\"dataframe\">\n",
       "  <thead>\n",
       "    <tr style=\"text-align: right;\">\n",
       "      <th></th>\n",
       "      <th>pass</th>\n",
       "      <th>num_topics</th>\n",
       "      <th>coherence_score</th>\n",
       "    </tr>\n",
       "  </thead>\n",
       "  <tbody>\n",
       "    <tr>\n",
       "      <th>0</th>\n",
       "      <td>0</td>\n",
       "      <td>5</td>\n",
       "      <td>-0.638831</td>\n",
       "    </tr>\n",
       "    <tr>\n",
       "      <th>1</th>\n",
       "      <td>0</td>\n",
       "      <td>7</td>\n",
       "      <td>-0.698094</td>\n",
       "    </tr>\n",
       "    <tr>\n",
       "      <th>2</th>\n",
       "      <td>0</td>\n",
       "      <td>9</td>\n",
       "      <td>-0.714129</td>\n",
       "    </tr>\n",
       "    <tr>\n",
       "      <th>3</th>\n",
       "      <td>0</td>\n",
       "      <td>11</td>\n",
       "      <td>-0.692684</td>\n",
       "    </tr>\n",
       "    <tr>\n",
       "      <th>4</th>\n",
       "      <td>0</td>\n",
       "      <td>13</td>\n",
       "      <td>-0.758045</td>\n",
       "    </tr>\n",
       "  </tbody>\n",
       "</table>\n",
       "</div>"
      ],
      "text/plain": [
       "   pass  num_topics  coherence_score\n",
       "0     0           5        -0.638831\n",
       "1     0           7        -0.698094\n",
       "2     0           9        -0.714129\n",
       "3     0          11        -0.692684\n",
       "4     0          13        -0.758045"
      ]
     },
     "execution_count": 83,
     "metadata": {},
     "output_type": "execute_result"
    }
   ],
   "source": [
    "topic_coherence.head()"
   ]
  },
  {
   "cell_type": "code",
   "execution_count": null,
   "metadata": {},
   "outputs": [],
   "source": [
    "import seaborn as sns\n",
    " \n",
    "ax = sns.lineplot(x=\"num_topics\", y=\"coherence_score\", data=topic_coherence)"
   ]
  },
  {
   "cell_type": "code",
   "execution_count": null,
   "metadata": {},
   "outputs": [],
   "source": [
    "# Print the coherence scores\n",
    "for m, cv in zip(x, coherence_values):\n",
    "    print(\"Num Topics =\", m, \" has Coherence Value of\", round(cv, 4))"
   ]
  },
  {
   "cell_type": "code",
   "execution_count": null,
   "metadata": {},
   "outputs": [],
   "source": [
    "lda[id2word.doc2bow(tokenize(\"This is a sample document to score with a topic distribution.\"))]"
   ]
  },
  {
   "cell_type": "markdown",
   "metadata": {},
   "source": [
    "# Sources\n",
    "\n",
    "### *References*\n",
    "* [Andrew Ng et al paper on LDA](https://ai.stanford.edu/~ang/papers/jair03-lda.pdf)\n",
    "* On [Coherence](https://pdfs.semanticscholar.org/1521/8d9c029cbb903ae7c729b2c644c24994c201.pdf)\n",
    "\n",
    "### *Resources*\n",
    "\n",
    "* [Gensim](https://radimrehurek.com/gensim/): Python package for topic modeling, nlp, word vectorization, and few other things. Well maintained and well documented.\n",
    "* [Topic Modeling with Gensim](http://www.machinelearningplus.com/nlp/topic-modeling-gensim-python/#11createthedictionaryandcorpusneededfortopicmodeling): A kind of cookbook for LDA with gensim. Excellent overview, but the you need to be aware of missing import statements and assumed prior knowledge.\n",
    "* [Chinese Restuarant Process](https://en.wikipedia.org/wiki/Chinese_restaurant_process): That really obscure stats thing I mentioned... \n",
    "* [PyLDAvis](https://github.com/bmabey/pyLDAvis): Library for visualizing the topic model and performing some exploratory work. Works well. Has a direct parrell implementation in R as well. \n",
    "* [Rare Technologies](https://rare-technologies.com/): The people that made & maintain gensim and a few other libraries.\n",
    "* [Jane Austen v. Charlotte Bronte](https://www.literaryladiesguide.com/literary-musings/jane-austen-charlotte-bronte-different-alike/)"
   ]
  }
 ],
 "metadata": {
  "kernelspec": {
   "display_name": "U4-S1-NLP-DS12",
   "language": "python",
   "name": "u4-s1-nlp-ds12"
  },
  "language_info": {
   "codemirror_mode": {
    "name": "ipython",
    "version": 3
   },
   "file_extension": ".py",
   "mimetype": "text/x-python",
   "name": "python",
   "nbconvert_exporter": "python",
   "pygments_lexer": "ipython3",
   "version": "3.7.7"
  }
 },
 "nbformat": 4,
 "nbformat_minor": 4
}
